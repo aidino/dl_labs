{
 "cells": [
  {
   "attachments": {},
   "cell_type": "markdown",
   "metadata": {},
   "source": [
    "# Flow and task execution"
   ]
  },
  {
   "attachments": {},
   "cell_type": "markdown",
   "metadata": {},
   "source": [
    "## Task runners\n",
    "\n",
    "- Task runners are responsible for running Prefect tasks within a flow. Each flow has a task runner associated with it. \n",
    "- Depending on the task runner you use, the tasks within your flow can run sequentially, concurrently, or in parallel\n",
    "- You can even configure task runners to use distributed execution infrastructure such as a Dask cluster\n",
    "- The default task runner is the ConcurrentTaskRunner, which will run submitted tasks concurrently. If you don't specify a task runner, Prefect uses the ConcurrentTaskRunner."
   ]
  },
  {
   "cell_type": "code",
   "execution_count": 1,
   "metadata": {},
   "outputs": [
    {
     "data": {
      "text/html": [
       "<pre style=\"white-space:pre;overflow-x:auto;line-height:normal;font-family:Menlo,'DejaVu Sans Mono',consolas,'Courier New',monospace\">22:32:52.972 | <span style=\"color: #008080; text-decoration-color: #008080\">INFO</span>    | prefect.engine - Created flow run<span style=\"color: #800080; text-decoration-color: #800080\"> 'vigilant-bittern'</span> for flow<span style=\"color: #800080; text-decoration-color: #800080; font-weight: bold\"> 'my-flow'</span>\n",
       "</pre>\n"
      ],
      "text/plain": [
       "22:32:52.972 | \u001b[36mINFO\u001b[0m    | prefect.engine - Created flow run\u001b[35m 'vigilant-bittern'\u001b[0m for flow\u001b[1;35m 'my-flow'\u001b[0m\n"
      ]
     },
     "metadata": {},
     "output_type": "display_data"
    },
    {
     "data": {
      "text/html": [
       "<pre style=\"white-space:pre;overflow-x:auto;line-height:normal;font-family:Menlo,'DejaVu Sans Mono',consolas,'Courier New',monospace\">22:32:53.066 | <span style=\"color: #008080; text-decoration-color: #008080\">INFO</span>    | Flow run<span style=\"color: #800080; text-decoration-color: #800080\"> 'vigilant-bittern'</span> - Created task run 'my_task-0' for task 'my_task'\n",
       "</pre>\n"
      ],
      "text/plain": [
       "22:32:53.066 | \u001b[36mINFO\u001b[0m    | Flow run\u001b[35m 'vigilant-bittern'\u001b[0m - Created task run 'my_task-0' for task 'my_task'\n"
      ]
     },
     "metadata": {},
     "output_type": "display_data"
    },
    {
     "data": {
      "text/html": [
       "<pre style=\"white-space:pre;overflow-x:auto;line-height:normal;font-family:Menlo,'DejaVu Sans Mono',consolas,'Courier New',monospace\">22:32:53.067 | <span style=\"color: #008080; text-decoration-color: #008080\">INFO</span>    | Flow run<span style=\"color: #800080; text-decoration-color: #800080\"> 'vigilant-bittern'</span> - Submitted task run 'my_task-0' for execution.\n",
       "</pre>\n"
      ],
      "text/plain": [
       "22:32:53.067 | \u001b[36mINFO\u001b[0m    | Flow run\u001b[35m 'vigilant-bittern'\u001b[0m - Submitted task run 'my_task-0' for execution.\n"
      ]
     },
     "metadata": {},
     "output_type": "display_data"
    },
    {
     "data": {
      "text/html": [
       "<pre style=\"white-space:pre;overflow-x:auto;line-height:normal;font-family:Menlo,'DejaVu Sans Mono',consolas,'Courier New',monospace\">22:32:53.125 | <span style=\"color: #008080; text-decoration-color: #008080\">INFO</span>    | Task run 'my_task-0' - Finished in state <span style=\"color: #008000; text-decoration-color: #008000\">Completed</span>()\n",
       "</pre>\n"
      ],
      "text/plain": [
       "22:32:53.125 | \u001b[36mINFO\u001b[0m    | Task run 'my_task-0' - Finished in state \u001b[32mCompleted\u001b[0m()\n"
      ]
     },
     "metadata": {},
     "output_type": "display_data"
    },
    {
     "data": {
      "text/html": [
       "<pre style=\"white-space:pre;overflow-x:auto;line-height:normal;font-family:Menlo,'DejaVu Sans Mono',consolas,'Courier New',monospace\">22:32:53.147 | <span style=\"color: #008080; text-decoration-color: #008080\">INFO</span>    | Flow run<span style=\"color: #800080; text-decoration-color: #800080\"> 'vigilant-bittern'</span> - Finished in state <span style=\"color: #008000; text-decoration-color: #008000\">Completed</span>('All states completed.')\n",
       "</pre>\n"
      ],
      "text/plain": [
       "22:32:53.147 | \u001b[36mINFO\u001b[0m    | Flow run\u001b[35m 'vigilant-bittern'\u001b[0m - Finished in state \u001b[32mCompleted\u001b[0m('All states completed.')\n"
      ]
     },
     "metadata": {},
     "output_type": "display_data"
    }
   ],
   "source": [
    "import time\n",
    "from prefect import task, flow\n",
    "\n",
    "@task\n",
    "def my_task():\n",
    "    return 1\n",
    "\n",
    "@flow\n",
    "def my_flow():\n",
    "    result = my_task.submit()\n",
    "\n",
    "if __name__ == \"__main__\":\n",
    "    my_flow()\n"
   ]
  },
  {
   "attachments": {},
   "cell_type": "markdown",
   "metadata": {},
   "source": [
    "## Concurrent execution"
   ]
  },
  {
   "cell_type": "code",
   "execution_count": 2,
   "metadata": {},
   "outputs": [
    {
     "name": "stderr",
     "output_type": "stream",
     "text": [
      "/home/dino/anaconda3/envs/torch/lib/python3.10/site-packages/prefect/flows.py:243: UserWarning: A flow named 'my-flow' and defined at '/tmp/ipykernel_23697/3801830279.py:10' conflicts with another flow. Consider specifying a unique `name` parameter in the flow definition:\n",
      "\n",
      " `@flow(name='my_unique_name', ...)`\n",
      "  warnings.warn(\n"
     ]
    },
    {
     "data": {
      "text/html": [
       "<pre style=\"white-space:pre;overflow-x:auto;line-height:normal;font-family:Menlo,'DejaVu Sans Mono',consolas,'Courier New',monospace\">22:33:59.594 | <span style=\"color: #008080; text-decoration-color: #008080\">INFO</span>    | prefect.engine - Created flow run<span style=\"color: #800080; text-decoration-color: #800080\"> 'sage-bloodhound'</span> for flow<span style=\"color: #800080; text-decoration-color: #800080; font-weight: bold\"> 'my-flow'</span>\n",
       "</pre>\n"
      ],
      "text/plain": [
       "22:33:59.594 | \u001b[36mINFO\u001b[0m    | prefect.engine - Created flow run\u001b[35m 'sage-bloodhound'\u001b[0m for flow\u001b[1;35m 'my-flow'\u001b[0m\n"
      ]
     },
     "metadata": {},
     "output_type": "display_data"
    },
    {
     "data": {
      "text/html": [
       "<pre style=\"white-space:pre;overflow-x:auto;line-height:normal;font-family:Menlo,'DejaVu Sans Mono',consolas,'Courier New',monospace\">22:33:59.678 | <span style=\"color: #008080; text-decoration-color: #008080\">INFO</span>    | Flow run<span style=\"color: #800080; text-decoration-color: #800080\"> 'sage-bloodhound'</span> - Created task run 'print_values-0' for task 'print_values'\n",
       "</pre>\n"
      ],
      "text/plain": [
       "22:33:59.678 | \u001b[36mINFO\u001b[0m    | Flow run\u001b[35m 'sage-bloodhound'\u001b[0m - Created task run 'print_values-0' for task 'print_values'\n"
      ]
     },
     "metadata": {},
     "output_type": "display_data"
    },
    {
     "data": {
      "text/html": [
       "<pre style=\"white-space:pre;overflow-x:auto;line-height:normal;font-family:Menlo,'DejaVu Sans Mono',consolas,'Courier New',monospace\">22:33:59.680 | <span style=\"color: #008080; text-decoration-color: #008080\">INFO</span>    | Flow run<span style=\"color: #800080; text-decoration-color: #800080\"> 'sage-bloodhound'</span> - Submitted task run 'print_values-0' for execution.\n",
       "</pre>\n"
      ],
      "text/plain": [
       "22:33:59.680 | \u001b[36mINFO\u001b[0m    | Flow run\u001b[35m 'sage-bloodhound'\u001b[0m - Submitted task run 'print_values-0' for execution.\n"
      ]
     },
     "metadata": {},
     "output_type": "display_data"
    },
    {
     "data": {
      "text/html": [
       "<pre style=\"white-space:pre;overflow-x:auto;line-height:normal;font-family:Menlo,'DejaVu Sans Mono',consolas,'Courier New',monospace\">22:33:59.691 | <span style=\"color: #008080; text-decoration-color: #008080\">INFO</span>    | Flow run<span style=\"color: #800080; text-decoration-color: #800080\"> 'sage-bloodhound'</span> - Created task run 'print_values-1' for task 'print_values'\n",
       "</pre>\n"
      ],
      "text/plain": [
       "22:33:59.691 | \u001b[36mINFO\u001b[0m    | Flow run\u001b[35m 'sage-bloodhound'\u001b[0m - Created task run 'print_values-1' for task 'print_values'\n"
      ]
     },
     "metadata": {},
     "output_type": "display_data"
    },
    {
     "data": {
      "text/html": [
       "<pre style=\"white-space:pre;overflow-x:auto;line-height:normal;font-family:Menlo,'DejaVu Sans Mono',consolas,'Courier New',monospace\">22:33:59.692 | <span style=\"color: #008080; text-decoration-color: #008080\">INFO</span>    | Flow run<span style=\"color: #800080; text-decoration-color: #800080\"> 'sage-bloodhound'</span> - Submitted task run 'print_values-1' for execution.\n",
       "</pre>\n"
      ],
      "text/plain": [
       "22:33:59.692 | \u001b[36mINFO\u001b[0m    | Flow run\u001b[35m 'sage-bloodhound'\u001b[0m - Submitted task run 'print_values-1' for execution.\n"
      ]
     },
     "metadata": {},
     "output_type": "display_data"
    },
    {
     "name": "stdout",
     "output_type": "stream",
     "text": [
      "BBBB\r"
     ]
    },
    {
     "data": {
      "text/html": [
       "<pre style=\"white-space:pre;overflow-x:auto;line-height:normal;font-family:Menlo,'DejaVu Sans Mono',consolas,'Courier New',monospace\">22:34:04.836 | <span style=\"color: #008080; text-decoration-color: #008080\">INFO</span>    | Task run 'print_values-1' - Finished in state <span style=\"color: #008000; text-decoration-color: #008000\">Completed</span>()\n",
       "</pre>\n"
      ],
      "text/plain": [
       "22:34:04.836 | \u001b[36mINFO\u001b[0m    | Task run 'print_values-1' - Finished in state \u001b[32mCompleted\u001b[0m()\n"
      ]
     },
     "metadata": {},
     "output_type": "display_data"
    },
    {
     "name": "stdout",
     "output_type": "stream",
     "text": [
      "AAAA\r"
     ]
    },
    {
     "data": {
      "text/html": [
       "<pre style=\"white-space:pre;overflow-x:auto;line-height:normal;font-family:Menlo,'DejaVu Sans Mono',consolas,'Courier New',monospace\">22:34:07.339 | <span style=\"color: #008080; text-decoration-color: #008080\">INFO</span>    | Task run 'print_values-0' - Finished in state <span style=\"color: #008000; text-decoration-color: #008000\">Completed</span>()\n",
       "</pre>\n"
      ],
      "text/plain": [
       "22:34:07.339 | \u001b[36mINFO\u001b[0m    | Task run 'print_values-0' - Finished in state \u001b[32mCompleted\u001b[0m()\n"
      ]
     },
     "metadata": {},
     "output_type": "display_data"
    },
    {
     "data": {
      "text/html": [
       "<pre style=\"white-space:pre;overflow-x:auto;line-height:normal;font-family:Menlo,'DejaVu Sans Mono',consolas,'Courier New',monospace\">22:34:07.362 | <span style=\"color: #008080; text-decoration-color: #008080\">INFO</span>    | Flow run<span style=\"color: #800080; text-decoration-color: #800080\"> 'sage-bloodhound'</span> - Finished in state <span style=\"color: #008000; text-decoration-color: #008000\">Completed</span>('All states completed.')\n",
       "</pre>\n"
      ],
      "text/plain": [
       "22:34:07.362 | \u001b[36mINFO\u001b[0m    | Flow run\u001b[35m 'sage-bloodhound'\u001b[0m - Finished in state \u001b[32mCompleted\u001b[0m('All states completed.')\n"
      ]
     },
     "metadata": {},
     "output_type": "display_data"
    }
   ],
   "source": [
    "import time\n",
    "from prefect import task, flow\n",
    "\n",
    "@task\n",
    "def print_values(values):\n",
    "    for value in values:\n",
    "        time.sleep(0.5)\n",
    "        print(value, end=\"\\r\")\n",
    "\n",
    "@flow\n",
    "def my_flow():\n",
    "    print_values.submit([\"AAAA\"] * 15)\n",
    "    print_values.submit([\"BBBB\"] * 10)\n",
    "\n",
    "if __name__ == \"__main__\":\n",
    "    my_flow()\n"
   ]
  },
  {
   "attachments": {},
   "cell_type": "markdown",
   "metadata": {},
   "source": [
    "## Sequential execution"
   ]
  },
  {
   "cell_type": "code",
   "execution_count": 3,
   "metadata": {},
   "outputs": [
    {
     "name": "stderr",
     "output_type": "stream",
     "text": [
      "/home/dino/anaconda3/envs/torch/lib/python3.10/site-packages/prefect/tasks.py:298: UserWarning: A task named 'print_values' and defined at '/tmp/ipykernel_23697/1318146663.py:5' conflicts with another task. Consider specifying a unique `name` parameter in the task definition:\n",
      "\n",
      " `@task(name='my_unique_name', ...)`\n",
      "  warnings.warn(\n",
      "/home/dino/anaconda3/envs/torch/lib/python3.10/site-packages/prefect/flows.py:243: UserWarning: A flow named 'my-flow' and defined at '/tmp/ipykernel_23697/1318146663.py:11' conflicts with another flow. Consider specifying a unique `name` parameter in the flow definition:\n",
      "\n",
      " `@flow(name='my_unique_name', ...)`\n",
      "  warnings.warn(\n"
     ]
    },
    {
     "data": {
      "text/html": [
       "<pre style=\"white-space:pre;overflow-x:auto;line-height:normal;font-family:Menlo,'DejaVu Sans Mono',consolas,'Courier New',monospace\">22:34:47.891 | <span style=\"color: #008080; text-decoration-color: #008080\">INFO</span>    | prefect.engine - Created flow run<span style=\"color: #800080; text-decoration-color: #800080\"> 'arcane-ammonite'</span> for flow<span style=\"color: #800080; text-decoration-color: #800080; font-weight: bold\"> 'my-flow'</span>\n",
       "</pre>\n"
      ],
      "text/plain": [
       "22:34:47.891 | \u001b[36mINFO\u001b[0m    | prefect.engine - Created flow run\u001b[35m 'arcane-ammonite'\u001b[0m for flow\u001b[1;35m 'my-flow'\u001b[0m\n"
      ]
     },
     "metadata": {},
     "output_type": "display_data"
    },
    {
     "data": {
      "text/html": [
       "<pre style=\"white-space:pre;overflow-x:auto;line-height:normal;font-family:Menlo,'DejaVu Sans Mono',consolas,'Courier New',monospace\">22:34:47.971 | <span style=\"color: #008080; text-decoration-color: #008080\">INFO</span>    | Flow run<span style=\"color: #800080; text-decoration-color: #800080\"> 'arcane-ammonite'</span> - Created task run 'print_values-0' for task 'print_values'\n",
       "</pre>\n"
      ],
      "text/plain": [
       "22:34:47.971 | \u001b[36mINFO\u001b[0m    | Flow run\u001b[35m 'arcane-ammonite'\u001b[0m - Created task run 'print_values-0' for task 'print_values'\n"
      ]
     },
     "metadata": {},
     "output_type": "display_data"
    },
    {
     "data": {
      "text/html": [
       "<pre style=\"white-space:pre;overflow-x:auto;line-height:normal;font-family:Menlo,'DejaVu Sans Mono',consolas,'Courier New',monospace\">22:34:47.972 | <span style=\"color: #008080; text-decoration-color: #008080\">INFO</span>    | Flow run<span style=\"color: #800080; text-decoration-color: #800080\"> 'arcane-ammonite'</span> - Executing 'print_values-0' immediately...\n",
       "</pre>\n"
      ],
      "text/plain": [
       "22:34:47.972 | \u001b[36mINFO\u001b[0m    | Flow run\u001b[35m 'arcane-ammonite'\u001b[0m - Executing 'print_values-0' immediately...\n"
      ]
     },
     "metadata": {},
     "output_type": "display_data"
    },
    {
     "name": "stdout",
     "output_type": "stream",
     "text": [
      "AAAA\r"
     ]
    },
    {
     "data": {
      "text/html": [
       "<pre style=\"white-space:pre;overflow-x:auto;line-height:normal;font-family:Menlo,'DejaVu Sans Mono',consolas,'Courier New',monospace\">22:34:55.541 | <span style=\"color: #008080; text-decoration-color: #008080\">INFO</span>    | Task run 'print_values-0' - Finished in state <span style=\"color: #008000; text-decoration-color: #008000\">Completed</span>()\n",
       "</pre>\n"
      ],
      "text/plain": [
       "22:34:55.541 | \u001b[36mINFO\u001b[0m    | Task run 'print_values-0' - Finished in state \u001b[32mCompleted\u001b[0m()\n"
      ]
     },
     "metadata": {},
     "output_type": "display_data"
    },
    {
     "data": {
      "text/html": [
       "<pre style=\"white-space:pre;overflow-x:auto;line-height:normal;font-family:Menlo,'DejaVu Sans Mono',consolas,'Courier New',monospace\">22:34:55.556 | <span style=\"color: #008080; text-decoration-color: #008080\">INFO</span>    | Flow run<span style=\"color: #800080; text-decoration-color: #800080\"> 'arcane-ammonite'</span> - Created task run 'print_values-1' for task 'print_values'\n",
       "</pre>\n"
      ],
      "text/plain": [
       "22:34:55.556 | \u001b[36mINFO\u001b[0m    | Flow run\u001b[35m 'arcane-ammonite'\u001b[0m - Created task run 'print_values-1' for task 'print_values'\n"
      ]
     },
     "metadata": {},
     "output_type": "display_data"
    },
    {
     "data": {
      "text/html": [
       "<pre style=\"white-space:pre;overflow-x:auto;line-height:normal;font-family:Menlo,'DejaVu Sans Mono',consolas,'Courier New',monospace\">22:34:55.557 | <span style=\"color: #008080; text-decoration-color: #008080\">INFO</span>    | Flow run<span style=\"color: #800080; text-decoration-color: #800080\"> 'arcane-ammonite'</span> - Executing 'print_values-1' immediately...\n",
       "</pre>\n"
      ],
      "text/plain": [
       "22:34:55.557 | \u001b[36mINFO\u001b[0m    | Flow run\u001b[35m 'arcane-ammonite'\u001b[0m - Executing 'print_values-1' immediately...\n"
      ]
     },
     "metadata": {},
     "output_type": "display_data"
    },
    {
     "name": "stdout",
     "output_type": "stream",
     "text": [
      "BBBB\r"
     ]
    },
    {
     "data": {
      "text/html": [
       "<pre style=\"white-space:pre;overflow-x:auto;line-height:normal;font-family:Menlo,'DejaVu Sans Mono',consolas,'Courier New',monospace\">22:35:00.673 | <span style=\"color: #008080; text-decoration-color: #008080\">INFO</span>    | Task run 'print_values-1' - Finished in state <span style=\"color: #008000; text-decoration-color: #008000\">Completed</span>()\n",
       "</pre>\n"
      ],
      "text/plain": [
       "22:35:00.673 | \u001b[36mINFO\u001b[0m    | Task run 'print_values-1' - Finished in state \u001b[32mCompleted\u001b[0m()\n"
      ]
     },
     "metadata": {},
     "output_type": "display_data"
    },
    {
     "data": {
      "text/html": [
       "<pre style=\"white-space:pre;overflow-x:auto;line-height:normal;font-family:Menlo,'DejaVu Sans Mono',consolas,'Courier New',monospace\">22:35:00.697 | <span style=\"color: #008080; text-decoration-color: #008080\">INFO</span>    | Flow run<span style=\"color: #800080; text-decoration-color: #800080\"> 'arcane-ammonite'</span> - Finished in state <span style=\"color: #008000; text-decoration-color: #008000\">Completed</span>('All states completed.')\n",
       "</pre>\n"
      ],
      "text/plain": [
       "22:35:00.697 | \u001b[36mINFO\u001b[0m    | Flow run\u001b[35m 'arcane-ammonite'\u001b[0m - Finished in state \u001b[32mCompleted\u001b[0m('All states completed.')\n"
      ]
     },
     "metadata": {},
     "output_type": "display_data"
    }
   ],
   "source": [
    "import time\n",
    "from prefect import task, flow\n",
    "from prefect.task_runners import SequentialTaskRunner\n",
    "\n",
    "@task\n",
    "def print_values(values):\n",
    "    for value in values:\n",
    "        time.sleep(0.5)\n",
    "        print(value, end=\"\\r\")\n",
    "\n",
    "@flow(task_runner=SequentialTaskRunner())\n",
    "def my_flow():\n",
    "    print_values.submit([\"AAAA\"] * 15)\n",
    "    print_values.submit([\"BBBB\"] * 10)\n",
    "\n",
    "if __name__ == \"__main__\":\n",
    "    my_flow()\n"
   ]
  },
  {
   "attachments": {},
   "cell_type": "markdown",
   "metadata": {},
   "source": [
    "## Parallel execution\n",
    "\n",
    "- You can also run tasks using parallel or distributed execution by using the Dask or Ray task runners available through [Prefect Integrations](https://docs.prefect.io/latest/integrations/).\n",
    "\n",
    "For example, you can achieve parallel task execution, even on in a local execution environment, but using the DaskTaskRunner\n",
    "\n",
    "- Install the [prefect-dask collection](https://prefecthq.github.io/prefect-dask/) with `pip install prefect-dask`.\n",
    "- Switch your task runner to the DaskTaskRunner.\n",
    "- Call .submit on the task instead of calling the task directly. This submits the task to the task runner rather than running the task in-process."
   ]
  },
  {
   "cell_type": "code",
   "execution_count": 4,
   "metadata": {},
   "outputs": [
    {
     "name": "stderr",
     "output_type": "stream",
     "text": [
      "/home/dino/anaconda3/envs/torch/lib/python3.10/site-packages/prefect/tasks.py:298: UserWarning: A task named 'print_values' and defined at '/tmp/ipykernel_23697/3938918850.py:5' conflicts with another task. Consider specifying a unique `name` parameter in the task definition:\n",
      "\n",
      " `@task(name='my_unique_name', ...)`\n",
      "  warnings.warn(\n",
      "/home/dino/anaconda3/envs/torch/lib/python3.10/site-packages/prefect/flows.py:243: UserWarning: A flow named 'my-flow' and defined at '/tmp/ipykernel_23697/3938918850.py:11' conflicts with another flow. Consider specifying a unique `name` parameter in the flow definition:\n",
      "\n",
      " `@flow(name='my_unique_name', ...)`\n",
      "  warnings.warn(\n"
     ]
    },
    {
     "data": {
      "text/html": [
       "<pre style=\"white-space:pre;overflow-x:auto;line-height:normal;font-family:Menlo,'DejaVu Sans Mono',consolas,'Courier New',monospace\">22:37:31.210 | <span style=\"color: #008080; text-decoration-color: #008080\">INFO</span>    | prefect.engine - Created flow run<span style=\"color: #800080; text-decoration-color: #800080\"> 'inventive-lynx'</span> for flow<span style=\"color: #800080; text-decoration-color: #800080; font-weight: bold\"> 'my-flow'</span>\n",
       "</pre>\n"
      ],
      "text/plain": [
       "22:37:31.210 | \u001b[36mINFO\u001b[0m    | prefect.engine - Created flow run\u001b[35m 'inventive-lynx'\u001b[0m for flow\u001b[1;35m 'my-flow'\u001b[0m\n"
      ]
     },
     "metadata": {},
     "output_type": "display_data"
    },
    {
     "data": {
      "text/html": [
       "<pre style=\"white-space:pre;overflow-x:auto;line-height:normal;font-family:Menlo,'DejaVu Sans Mono',consolas,'Courier New',monospace\">22:37:31.211 | <span style=\"color: #008080; text-decoration-color: #008080\">INFO</span>    | prefect.task_runner.dask - Creating a new Dask cluster with `distributed.deploy.local.LocalCluster`\n",
       "</pre>\n"
      ],
      "text/plain": [
       "22:37:31.211 | \u001b[36mINFO\u001b[0m    | prefect.task_runner.dask - Creating a new Dask cluster with `distributed.deploy.local.LocalCluster`\n"
      ]
     },
     "metadata": {},
     "output_type": "display_data"
    },
    {
     "data": {
      "text/html": [
       "<pre style=\"white-space:pre;overflow-x:auto;line-height:normal;font-family:Menlo,'DejaVu Sans Mono',consolas,'Courier New',monospace\">22:37:31.225 | <span style=\"color: #008080; text-decoration-color: #008080\">INFO</span>    | distributed.http.proxy - To route to workers diagnostics web server please install jupyter-server-proxy: python -m pip install jupyter-server-proxy\n",
       "</pre>\n"
      ],
      "text/plain": [
       "22:37:31.225 | \u001b[36mINFO\u001b[0m    | distributed.http.proxy - To route to workers diagnostics web server please install jupyter-server-proxy: python -m pip install jupyter-server-proxy\n"
      ]
     },
     "metadata": {},
     "output_type": "display_data"
    },
    {
     "data": {
      "text/html": [
       "<pre style=\"white-space:pre;overflow-x:auto;line-height:normal;font-family:Menlo,'DejaVu Sans Mono',consolas,'Courier New',monospace\">22:37:31.228 | <span style=\"color: #008080; text-decoration-color: #008080\">INFO</span>    | distributed.scheduler - State start\n",
       "</pre>\n"
      ],
      "text/plain": [
       "22:37:31.228 | \u001b[36mINFO\u001b[0m    | distributed.scheduler - State start\n"
      ]
     },
     "metadata": {},
     "output_type": "display_data"
    },
    {
     "data": {
      "text/html": [
       "<pre style=\"white-space:pre;overflow-x:auto;line-height:normal;font-family:Menlo,'DejaVu Sans Mono',consolas,'Courier New',monospace\">22:37:31.231 | <span style=\"color: #008080; text-decoration-color: #008080\">INFO</span>    | distributed.scheduler -   Scheduler at:     tcp://127.0.0.1:41135\n",
       "</pre>\n"
      ],
      "text/plain": [
       "22:37:31.231 | \u001b[36mINFO\u001b[0m    | distributed.scheduler -   Scheduler at:     tcp://127.0.0.1:41135\n"
      ]
     },
     "metadata": {},
     "output_type": "display_data"
    },
    {
     "data": {
      "text/html": [
       "<pre style=\"white-space:pre;overflow-x:auto;line-height:normal;font-family:Menlo,'DejaVu Sans Mono',consolas,'Courier New',monospace\">22:37:31.232 | <span style=\"color: #008080; text-decoration-color: #008080\">INFO</span>    | distributed.scheduler -   dashboard at:            127.0.0.1:8787\n",
       "</pre>\n"
      ],
      "text/plain": [
       "22:37:31.232 | \u001b[36mINFO\u001b[0m    | distributed.scheduler -   dashboard at:            127.0.0.1:8787\n"
      ]
     },
     "metadata": {},
     "output_type": "display_data"
    },
    {
     "data": {
      "text/html": [
       "<pre style=\"white-space:pre;overflow-x:auto;line-height:normal;font-family:Menlo,'DejaVu Sans Mono',consolas,'Courier New',monospace\">22:37:31.246 | <span style=\"color: #008080; text-decoration-color: #008080\">INFO</span>    | distributed.nanny -         Start Nanny at: 'tcp://127.0.0.1:34029'\n",
       "</pre>\n"
      ],
      "text/plain": [
       "22:37:31.246 | \u001b[36mINFO\u001b[0m    | distributed.nanny -         Start Nanny at: 'tcp://127.0.0.1:34029'\n"
      ]
     },
     "metadata": {},
     "output_type": "display_data"
    },
    {
     "data": {
      "text/html": [
       "<pre style=\"white-space:pre;overflow-x:auto;line-height:normal;font-family:Menlo,'DejaVu Sans Mono',consolas,'Courier New',monospace\">22:37:31.251 | <span style=\"color: #008080; text-decoration-color: #008080\">INFO</span>    | distributed.nanny -         Start Nanny at: 'tcp://127.0.0.1:39965'\n",
       "</pre>\n"
      ],
      "text/plain": [
       "22:37:31.251 | \u001b[36mINFO\u001b[0m    | distributed.nanny -         Start Nanny at: 'tcp://127.0.0.1:39965'\n"
      ]
     },
     "metadata": {},
     "output_type": "display_data"
    },
    {
     "data": {
      "text/html": [
       "<pre style=\"white-space:pre;overflow-x:auto;line-height:normal;font-family:Menlo,'DejaVu Sans Mono',consolas,'Courier New',monospace\">22:37:31.255 | <span style=\"color: #008080; text-decoration-color: #008080\">INFO</span>    | distributed.nanny -         Start Nanny at: 'tcp://127.0.0.1:39909'\n",
       "</pre>\n"
      ],
      "text/plain": [
       "22:37:31.255 | \u001b[36mINFO\u001b[0m    | distributed.nanny -         Start Nanny at: 'tcp://127.0.0.1:39909'\n"
      ]
     },
     "metadata": {},
     "output_type": "display_data"
    },
    {
     "data": {
      "text/html": [
       "<pre style=\"white-space:pre;overflow-x:auto;line-height:normal;font-family:Menlo,'DejaVu Sans Mono',consolas,'Courier New',monospace\">22:37:31.258 | <span style=\"color: #008080; text-decoration-color: #008080\">INFO</span>    | distributed.nanny -         Start Nanny at: 'tcp://127.0.0.1:40127'\n",
       "</pre>\n"
      ],
      "text/plain": [
       "22:37:31.258 | \u001b[36mINFO\u001b[0m    | distributed.nanny -         Start Nanny at: 'tcp://127.0.0.1:40127'\n"
      ]
     },
     "metadata": {},
     "output_type": "display_data"
    },
    {
     "data": {
      "text/html": [
       "<pre style=\"white-space:pre;overflow-x:auto;line-height:normal;font-family:Menlo,'DejaVu Sans Mono',consolas,'Courier New',monospace\">22:37:31.866 | <span style=\"color: #008080; text-decoration-color: #008080\">INFO</span>    | distributed.scheduler - Register worker &lt;WorkerState 'tcp://127.0.0.1:39077', name: 0, status: init, memory: 0, processing: 0&gt;\n",
       "</pre>\n"
      ],
      "text/plain": [
       "22:37:31.866 | \u001b[36mINFO\u001b[0m    | distributed.scheduler - Register worker <WorkerState 'tcp://127.0.0.1:39077', name: 0, status: init, memory: 0, processing: 0>\n"
      ]
     },
     "metadata": {},
     "output_type": "display_data"
    },
    {
     "data": {
      "text/html": [
       "<pre style=\"white-space:pre;overflow-x:auto;line-height:normal;font-family:Menlo,'DejaVu Sans Mono',consolas,'Courier New',monospace\">22:37:32.107 | <span style=\"color: #008080; text-decoration-color: #008080\">INFO</span>    | distributed.scheduler - Starting worker compute stream, tcp://127.0.0.1:39077\n",
       "</pre>\n"
      ],
      "text/plain": [
       "22:37:32.107 | \u001b[36mINFO\u001b[0m    | distributed.scheduler - Starting worker compute stream, tcp://127.0.0.1:39077\n"
      ]
     },
     "metadata": {},
     "output_type": "display_data"
    },
    {
     "data": {
      "text/html": [
       "<pre style=\"white-space:pre;overflow-x:auto;line-height:normal;font-family:Menlo,'DejaVu Sans Mono',consolas,'Courier New',monospace\">22:37:32.108 | <span style=\"color: #008080; text-decoration-color: #008080\">INFO</span>    | distributed.core - Starting established connection to tcp://127.0.0.1:49902\n",
       "</pre>\n"
      ],
      "text/plain": [
       "22:37:32.108 | \u001b[36mINFO\u001b[0m    | distributed.core - Starting established connection to tcp://127.0.0.1:49902\n"
      ]
     },
     "metadata": {},
     "output_type": "display_data"
    },
    {
     "data": {
      "text/html": [
       "<pre style=\"white-space:pre;overflow-x:auto;line-height:normal;font-family:Menlo,'DejaVu Sans Mono',consolas,'Courier New',monospace\">22:37:32.109 | <span style=\"color: #008080; text-decoration-color: #008080\">INFO</span>    | distributed.scheduler - Register worker &lt;WorkerState 'tcp://127.0.0.1:36925', name: 1, status: init, memory: 0, processing: 0&gt;\n",
       "</pre>\n"
      ],
      "text/plain": [
       "22:37:32.109 | \u001b[36mINFO\u001b[0m    | distributed.scheduler - Register worker <WorkerState 'tcp://127.0.0.1:36925', name: 1, status: init, memory: 0, processing: 0>\n"
      ]
     },
     "metadata": {},
     "output_type": "display_data"
    },
    {
     "data": {
      "text/html": [
       "<pre style=\"white-space:pre;overflow-x:auto;line-height:normal;font-family:Menlo,'DejaVu Sans Mono',consolas,'Courier New',monospace\">22:37:32.111 | <span style=\"color: #008080; text-decoration-color: #008080\">INFO</span>    | distributed.scheduler - Starting worker compute stream, tcp://127.0.0.1:36925\n",
       "</pre>\n"
      ],
      "text/plain": [
       "22:37:32.111 | \u001b[36mINFO\u001b[0m    | distributed.scheduler - Starting worker compute stream, tcp://127.0.0.1:36925\n"
      ]
     },
     "metadata": {},
     "output_type": "display_data"
    },
    {
     "data": {
      "text/html": [
       "<pre style=\"white-space:pre;overflow-x:auto;line-height:normal;font-family:Menlo,'DejaVu Sans Mono',consolas,'Courier New',monospace\">22:37:32.112 | <span style=\"color: #008080; text-decoration-color: #008080\">INFO</span>    | distributed.core - Starting established connection to tcp://127.0.0.1:49912\n",
       "</pre>\n"
      ],
      "text/plain": [
       "22:37:32.112 | \u001b[36mINFO\u001b[0m    | distributed.core - Starting established connection to tcp://127.0.0.1:49912\n"
      ]
     },
     "metadata": {},
     "output_type": "display_data"
    },
    {
     "data": {
      "text/html": [
       "<pre style=\"white-space:pre;overflow-x:auto;line-height:normal;font-family:Menlo,'DejaVu Sans Mono',consolas,'Courier New',monospace\">22:37:32.113 | <span style=\"color: #008080; text-decoration-color: #008080\">INFO</span>    | distributed.scheduler - Register worker &lt;WorkerState 'tcp://127.0.0.1:38179', name: 3, status: init, memory: 0, processing: 0&gt;\n",
       "</pre>\n"
      ],
      "text/plain": [
       "22:37:32.113 | \u001b[36mINFO\u001b[0m    | distributed.scheduler - Register worker <WorkerState 'tcp://127.0.0.1:38179', name: 3, status: init, memory: 0, processing: 0>\n"
      ]
     },
     "metadata": {},
     "output_type": "display_data"
    },
    {
     "data": {
      "text/html": [
       "<pre style=\"white-space:pre;overflow-x:auto;line-height:normal;font-family:Menlo,'DejaVu Sans Mono',consolas,'Courier New',monospace\">22:37:32.114 | <span style=\"color: #008080; text-decoration-color: #008080\">INFO</span>    | distributed.scheduler - Starting worker compute stream, tcp://127.0.0.1:38179\n",
       "</pre>\n"
      ],
      "text/plain": [
       "22:37:32.114 | \u001b[36mINFO\u001b[0m    | distributed.scheduler - Starting worker compute stream, tcp://127.0.0.1:38179\n"
      ]
     },
     "metadata": {},
     "output_type": "display_data"
    },
    {
     "data": {
      "text/html": [
       "<pre style=\"white-space:pre;overflow-x:auto;line-height:normal;font-family:Menlo,'DejaVu Sans Mono',consolas,'Courier New',monospace\">22:37:32.115 | <span style=\"color: #008080; text-decoration-color: #008080\">INFO</span>    | distributed.core - Starting established connection to tcp://127.0.0.1:49928\n",
       "</pre>\n"
      ],
      "text/plain": [
       "22:37:32.115 | \u001b[36mINFO\u001b[0m    | distributed.core - Starting established connection to tcp://127.0.0.1:49928\n"
      ]
     },
     "metadata": {},
     "output_type": "display_data"
    },
    {
     "data": {
      "text/html": [
       "<pre style=\"white-space:pre;overflow-x:auto;line-height:normal;font-family:Menlo,'DejaVu Sans Mono',consolas,'Courier New',monospace\">22:37:32.116 | <span style=\"color: #008080; text-decoration-color: #008080\">INFO</span>    | distributed.scheduler - Register worker &lt;WorkerState 'tcp://127.0.0.1:36267', name: 2, status: init, memory: 0, processing: 0&gt;\n",
       "</pre>\n"
      ],
      "text/plain": [
       "22:37:32.116 | \u001b[36mINFO\u001b[0m    | distributed.scheduler - Register worker <WorkerState 'tcp://127.0.0.1:36267', name: 2, status: init, memory: 0, processing: 0>\n"
      ]
     },
     "metadata": {},
     "output_type": "display_data"
    },
    {
     "data": {
      "text/html": [
       "<pre style=\"white-space:pre;overflow-x:auto;line-height:normal;font-family:Menlo,'DejaVu Sans Mono',consolas,'Courier New',monospace\">22:37:32.118 | <span style=\"color: #008080; text-decoration-color: #008080\">INFO</span>    | distributed.scheduler - Starting worker compute stream, tcp://127.0.0.1:36267\n",
       "</pre>\n"
      ],
      "text/plain": [
       "22:37:32.118 | \u001b[36mINFO\u001b[0m    | distributed.scheduler - Starting worker compute stream, tcp://127.0.0.1:36267\n"
      ]
     },
     "metadata": {},
     "output_type": "display_data"
    },
    {
     "data": {
      "text/html": [
       "<pre style=\"white-space:pre;overflow-x:auto;line-height:normal;font-family:Menlo,'DejaVu Sans Mono',consolas,'Courier New',monospace\">22:37:32.119 | <span style=\"color: #008080; text-decoration-color: #008080\">INFO</span>    | distributed.core - Starting established connection to tcp://127.0.0.1:49906\n",
       "</pre>\n"
      ],
      "text/plain": [
       "22:37:32.119 | \u001b[36mINFO\u001b[0m    | distributed.core - Starting established connection to tcp://127.0.0.1:49906\n"
      ]
     },
     "metadata": {},
     "output_type": "display_data"
    },
    {
     "data": {
      "text/html": [
       "<pre style=\"white-space:pre;overflow-x:auto;line-height:normal;font-family:Menlo,'DejaVu Sans Mono',consolas,'Courier New',monospace\">22:37:32.124 | <span style=\"color: #008080; text-decoration-color: #008080\">INFO</span>    | distributed.scheduler - Receive client connection: Client-3c519114-f724-11ed-9c91-c8e265fd672c\n",
       "</pre>\n"
      ],
      "text/plain": [
       "22:37:32.124 | \u001b[36mINFO\u001b[0m    | distributed.scheduler - Receive client connection: Client-3c519114-f724-11ed-9c91-c8e265fd672c\n"
      ]
     },
     "metadata": {},
     "output_type": "display_data"
    },
    {
     "data": {
      "text/html": [
       "<pre style=\"white-space:pre;overflow-x:auto;line-height:normal;font-family:Menlo,'DejaVu Sans Mono',consolas,'Courier New',monospace\">22:37:32.126 | <span style=\"color: #008080; text-decoration-color: #008080\">INFO</span>    | distributed.core - Starting established connection to tcp://127.0.0.1:49934\n",
       "</pre>\n"
      ],
      "text/plain": [
       "22:37:32.126 | \u001b[36mINFO\u001b[0m    | distributed.core - Starting established connection to tcp://127.0.0.1:49934\n"
      ]
     },
     "metadata": {},
     "output_type": "display_data"
    },
    {
     "data": {
      "text/html": [
       "<pre style=\"white-space:pre;overflow-x:auto;line-height:normal;font-family:Menlo,'DejaVu Sans Mono',consolas,'Courier New',monospace\">22:37:32.128 | <span style=\"color: #008080; text-decoration-color: #008080\">INFO</span>    | prefect.task_runner.dask - The Dask dashboard is available at <span style=\"color: #0000ff; text-decoration-color: #0000ff\">http://127.0.0.1:8787/status</span>\n",
       "</pre>\n"
      ],
      "text/plain": [
       "22:37:32.128 | \u001b[36mINFO\u001b[0m    | prefect.task_runner.dask - The Dask dashboard is available at \u001b[94mhttp://127.0.0.1:8787/status\u001b[0m\n"
      ]
     },
     "metadata": {},
     "output_type": "display_data"
    },
    {
     "data": {
      "text/html": [
       "<pre style=\"white-space:pre;overflow-x:auto;line-height:normal;font-family:Menlo,'DejaVu Sans Mono',consolas,'Courier New',monospace\">22:37:32.233 | <span style=\"color: #008080; text-decoration-color: #008080\">INFO</span>    | Flow run<span style=\"color: #800080; text-decoration-color: #800080\"> 'inventive-lynx'</span> - Created task run 'print_values-1' for task 'print_values'\n",
       "</pre>\n"
      ],
      "text/plain": [
       "22:37:32.233 | \u001b[36mINFO\u001b[0m    | Flow run\u001b[35m 'inventive-lynx'\u001b[0m - Created task run 'print_values-1' for task 'print_values'\n"
      ]
     },
     "metadata": {},
     "output_type": "display_data"
    },
    {
     "data": {
      "text/html": [
       "<pre style=\"white-space:pre;overflow-x:auto;line-height:normal;font-family:Menlo,'DejaVu Sans Mono',consolas,'Courier New',monospace\">22:37:32.572 | <span style=\"color: #008080; text-decoration-color: #008080\">INFO</span>    | Flow run<span style=\"color: #800080; text-decoration-color: #800080\"> 'inventive-lynx'</span> - Submitted task run 'print_values-1' for execution.\n",
       "</pre>\n"
      ],
      "text/plain": [
       "22:37:32.572 | \u001b[36mINFO\u001b[0m    | Flow run\u001b[35m 'inventive-lynx'\u001b[0m - Submitted task run 'print_values-1' for execution.\n"
      ]
     },
     "metadata": {},
     "output_type": "display_data"
    },
    {
     "data": {
      "text/html": [
       "<pre style=\"white-space:pre;overflow-x:auto;line-height:normal;font-family:Menlo,'DejaVu Sans Mono',consolas,'Courier New',monospace\">22:37:32.586 | <span style=\"color: #008080; text-decoration-color: #008080\">INFO</span>    | Flow run<span style=\"color: #800080; text-decoration-color: #800080\"> 'inventive-lynx'</span> - Created task run 'print_values-0' for task 'print_values'\n",
       "</pre>\n"
      ],
      "text/plain": [
       "22:37:32.586 | \u001b[36mINFO\u001b[0m    | Flow run\u001b[35m 'inventive-lynx'\u001b[0m - Created task run 'print_values-0' for task 'print_values'\n"
      ]
     },
     "metadata": {},
     "output_type": "display_data"
    },
    {
     "data": {
      "text/html": [
       "<pre style=\"white-space:pre;overflow-x:auto;line-height:normal;font-family:Menlo,'DejaVu Sans Mono',consolas,'Courier New',monospace\">22:37:32.590 | <span style=\"color: #008080; text-decoration-color: #008080\">INFO</span>    | Flow run<span style=\"color: #800080; text-decoration-color: #800080\"> 'inventive-lynx'</span> - Submitted task run 'print_values-0' for execution.\n",
       "</pre>\n"
      ],
      "text/plain": [
       "22:37:32.590 | \u001b[36mINFO\u001b[0m    | Flow run\u001b[35m 'inventive-lynx'\u001b[0m - Submitted task run 'print_values-0' for execution.\n"
      ]
     },
     "metadata": {},
     "output_type": "display_data"
    },
    {
     "name": "stdout",
     "output_type": "stream",
     "text": [
      "BBBB\r"
     ]
    },
    {
     "name": "stderr",
     "output_type": "stream",
     "text": [
      "22:37:39.474 | \u001b[36mINFO\u001b[0m    | Task run 'print_values-1' - Finished in state \u001b[32mCompleted\u001b[0m()\n"
     ]
    },
    {
     "name": "stdout",
     "output_type": "stream",
     "text": [
      "AAAA\r"
     ]
    },
    {
     "name": "stderr",
     "output_type": "stream",
     "text": [
      "22:37:41.955 | \u001b[36mINFO\u001b[0m    | Task run 'print_values-0' - Finished in state \u001b[32mCompleted\u001b[0m()\n"
     ]
    },
    {
     "data": {
      "text/html": [
       "<pre style=\"white-space:pre;overflow-x:auto;line-height:normal;font-family:Menlo,'DejaVu Sans Mono',consolas,'Courier New',monospace\">22:37:42.017 | <span style=\"color: #008080; text-decoration-color: #008080\">INFO</span>    | distributed.scheduler - Remove client Client-3c519114-f724-11ed-9c91-c8e265fd672c\n",
       "</pre>\n"
      ],
      "text/plain": [
       "22:37:42.017 | \u001b[36mINFO\u001b[0m    | distributed.scheduler - Remove client Client-3c519114-f724-11ed-9c91-c8e265fd672c\n"
      ]
     },
     "metadata": {},
     "output_type": "display_data"
    },
    {
     "data": {
      "text/html": [
       "<pre style=\"white-space:pre;overflow-x:auto;line-height:normal;font-family:Menlo,'DejaVu Sans Mono',consolas,'Courier New',monospace\">22:37:42.018 | <span style=\"color: #008080; text-decoration-color: #008080\">INFO</span>    | distributed.core - Received 'close-stream' from tcp://127.0.0.1:49934; closing.\n",
       "</pre>\n"
      ],
      "text/plain": [
       "22:37:42.018 | \u001b[36mINFO\u001b[0m    | distributed.core - Received 'close-stream' from tcp://127.0.0.1:49934; closing.\n"
      ]
     },
     "metadata": {},
     "output_type": "display_data"
    },
    {
     "data": {
      "text/html": [
       "<pre style=\"white-space:pre;overflow-x:auto;line-height:normal;font-family:Menlo,'DejaVu Sans Mono',consolas,'Courier New',monospace\">22:37:42.020 | <span style=\"color: #008080; text-decoration-color: #008080\">INFO</span>    | distributed.scheduler - Remove client Client-3c519114-f724-11ed-9c91-c8e265fd672c\n",
       "</pre>\n"
      ],
      "text/plain": [
       "22:37:42.020 | \u001b[36mINFO\u001b[0m    | distributed.scheduler - Remove client Client-3c519114-f724-11ed-9c91-c8e265fd672c\n"
      ]
     },
     "metadata": {},
     "output_type": "display_data"
    },
    {
     "data": {
      "text/html": [
       "<pre style=\"white-space:pre;overflow-x:auto;line-height:normal;font-family:Menlo,'DejaVu Sans Mono',consolas,'Courier New',monospace\">22:37:42.021 | <span style=\"color: #008080; text-decoration-color: #008080\">INFO</span>    | distributed.scheduler - Close client connection: Client-3c519114-f724-11ed-9c91-c8e265fd672c\n",
       "</pre>\n"
      ],
      "text/plain": [
       "22:37:42.021 | \u001b[36mINFO\u001b[0m    | distributed.scheduler - Close client connection: Client-3c519114-f724-11ed-9c91-c8e265fd672c\n"
      ]
     },
     "metadata": {},
     "output_type": "display_data"
    },
    {
     "data": {
      "text/html": [
       "<pre style=\"white-space:pre;overflow-x:auto;line-height:normal;font-family:Menlo,'DejaVu Sans Mono',consolas,'Courier New',monospace\">22:37:42.023 | <span style=\"color: #008080; text-decoration-color: #008080\">INFO</span>    | distributed.nanny - Closing Nanny at 'tcp://127.0.0.1:34029'. Reason: nanny-close\n",
       "</pre>\n"
      ],
      "text/plain": [
       "22:37:42.023 | \u001b[36mINFO\u001b[0m    | distributed.nanny - Closing Nanny at 'tcp://127.0.0.1:34029'. Reason: nanny-close\n"
      ]
     },
     "metadata": {},
     "output_type": "display_data"
    },
    {
     "data": {
      "text/html": [
       "<pre style=\"white-space:pre;overflow-x:auto;line-height:normal;font-family:Menlo,'DejaVu Sans Mono',consolas,'Courier New',monospace\">22:37:42.024 | <span style=\"color: #008080; text-decoration-color: #008080\">INFO</span>    | distributed.nanny - Nanny asking worker to close. Reason: nanny-close\n",
       "</pre>\n"
      ],
      "text/plain": [
       "22:37:42.024 | \u001b[36mINFO\u001b[0m    | distributed.nanny - Nanny asking worker to close. Reason: nanny-close\n"
      ]
     },
     "metadata": {},
     "output_type": "display_data"
    },
    {
     "data": {
      "text/html": [
       "<pre style=\"white-space:pre;overflow-x:auto;line-height:normal;font-family:Menlo,'DejaVu Sans Mono',consolas,'Courier New',monospace\">22:37:42.025 | <span style=\"color: #008080; text-decoration-color: #008080\">INFO</span>    | distributed.nanny - Closing Nanny at 'tcp://127.0.0.1:39965'. Reason: nanny-close\n",
       "</pre>\n"
      ],
      "text/plain": [
       "22:37:42.025 | \u001b[36mINFO\u001b[0m    | distributed.nanny - Closing Nanny at 'tcp://127.0.0.1:39965'. Reason: nanny-close\n"
      ]
     },
     "metadata": {},
     "output_type": "display_data"
    },
    {
     "data": {
      "text/html": [
       "<pre style=\"white-space:pre;overflow-x:auto;line-height:normal;font-family:Menlo,'DejaVu Sans Mono',consolas,'Courier New',monospace\">22:37:42.025 | <span style=\"color: #008080; text-decoration-color: #008080\">INFO</span>    | distributed.nanny - Nanny asking worker to close. Reason: nanny-close\n",
       "</pre>\n"
      ],
      "text/plain": [
       "22:37:42.025 | \u001b[36mINFO\u001b[0m    | distributed.nanny - Nanny asking worker to close. Reason: nanny-close\n"
      ]
     },
     "metadata": {},
     "output_type": "display_data"
    },
    {
     "data": {
      "text/html": [
       "<pre style=\"white-space:pre;overflow-x:auto;line-height:normal;font-family:Menlo,'DejaVu Sans Mono',consolas,'Courier New',monospace\">22:37:42.026 | <span style=\"color: #008080; text-decoration-color: #008080\">INFO</span>    | distributed.nanny - Closing Nanny at 'tcp://127.0.0.1:39909'. Reason: nanny-close\n",
       "</pre>\n"
      ],
      "text/plain": [
       "22:37:42.026 | \u001b[36mINFO\u001b[0m    | distributed.nanny - Closing Nanny at 'tcp://127.0.0.1:39909'. Reason: nanny-close\n"
      ]
     },
     "metadata": {},
     "output_type": "display_data"
    },
    {
     "name": "stderr",
     "output_type": "stream",
     "text": [
      "22:37:42.027 | \u001b[36mINFO\u001b[0m    | distributed.worker - Stopping worker at tcp://127.0.0.1:36925. Reason: nanny-close\n"
     ]
    },
    {
     "data": {
      "text/html": [
       "<pre style=\"white-space:pre;overflow-x:auto;line-height:normal;font-family:Menlo,'DejaVu Sans Mono',consolas,'Courier New',monospace\">22:37:42.027 | <span style=\"color: #008080; text-decoration-color: #008080\">INFO</span>    | distributed.nanny - Nanny asking worker to close. Reason: nanny-close\n",
       "</pre>\n"
      ],
      "text/plain": [
       "22:37:42.027 | \u001b[36mINFO\u001b[0m    | distributed.nanny - Nanny asking worker to close. Reason: nanny-close\n"
      ]
     },
     "metadata": {},
     "output_type": "display_data"
    },
    {
     "name": "stderr",
     "output_type": "stream",
     "text": [
      "22:37:42.028 | \u001b[36mINFO\u001b[0m    | distributed.core - Connection to tcp://127.0.0.1:41135 has been closed.\n"
     ]
    },
    {
     "data": {
      "text/html": [
       "<pre style=\"white-space:pre;overflow-x:auto;line-height:normal;font-family:Menlo,'DejaVu Sans Mono',consolas,'Courier New',monospace\">22:37:42.028 | <span style=\"color: #008080; text-decoration-color: #008080\">INFO</span>    | distributed.nanny - Closing Nanny at 'tcp://127.0.0.1:40127'. Reason: nanny-close\n",
       "</pre>\n"
      ],
      "text/plain": [
       "22:37:42.028 | \u001b[36mINFO\u001b[0m    | distributed.nanny - Closing Nanny at 'tcp://127.0.0.1:40127'. Reason: nanny-close\n"
      ]
     },
     "metadata": {},
     "output_type": "display_data"
    },
    {
     "name": "stderr",
     "output_type": "stream",
     "text": [
      "22:37:42.029 | \u001b[36mINFO\u001b[0m    | distributed.worker - Stopping worker at tcp://127.0.0.1:36267. Reason: nanny-close\n"
     ]
    },
    {
     "data": {
      "text/html": [
       "<pre style=\"white-space:pre;overflow-x:auto;line-height:normal;font-family:Menlo,'DejaVu Sans Mono',consolas,'Courier New',monospace\">22:37:42.029 | <span style=\"color: #008080; text-decoration-color: #008080\">INFO</span>    | distributed.nanny - Nanny asking worker to close. Reason: nanny-close\n",
       "</pre>\n"
      ],
      "text/plain": [
       "22:37:42.029 | \u001b[36mINFO\u001b[0m    | distributed.nanny - Nanny asking worker to close. Reason: nanny-close\n"
      ]
     },
     "metadata": {},
     "output_type": "display_data"
    },
    {
     "name": "stderr",
     "output_type": "stream",
     "text": [
      "22:37:42.030 | \u001b[36mINFO\u001b[0m    | distributed.core - Connection to tcp://127.0.0.1:41135 has been closed.\n"
     ]
    },
    {
     "data": {
      "text/html": [
       "<pre style=\"white-space:pre;overflow-x:auto;line-height:normal;font-family:Menlo,'DejaVu Sans Mono',consolas,'Courier New',monospace\">22:37:42.032 | <span style=\"color: #008080; text-decoration-color: #008080\">INFO</span>    | distributed.core - Received 'close-stream' from tcp://127.0.0.1:49902; closing.\n",
       "</pre>\n"
      ],
      "text/plain": [
       "22:37:42.032 | \u001b[36mINFO\u001b[0m    | distributed.core - Received 'close-stream' from tcp://127.0.0.1:49902; closing.\n"
      ]
     },
     "metadata": {},
     "output_type": "display_data"
    },
    {
     "data": {
      "text/html": [
       "<pre style=\"white-space:pre;overflow-x:auto;line-height:normal;font-family:Menlo,'DejaVu Sans Mono',consolas,'Courier New',monospace\">22:37:42.034 | <span style=\"color: #008080; text-decoration-color: #008080\">INFO</span>    | distributed.core - Received 'close-stream' from tcp://127.0.0.1:49912; closing.\n",
       "</pre>\n"
      ],
      "text/plain": [
       "22:37:42.034 | \u001b[36mINFO\u001b[0m    | distributed.core - Received 'close-stream' from tcp://127.0.0.1:49912; closing.\n"
      ]
     },
     "metadata": {},
     "output_type": "display_data"
    },
    {
     "data": {
      "text/html": [
       "<pre style=\"white-space:pre;overflow-x:auto;line-height:normal;font-family:Menlo,'DejaVu Sans Mono',consolas,'Courier New',monospace\">22:37:42.037 | <span style=\"color: #008080; text-decoration-color: #008080\">INFO</span>    | distributed.core - Received 'close-stream' from tcp://127.0.0.1:49906; closing.\n",
       "</pre>\n"
      ],
      "text/plain": [
       "22:37:42.037 | \u001b[36mINFO\u001b[0m    | distributed.core - Received 'close-stream' from tcp://127.0.0.1:49906; closing.\n"
      ]
     },
     "metadata": {},
     "output_type": "display_data"
    },
    {
     "data": {
      "text/html": [
       "<pre style=\"white-space:pre;overflow-x:auto;line-height:normal;font-family:Menlo,'DejaVu Sans Mono',consolas,'Courier New',monospace\">22:37:42.039 | <span style=\"color: #008080; text-decoration-color: #008080\">INFO</span>    | distributed.scheduler - Remove worker &lt;WorkerState 'tcp://127.0.0.1:39077', name: 0, status: closing, memory: 0, processing: 0&gt;\n",
       "</pre>\n"
      ],
      "text/plain": [
       "22:37:42.039 | \u001b[36mINFO\u001b[0m    | distributed.scheduler - Remove worker <WorkerState 'tcp://127.0.0.1:39077', name: 0, status: closing, memory: 0, processing: 0>\n"
      ]
     },
     "metadata": {},
     "output_type": "display_data"
    },
    {
     "data": {
      "text/html": [
       "<pre style=\"white-space:pre;overflow-x:auto;line-height:normal;font-family:Menlo,'DejaVu Sans Mono',consolas,'Courier New',monospace\">22:37:42.041 | <span style=\"color: #008080; text-decoration-color: #008080\">INFO</span>    | distributed.core - Removing comms to tcp://127.0.0.1:39077\n",
       "</pre>\n"
      ],
      "text/plain": [
       "22:37:42.041 | \u001b[36mINFO\u001b[0m    | distributed.core - Removing comms to tcp://127.0.0.1:39077\n"
      ]
     },
     "metadata": {},
     "output_type": "display_data"
    },
    {
     "data": {
      "text/html": [
       "<pre style=\"white-space:pre;overflow-x:auto;line-height:normal;font-family:Menlo,'DejaVu Sans Mono',consolas,'Courier New',monospace\">22:37:42.042 | <span style=\"color: #008080; text-decoration-color: #008080\">INFO</span>    | distributed.scheduler - Remove worker &lt;WorkerState 'tcp://127.0.0.1:36925', name: 1, status: closing, memory: 0, processing: 0&gt;\n",
       "</pre>\n"
      ],
      "text/plain": [
       "22:37:42.042 | \u001b[36mINFO\u001b[0m    | distributed.scheduler - Remove worker <WorkerState 'tcp://127.0.0.1:36925', name: 1, status: closing, memory: 0, processing: 0>\n"
      ]
     },
     "metadata": {},
     "output_type": "display_data"
    },
    {
     "data": {
      "text/html": [
       "<pre style=\"white-space:pre;overflow-x:auto;line-height:normal;font-family:Menlo,'DejaVu Sans Mono',consolas,'Courier New',monospace\">22:37:42.044 | <span style=\"color: #008080; text-decoration-color: #008080\">INFO</span>    | distributed.core - Removing comms to tcp://127.0.0.1:36925\n",
       "</pre>\n"
      ],
      "text/plain": [
       "22:37:42.044 | \u001b[36mINFO\u001b[0m    | distributed.core - Removing comms to tcp://127.0.0.1:36925\n"
      ]
     },
     "metadata": {},
     "output_type": "display_data"
    },
    {
     "data": {
      "text/html": [
       "<pre style=\"white-space:pre;overflow-x:auto;line-height:normal;font-family:Menlo,'DejaVu Sans Mono',consolas,'Courier New',monospace\">22:37:42.046 | <span style=\"color: #008080; text-decoration-color: #008080\">INFO</span>    | distributed.scheduler - Remove worker &lt;WorkerState 'tcp://127.0.0.1:36267', name: 2, status: closing, memory: 0, processing: 0&gt;\n",
       "</pre>\n"
      ],
      "text/plain": [
       "22:37:42.046 | \u001b[36mINFO\u001b[0m    | distributed.scheduler - Remove worker <WorkerState 'tcp://127.0.0.1:36267', name: 2, status: closing, memory: 0, processing: 0>\n"
      ]
     },
     "metadata": {},
     "output_type": "display_data"
    },
    {
     "data": {
      "text/html": [
       "<pre style=\"white-space:pre;overflow-x:auto;line-height:normal;font-family:Menlo,'DejaVu Sans Mono',consolas,'Courier New',monospace\">22:37:42.048 | <span style=\"color: #008080; text-decoration-color: #008080\">INFO</span>    | distributed.core - Removing comms to tcp://127.0.0.1:36267\n",
       "</pre>\n"
      ],
      "text/plain": [
       "22:37:42.048 | \u001b[36mINFO\u001b[0m    | distributed.core - Removing comms to tcp://127.0.0.1:36267\n"
      ]
     },
     "metadata": {},
     "output_type": "display_data"
    },
    {
     "data": {
      "text/html": [
       "<pre style=\"white-space:pre;overflow-x:auto;line-height:normal;font-family:Menlo,'DejaVu Sans Mono',consolas,'Courier New',monospace\">22:37:42.050 | <span style=\"color: #008080; text-decoration-color: #008080\">INFO</span>    | distributed.core - Received 'close-stream' from tcp://127.0.0.1:49928; closing.\n",
       "</pre>\n"
      ],
      "text/plain": [
       "22:37:42.050 | \u001b[36mINFO\u001b[0m    | distributed.core - Received 'close-stream' from tcp://127.0.0.1:49928; closing.\n"
      ]
     },
     "metadata": {},
     "output_type": "display_data"
    },
    {
     "data": {
      "text/html": [
       "<pre style=\"white-space:pre;overflow-x:auto;line-height:normal;font-family:Menlo,'DejaVu Sans Mono',consolas,'Courier New',monospace\">22:37:42.052 | <span style=\"color: #008080; text-decoration-color: #008080\">INFO</span>    | distributed.scheduler - Remove worker &lt;WorkerState 'tcp://127.0.0.1:38179', name: 3, status: closing, memory: 0, processing: 0&gt;\n",
       "</pre>\n"
      ],
      "text/plain": [
       "22:37:42.052 | \u001b[36mINFO\u001b[0m    | distributed.scheduler - Remove worker <WorkerState 'tcp://127.0.0.1:38179', name: 3, status: closing, memory: 0, processing: 0>\n"
      ]
     },
     "metadata": {},
     "output_type": "display_data"
    },
    {
     "data": {
      "text/html": [
       "<pre style=\"white-space:pre;overflow-x:auto;line-height:normal;font-family:Menlo,'DejaVu Sans Mono',consolas,'Courier New',monospace\">22:37:42.053 | <span style=\"color: #008080; text-decoration-color: #008080\">INFO</span>    | distributed.core - Removing comms to tcp://127.0.0.1:38179\n",
       "</pre>\n"
      ],
      "text/plain": [
       "22:37:42.053 | \u001b[36mINFO\u001b[0m    | distributed.core - Removing comms to tcp://127.0.0.1:38179\n"
      ]
     },
     "metadata": {},
     "output_type": "display_data"
    },
    {
     "data": {
      "text/html": [
       "<pre style=\"white-space:pre;overflow-x:auto;line-height:normal;font-family:Menlo,'DejaVu Sans Mono',consolas,'Courier New',monospace\">22:37:42.054 | <span style=\"color: #008080; text-decoration-color: #008080\">INFO</span>    | distributed.scheduler - Lost all workers\n",
       "</pre>\n"
      ],
      "text/plain": [
       "22:37:42.054 | \u001b[36mINFO\u001b[0m    | distributed.scheduler - Lost all workers\n"
      ]
     },
     "metadata": {},
     "output_type": "display_data"
    },
    {
     "data": {
      "text/html": [
       "<pre style=\"white-space:pre;overflow-x:auto;line-height:normal;font-family:Menlo,'DejaVu Sans Mono',consolas,'Courier New',monospace\">22:37:42.643 | <span style=\"color: #008080; text-decoration-color: #008080\">INFO</span>    | distributed.scheduler - Scheduler closing...\n",
       "</pre>\n"
      ],
      "text/plain": [
       "22:37:42.643 | \u001b[36mINFO\u001b[0m    | distributed.scheduler - Scheduler closing...\n"
      ]
     },
     "metadata": {},
     "output_type": "display_data"
    },
    {
     "data": {
      "text/html": [
       "<pre style=\"white-space:pre;overflow-x:auto;line-height:normal;font-family:Menlo,'DejaVu Sans Mono',consolas,'Courier New',monospace\">22:37:42.644 | <span style=\"color: #008080; text-decoration-color: #008080\">INFO</span>    | distributed.scheduler - Scheduler closing all comms\n",
       "</pre>\n"
      ],
      "text/plain": [
       "22:37:42.644 | \u001b[36mINFO\u001b[0m    | distributed.scheduler - Scheduler closing all comms\n"
      ]
     },
     "metadata": {},
     "output_type": "display_data"
    },
    {
     "data": {
      "text/html": [
       "<pre style=\"white-space:pre;overflow-x:auto;line-height:normal;font-family:Menlo,'DejaVu Sans Mono',consolas,'Courier New',monospace\">22:37:42.646 | <span style=\"color: #008080; text-decoration-color: #008080\">INFO</span>    | Flow run<span style=\"color: #800080; text-decoration-color: #800080\"> 'inventive-lynx'</span> - Finished in state <span style=\"color: #008000; text-decoration-color: #008000\">Completed</span>('All states completed.')\n",
       "</pre>\n"
      ],
      "text/plain": [
       "22:37:42.646 | \u001b[36mINFO\u001b[0m    | Flow run\u001b[35m 'inventive-lynx'\u001b[0m - Finished in state \u001b[32mCompleted\u001b[0m('All states completed.')\n"
      ]
     },
     "metadata": {},
     "output_type": "display_data"
    }
   ],
   "source": [
    "import time\n",
    "from prefect import task, flow\n",
    "from prefect_dask.task_runners import DaskTaskRunner\n",
    "\n",
    "@task\n",
    "def print_values(values):\n",
    "    for value in values:\n",
    "        time.sleep(0.5)\n",
    "        print(value, end=\"\\r\")\n",
    "\n",
    "@flow(task_runner=DaskTaskRunner())\n",
    "def my_flow():\n",
    "    print_values.submit([\"AAAA\"] * 15)\n",
    "    print_values.submit([\"BBBB\"] * 10)\n",
    "\n",
    "if __name__ == \"__main__\":\n",
    "    my_flow()\n"
   ]
  },
  {
   "attachments": {},
   "cell_type": "markdown",
   "metadata": {},
   "source": [
    "## Asynchronous execution"
   ]
  },
  {
   "cell_type": "code",
   "execution_count": 6,
   "metadata": {},
   "outputs": [
    {
     "name": "stderr",
     "output_type": "stream",
     "text": [
      "/home/dino/anaconda3/envs/torch/lib/python3.10/site-packages/prefect/tasks.py:298: UserWarning: A task named 'print_values' and defined at '/tmp/ipykernel_23697/3707094215.py:5' conflicts with another task. Consider specifying a unique `name` parameter in the task definition:\n",
      "\n",
      " `@task(name='my_unique_name', ...)`\n",
      "  warnings.warn(\n",
      "/home/dino/anaconda3/envs/torch/lib/python3.10/site-packages/prefect/flows.py:243: UserWarning: A flow named 'async-flow' and defined at '/tmp/ipykernel_23697/3707094215.py:11' conflicts with another flow. Consider specifying a unique `name` parameter in the flow definition:\n",
      "\n",
      " `@flow(name='my_unique_name', ...)`\n",
      "  warnings.warn(\n"
     ]
    },
    {
     "ename": "RuntimeError",
     "evalue": "asyncio.run() cannot be called from a running event loop",
     "output_type": "error",
     "traceback": [
      "\u001b[0;31m---------------------------------------------------------------------------\u001b[0m",
      "\u001b[0;31mRuntimeError\u001b[0m                              Traceback (most recent call last)",
      "Cell \u001b[0;32mIn[6], line 19\u001b[0m\n\u001b[1;32m     16\u001b[0m     \u001b[39m# asynchronously gather the tasks\u001b[39;00m\n\u001b[1;32m     17\u001b[0m     \u001b[39mawait\u001b[39;00m asyncio\u001b[39m.\u001b[39mgather(\u001b[39m*\u001b[39mcoros)\n\u001b[0;32m---> 19\u001b[0m asyncio\u001b[39m.\u001b[39;49mrun(async_flow())\n",
      "File \u001b[0;32m~/anaconda3/envs/torch/lib/python3.10/asyncio/runners.py:33\u001b[0m, in \u001b[0;36mrun\u001b[0;34m(main, debug)\u001b[0m\n\u001b[1;32m      9\u001b[0m \u001b[39m\u001b[39m\u001b[39m\"\"\"Execute the coroutine and return the result.\u001b[39;00m\n\u001b[1;32m     10\u001b[0m \n\u001b[1;32m     11\u001b[0m \u001b[39mThis function runs the passed coroutine, taking care of\u001b[39;00m\n\u001b[0;32m   (...)\u001b[0m\n\u001b[1;32m     30\u001b[0m \u001b[39m    asyncio.run(main())\u001b[39;00m\n\u001b[1;32m     31\u001b[0m \u001b[39m\"\"\"\u001b[39;00m\n\u001b[1;32m     32\u001b[0m \u001b[39mif\u001b[39;00m events\u001b[39m.\u001b[39m_get_running_loop() \u001b[39mis\u001b[39;00m \u001b[39mnot\u001b[39;00m \u001b[39mNone\u001b[39;00m:\n\u001b[0;32m---> 33\u001b[0m     \u001b[39mraise\u001b[39;00m \u001b[39mRuntimeError\u001b[39;00m(\n\u001b[1;32m     34\u001b[0m         \u001b[39m\"\u001b[39m\u001b[39masyncio.run() cannot be called from a running event loop\u001b[39m\u001b[39m\"\u001b[39m)\n\u001b[1;32m     36\u001b[0m \u001b[39mif\u001b[39;00m \u001b[39mnot\u001b[39;00m coroutines\u001b[39m.\u001b[39miscoroutine(main):\n\u001b[1;32m     37\u001b[0m     \u001b[39mraise\u001b[39;00m \u001b[39mValueError\u001b[39;00m(\u001b[39m\"\u001b[39m\u001b[39ma coroutine was expected, got \u001b[39m\u001b[39m{!r}\u001b[39;00m\u001b[39m\"\u001b[39m\u001b[39m.\u001b[39mformat(main))\n",
      "\u001b[0;31mRuntimeError\u001b[0m: asyncio.run() cannot be called from a running event loop"
     ]
    }
   ],
   "source": [
    "import asyncio\n",
    "\n",
    "from prefect import task, flow\n",
    "\n",
    "@task\n",
    "async def print_values(values):\n",
    "    for value in values:\n",
    "        await asyncio.sleep(1) # yield\n",
    "        print(value, end=\" \")\n",
    "\n",
    "@flow\n",
    "async def async_flow():\n",
    "    await print_values([1, 2])  # runs immediately\n",
    "    coros = [print_values(\"abcd\"), print_values(\"6789\")]\n",
    "\n",
    "    # asynchronously gather the tasks\n",
    "    await asyncio.gather(*coros)\n",
    "\n",
    "asyncio.run(async_flow())\n",
    "\n"
   ]
  },
  {
   "cell_type": "code",
   "execution_count": null,
   "metadata": {},
   "outputs": [],
   "source": []
  }
 ],
 "metadata": {
  "kernelspec": {
   "display_name": "torch",
   "language": "python",
   "name": "python3"
  },
  "language_info": {
   "codemirror_mode": {
    "name": "ipython",
    "version": 3
   },
   "file_extension": ".py",
   "mimetype": "text/x-python",
   "name": "python",
   "nbconvert_exporter": "python",
   "pygments_lexer": "ipython3",
   "version": "3.10.11"
  },
  "orig_nbformat": 4
 },
 "nbformat": 4,
 "nbformat_minor": 2
}
