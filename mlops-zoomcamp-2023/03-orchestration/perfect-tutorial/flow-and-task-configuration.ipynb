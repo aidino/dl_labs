{
 "cells": [
  {
   "attachments": {},
   "cell_type": "markdown",
   "metadata": {},
   "source": [
    "# Flow and task configuration"
   ]
  },
  {
   "attachments": {},
   "cell_type": "markdown",
   "metadata": {},
   "source": [
    "## Basic configuration"
   ]
  },
  {
   "cell_type": "code",
   "execution_count": 2,
   "metadata": {},
   "outputs": [
    {
     "name": "stderr",
     "output_type": "stream",
     "text": [
      "/home/dino/anaconda3/envs/torch/lib/python3.10/site-packages/prefect/tasks.py:298: UserWarning: A task named 'My Example Task' and defined at '/tmp/ipykernel_20557/41461149.py:3' conflicts with another task. Consider specifying a unique `name` parameter in the task definition:\n",
      "\n",
      " `@task(name='my_unique_name', ...)`\n",
      "  warnings.warn(\n",
      "/home/dino/anaconda3/envs/torch/lib/python3.10/site-packages/prefect/flows.py:243: UserWarning: A flow named 'my-flow' and defined at '/tmp/ipykernel_20557/41461149.py:9' conflicts with another flow. Consider specifying a unique `name` parameter in the flow definition:\n",
      "\n",
      " `@flow(name='my_unique_name', ...)`\n",
      "  warnings.warn(\n"
     ]
    }
   ],
   "source": [
    "from prefect import flow, task\n",
    "\n",
    "@task(name=\"My Example Task\",\n",
    "    description=\"An example task for a tutorial.\")\n",
    "def my_task():\n",
    "    # do some work\n",
    "    print(\"Hello world!\")\n",
    "\n",
    "@flow\n",
    "def my_flow():\n",
    "    my_task()\n",
    "\n"
   ]
  },
  {
   "cell_type": "code",
   "execution_count": 4,
   "metadata": {},
   "outputs": [
    {
     "name": "stderr",
     "output_type": "stream",
     "text": [
      "/home/dino/anaconda3/envs/torch/lib/python3.10/site-packages/prefect/tasks.py:298: UserWarning: A task named 'My Example Task' and defined at '/tmp/ipykernel_20557/889850518.py:3' conflicts with another task. Consider specifying a unique `name` parameter in the task definition:\n",
      "\n",
      " `@task(name='my_unique_name', ...)`\n",
      "  warnings.warn(\n",
      "/home/dino/anaconda3/envs/torch/lib/python3.10/site-packages/prefect/flows.py:243: UserWarning: A flow named 'my-flow' and defined at '/tmp/ipykernel_20557/889850518.py:9' conflicts with another flow. Consider specifying a unique `name` parameter in the flow definition:\n",
      "\n",
      " `@flow(name='my_unique_name', ...)`\n",
      "  warnings.warn(\n"
     ]
    }
   ],
   "source": [
    "from prefect import flow, task\n",
    "\n",
    "@task(name=\"My Example Task\",\n",
    "    description=\"An example task for a tutorial.\",\n",
    "    tags=[\"tutorial\",\"tag-test\"])\n",
    "def my_task():\n",
    "    print(\"Hello world!\")\n",
    "\n",
    "@flow\n",
    "def my_flow():\n",
    "    my_task()\n"
   ]
  },
  {
   "cell_type": "code",
   "execution_count": 5,
   "metadata": {},
   "outputs": [
    {
     "name": "stderr",
     "output_type": "stream",
     "text": [
      "/home/dino/anaconda3/envs/torch/lib/python3.10/site-packages/prefect/flows.py:243: UserWarning: A flow named 'my-flow' and defined at '/tmp/ipykernel_20557/852423324.py:20' conflicts with another flow. Consider specifying a unique `name` parameter in the flow definition:\n",
      "\n",
      " `@flow(name='my_unique_name', ...)`\n",
      "  warnings.warn(\n"
     ]
    }
   ],
   "source": [
    "from prefect import flow\n",
    "from prefect.runtime import flow_run, task_run\n",
    "\n",
    "def generate_task_name():\n",
    "    flow_name = flow_run.flow_name\n",
    "    task_name = task_run.task_name\n",
    "\n",
    "    parameters = task_run.parameters\n",
    "    name = parameters[\"name\"]\n",
    "    limit = parameters[\"limit\"]\n",
    "\n",
    "    return f\"{flow_name}-{task_name}-with-{name}-and-{limit}\"\n",
    "\n",
    "@task(name=\"my-example-task\",\n",
    "      description=\"An example task for a tutorial.\",\n",
    "      task_run_name=generate_task_name)\n",
    "def my_task(name: str, limit: int = 100):\n",
    "    pass\n",
    "\n",
    "@flow\n",
    "def my_flow(name: str):\n",
    "    # creates a run with a name like \"my-flow-my-example-task-with-marvin-and-100\"\n",
    "    my_task(name=\"marvin\")\n"
   ]
  },
  {
   "cell_type": "code",
   "execution_count": 6,
   "metadata": {},
   "outputs": [
    {
     "data": {
      "text/html": [
       "<pre style=\"white-space:pre;overflow-x:auto;line-height:normal;font-family:Menlo,'DejaVu Sans Mono',consolas,'Courier New',monospace\">22:25:36.119 | <span style=\"color: #008080; text-decoration-color: #008080\">INFO</span>    | prefect.engine - Created flow run<span style=\"color: #800080; text-decoration-color: #800080\"> 'gleaming-antelope'</span> for flow<span style=\"color: #800080; text-decoration-color: #800080; font-weight: bold\"> 'My Example Flow'</span>\n",
       "</pre>\n"
      ],
      "text/plain": [
       "22:25:36.119 | \u001b[36mINFO\u001b[0m    | prefect.engine - Created flow run\u001b[35m 'gleaming-antelope'\u001b[0m for flow\u001b[1;35m 'My Example Flow'\u001b[0m\n"
      ]
     },
     "metadata": {},
     "output_type": "display_data"
    },
    {
     "data": {
      "text/html": [
       "<pre style=\"white-space:pre;overflow-x:auto;line-height:normal;font-family:Menlo,'DejaVu Sans Mono',consolas,'Courier New',monospace\">22:25:36.213 | <span style=\"color: #008080; text-decoration-color: #008080\">INFO</span>    | Flow run<span style=\"color: #800080; text-decoration-color: #800080\"> 'gleaming-antelope'</span> - Created task run 'first_task-0' for task 'first_task'\n",
       "</pre>\n"
      ],
      "text/plain": [
       "22:25:36.213 | \u001b[36mINFO\u001b[0m    | Flow run\u001b[35m 'gleaming-antelope'\u001b[0m - Created task run 'first_task-0' for task 'first_task'\n"
      ]
     },
     "metadata": {},
     "output_type": "display_data"
    },
    {
     "data": {
      "text/html": [
       "<pre style=\"white-space:pre;overflow-x:auto;line-height:normal;font-family:Menlo,'DejaVu Sans Mono',consolas,'Courier New',monospace\">22:25:36.214 | <span style=\"color: #008080; text-decoration-color: #008080\">INFO</span>    | Flow run<span style=\"color: #800080; text-decoration-color: #800080\"> 'gleaming-antelope'</span> - Executing 'first_task-0' immediately...\n",
       "</pre>\n"
      ],
      "text/plain": [
       "22:25:36.214 | \u001b[36mINFO\u001b[0m    | Flow run\u001b[35m 'gleaming-antelope'\u001b[0m - Executing 'first_task-0' immediately...\n"
      ]
     },
     "metadata": {},
     "output_type": "display_data"
    },
    {
     "data": {
      "text/html": [
       "<pre style=\"white-space:pre;overflow-x:auto;line-height:normal;font-family:Menlo,'DejaVu Sans Mono',consolas,'Courier New',monospace\">22:25:36.274 | <span style=\"color: #008080; text-decoration-color: #008080\">INFO</span>    | Task run 'first_task-0' - Finished in state <span style=\"color: #008000; text-decoration-color: #008000\">Completed</span>()\n",
       "</pre>\n"
      ],
      "text/plain": [
       "22:25:36.274 | \u001b[36mINFO\u001b[0m    | Task run 'first_task-0' - Finished in state \u001b[32mCompleted\u001b[0m()\n"
      ]
     },
     "metadata": {},
     "output_type": "display_data"
    },
    {
     "data": {
      "text/html": [
       "<pre style=\"white-space:pre;overflow-x:auto;line-height:normal;font-family:Menlo,'DejaVu Sans Mono',consolas,'Courier New',monospace\">22:25:36.290 | <span style=\"color: #008080; text-decoration-color: #008080\">INFO</span>    | Flow run<span style=\"color: #800080; text-decoration-color: #800080\"> 'gleaming-antelope'</span> - Created task run 'second_task-0' for task 'second_task'\n",
       "</pre>\n"
      ],
      "text/plain": [
       "22:25:36.290 | \u001b[36mINFO\u001b[0m    | Flow run\u001b[35m 'gleaming-antelope'\u001b[0m - Created task run 'second_task-0' for task 'second_task'\n"
      ]
     },
     "metadata": {},
     "output_type": "display_data"
    },
    {
     "data": {
      "text/html": [
       "<pre style=\"white-space:pre;overflow-x:auto;line-height:normal;font-family:Menlo,'DejaVu Sans Mono',consolas,'Courier New',monospace\">22:25:36.291 | <span style=\"color: #008080; text-decoration-color: #008080\">INFO</span>    | Flow run<span style=\"color: #800080; text-decoration-color: #800080\"> 'gleaming-antelope'</span> - Executing 'second_task-0' immediately...\n",
       "</pre>\n"
      ],
      "text/plain": [
       "22:25:36.291 | \u001b[36mINFO\u001b[0m    | Flow run\u001b[35m 'gleaming-antelope'\u001b[0m - Executing 'second_task-0' immediately...\n"
      ]
     },
     "metadata": {},
     "output_type": "display_data"
    },
    {
     "data": {
      "text/html": [
       "<pre style=\"white-space:pre;overflow-x:auto;line-height:normal;font-family:Menlo,'DejaVu Sans Mono',consolas,'Courier New',monospace\">22:25:36.343 | <span style=\"color: #008080; text-decoration-color: #008080\">INFO</span>    | Task run 'second_task-0' - Finished in state <span style=\"color: #008000; text-decoration-color: #008000\">Completed</span>()\n",
       "</pre>\n"
      ],
      "text/plain": [
       "22:25:36.343 | \u001b[36mINFO\u001b[0m    | Task run 'second_task-0' - Finished in state \u001b[32mCompleted\u001b[0m()\n"
      ]
     },
     "metadata": {},
     "output_type": "display_data"
    },
    {
     "name": "stdout",
     "output_type": "stream",
     "text": [
      "add: 10, square: 100\n"
     ]
    },
    {
     "data": {
      "text/html": [
       "<pre style=\"white-space:pre;overflow-x:auto;line-height:normal;font-family:Menlo,'DejaVu Sans Mono',consolas,'Courier New',monospace\">22:25:36.364 | <span style=\"color: #008080; text-decoration-color: #008080\">INFO</span>    | Flow run<span style=\"color: #800080; text-decoration-color: #800080\"> 'gleaming-antelope'</span> - Finished in state <span style=\"color: #008000; text-decoration-color: #008000\">Completed</span>('All states completed.')\n",
       "</pre>\n"
      ],
      "text/plain": [
       "22:25:36.364 | \u001b[36mINFO\u001b[0m    | Flow run\u001b[35m 'gleaming-antelope'\u001b[0m - Finished in state \u001b[32mCompleted\u001b[0m('All states completed.')\n"
      ]
     },
     "metadata": {},
     "output_type": "display_data"
    },
    {
     "data": {
      "text/plain": [
       "[Completed(message=None, type=COMPLETED, result=UnpersistedResult(type='unpersisted', artifact_type='result', artifact_description='Unpersisted result of type `int`')),\n",
       " Completed(message=None, type=COMPLETED, result=UnpersistedResult(type='unpersisted', artifact_type='result', artifact_description='Unpersisted result of type `int`'))]"
      ]
     },
     "execution_count": 6,
     "metadata": {},
     "output_type": "execute_result"
    }
   ],
   "source": [
    "from prefect import flow, task\n",
    "from prefect.task_runners import SequentialTaskRunner\n",
    "\n",
    "@task\n",
    "def first_task(num):\n",
    "    return num + num\n",
    "\n",
    "@task\n",
    "def second_task(num):\n",
    "    return num * num\n",
    "\n",
    "@flow(name=\"My Example Flow\",\n",
    "      task_runner=SequentialTaskRunner(),\n",
    ")\n",
    "def my_flow(num):\n",
    "    plusnum = first_task.submit(num)\n",
    "    sqnum = second_task.submit(plusnum)\n",
    "    print(f\"add: {plusnum.result()}, square: {sqnum.result()}\")\n",
    "\n",
    "my_flow(5)\n"
   ]
  },
  {
   "cell_type": "code",
   "execution_count": null,
   "metadata": {},
   "outputs": [],
   "source": []
  }
 ],
 "metadata": {
  "kernelspec": {
   "display_name": "torch",
   "language": "python",
   "name": "python3"
  },
  "language_info": {
   "codemirror_mode": {
    "name": "ipython",
    "version": 3
   },
   "file_extension": ".py",
   "mimetype": "text/x-python",
   "name": "python",
   "nbconvert_exporter": "python",
   "pygments_lexer": "ipython3",
   "version": "3.10.11"
  },
  "orig_nbformat": 4
 },
 "nbformat": 4,
 "nbformat_minor": 2
}
