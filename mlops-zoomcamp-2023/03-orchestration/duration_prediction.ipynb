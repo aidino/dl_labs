{
 "cells": [
  {
   "cell_type": "code",
   "execution_count": 1,
   "metadata": {},
   "outputs": [
    {
     "data": {
      "text/plain": [
       "<Experiment: artifact_location='/media/dino/Workspace/mlworkspace/dl_labs/mlops-zoomcamp-2023/03-orchestration/mlruns/1', creation_time=1684607168704, experiment_id='1', last_update_time=1684607168704, lifecycle_stage='active', name='nyc-taxi-experiment', tags={}>"
      ]
     },
     "execution_count": 1,
     "metadata": {},
     "output_type": "execute_result"
    }
   ],
   "source": [
    "import pandas as pd\n",
    "import pickle\n",
    "import seaborn as sns\n",
    "import matplotlib.pyplot as plt\n",
    "\n",
    "from sklearn.feature_extraction import DictVectorizer\n",
    "from sklearn.linear_model import LinearRegression\n",
    "from sklearn.linear_model import Lasso\n",
    "from sklearn.linear_model import Ridge\n",
    "\n",
    "from sklearn.metrics import mean_squared_error\n",
    "\n",
    "import mlflow\n",
    "\n",
    "\n",
    "mlflow.set_tracking_uri(\"sqlite:///mlflow.db\")\n",
    "mlflow.set_experiment(\"nyc-taxi-experiment\")"
   ]
  },
  {
   "cell_type": "code",
   "execution_count": 2,
   "metadata": {},
   "outputs": [],
   "source": [
    "def read_dataframe(filename):\n",
    "    if filename.endswith('.csv'):\n",
    "        df = pd.read_csv(filename)\n",
    "\n",
    "        df.lpep_dropoff_datetime = pd.to_datetime(df.lpep_dropoff_datetime)\n",
    "        df.lpep_pickup_datetime = pd.to_datetime(df.lpep_pickup_datetime)\n",
    "    elif filename.endswith('.parquet'):\n",
    "        df = pd.read_parquet(filename)\n",
    "\n",
    "    df['duration'] = df.lpep_dropoff_datetime - df.lpep_pickup_datetime\n",
    "    df.duration = df.duration.apply(lambda td: td.total_seconds() / 60)\n",
    "\n",
    "    df = df[(df.duration >= 1) & (df.duration <= 60)]\n",
    "\n",
    "    categorical = ['PULocationID', 'DOLocationID']\n",
    "    df[categorical] = df[categorical].astype(str)\n",
    "    \n",
    "    return df"
   ]
  },
  {
   "cell_type": "code",
   "execution_count": 3,
   "metadata": {},
   "outputs": [],
   "source": [
    "df_train = read_dataframe('../data/green_tripdata_2022-01.parquet')\n",
    "df_val = read_dataframe('../data/green_tripdata_2022-02.parquet')"
   ]
  },
  {
   "cell_type": "code",
   "execution_count": 4,
   "metadata": {},
   "outputs": [
    {
     "data": {
      "text/plain": [
       "(59603, 66097)"
      ]
     },
     "execution_count": 4,
     "metadata": {},
     "output_type": "execute_result"
    }
   ],
   "source": [
    "len(df_train), len(df_val)"
   ]
  },
  {
   "cell_type": "code",
   "execution_count": 5,
   "metadata": {},
   "outputs": [
    {
     "data": {
      "text/plain": [
       "6.901396794757165"
      ]
     },
     "execution_count": 5,
     "metadata": {},
     "output_type": "execute_result"
    }
   ],
   "source": [
    "df_train['PU_DO'] = df_train['PULocationID'] + '_' + df_train['DOLocationID']\n",
    "df_val['PU_DO'] = df_val['PULocationID'] + '_' + df_val['DOLocationID']\n",
    "\n",
    "categorical = ['PU_DO'] #'PULocationID', 'DOLocationID']\n",
    "numerical = ['trip_distance']\n",
    "\n",
    "dv = DictVectorizer()\n",
    "\n",
    "train_dicts = df_train[categorical + numerical].to_dict(orient='records')\n",
    "X_train = dv.fit_transform(train_dicts)\n",
    "\n",
    "val_dicts = df_val[categorical + numerical].to_dict(orient='records')\n",
    "X_val = dv.transform(val_dicts)\n",
    "\n",
    "target = 'duration'\n",
    "y_train = df_train[target].values\n",
    "y_val = df_val[target].values\n",
    "\n",
    "lr = LinearRegression()\n",
    "lr.fit(X_train, y_train)\n",
    "\n",
    "y_pred = lr.predict(X_val)\n",
    "\n",
    "mean_squared_error(y_val, y_pred, squared=False)"
   ]
  },
  {
   "cell_type": "code",
   "execution_count": 6,
   "metadata": {},
   "outputs": [],
   "source": [
    "with open('models/lin_reg.bin', 'wb') as f_out:\n",
    "    pickle.dump((dv, lr), f_out)"
   ]
  },
  {
   "cell_type": "code",
   "execution_count": 7,
   "metadata": {},
   "outputs": [],
   "source": [
    "with mlflow.start_run():\n",
    "\n",
    "    mlflow.set_tag(\"developer\", \"cristian\")\n",
    "\n",
    "    mlflow.log_param(\"train-data-path\", '../data/green_tripdata_2021-01.parquet')\n",
    "    mlflow.log_param(\"valid-data-path\", '../data/green_tripdata_2021-02.parquet')\n",
    "\n",
    "    alpha = 0.1\n",
    "    mlflow.log_param(\"alpha\", alpha)\n",
    "    lr = Lasso(alpha)\n",
    "    lr.fit(X_train, y_train)\n",
    "\n",
    "    y_pred = lr.predict(X_val)\n",
    "    rmse = mean_squared_error(y_val, y_pred, squared=False)\n",
    "    mlflow.log_metric(\"rmse\", rmse)\n",
    "\n",
    "    mlflow.log_artifact(local_path=\"models/lin_reg.bin\", artifact_path=\"models_pickle\")"
   ]
  },
  {
   "cell_type": "code",
   "execution_count": 8,
   "metadata": {},
   "outputs": [],
   "source": [
    "# !pip install xgboost hyperopt"
   ]
  },
  {
   "cell_type": "code",
   "execution_count": 9,
   "metadata": {},
   "outputs": [],
   "source": [
    "import xgboost as xgb\n",
    "from hyperopt import fmin, tpe, hp, STATUS_OK, Trials\n",
    "from hyperopt.pyll import scope"
   ]
  },
  {
   "cell_type": "code",
   "execution_count": 10,
   "metadata": {},
   "outputs": [],
   "source": [
    "train = xgb.DMatrix(X_train, label=y_train)\n",
    "valid = xgb.DMatrix(X_val, label=y_val)"
   ]
  },
  {
   "cell_type": "code",
   "execution_count": 11,
   "metadata": {},
   "outputs": [],
   "source": [
    "def objective(params):\n",
    "    with mlflow.start_run():\n",
    "        mlflow.set_tag(\"model\", \"xgboost\")\n",
    "        mlflow.log_params(params)\n",
    "        booster = xgb.train(\n",
    "            params=params,\n",
    "            dtrain=train,\n",
    "            num_boost_round=200,\n",
    "            evals=[(valid, 'validation')],\n",
    "            early_stopping_rounds=50\n",
    "        )\n",
    "        y_pred = booster.predict(valid)\n",
    "        rmse = mean_squared_error(y_val, y_pred, squared=False)\n",
    "        mlflow.log_metric(\"rmse\", rmse)\n",
    "\n",
    "    return {'loss': rmse, 'status': STATUS_OK}"
   ]
  },
  {
   "cell_type": "code",
   "execution_count": 12,
   "metadata": {},
   "outputs": [],
   "source": [
    "search_space = {\n",
    "    'max_depth': scope.int(hp.quniform('max_depth', 4, 100, 1)),\n",
    "    'learning_rate': hp.loguniform('learning_rate', -3, 0),\n",
    "    'reg_alpha': hp.loguniform('reg_alpha', -5, -1),\n",
    "    'reg_lambda': hp.loguniform('reg_lambda', -6, -1),\n",
    "    'min_child_weight': hp.loguniform('min_child_weight', -1, 3),\n",
    "    'objective': 'reg:linear',\n",
    "    'seed': 42\n",
    "}\n",
    "\n",
    "# best_result = fmin(\n",
    "#     fn=objective,\n",
    "#     space=search_space,\n",
    "#     algo=tpe.suggest,\n",
    "#     max_evals=50,\n",
    "#     trials=Trials()\n",
    "# )"
   ]
  },
  {
   "cell_type": "code",
   "execution_count": 13,
   "metadata": {},
   "outputs": [
    {
     "name": "stdout",
     "output_type": "stream",
     "text": [
      "[08:07:04] WARNING: /Users/runner/work/xgboost/xgboost/python-package/build/temp.macosx-10.9-x86_64-cpython-38/xgboost/src/objective/regression_obj.cu:213: reg:linear is now deprecated in favor of reg:squarederror.\n",
      "[0]\tvalidation-rmse:19.48425\n",
      "[1]\tvalidation-rmse:17.95635\n",
      "[2]\tvalidation-rmse:16.59103\n",
      "[3]\tvalidation-rmse:15.37412\n",
      "[4]\tvalidation-rmse:14.29029\n",
      "[5]\tvalidation-rmse:13.32807\n",
      "[6]\tvalidation-rmse:12.47571\n",
      "[7]\tvalidation-rmse:11.72138\n",
      "[8]\tvalidation-rmse:11.05825\n",
      "[9]\tvalidation-rmse:10.47535\n",
      "[10]\tvalidation-rmse:9.96449\n",
      "[11]\tvalidation-rmse:9.51756\n",
      "[12]\tvalidation-rmse:9.12641\n",
      "[13]\tvalidation-rmse:8.78569\n",
      "[14]\tvalidation-rmse:8.49089\n",
      "[15]\tvalidation-rmse:8.23445\n",
      "[16]\tvalidation-rmse:8.01207\n",
      "[17]\tvalidation-rmse:7.81886\n",
      "[18]\tvalidation-rmse:7.65169\n",
      "[19]\tvalidation-rmse:7.50672\n",
      "[20]\tvalidation-rmse:7.38153\n",
      "[21]\tvalidation-rmse:7.27299\n",
      "[22]\tvalidation-rmse:7.17863\n",
      "[23]\tvalidation-rmse:7.09718\n",
      "[24]\tvalidation-rmse:7.02603\n",
      "[25]\tvalidation-rmse:6.96344\n",
      "[26]\tvalidation-rmse:6.90935\n",
      "[27]\tvalidation-rmse:6.86285\n",
      "[28]\tvalidation-rmse:6.82157\n",
      "[29]\tvalidation-rmse:6.78486\n",
      "[30]\tvalidation-rmse:6.75283\n",
      "[31]\tvalidation-rmse:6.72433\n",
      "[32]\tvalidation-rmse:6.69838\n",
      "[33]\tvalidation-rmse:6.67599\n",
      "[34]\tvalidation-rmse:6.65632\n",
      "[35]\tvalidation-rmse:6.63968\n",
      "[36]\tvalidation-rmse:6.62456\n",
      "[37]\tvalidation-rmse:6.61030\n",
      "[38]\tvalidation-rmse:6.59833\n",
      "[39]\tvalidation-rmse:6.58671\n",
      "[40]\tvalidation-rmse:6.57678\n",
      "[41]\tvalidation-rmse:6.56792\n",
      "[42]\tvalidation-rmse:6.56024\n",
      "[43]\tvalidation-rmse:6.55307\n",
      "[44]\tvalidation-rmse:6.54644\n",
      "[45]\tvalidation-rmse:6.54087\n",
      "[46]\tvalidation-rmse:6.53587\n",
      "[47]\tvalidation-rmse:6.53128\n",
      "[48]\tvalidation-rmse:6.52719\n",
      "[49]\tvalidation-rmse:6.52427\n",
      "[50]\tvalidation-rmse:6.52098\n",
      "[51]\tvalidation-rmse:6.51875\n",
      "[52]\tvalidation-rmse:6.51547\n",
      "[53]\tvalidation-rmse:6.51333\n",
      "[54]\tvalidation-rmse:6.51034\n",
      "[55]\tvalidation-rmse:6.50826\n",
      "[56]\tvalidation-rmse:6.50668\n",
      "[57]\tvalidation-rmse:6.50477\n",
      "[58]\tvalidation-rmse:6.50288\n",
      "[59]\tvalidation-rmse:6.50114\n",
      "[60]\tvalidation-rmse:6.49931\n",
      "[61]\tvalidation-rmse:6.49758\n",
      "[62]\tvalidation-rmse:6.49577\n",
      "[63]\tvalidation-rmse:6.49364\n",
      "[64]\tvalidation-rmse:6.49179\n",
      "[65]\tvalidation-rmse:6.49031\n",
      "[66]\tvalidation-rmse:6.48955\n",
      "[67]\tvalidation-rmse:6.48814\n",
      "[68]\tvalidation-rmse:6.48684\n",
      "[69]\tvalidation-rmse:6.48526\n",
      "[70]\tvalidation-rmse:6.48384\n",
      "[71]\tvalidation-rmse:6.48249\n",
      "[72]\tvalidation-rmse:6.48180\n",
      "[73]\tvalidation-rmse:6.48127\n",
      "[74]\tvalidation-rmse:6.48053\n",
      "[75]\tvalidation-rmse:6.47965\n",
      "[76]\tvalidation-rmse:6.47878\n",
      "[77]\tvalidation-rmse:6.47808\n",
      "[78]\tvalidation-rmse:6.47695\n",
      "[79]\tvalidation-rmse:6.47605\n",
      "[80]\tvalidation-rmse:6.47528\n",
      "[81]\tvalidation-rmse:6.47416\n",
      "[82]\tvalidation-rmse:6.47331\n",
      "[83]\tvalidation-rmse:6.47237\n",
      "[84]\tvalidation-rmse:6.47146\n",
      "[85]\tvalidation-rmse:6.47022\n",
      "[86]\tvalidation-rmse:6.46934\n",
      "[87]\tvalidation-rmse:6.46830\n",
      "[88]\tvalidation-rmse:6.46799\n",
      "[89]\tvalidation-rmse:6.46740\n",
      "[90]\tvalidation-rmse:6.46645\n",
      "[91]\tvalidation-rmse:6.46556\n",
      "[92]\tvalidation-rmse:6.46451\n",
      "[93]\tvalidation-rmse:6.46355\n",
      "[94]\tvalidation-rmse:6.46222\n",
      "[95]\tvalidation-rmse:6.46134\n",
      "[96]\tvalidation-rmse:6.46099\n",
      "[97]\tvalidation-rmse:6.46062\n",
      "[98]\tvalidation-rmse:6.46009\n",
      "[99]\tvalidation-rmse:6.45985\n",
      "[100]\tvalidation-rmse:6.45925\n",
      "[101]\tvalidation-rmse:6.45879\n",
      "[102]\tvalidation-rmse:6.45800\n",
      "[103]\tvalidation-rmse:6.45743\n",
      "[104]\tvalidation-rmse:6.45704\n",
      "[105]\tvalidation-rmse:6.45635\n",
      "[106]\tvalidation-rmse:6.45573\n",
      "[107]\tvalidation-rmse:6.45514\n",
      "[108]\tvalidation-rmse:6.45445\n",
      "[109]\tvalidation-rmse:6.45347\n",
      "[110]\tvalidation-rmse:6.45290\n",
      "[111]\tvalidation-rmse:6.45212\n",
      "[112]\tvalidation-rmse:6.45163\n",
      "[113]\tvalidation-rmse:6.45093\n",
      "[114]\tvalidation-rmse:6.45017\n",
      "[115]\tvalidation-rmse:6.44938\n",
      "[116]\tvalidation-rmse:6.44860\n",
      "[117]\tvalidation-rmse:6.44821\n",
      "[118]\tvalidation-rmse:6.44777\n",
      "[119]\tvalidation-rmse:6.44728\n",
      "[120]\tvalidation-rmse:6.44657\n",
      "[121]\tvalidation-rmse:6.44601\n",
      "[122]\tvalidation-rmse:6.44529\n",
      "[123]\tvalidation-rmse:6.44467\n",
      "[124]\tvalidation-rmse:6.44404\n",
      "[125]\tvalidation-rmse:6.44343\n",
      "[126]\tvalidation-rmse:6.44295\n",
      "[127]\tvalidation-rmse:6.44240\n",
      "[128]\tvalidation-rmse:6.44131\n",
      "[129]\tvalidation-rmse:6.44066\n",
      "[130]\tvalidation-rmse:6.44046\n",
      "[131]\tvalidation-rmse:6.44021\n",
      "[132]\tvalidation-rmse:6.43979\n",
      "[133]\tvalidation-rmse:6.43959\n",
      "[134]\tvalidation-rmse:6.43907\n",
      "[135]\tvalidation-rmse:6.43873\n",
      "[136]\tvalidation-rmse:6.43819\n",
      "[137]\tvalidation-rmse:6.43754\n",
      "[138]\tvalidation-rmse:6.43688\n",
      "[139]\tvalidation-rmse:6.43666\n",
      "[140]\tvalidation-rmse:6.43625\n",
      "[141]\tvalidation-rmse:6.43587\n",
      "[142]\tvalidation-rmse:6.43529\n",
      "[143]\tvalidation-rmse:6.43475\n",
      "[144]\tvalidation-rmse:6.43418\n",
      "[145]\tvalidation-rmse:6.43377\n",
      "[146]\tvalidation-rmse:6.43293\n",
      "[147]\tvalidation-rmse:6.43239\n",
      "[148]\tvalidation-rmse:6.43176\n",
      "[149]\tvalidation-rmse:6.43148\n",
      "[150]\tvalidation-rmse:6.43092\n",
      "[151]\tvalidation-rmse:6.43041\n",
      "[152]\tvalidation-rmse:6.42996\n",
      "[153]\tvalidation-rmse:6.42932\n",
      "[154]\tvalidation-rmse:6.42880\n",
      "[155]\tvalidation-rmse:6.42823\n",
      "[156]\tvalidation-rmse:6.42773\n",
      "[157]\tvalidation-rmse:6.42761\n",
      "[158]\tvalidation-rmse:6.42725\n",
      "[159]\tvalidation-rmse:6.42669\n",
      "[160]\tvalidation-rmse:6.42627\n",
      "[161]\tvalidation-rmse:6.42591\n",
      "[162]\tvalidation-rmse:6.42540\n",
      "[163]\tvalidation-rmse:6.42489\n",
      "[164]\tvalidation-rmse:6.42425\n",
      "[165]\tvalidation-rmse:6.42393\n",
      "[166]\tvalidation-rmse:6.42328\n",
      "[167]\tvalidation-rmse:6.42269\n",
      "[168]\tvalidation-rmse:6.42239\n",
      "[169]\tvalidation-rmse:6.42194\n",
      "[170]\tvalidation-rmse:6.42133\n",
      "[171]\tvalidation-rmse:6.42085\n",
      "[172]\tvalidation-rmse:6.42040\n",
      "[173]\tvalidation-rmse:6.42020\n",
      "[174]\tvalidation-rmse:6.42002\n",
      "[175]\tvalidation-rmse:6.41973\n",
      "[176]\tvalidation-rmse:6.41935\n",
      "[177]\tvalidation-rmse:6.41909\n",
      "[178]\tvalidation-rmse:6.41862\n",
      "[179]\tvalidation-rmse:6.41843\n",
      "[180]\tvalidation-rmse:6.41814\n",
      "[181]\tvalidation-rmse:6.41735\n",
      "[182]\tvalidation-rmse:6.41708\n",
      "[183]\tvalidation-rmse:6.41635\n",
      "[184]\tvalidation-rmse:6.41627\n",
      "[185]\tvalidation-rmse:6.41602\n",
      "[186]\tvalidation-rmse:6.41555\n",
      "[187]\tvalidation-rmse:6.41550\n",
      "[188]\tvalidation-rmse:6.41493\n",
      "[189]\tvalidation-rmse:6.41447\n",
      "[190]\tvalidation-rmse:6.41404\n",
      "[191]\tvalidation-rmse:6.41373\n",
      "[192]\tvalidation-rmse:6.41320\n",
      "[193]\tvalidation-rmse:6.41298\n",
      "[194]\tvalidation-rmse:6.41244\n",
      "[195]\tvalidation-rmse:6.41195\n",
      "[196]\tvalidation-rmse:6.41166\n",
      "[197]\tvalidation-rmse:6.41113\n",
      "[198]\tvalidation-rmse:6.41093\n",
      "[199]\tvalidation-rmse:6.41061\n"
     ]
    },
    {
     "name": "stderr",
     "output_type": "stream",
     "text": [
      "/Users/ngothai/opt/anaconda3/envs/torch113/lib/python3.9/site-packages/_distutils_hack/__init__.py:33: UserWarning: Setuptools is replacing distutils.\n",
      "  warnings.warn(\"Setuptools is replacing distutils.\")\n"
     ]
    }
   ],
   "source": [
    "mlflow.xgboost.autolog(disable=True)\n",
    "with mlflow.start_run():\n",
    "    \n",
    "    train = xgb.DMatrix(X_train, label=y_train)\n",
    "    valid = xgb.DMatrix(X_val, label=y_val)\n",
    "\n",
    "    best_params = {\n",
    "        'learning_rate': 0.09585355369315604,\n",
    "        'max_depth': 30,\n",
    "        'min_child_weight': 1.060597050922164,\n",
    "        'objective': 'reg:linear',\n",
    "        'reg_alpha': 0.018060244040060163,\n",
    "        'reg_lambda': 0.011658731377413597,\n",
    "        'seed': 42\n",
    "    }\n",
    "\n",
    "    mlflow.log_params(best_params)\n",
    "\n",
    "    booster = xgb.train(\n",
    "        params=best_params,\n",
    "        dtrain=train,\n",
    "        num_boost_round=200,\n",
    "        evals=[(valid, 'validation')],\n",
    "        early_stopping_rounds=50\n",
    "    )\n",
    "\n",
    "    y_pred = booster.predict(valid)\n",
    "    rmse = mean_squared_error(y_val, y_pred, squared=False)\n",
    "    mlflow.log_metric(\"rmse\", rmse)\n",
    "\n",
    "    with open(\"models/preprocessor.b\", \"wb\") as f_out:\n",
    "        pickle.dump(dv, f_out)\n",
    "    mlflow.log_artifact(\"models/preprocessor.b\", artifact_path=\"preprocessor\")\n",
    "\n",
    "    mlflow.xgboost.log_model(booster, artifact_path=\"models_mlflow\")"
   ]
  },
  {
   "cell_type": "code",
   "execution_count": 14,
   "metadata": {},
   "outputs": [
    {
     "name": "stdout",
     "output_type": "stream",
     "text": [
      "[08:07:27] WARNING: /Users/runner/work/xgboost/xgboost/python-package/build/temp.macosx-10.9-x86_64-cpython-38/xgboost/src/objective/regression_obj.cu:213: reg:linear is now deprecated in favor of reg:squarederror.\n"
     ]
    }
   ],
   "source": [
    "logged_model = 'runs:/211df3da7cfe4ecfac91078541e58b77/models_mlflow'\n",
    "\n",
    "# Load model as a PyFuncModel.\n",
    "loaded_model = mlflow.pyfunc.load_model(logged_model)\n"
   ]
  },
  {
   "cell_type": "code",
   "execution_count": 15,
   "metadata": {},
   "outputs": [
    {
     "data": {
      "text/plain": [
       "mlflow.pyfunc.loaded_model:\n",
       "  artifact_path: models_mlflow\n",
       "  flavor: mlflow.xgboost\n",
       "  run_id: 211df3da7cfe4ecfac91078541e58b77"
      ]
     },
     "execution_count": 15,
     "metadata": {},
     "output_type": "execute_result"
    }
   ],
   "source": [
    "loaded_model"
   ]
  },
  {
   "cell_type": "code",
   "execution_count": 16,
   "metadata": {},
   "outputs": [
    {
     "name": "stdout",
     "output_type": "stream",
     "text": [
      "[08:07:27] WARNING: /Users/runner/work/xgboost/xgboost/python-package/build/temp.macosx-10.9-x86_64-cpython-38/xgboost/src/objective/regression_obj.cu:213: reg:linear is now deprecated in favor of reg:squarederror.\n"
     ]
    }
   ],
   "source": [
    "xgboost_model = mlflow.xgboost.load_model(logged_model)"
   ]
  },
  {
   "cell_type": "code",
   "execution_count": 17,
   "metadata": {},
   "outputs": [
    {
     "data": {
      "text/plain": [
       "array([14.954351,  7.142652, 14.259109, 24.31261 ,  9.302941, 17.112087,\n",
       "       11.339904,  8.502365,  8.948904, 20.343412], dtype=float32)"
      ]
     },
     "execution_count": 17,
     "metadata": {},
     "output_type": "execute_result"
    }
   ],
   "source": [
    "y_pred = xgboost_model.predict(valid)\n",
    "y_pred[:10]"
   ]
  },
  {
   "cell_type": "code",
   "execution_count": null,
   "metadata": {},
   "outputs": [],
   "source": []
  }
 ],
 "metadata": {
  "kernelspec": {
   "display_name": "torch113",
   "language": "python",
   "name": "python3"
  },
  "language_info": {
   "codemirror_mode": {
    "name": "ipython",
    "version": 3
   },
   "file_extension": ".py",
   "mimetype": "text/x-python",
   "name": "python",
   "nbconvert_exporter": "python",
   "pygments_lexer": "ipython3",
   "version": "3.10.11"
  },
  "orig_nbformat": 4
 },
 "nbformat": 4,
 "nbformat_minor": 2
}
