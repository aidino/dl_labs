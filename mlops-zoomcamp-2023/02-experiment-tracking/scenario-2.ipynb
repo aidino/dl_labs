{
 "cells": [
  {
   "attachments": {},
   "cell_type": "markdown",
   "metadata": {},
   "source": [
    "## Scenario 2: A cross-functional team with one data scientist working on an ML model\n",
    "\n",
    "\n",
    "MLflow setup:\n",
    "- tracking server: yes, local server\n",
    "- backend store: sqlite database\n",
    "- artifacts store: local filesystem\n",
    "\n",
    "The experiments can be explored locally by accessing the local tracking server.\n",
    "\n",
    "To run this example you need to launch the mlflow server locally by running the following command in your terminal:\n",
    "\n",
    "`mlflow server --backend-store-uri sqlite:///backend.db`"
   ]
  },
  {
   "cell_type": "code",
   "execution_count": 1,
   "metadata": {},
   "outputs": [],
   "source": [
    "import mlflow\n",
    "\n",
    "\n",
    "mlflow.set_tracking_uri(\"http://127.0.0.1:5000\")"
   ]
  },
  {
   "cell_type": "code",
   "execution_count": 2,
   "metadata": {},
   "outputs": [
    {
     "name": "stdout",
     "output_type": "stream",
     "text": [
      "tracking URI: 'http://127.0.0.1:5000'\n"
     ]
    }
   ],
   "source": [
    "print(f\"tracking URI: '{mlflow.get_tracking_uri()}'\")"
   ]
  },
  {
   "cell_type": "code",
   "execution_count": 4,
   "metadata": {},
   "outputs": [
    {
     "data": {
      "text/plain": [
       "[<Experiment: artifact_location='/Volumes/Data/projects/dl_labs/mlops-zoomcamp-2023/02-experiment-tracking/mlruns/3', creation_time=1684462448847, experiment_id='3', last_update_time=1684462448847, lifecycle_stage='active', name='my-experiment-1', tags={}>,\n",
       " <Experiment: artifact_location='/Volumes/Data/projects/dl_labs/mlops-zoomcamp-2023/02-experiment-tracking/mlruns/2', creation_time=1684461098040, experiment_id='2', last_update_time=1684461098040, lifecycle_stage='active', name='my-cool-experiment', tags={}>,\n",
       " <Experiment: artifact_location='/Volumes/Data/projects/dl_labs/mlops-zoomcamp-2023/02-experiment-tracking/mlruns/1', creation_time=1684397621355, experiment_id='1', last_update_time=1684397621355, lifecycle_stage='active', name='nyc-taxi-experiment', tags={}>,\n",
       " <Experiment: artifact_location='/Volumes/Data/projects/dl_labs/mlops-zoomcamp-2023/02-experiment-tracking/mlruns/0', creation_time=1684397621348, experiment_id='0', last_update_time=1684397621348, lifecycle_stage='active', name='Default', tags={}>]"
      ]
     },
     "execution_count": 4,
     "metadata": {},
     "output_type": "execute_result"
    }
   ],
   "source": [
    "mlflow.search_experiments()"
   ]
  },
  {
   "cell_type": "code",
   "execution_count": 5,
   "metadata": {},
   "outputs": [
    {
     "name": "stdout",
     "output_type": "stream",
     "text": [
      "default artifacts URI: '/Volumes/Data/projects/dl_labs/mlops-zoomcamp-2023/02-experiment-tracking/mlruns/3/50ac983672804fe2abdd01c9dcb4eaf2/artifacts'\n"
     ]
    },
    {
     "name": "stderr",
     "output_type": "stream",
     "text": [
      "/Users/ngothai/opt/anaconda3/envs/torch113/lib/python3.9/site-packages/_distutils_hack/__init__.py:33: UserWarning: Setuptools is replacing distutils.\n",
      "  warnings.warn(\"Setuptools is replacing distutils.\")\n"
     ]
    }
   ],
   "source": [
    "from sklearn.linear_model import LogisticRegression\n",
    "from sklearn.datasets import load_iris\n",
    "from sklearn.metrics import accuracy_score\n",
    "\n",
    "mlflow.set_experiment(\"my-experiment-1\")\n",
    "\n",
    "with mlflow.start_run():\n",
    "\n",
    "    X, y = load_iris(return_X_y=True)\n",
    "\n",
    "    params = {\"C\": 0.1, \"random_state\": 42}\n",
    "    mlflow.log_params(params)\n",
    "\n",
    "    lr = LogisticRegression(**params).fit(X, y)\n",
    "    y_pred = lr.predict(X)\n",
    "    mlflow.log_metric(\"accuracy\", accuracy_score(y, y_pred))\n",
    "\n",
    "    mlflow.sklearn.log_model(lr, artifact_path=\"models\")\n",
    "    print(f\"default artifacts URI: '{mlflow.get_artifact_uri()}'\")"
   ]
  },
  {
   "cell_type": "code",
   "execution_count": 6,
   "metadata": {},
   "outputs": [
    {
     "data": {
      "text/plain": [
       "[<Experiment: artifact_location='/Volumes/Data/projects/dl_labs/mlops-zoomcamp-2023/02-experiment-tracking/mlruns/3', creation_time=1684462448847, experiment_id='3', last_update_time=1684462448847, lifecycle_stage='active', name='my-experiment-1', tags={}>,\n",
       " <Experiment: artifact_location='/Volumes/Data/projects/dl_labs/mlops-zoomcamp-2023/02-experiment-tracking/mlruns/2', creation_time=1684461098040, experiment_id='2', last_update_time=1684461098040, lifecycle_stage='active', name='my-cool-experiment', tags={}>,\n",
       " <Experiment: artifact_location='/Volumes/Data/projects/dl_labs/mlops-zoomcamp-2023/02-experiment-tracking/mlruns/1', creation_time=1684397621355, experiment_id='1', last_update_time=1684397621355, lifecycle_stage='active', name='nyc-taxi-experiment', tags={}>,\n",
       " <Experiment: artifact_location='/Volumes/Data/projects/dl_labs/mlops-zoomcamp-2023/02-experiment-tracking/mlruns/0', creation_time=1684397621348, experiment_id='0', last_update_time=1684397621348, lifecycle_stage='active', name='Default', tags={}>]"
      ]
     },
     "execution_count": 6,
     "metadata": {},
     "output_type": "execute_result"
    }
   ],
   "source": [
    "mlflow.search_experiments()"
   ]
  },
  {
   "attachments": {},
   "cell_type": "markdown",
   "metadata": {},
   "source": [
    "### Interacting with the model registry"
   ]
  },
  {
   "cell_type": "code",
   "execution_count": 7,
   "metadata": {},
   "outputs": [],
   "source": [
    "from mlflow.tracking import MlflowClient\n",
    "client = MlflowClient(\"http://127.0.0.1:5000\")"
   ]
  },
  {
   "cell_type": "code",
   "execution_count": 8,
   "metadata": {},
   "outputs": [
    {
     "data": {
      "text/plain": [
       "[<RegisteredModel: aliases={}, creation_timestamp=1684461216527, description='', last_updated_timestamp=1684461329377, latest_versions=[<ModelVersion: aliases=[], creation_timestamp=1684461216545, current_stage='Staging', description='The model version 1 was transitioned to Staging on 2023-05-19', last_updated_timestamp=1684461339146, name='nyc-taxi-regressor', run_id='7003591f6f724baca4a1822b80bb0825', run_link='', source='/Volumes/Data/projects/dl_labs/mlops-zoomcamp-2023/02-experiment-tracking/mlruns/1/7003591f6f724baca4a1822b80bb0825/artifacts/model', status='READY', status_message='', tags={}, user_id='', version='1'>], name='nyc-taxi-regressor', tags={}>,\n",
       " <RegisteredModel: aliases={}, creation_timestamp=1684459763889, description='', last_updated_timestamp=1684460073753, latest_versions=[<ModelVersion: aliases=[], creation_timestamp=1684459763920, current_stage='Staging', description='', last_updated_timestamp=1684460073753, name='nyc-taxi-xgboost', run_id='7003591f6f724baca4a1822b80bb0825', run_link='', source='/Volumes/Data/projects/dl_labs/mlops-zoomcamp-2023/02-experiment-tracking/mlruns/1/7003591f6f724baca4a1822b80bb0825/artifacts/models_mlflow', status='READY', status_message='', tags={}, user_id='', version='1'>,\n",
       "  <ModelVersion: aliases=[], creation_timestamp=1684459838355, current_stage='Archived', description='', last_updated_timestamp=1684460073753, name='nyc-taxi-xgboost', run_id='211df3da7cfe4ecfac91078541e58b77', run_link='', source='/Volumes/Data/projects/dl_labs/mlops-zoomcamp-2023/02-experiment-tracking/mlruns/1/211df3da7cfe4ecfac91078541e58b77/artifacts/models_mlflow', status='READY', status_message='', tags={}, user_id='', version='2'>], name='nyc-taxi-xgboost', tags={}>]"
      ]
     },
     "execution_count": 8,
     "metadata": {},
     "output_type": "execute_result"
    }
   ],
   "source": [
    "client.search_registered_models()"
   ]
  },
  {
   "cell_type": "code",
   "execution_count": 9,
   "metadata": {},
   "outputs": [
    {
     "ename": "AttributeError",
     "evalue": "'MlflowClient' object has no attribute 'list_run_infos'",
     "output_type": "error",
     "traceback": [
      "\u001b[0;31m---------------------------------------------------------------------------\u001b[0m",
      "\u001b[0;31mAttributeError\u001b[0m                            Traceback (most recent call last)",
      "Cell \u001b[0;32mIn[9], line 1\u001b[0m\n\u001b[0;32m----> 1\u001b[0m run_id \u001b[39m=\u001b[39m client\u001b[39m.\u001b[39;49mlist_run_infos(experiment_id\u001b[39m=\u001b[39m\u001b[39m'\u001b[39m\u001b[39m3\u001b[39m\u001b[39m'\u001b[39m)[\u001b[39m0\u001b[39m]\u001b[39m.\u001b[39mrun_id\n\u001b[1;32m      2\u001b[0m mlflow\u001b[39m.\u001b[39mregister_model(\n\u001b[1;32m      3\u001b[0m     model_uri\u001b[39m=\u001b[39m\u001b[39mf\u001b[39m\u001b[39m\"\u001b[39m\u001b[39mruns:/\u001b[39m\u001b[39m{\u001b[39;00mrun_id\u001b[39m}\u001b[39;00m\u001b[39m/models\u001b[39m\u001b[39m\"\u001b[39m,\n\u001b[1;32m      4\u001b[0m     name\u001b[39m=\u001b[39m\u001b[39m'\u001b[39m\u001b[39miris-classifier\u001b[39m\u001b[39m'\u001b[39m\n\u001b[1;32m      5\u001b[0m )\n",
      "\u001b[0;31mAttributeError\u001b[0m: 'MlflowClient' object has no attribute 'list_run_infos'"
     ]
    }
   ],
   "source": [
    "run_id = client.list_run_infos(experiment_id='3')[0].run_id\n",
    "mlflow.register_model(\n",
    "    model_uri=f\"runs:/{run_id}/models\",\n",
    "    name='iris-classifier'\n",
    ")"
   ]
  },
  {
   "cell_type": "code",
   "execution_count": 10,
   "metadata": {},
   "outputs": [],
   "source": [
    "isris_run = client.search_runs(experiment_ids='3')"
   ]
  },
  {
   "cell_type": "code",
   "execution_count": 11,
   "metadata": {},
   "outputs": [
    {
     "data": {
      "text/plain": [
       "[<Run: data=<RunData: metrics={'accuracy': 0.96}, params={'C': '0.1', 'random_state': '42'}, tags={'mlflow.log-model.history': '[{\"run_id\": \"50ac983672804fe2abdd01c9dcb4eaf2\", '\n",
       "                              '\"artifact_path\": \"models\", \"utc_time_created\": '\n",
       "                              '\"2023-05-19 02:21:08.533054\", \"flavors\": '\n",
       "                              '{\"python_function\": {\"model_path\": \"model.pkl\", '\n",
       "                              '\"predict_fn\": \"predict\", \"loader_module\": '\n",
       "                              '\"mlflow.sklearn\", \"python_version\": \"3.9.16\", '\n",
       "                              '\"env\": {\"conda\": \"conda.yaml\", \"virtualenv\": '\n",
       "                              '\"python_env.yaml\"}}, \"sklearn\": '\n",
       "                              '{\"pickled_model\": \"model.pkl\", '\n",
       "                              '\"sklearn_version\": \"1.1.3\", '\n",
       "                              '\"serialization_format\": \"cloudpickle\", \"code\": '\n",
       "                              'null}}, \"model_uuid\": '\n",
       "                              '\"ecce317f3859473aabfe11bd99b977e1\", '\n",
       "                              '\"mlflow_version\": \"2.3.0\"}]',\n",
       "  'mlflow.runName': 'silent-roo-485',\n",
       "  'mlflow.source.name': '/Users/ngothai/opt/anaconda3/envs/torch113/lib/python3.9/site-packages/ipykernel_launcher.py',\n",
       "  'mlflow.source.type': 'LOCAL',\n",
       "  'mlflow.user': 'ngothai'}>, info=<RunInfo: artifact_uri='/Volumes/Data/projects/dl_labs/mlops-zoomcamp-2023/02-experiment-tracking/mlruns/3/50ac983672804fe2abdd01c9dcb4eaf2/artifacts', end_time=1684462871402, experiment_id='3', lifecycle_stage='active', run_id='50ac983672804fe2abdd01c9dcb4eaf2', run_name='silent-roo-485', run_uuid='50ac983672804fe2abdd01c9dcb4eaf2', start_time=1684462866323, status='FINISHED', user_id='ngothai'>>,\n",
       " <Run: data=<RunData: metrics={'accuracy': 0.96}, params={'C': '0.1', 'random_state': '42'}, tags={'mlflow.log-model.history': '[{\"run_id\": \"641fc06a4eff4a62873bc82a89001c00\", '\n",
       "                              '\"artifact_path\": \"models\", \"utc_time_created\": '\n",
       "                              '\"2023-05-19 02:14:08.912475\", \"flavors\": '\n",
       "                              '{\"python_function\": {\"model_path\": \"model.pkl\", '\n",
       "                              '\"predict_fn\": \"predict\", \"loader_module\": '\n",
       "                              '\"mlflow.sklearn\", \"python_version\": \"3.9.16\", '\n",
       "                              '\"env\": {\"conda\": \"conda.yaml\", \"virtualenv\": '\n",
       "                              '\"python_env.yaml\"}}, \"sklearn\": '\n",
       "                              '{\"pickled_model\": \"model.pkl\", '\n",
       "                              '\"sklearn_version\": \"1.1.3\", '\n",
       "                              '\"serialization_format\": \"cloudpickle\", \"code\": '\n",
       "                              'null}}, \"model_uuid\": '\n",
       "                              '\"6a1e0e0c52c64a2eb53f344a4c8a7a3f\", '\n",
       "                              '\"mlflow_version\": \"2.3.0\"}]',\n",
       "  'mlflow.runName': 'rebellious-sloth-720',\n",
       "  'mlflow.source.name': '/Users/ngothai/opt/anaconda3/envs/torch113/lib/python3.9/site-packages/ipykernel_launcher.py',\n",
       "  'mlflow.source.type': 'LOCAL',\n",
       "  'mlflow.user': 'ngothai'}>, info=<RunInfo: artifact_uri='/Volumes/Data/projects/dl_labs/mlops-zoomcamp-2023/02-experiment-tracking/mlruns/3/641fc06a4eff4a62873bc82a89001c00/artifacts', end_time=1684462450995, experiment_id='3', lifecycle_stage='active', run_id='641fc06a4eff4a62873bc82a89001c00', run_name='rebellious-sloth-720', run_uuid='641fc06a4eff4a62873bc82a89001c00', start_time=1684462448862, status='FINISHED', user_id='ngothai'>>]"
      ]
     },
     "execution_count": 11,
     "metadata": {},
     "output_type": "execute_result"
    }
   ],
   "source": [
    "isris_run"
   ]
  },
  {
   "cell_type": "code",
   "execution_count": 12,
   "metadata": {},
   "outputs": [
    {
     "data": {
      "text/plain": [
       "2"
      ]
     },
     "execution_count": 12,
     "metadata": {},
     "output_type": "execute_result"
    }
   ],
   "source": [
    "len(isris_run)"
   ]
  },
  {
   "cell_type": "code",
   "execution_count": 13,
   "metadata": {},
   "outputs": [
    {
     "data": {
      "text/plain": [
       "'50ac983672804fe2abdd01c9dcb4eaf2'"
      ]
     },
     "execution_count": 13,
     "metadata": {},
     "output_type": "execute_result"
    }
   ],
   "source": [
    "run_id = isris_run[0].info.run_id\n",
    "run_id"
   ]
  },
  {
   "cell_type": "code",
   "execution_count": 14,
   "metadata": {},
   "outputs": [
    {
     "name": "stderr",
     "output_type": "stream",
     "text": [
      "Successfully registered model 'iris-classifier'.\n",
      "2023/05/19 09:24:15 INFO mlflow.tracking._model_registry.client: Waiting up to 300 seconds for model version to finish creation. Model name: iris-classifier, version 1\n",
      "Created version '1' of model 'iris-classifier'.\n"
     ]
    },
    {
     "data": {
      "text/plain": [
       "<ModelVersion: aliases=[], creation_timestamp=1684463055526, current_stage='None', description='', last_updated_timestamp=1684463055526, name='iris-classifier', run_id='50ac983672804fe2abdd01c9dcb4eaf2', run_link='', source='/Volumes/Data/projects/dl_labs/mlops-zoomcamp-2023/02-experiment-tracking/mlruns/3/50ac983672804fe2abdd01c9dcb4eaf2/artifacts/models', status='READY', status_message='', tags={}, user_id='', version='1'>"
      ]
     },
     "execution_count": 14,
     "metadata": {},
     "output_type": "execute_result"
    }
   ],
   "source": [
    "mlflow.register_model(\n",
    "    model_uri=f\"runs:/{run_id}/models\",\n",
    "    name='iris-classifier'\n",
    ")"
   ]
  },
  {
   "cell_type": "code",
   "execution_count": null,
   "metadata": {},
   "outputs": [],
   "source": []
  }
 ],
 "metadata": {
  "interpreter": {
   "hash": "0848c9d6c7d415ad6c477ff7ff8e98694d1a4aa96d0deee89244642e6b630036"
  },
  "kernelspec": {
   "display_name": "Python 3.9.12 ('exp-tracking-env')",
   "language": "python",
   "name": "python3"
  },
  "language_info": {
   "codemirror_mode": {
    "name": "ipython",
    "version": 3
   },
   "file_extension": ".py",
   "mimetype": "text/x-python",
   "name": "python",
   "nbconvert_exporter": "python",
   "pygments_lexer": "ipython3",
   "version": "3.9.16"
  },
  "orig_nbformat": 4
 },
 "nbformat": 4,
 "nbformat_minor": 2
}
