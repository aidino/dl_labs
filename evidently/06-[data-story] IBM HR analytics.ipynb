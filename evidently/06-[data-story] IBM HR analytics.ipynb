{
 "cells": [
  {
   "cell_type": "markdown",
   "metadata": {},
   "source": [
    "# IMB HR analyrics\n",
    "\n",
    "![](https://uploads-ssl.webflow.com/6266b596eef18c1931f938f9/62e2b3abc19ecba6e6c816d3_02_employee_churn.png)\n",
    "![](https://uploads-ssl.webflow.com/6266b596eef18c1931f938f9/62e2b3fe14db24edbec3dbad_03_how_likely_will_l.png)"
   ]
  },
  {
   "cell_type": "code",
   "execution_count": 1,
   "metadata": {},
   "outputs": [],
   "source": [
    "# brew install ta-lib\n",
    "# pip3 install ta-lib\n",
    "# !pip install catboost"
   ]
  },
  {
   "cell_type": "code",
   "execution_count": null,
   "metadata": {},
   "outputs": [],
   "source": [
    "#Import of the particular libraries \n",
    "import math\n",
    "import numpy as np\n",
    "import os \n",
    "import pandas as pd\n",
    "from sklearn.ensemble import RandomForestClassifier\n",
    "from sklearn.model_selection import train_test_split\n",
    "from sklearn import metrics\n",
    "from catboost import CatBoostClassifier\n",
    "from evidently.report import Report\n",
    "from evidently.metric_preset import ClassificationPreset\n",
    "from evidently.pipeline.column_mapping import ColumnMapping"
   ]
  }
 ],
 "metadata": {
  "kernelspec": {
   "display_name": "mlops",
   "language": "python",
   "name": "python3"
  },
  "language_info": {
   "codemirror_mode": {
    "name": "ipython",
    "version": 3
   },
   "file_extension": ".py",
   "mimetype": "text/x-python",
   "name": "python",
   "nbconvert_exporter": "python",
   "pygments_lexer": "ipython3",
   "version": "3.9.12"
  },
  "orig_nbformat": 4
 },
 "nbformat": 4,
 "nbformat_minor": 2
}
