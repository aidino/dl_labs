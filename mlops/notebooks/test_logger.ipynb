{
 "cells": [
  {
   "cell_type": "code",
   "execution_count": 1,
   "metadata": {},
   "outputs": [],
   "source": [
    "import logging\n",
    "import sys"
   ]
  },
  {
   "cell_type": "code",
   "execution_count": 2,
   "metadata": {},
   "outputs": [
    {
     "name": "stdout",
     "output_type": "stream",
     "text": [
      "DEBUG:root:Used for debugging your code.\n",
      "INFO:root:Informative messages from your code.\n",
      "WARNING:root:Everything works but there is something to be aware of.\n",
      "ERROR:root:There's been a mistake with the process.\n",
      "CRITICAL:root:There is something terribly wrong and process may terminate.\n"
     ]
    }
   ],
   "source": [
    "# Create super basic logger\n",
    "logging.basicConfig(stream=sys.stdout, level=logging.DEBUG)\n",
    "\n",
    "# Logging levels (from lowest to highest priority)\n",
    "logging.debug(\"Used for debugging your code.\")\n",
    "logging.info(\"Informative messages from your code.\")\n",
    "logging.warning(\"Everything works but there is something to be aware of.\")\n",
    "logging.error(\"There's been a mistake with the process.\")\n",
    "logging.critical(\"There is something terribly wrong and process may terminate.\")"
   ]
  },
  {
   "cell_type": "code",
   "execution_count": 5,
   "metadata": {},
   "outputs": [
    {
     "name": "stdout",
     "output_type": "stream",
     "text": [
      "DEBUG:root:Used for debugging your code.\n",
      "INFO:root:Informative messages from your code.\n",
      "WARNING:root:Everything works but there is something to be aware of.\n",
      "ERROR:root:There's been a mistake with the process.\n",
      "CRITICAL:root:There is something terribly wrong and process may terminate.\n"
     ]
    }
   ],
   "source": [
    "import logging\n",
    "import sys\n",
    "\n",
    "# Create super basic logger\n",
    "logging.basicConfig(stream=sys.stdout, level=logging.ERROR)\n",
    "\n",
    "# Logging levels (from lowest to highest priority)\n",
    "logging.debug(\"Used for debugging your code.\")\n",
    "logging.info(\"Informative messages from your code.\")\n",
    "logging.warning(\"Everything works but there is something to be aware of.\")\n",
    "logging.error(\"There's been a mistake with the process.\")\n",
    "logging.critical(\"There is something terribly wrong and process may terminate.\")\n"
   ]
  },
  {
   "cell_type": "code",
   "execution_count": 7,
   "metadata": {},
   "outputs": [
    {
     "name": "stdout",
     "output_type": "stream",
     "text": [
      "INFO:numexpr.utils:NumExpr defaulting to 8 threads.\n"
     ]
    },
    {
     "data": {
      "text/html": [
       "<pre style=\"white-space:pre;overflow-x:auto;line-height:normal;font-family:Menlo,'DejaVu Sans Mono',consolas,'Courier New',monospace\"><span style=\"color: #7fbfbf; text-decoration-color: #7fbfbf\">[05/24/23 09:17:37] </span><span style=\"color: #000080; text-decoration-color: #000080\">INFO    </span> Informative messages from your code.                                   <a href=\"file:///var/folders/fp/5xq11g_j5cxdj56j6vcq_3n00000gn/T/ipykernel_40674/3163523174.py\" target=\"_blank\"><span style=\"color: #7f7f7f; text-decoration-color: #7f7f7f\">3163523174.py</span></a><span style=\"color: #7f7f7f; text-decoration-color: #7f7f7f\">:</span><a href=\"file:///var/folders/fp/5xq11g_j5cxdj56j6vcq_3n00000gn/T/ipykernel_40674/3163523174.py#7\" target=\"_blank\"><span style=\"color: #7f7f7f; text-decoration-color: #7f7f7f\">7</span></a>\n",
       "</pre>\n"
      ],
      "text/plain": [
       "\u001b[2;36m[05/24/23 09:17:37]\u001b[0m\u001b[2;36m \u001b[0m\u001b[34mINFO    \u001b[0m Informative messages from your code.                                   \u001b]8;id=184101;file:///var/folders/fp/5xq11g_j5cxdj56j6vcq_3n00000gn/T/ipykernel_40674/3163523174.py\u001b\\\u001b[2m3163523174.py\u001b[0m\u001b]8;;\u001b\\\u001b[2m:\u001b[0m\u001b]8;id=423898;file:///var/folders/fp/5xq11g_j5cxdj56j6vcq_3n00000gn/T/ipykernel_40674/3163523174.py#7\u001b\\\u001b[2m7\u001b[0m\u001b]8;;\u001b\\\n"
      ]
     },
     "metadata": {},
     "output_type": "display_data"
    },
    {
     "data": {
      "text/html": [
       "<pre style=\"white-space:pre;overflow-x:auto;line-height:normal;font-family:Menlo,'DejaVu Sans Mono',consolas,'Courier New',monospace\"><span style=\"color: #7fbfbf; text-decoration-color: #7fbfbf\">                    </span><span style=\"color: #800000; text-decoration-color: #800000\">WARNING </span> Everything works but there is something to be aware of.                <a href=\"file:///var/folders/fp/5xq11g_j5cxdj56j6vcq_3n00000gn/T/ipykernel_40674/3163523174.py\" target=\"_blank\"><span style=\"color: #7f7f7f; text-decoration-color: #7f7f7f\">3163523174.py</span></a><span style=\"color: #7f7f7f; text-decoration-color: #7f7f7f\">:</span><a href=\"file:///var/folders/fp/5xq11g_j5cxdj56j6vcq_3n00000gn/T/ipykernel_40674/3163523174.py#8\" target=\"_blank\"><span style=\"color: #7f7f7f; text-decoration-color: #7f7f7f\">8</span></a>\n",
       "</pre>\n"
      ],
      "text/plain": [
       "\u001b[2;36m                   \u001b[0m\u001b[2;36m \u001b[0m\u001b[31mWARNING \u001b[0m Everything works but there is something to be aware of.                \u001b]8;id=788625;file:///var/folders/fp/5xq11g_j5cxdj56j6vcq_3n00000gn/T/ipykernel_40674/3163523174.py\u001b\\\u001b[2m3163523174.py\u001b[0m\u001b]8;;\u001b\\\u001b[2m:\u001b[0m\u001b]8;id=589931;file:///var/folders/fp/5xq11g_j5cxdj56j6vcq_3n00000gn/T/ipykernel_40674/3163523174.py#8\u001b\\\u001b[2m8\u001b[0m\u001b]8;;\u001b\\\n"
      ]
     },
     "metadata": {},
     "output_type": "display_data"
    },
    {
     "data": {
      "text/html": [
       "<pre style=\"white-space:pre;overflow-x:auto;line-height:normal;font-family:Menlo,'DejaVu Sans Mono',consolas,'Courier New',monospace\"><span style=\"color: #7fbfbf; text-decoration-color: #7fbfbf\">                    </span><span style=\"color: #800000; text-decoration-color: #800000; font-weight: bold\">ERROR   </span> There's been a mistake with the process.                               <a href=\"file:///var/folders/fp/5xq11g_j5cxdj56j6vcq_3n00000gn/T/ipykernel_40674/3163523174.py\" target=\"_blank\"><span style=\"color: #7f7f7f; text-decoration-color: #7f7f7f\">3163523174.py</span></a><span style=\"color: #7f7f7f; text-decoration-color: #7f7f7f\">:</span><a href=\"file:///var/folders/fp/5xq11g_j5cxdj56j6vcq_3n00000gn/T/ipykernel_40674/3163523174.py#9\" target=\"_blank\"><span style=\"color: #7f7f7f; text-decoration-color: #7f7f7f\">9</span></a>\n",
       "</pre>\n"
      ],
      "text/plain": [
       "\u001b[2;36m                   \u001b[0m\u001b[2;36m \u001b[0m\u001b[1;31mERROR   \u001b[0m There's been a mistake with the process.                               \u001b]8;id=368430;file:///var/folders/fp/5xq11g_j5cxdj56j6vcq_3n00000gn/T/ipykernel_40674/3163523174.py\u001b\\\u001b[2m3163523174.py\u001b[0m\u001b]8;;\u001b\\\u001b[2m:\u001b[0m\u001b]8;id=881865;file:///var/folders/fp/5xq11g_j5cxdj56j6vcq_3n00000gn/T/ipykernel_40674/3163523174.py#9\u001b\\\u001b[2m9\u001b[0m\u001b]8;;\u001b\\\n"
      ]
     },
     "metadata": {},
     "output_type": "display_data"
    },
    {
     "data": {
      "text/html": [
       "<pre style=\"white-space:pre;overflow-x:auto;line-height:normal;font-family:Menlo,'DejaVu Sans Mono',consolas,'Courier New',monospace\"><span style=\"color: #7fbfbf; text-decoration-color: #7fbfbf\">                    </span><span style=\"background-color: #800000; font-weight: bold\">CRITICAL</span> There is something terribly wrong and process may terminate.          <a href=\"file:///var/folders/fp/5xq11g_j5cxdj56j6vcq_3n00000gn/T/ipykernel_40674/3163523174.py\" target=\"_blank\"><span style=\"color: #7f7f7f; text-decoration-color: #7f7f7f\">3163523174.py</span></a><span style=\"color: #7f7f7f; text-decoration-color: #7f7f7f\">:</span><a href=\"file:///var/folders/fp/5xq11g_j5cxdj56j6vcq_3n00000gn/T/ipykernel_40674/3163523174.py#10\" target=\"_blank\"><span style=\"color: #7f7f7f; text-decoration-color: #7f7f7f\">10</span></a>\n",
       "</pre>\n"
      ],
      "text/plain": [
       "\u001b[2;36m                   \u001b[0m\u001b[2;36m \u001b[0m\u001b[1;7;31mCRITICAL\u001b[0m There is something terribly wrong and process may terminate.          \u001b]8;id=739291;file:///var/folders/fp/5xq11g_j5cxdj56j6vcq_3n00000gn/T/ipykernel_40674/3163523174.py\u001b\\\u001b[2m3163523174.py\u001b[0m\u001b]8;;\u001b\\\u001b[2m:\u001b[0m\u001b]8;id=159031;file:///var/folders/fp/5xq11g_j5cxdj56j6vcq_3n00000gn/T/ipykernel_40674/3163523174.py#10\u001b\\\u001b[2m10\u001b[0m\u001b]8;;\u001b\\\n"
      ]
     },
     "metadata": {},
     "output_type": "display_data"
    }
   ],
   "source": [
    "import sys\n",
    "sys.path.append(\"..\")\n",
    "from config.config import logger\n",
    "\n",
    "# Sample messages (note that we use configured `logger` now)\n",
    "logger.debug(\"Used for debugging your code.\")\n",
    "logger.info(\"Informative messages from your code.\")\n",
    "logger.warning(\"Everything works but there is something to be aware of.\")\n",
    "logger.error(\"There's been a mistake with the process.\")\n",
    "logger.critical(\"There is something terribly wrong and process may terminate.\")\n"
   ]
  },
  {
   "cell_type": "code",
   "execution_count": null,
   "metadata": {},
   "outputs": [],
   "source": []
  }
 ],
 "metadata": {
  "kernelspec": {
   "display_name": "Python 3",
   "language": "python",
   "name": "python3"
  },
  "language_info": {
   "codemirror_mode": {
    "name": "ipython",
    "version": 3
   },
   "file_extension": ".py",
   "mimetype": "text/x-python",
   "name": "python",
   "nbconvert_exporter": "python",
   "pygments_lexer": "ipython3",
   "version": "3.9.16"
  },
  "orig_nbformat": 4
 },
 "nbformat": 4,
 "nbformat_minor": 2
}
