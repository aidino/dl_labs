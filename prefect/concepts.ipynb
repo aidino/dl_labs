{
 "cells": [
  {
   "cell_type": "code",
   "execution_count": 2,
   "metadata": {},
   "outputs": [],
   "source": [
    "# !pip install prefect"
   ]
  },
  {
   "cell_type": "markdown",
   "metadata": {},
   "source": [
    "## Develop"
   ]
  },
  {
   "cell_type": "markdown",
   "metadata": {},
   "source": [
    "### Flows\n",
    "\n",
    "- Là đối tượng Prefect cơ bản nhất\n",
    "- Các flows là Prefect abstraction mà có thể tương tác, hiển thị, và chạy mà không cùng các thành phần nào khác của Prefect engine.\n",
    "- Một flow bao hàm một workflow logic, cho phép người dùng tương tác và biết trạng thái các workflows "
   ]
  },
  {
   "cell_type": "code",
   "execution_count": 6,
   "metadata": {},
   "outputs": [
    {
     "name": "stderr",
     "output_type": "stream",
     "text": [
      "/Users/ngohongthai/Documents/projects/dl_labs/.conda/lib/python3.9/site-packages/prefect/tasks.py:298: UserWarning: A task named 'print_hello' and defined at '/var/folders/66/6rbnzyf91v9d5v8nb46hmn0h0000gn/T/ipykernel_79348/807620185.py:3' conflicts with another task. Consider specifying a unique `name` parameter in the task definition:\n",
      "\n",
      " `@task(name='my_unique_name', ...)`\n",
      "  warnings.warn(\n",
      "/Users/ngohongthai/Documents/projects/dl_labs/.conda/lib/python3.9/site-packages/prefect/flows.py:244: UserWarning: A flow named 'hello flow' and defined at '/var/folders/66/6rbnzyf91v9d5v8nb46hmn0h0000gn/T/ipykernel_79348/807620185.py:7' conflicts with another flow. Consider specifying a unique `name` parameter in the flow definition:\n",
      "\n",
      " `@flow(name='my_unique_name', ...)`\n",
      "  warnings.warn(\n"
     ]
    }
   ],
   "source": [
    "from prefect import flow, task\n",
    "\n",
    "@task\n",
    "def print_hello(name):\n",
    "    print(f\"Hello: {name}\")\n",
    "\n",
    "@flow(name=\"hello flow\", description=\"Hello bow\")\n",
    "def hello_world(name=\"world\"):\n",
    "    \"\"\"hello bow\"\"\"\n",
    "    print_hello(name)\n"
   ]
  },
  {
   "cell_type": "code",
   "execution_count": 7,
   "metadata": {},
   "outputs": [
    {
     "data": {
      "text/html": [
       "<pre style=\"white-space:pre;overflow-x:auto;line-height:normal;font-family:Menlo,'DejaVu Sans Mono',consolas,'Courier New',monospace\">00:02:44.319 | <span style=\"color: #008080; text-decoration-color: #008080\">INFO</span>    | prefect.engine - Created flow run<span style=\"color: #800080; text-decoration-color: #800080\"> 'olive-coot'</span> for flow<span style=\"color: #800080; text-decoration-color: #800080; font-weight: bold\"> 'hello flow'</span>\n",
       "</pre>\n"
      ],
      "text/plain": [
       "00:02:44.319 | \u001b[36mINFO\u001b[0m    | prefect.engine - Created flow run\u001b[35m 'olive-coot'\u001b[0m for flow\u001b[1;35m 'hello flow'\u001b[0m\n"
      ]
     },
     "metadata": {},
     "output_type": "display_data"
    },
    {
     "data": {
      "text/html": [
       "<pre style=\"white-space:pre;overflow-x:auto;line-height:normal;font-family:Menlo,'DejaVu Sans Mono',consolas,'Courier New',monospace\">00:02:44.320 | <span style=\"color: #008080; text-decoration-color: #008080\">INFO</span>    | Flow run<span style=\"color: #800080; text-decoration-color: #800080\"> 'olive-coot'</span> - View at <span style=\"color: #0000ff; text-decoration-color: #0000ff\">http://0.0.0.0:4200/flow-runs/flow-run/f3763237-3c04-4b72-85b8-676e3b2758dc</span>\n",
       "</pre>\n"
      ],
      "text/plain": [
       "00:02:44.320 | \u001b[36mINFO\u001b[0m    | Flow run\u001b[35m 'olive-coot'\u001b[0m - View at \u001b[94mhttp://0.0.0.0:4200/flow-runs/flow-run/f3763237-3c04-4b72-85b8-676e3b2758dc\u001b[0m\n"
      ]
     },
     "metadata": {},
     "output_type": "display_data"
    },
    {
     "data": {
      "text/html": [
       "<pre style=\"white-space:pre;overflow-x:auto;line-height:normal;font-family:Menlo,'DejaVu Sans Mono',consolas,'Courier New',monospace\">00:02:44.372 | <span style=\"color: #008080; text-decoration-color: #008080\">INFO</span>    | Flow run<span style=\"color: #800080; text-decoration-color: #800080\"> 'olive-coot'</span> - Created task run 'print_hello-0' for task 'print_hello'\n",
       "</pre>\n"
      ],
      "text/plain": [
       "00:02:44.372 | \u001b[36mINFO\u001b[0m    | Flow run\u001b[35m 'olive-coot'\u001b[0m - Created task run 'print_hello-0' for task 'print_hello'\n"
      ]
     },
     "metadata": {},
     "output_type": "display_data"
    },
    {
     "data": {
      "text/html": [
       "<pre style=\"white-space:pre;overflow-x:auto;line-height:normal;font-family:Menlo,'DejaVu Sans Mono',consolas,'Courier New',monospace\">00:02:44.373 | <span style=\"color: #008080; text-decoration-color: #008080\">INFO</span>    | Flow run<span style=\"color: #800080; text-decoration-color: #800080\"> 'olive-coot'</span> - Executing 'print_hello-0' immediately...\n",
       "</pre>\n"
      ],
      "text/plain": [
       "00:02:44.373 | \u001b[36mINFO\u001b[0m    | Flow run\u001b[35m 'olive-coot'\u001b[0m - Executing 'print_hello-0' immediately...\n"
      ]
     },
     "metadata": {},
     "output_type": "display_data"
    },
    {
     "name": "stdout",
     "output_type": "stream",
     "text": [
      "Hello: bow\n"
     ]
    },
    {
     "data": {
      "text/html": [
       "<pre style=\"white-space:pre;overflow-x:auto;line-height:normal;font-family:Menlo,'DejaVu Sans Mono',consolas,'Courier New',monospace\">00:02:44.421 | <span style=\"color: #008080; text-decoration-color: #008080\">INFO</span>    | Task run 'print_hello-0' - Finished in state <span style=\"color: #008000; text-decoration-color: #008000\">Completed</span>()\n",
       "</pre>\n"
      ],
      "text/plain": [
       "00:02:44.421 | \u001b[36mINFO\u001b[0m    | Task run 'print_hello-0' - Finished in state \u001b[32mCompleted\u001b[0m()\n"
      ]
     },
     "metadata": {},
     "output_type": "display_data"
    },
    {
     "data": {
      "text/html": [
       "<pre style=\"white-space:pre;overflow-x:auto;line-height:normal;font-family:Menlo,'DejaVu Sans Mono',consolas,'Courier New',monospace\">00:02:44.437 | <span style=\"color: #008080; text-decoration-color: #008080\">INFO</span>    | Flow run<span style=\"color: #800080; text-decoration-color: #800080\"> 'olive-coot'</span> - Finished in state <span style=\"color: #008000; text-decoration-color: #008000\">Completed</span>('All states completed.')\n",
       "</pre>\n"
      ],
      "text/plain": [
       "00:02:44.437 | \u001b[36mINFO\u001b[0m    | Flow run\u001b[35m 'olive-coot'\u001b[0m - Finished in state \u001b[32mCompleted\u001b[0m('All states completed.')\n"
      ]
     },
     "metadata": {},
     "output_type": "display_data"
    },
    {
     "data": {
      "text/plain": [
       "[Completed(message=None, type=COMPLETED, result=UnpersistedResult(type='unpersisted', artifact_type='result', artifact_description='Unpersisted result of type `NoneType`'))]"
      ]
     },
     "execution_count": 7,
     "metadata": {},
     "output_type": "execute_result"
    }
   ],
   "source": [
    "# print_hello(\"Bow\")\n",
    "hello_world(\"bow\")"
   ]
  },
  {
   "cell_type": "markdown",
   "metadata": {},
   "source": [
    "#### Naming flows "
   ]
  },
  {
   "cell_type": "code",
   "execution_count": 9,
   "metadata": {},
   "outputs": [
    {
     "name": "stderr",
     "output_type": "stream",
     "text": [
      "/Users/ngohongthai/Documents/projects/dl_labs/.conda/lib/python3.9/site-packages/prefect/flows.py:244: UserWarning: A flow named 'my-flow' and defined at '/var/folders/66/6rbnzyf91v9d5v8nb46hmn0h0000gn/T/ipykernel_79348/1951523494.py:9' conflicts with another flow. Consider specifying a unique `name` parameter in the flow definition:\n",
      "\n",
      " `@flow(name='my_unique_name', ...)`\n",
      "  warnings.warn(\n"
     ]
    },
    {
     "data": {
      "text/html": [
       "<pre style=\"white-space:pre;overflow-x:auto;line-height:normal;font-family:Menlo,'DejaVu Sans Mono',consolas,'Courier New',monospace\">00:05:04.545 | <span style=\"color: #008080; text-decoration-color: #008080\">INFO</span>    | prefect.engine - Created flow run<span style=\"color: #800080; text-decoration-color: #800080\"> 'married-wapiti'</span> for flow<span style=\"color: #800080; text-decoration-color: #800080; font-weight: bold\"> 'my-flow'</span>\n",
       "</pre>\n"
      ],
      "text/plain": [
       "00:05:04.545 | \u001b[36mINFO\u001b[0m    | prefect.engine - Created flow run\u001b[35m 'married-wapiti'\u001b[0m for flow\u001b[1;35m 'my-flow'\u001b[0m\n"
      ]
     },
     "metadata": {},
     "output_type": "display_data"
    },
    {
     "data": {
      "text/html": [
       "<pre style=\"white-space:pre;overflow-x:auto;line-height:normal;font-family:Menlo,'DejaVu Sans Mono',consolas,'Courier New',monospace\">00:05:04.546 | <span style=\"color: #008080; text-decoration-color: #008080\">INFO</span>    | Flow run<span style=\"color: #800080; text-decoration-color: #800080\"> 'married-wapiti'</span> - View at <span style=\"color: #0000ff; text-decoration-color: #0000ff\">http://0.0.0.0:4200/flow-runs/flow-run/8ef51110-b5d0-41cd-b0f8-48689a27cf89</span>\n",
       "</pre>\n"
      ],
      "text/plain": [
       "00:05:04.546 | \u001b[36mINFO\u001b[0m    | Flow run\u001b[35m 'married-wapiti'\u001b[0m - View at \u001b[94mhttp://0.0.0.0:4200/flow-runs/flow-run/8ef51110-b5d0-41cd-b0f8-48689a27cf89\u001b[0m\n"
      ]
     },
     "metadata": {},
     "output_type": "display_data"
    },
    {
     "data": {
      "text/html": [
       "<pre style=\"white-space:pre;overflow-x:auto;line-height:normal;font-family:Menlo,'DejaVu Sans Mono',consolas,'Courier New',monospace\">00:05:04.605 | <span style=\"color: #008080; text-decoration-color: #008080\">INFO</span>    | Flow run<span style=\"color: #800080; text-decoration-color: #800080\"> 'married-wapiti'</span> - Finished in state <span style=\"color: #008000; text-decoration-color: #008000\">Completed</span>()\n",
       "</pre>\n"
      ],
      "text/plain": [
       "00:05:04.605 | \u001b[36mINFO\u001b[0m    | Flow run\u001b[35m 'married-wapiti'\u001b[0m - Finished in state \u001b[32mCompleted\u001b[0m()\n"
      ]
     },
     "metadata": {},
     "output_type": "display_data"
    }
   ],
   "source": [
    "import datetime\n",
    "from prefect import flow\n",
    "\n",
    "def generate_flow_run_name():\n",
    "    date = datetime.datetime.utcnow()\n",
    "\n",
    "    return f\"{date:%A}-is-a-nice-day\"\n",
    "\n",
    "@flow(flow_run_name=generate_flow_run_name)\n",
    "def my_flow(name: str):\n",
    "    pass\n",
    "\n",
    "# creates a flow run called 'Thursday-is-a-nice-day'\n",
    "my_flow(name=\"marvin\")\n"
   ]
  },
  {
   "cell_type": "markdown",
   "metadata": {},
   "source": [
    "If you need access to information about the flow, use the prefect.runtime module"
   ]
  },
  {
   "cell_type": "code",
   "execution_count": 10,
   "metadata": {},
   "outputs": [
    {
     "name": "stderr",
     "output_type": "stream",
     "text": [
      "/Users/ngohongthai/Documents/projects/dl_labs/.conda/lib/python3.9/site-packages/prefect/flows.py:244: UserWarning: A flow named 'my-flow' and defined at '/var/folders/66/6rbnzyf91v9d5v8nb46hmn0h0000gn/T/ipykernel_79348/2533776286.py:13' conflicts with another flow. Consider specifying a unique `name` parameter in the flow definition:\n",
      "\n",
      " `@flow(name='my_unique_name', ...)`\n",
      "  warnings.warn(\n"
     ]
    },
    {
     "data": {
      "text/html": [
       "<pre style=\"white-space:pre;overflow-x:auto;line-height:normal;font-family:Menlo,'DejaVu Sans Mono',consolas,'Courier New',monospace\">00:07:28.643 | <span style=\"color: #008080; text-decoration-color: #008080\">INFO</span>    | prefect.engine - Created flow run<span style=\"color: #800080; text-decoration-color: #800080\"> 'mustard-ammonite'</span> for flow<span style=\"color: #800080; text-decoration-color: #800080; font-weight: bold\"> 'my-flow'</span>\n",
       "</pre>\n"
      ],
      "text/plain": [
       "00:07:28.643 | \u001b[36mINFO\u001b[0m    | prefect.engine - Created flow run\u001b[35m 'mustard-ammonite'\u001b[0m for flow\u001b[1;35m 'my-flow'\u001b[0m\n"
      ]
     },
     "metadata": {},
     "output_type": "display_data"
    },
    {
     "data": {
      "text/html": [
       "<pre style=\"white-space:pre;overflow-x:auto;line-height:normal;font-family:Menlo,'DejaVu Sans Mono',consolas,'Courier New',monospace\">00:07:28.644 | <span style=\"color: #008080; text-decoration-color: #008080\">INFO</span>    | Flow run<span style=\"color: #800080; text-decoration-color: #800080\"> 'mustard-ammonite'</span> - View at <span style=\"color: #0000ff; text-decoration-color: #0000ff\">http://0.0.0.0:4200/flow-runs/flow-run/a5058f25-b9b8-4785-9634-c8b226f9e136</span>\n",
       "</pre>\n"
      ],
      "text/plain": [
       "00:07:28.644 | \u001b[36mINFO\u001b[0m    | Flow run\u001b[35m 'mustard-ammonite'\u001b[0m - View at \u001b[94mhttp://0.0.0.0:4200/flow-runs/flow-run/a5058f25-b9b8-4785-9634-c8b226f9e136\u001b[0m\n"
      ]
     },
     "metadata": {},
     "output_type": "display_data"
    },
    {
     "data": {
      "text/html": [
       "<pre style=\"white-space:pre;overflow-x:auto;line-height:normal;font-family:Menlo,'DejaVu Sans Mono',consolas,'Courier New',monospace\">00:07:28.722 | <span style=\"color: #008080; text-decoration-color: #008080\">INFO</span>    | Flow run<span style=\"color: #800080; text-decoration-color: #800080\"> 'mustard-ammonite'</span> - Finished in state <span style=\"color: #008000; text-decoration-color: #008000\">Completed</span>()\n",
       "</pre>\n"
      ],
      "text/plain": [
       "00:07:28.722 | \u001b[36mINFO\u001b[0m    | Flow run\u001b[35m 'mustard-ammonite'\u001b[0m - Finished in state \u001b[32mCompleted\u001b[0m()\n"
      ]
     },
     "metadata": {},
     "output_type": "display_data"
    }
   ],
   "source": [
    "from prefect import flow\n",
    "from prefect.runtime import flow_run\n",
    "\n",
    "def generate_flow_run_name():\n",
    "    flow_name = flow_run.flow_name\n",
    "\n",
    "    parameters = flow_run.parameters\n",
    "    name = parameters[\"name\"]\n",
    "    limit = parameters[\"limit\"]\n",
    "\n",
    "    return f\"{flow_name}-with-{name}-and-{limit}\"\n",
    "\n",
    "@flow(flow_run_name=generate_flow_run_name)\n",
    "def my_flow(name: str, limit: int = 100):\n",
    "    pass\n",
    "\n",
    "# creates a flow run called 'my-flow-with-marvin-and-100'\n",
    "my_flow(name=\"marvin\")\n"
   ]
  },
  {
   "cell_type": "markdown",
   "metadata": {},
   "source": [
    "#### Tách logic flow thành các tasks"
   ]
  },
  {
   "cell_type": "code",
   "execution_count": 11,
   "metadata": {},
   "outputs": [
    {
     "data": {
      "text/html": [
       "<pre style=\"white-space:pre;overflow-x:auto;line-height:normal;font-family:Menlo,'DejaVu Sans Mono',consolas,'Courier New',monospace\">00:12:16.700 | <span style=\"color: #008080; text-decoration-color: #008080\">INFO</span>    | prefect.engine - Created flow run<span style=\"color: #800080; text-decoration-color: #800080\"> 'wonderful-rook'</span> for flow<span style=\"color: #800080; text-decoration-color: #800080; font-weight: bold\"> 'Hello Flow'</span>\n",
       "</pre>\n"
      ],
      "text/plain": [
       "00:12:16.700 | \u001b[36mINFO\u001b[0m    | prefect.engine - Created flow run\u001b[35m 'wonderful-rook'\u001b[0m for flow\u001b[1;35m 'Hello Flow'\u001b[0m\n"
      ]
     },
     "metadata": {},
     "output_type": "display_data"
    },
    {
     "data": {
      "text/html": [
       "<pre style=\"white-space:pre;overflow-x:auto;line-height:normal;font-family:Menlo,'DejaVu Sans Mono',consolas,'Courier New',monospace\">00:12:16.701 | <span style=\"color: #008080; text-decoration-color: #008080\">INFO</span>    | Flow run<span style=\"color: #800080; text-decoration-color: #800080\"> 'wonderful-rook'</span> - View at <span style=\"color: #0000ff; text-decoration-color: #0000ff\">http://0.0.0.0:4200/flow-runs/flow-run/7ee7b164-a71a-4949-af72-be15f19e5dd4</span>\n",
       "</pre>\n"
      ],
      "text/plain": [
       "00:12:16.701 | \u001b[36mINFO\u001b[0m    | Flow run\u001b[35m 'wonderful-rook'\u001b[0m - View at \u001b[94mhttp://0.0.0.0:4200/flow-runs/flow-run/7ee7b164-a71a-4949-af72-be15f19e5dd4\u001b[0m\n"
      ]
     },
     "metadata": {},
     "output_type": "display_data"
    },
    {
     "data": {
      "text/html": [
       "<pre style=\"white-space:pre;overflow-x:auto;line-height:normal;font-family:Menlo,'DejaVu Sans Mono',consolas,'Courier New',monospace\">00:12:16.756 | <span style=\"color: #008080; text-decoration-color: #008080\">INFO</span>    | Flow run<span style=\"color: #800080; text-decoration-color: #800080\"> 'wonderful-rook'</span> - Created task run 'Print Hello-0' for task 'Print Hello'\n",
       "</pre>\n"
      ],
      "text/plain": [
       "00:12:16.756 | \u001b[36mINFO\u001b[0m    | Flow run\u001b[35m 'wonderful-rook'\u001b[0m - Created task run 'Print Hello-0' for task 'Print Hello'\n"
      ]
     },
     "metadata": {},
     "output_type": "display_data"
    },
    {
     "data": {
      "text/html": [
       "<pre style=\"white-space:pre;overflow-x:auto;line-height:normal;font-family:Menlo,'DejaVu Sans Mono',consolas,'Courier New',monospace\">00:12:16.757 | <span style=\"color: #008080; text-decoration-color: #008080\">INFO</span>    | Flow run<span style=\"color: #800080; text-decoration-color: #800080\"> 'wonderful-rook'</span> - Executing 'Print Hello-0' immediately...\n",
       "</pre>\n"
      ],
      "text/plain": [
       "00:12:16.757 | \u001b[36mINFO\u001b[0m    | Flow run\u001b[35m 'wonderful-rook'\u001b[0m - Executing 'Print Hello-0' immediately...\n"
      ]
     },
     "metadata": {},
     "output_type": "display_data"
    },
    {
     "name": "stdout",
     "output_type": "stream",
     "text": [
      "Hello Marvin!\n"
     ]
    },
    {
     "data": {
      "text/html": [
       "<pre style=\"white-space:pre;overflow-x:auto;line-height:normal;font-family:Menlo,'DejaVu Sans Mono',consolas,'Courier New',monospace\">00:12:16.808 | <span style=\"color: #008080; text-decoration-color: #008080\">INFO</span>    | Task run 'Print Hello-0' - Finished in state <span style=\"color: #008000; text-decoration-color: #008000\">Completed</span>()\n",
       "</pre>\n"
      ],
      "text/plain": [
       "00:12:16.808 | \u001b[36mINFO\u001b[0m    | Task run 'Print Hello-0' - Finished in state \u001b[32mCompleted\u001b[0m()\n"
      ]
     },
     "metadata": {},
     "output_type": "display_data"
    },
    {
     "data": {
      "text/html": [
       "<pre style=\"white-space:pre;overflow-x:auto;line-height:normal;font-family:Menlo,'DejaVu Sans Mono',consolas,'Courier New',monospace\">00:12:16.822 | <span style=\"color: #008080; text-decoration-color: #008080\">INFO</span>    | Flow run<span style=\"color: #800080; text-decoration-color: #800080\"> 'wonderful-rook'</span> - Finished in state <span style=\"color: #008000; text-decoration-color: #008000\">Completed</span>('All states completed.')\n",
       "</pre>\n"
      ],
      "text/plain": [
       "00:12:16.822 | \u001b[36mINFO\u001b[0m    | Flow run\u001b[35m 'wonderful-rook'\u001b[0m - Finished in state \u001b[32mCompleted\u001b[0m('All states completed.')\n"
      ]
     },
     "metadata": {},
     "output_type": "display_data"
    },
    {
     "data": {
      "text/plain": [
       "[Completed(message=None, type=COMPLETED, result=UnpersistedResult(type='unpersisted', artifact_type='result', artifact_description='Unpersisted result of type `str`'))]"
      ]
     },
     "execution_count": 11,
     "metadata": {},
     "output_type": "execute_result"
    }
   ],
   "source": [
    "from prefect import flow, task\n",
    "\n",
    "@task(name=\"Print Hello\")\n",
    "def print_hello(name):\n",
    "    msg = f\"Hello {name}!\"\n",
    "    print(msg)\n",
    "    return msg\n",
    "\n",
    "@flow(name=\"Hello Flow\")\n",
    "def hello_world(name=\"world\"):\n",
    "    message = print_hello(name)\n",
    "\n",
    "hello_world(\"Marvin\")\n"
   ]
  },
  {
   "cell_type": "markdown",
   "metadata": {},
   "source": [
    "#### Subflow"
   ]
  },
  {
   "cell_type": "code",
   "execution_count": 12,
   "metadata": {},
   "outputs": [
    {
     "name": "stderr",
     "output_type": "stream",
     "text": [
      "/Users/ngohongthai/Documents/projects/dl_labs/.conda/lib/python3.9/site-packages/prefect/tasks.py:298: UserWarning: A task named 'Print Hello' and defined at '/var/folders/66/6rbnzyf91v9d5v8nb46hmn0h0000gn/T/ipykernel_79348/1208733215.py:3' conflicts with another task. Consider specifying a unique `name` parameter in the task definition:\n",
      "\n",
      " `@task(name='my_unique_name', ...)`\n",
      "  warnings.warn(\n",
      "/Users/ngohongthai/Documents/projects/dl_labs/.conda/lib/python3.9/site-packages/prefect/flows.py:244: UserWarning: A flow named 'Hello Flow' and defined at '/var/folders/66/6rbnzyf91v9d5v8nb46hmn0h0000gn/T/ipykernel_79348/1208733215.py:13' conflicts with another flow. Consider specifying a unique `name` parameter in the flow definition:\n",
      "\n",
      " `@flow(name='my_unique_name', ...)`\n",
      "  warnings.warn(\n"
     ]
    },
    {
     "data": {
      "text/html": [
       "<pre style=\"white-space:pre;overflow-x:auto;line-height:normal;font-family:Menlo,'DejaVu Sans Mono',consolas,'Courier New',monospace\">00:20:26.192 | <span style=\"color: #008080; text-decoration-color: #008080\">INFO</span>    | prefect.engine - Created flow run<span style=\"color: #800080; text-decoration-color: #800080\"> 'didactic-alpaca'</span> for flow<span style=\"color: #800080; text-decoration-color: #800080; font-weight: bold\"> 'Hello Flow'</span>\n",
       "</pre>\n"
      ],
      "text/plain": [
       "00:20:26.192 | \u001b[36mINFO\u001b[0m    | prefect.engine - Created flow run\u001b[35m 'didactic-alpaca'\u001b[0m for flow\u001b[1;35m 'Hello Flow'\u001b[0m\n"
      ]
     },
     "metadata": {},
     "output_type": "display_data"
    },
    {
     "data": {
      "text/html": [
       "<pre style=\"white-space:pre;overflow-x:auto;line-height:normal;font-family:Menlo,'DejaVu Sans Mono',consolas,'Courier New',monospace\">00:20:26.193 | <span style=\"color: #008080; text-decoration-color: #008080\">INFO</span>    | Flow run<span style=\"color: #800080; text-decoration-color: #800080\"> 'didactic-alpaca'</span> - View at <span style=\"color: #0000ff; text-decoration-color: #0000ff\">http://0.0.0.0:4200/flow-runs/flow-run/abc763c5-5dba-4e8b-8c98-faac6b9fbeb1</span>\n",
       "</pre>\n"
      ],
      "text/plain": [
       "00:20:26.193 | \u001b[36mINFO\u001b[0m    | Flow run\u001b[35m 'didactic-alpaca'\u001b[0m - View at \u001b[94mhttp://0.0.0.0:4200/flow-runs/flow-run/abc763c5-5dba-4e8b-8c98-faac6b9fbeb1\u001b[0m\n"
      ]
     },
     "metadata": {},
     "output_type": "display_data"
    },
    {
     "data": {
      "text/html": [
       "<pre style=\"white-space:pre;overflow-x:auto;line-height:normal;font-family:Menlo,'DejaVu Sans Mono',consolas,'Courier New',monospace\">00:20:26.244 | <span style=\"color: #008080; text-decoration-color: #008080\">INFO</span>    | Flow run<span style=\"color: #800080; text-decoration-color: #800080\"> 'didactic-alpaca'</span> - Created task run 'Print Hello-0' for task 'Print Hello'\n",
       "</pre>\n"
      ],
      "text/plain": [
       "00:20:26.244 | \u001b[36mINFO\u001b[0m    | Flow run\u001b[35m 'didactic-alpaca'\u001b[0m - Created task run 'Print Hello-0' for task 'Print Hello'\n"
      ]
     },
     "metadata": {},
     "output_type": "display_data"
    },
    {
     "data": {
      "text/html": [
       "<pre style=\"white-space:pre;overflow-x:auto;line-height:normal;font-family:Menlo,'DejaVu Sans Mono',consolas,'Courier New',monospace\">00:20:26.245 | <span style=\"color: #008080; text-decoration-color: #008080\">INFO</span>    | Flow run<span style=\"color: #800080; text-decoration-color: #800080\"> 'didactic-alpaca'</span> - Executing 'Print Hello-0' immediately...\n",
       "</pre>\n"
      ],
      "text/plain": [
       "00:20:26.245 | \u001b[36mINFO\u001b[0m    | Flow run\u001b[35m 'didactic-alpaca'\u001b[0m - Executing 'Print Hello-0' immediately...\n"
      ]
     },
     "metadata": {},
     "output_type": "display_data"
    },
    {
     "name": "stdout",
     "output_type": "stream",
     "text": [
      "Hello Marvin!\n"
     ]
    },
    {
     "data": {
      "text/html": [
       "<pre style=\"white-space:pre;overflow-x:auto;line-height:normal;font-family:Menlo,'DejaVu Sans Mono',consolas,'Courier New',monospace\">00:20:26.296 | <span style=\"color: #008080; text-decoration-color: #008080\">INFO</span>    | Task run 'Print Hello-0' - Finished in state <span style=\"color: #008000; text-decoration-color: #008000\">Completed</span>()\n",
       "</pre>\n"
      ],
      "text/plain": [
       "00:20:26.296 | \u001b[36mINFO\u001b[0m    | Task run 'Print Hello-0' - Finished in state \u001b[32mCompleted\u001b[0m()\n"
      ]
     },
     "metadata": {},
     "output_type": "display_data"
    },
    {
     "data": {
      "text/html": [
       "<pre style=\"white-space:pre;overflow-x:auto;line-height:normal;font-family:Menlo,'DejaVu Sans Mono',consolas,'Courier New',monospace\">00:20:26.352 | <span style=\"color: #008080; text-decoration-color: #008080\">INFO</span>    | Flow run<span style=\"color: #800080; text-decoration-color: #800080\"> 'didactic-alpaca'</span> - Created subflow run<span style=\"color: #800080; text-decoration-color: #800080\"> 'conscious-bandicoot'</span> for flow<span style=\"color: #800080; text-decoration-color: #800080; font-weight: bold\"> 'Subflow'</span>\n",
       "</pre>\n"
      ],
      "text/plain": [
       "00:20:26.352 | \u001b[36mINFO\u001b[0m    | Flow run\u001b[35m 'didactic-alpaca'\u001b[0m - Created subflow run\u001b[35m 'conscious-bandicoot'\u001b[0m for flow\u001b[1;35m 'Subflow'\u001b[0m\n"
      ]
     },
     "metadata": {},
     "output_type": "display_data"
    },
    {
     "data": {
      "text/html": [
       "<pre style=\"white-space:pre;overflow-x:auto;line-height:normal;font-family:Menlo,'DejaVu Sans Mono',consolas,'Courier New',monospace\">00:20:26.353 | <span style=\"color: #008080; text-decoration-color: #008080\">INFO</span>    | Flow run<span style=\"color: #800080; text-decoration-color: #800080\"> 'conscious-bandicoot'</span> - View at <span style=\"color: #0000ff; text-decoration-color: #0000ff\">http://0.0.0.0:4200/flow-runs/flow-run/630245ec-2ca5-446f-804a-982e541b2c1d</span>\n",
       "</pre>\n"
      ],
      "text/plain": [
       "00:20:26.353 | \u001b[36mINFO\u001b[0m    | Flow run\u001b[35m 'conscious-bandicoot'\u001b[0m - View at \u001b[94mhttp://0.0.0.0:4200/flow-runs/flow-run/630245ec-2ca5-446f-804a-982e541b2c1d\u001b[0m\n"
      ]
     },
     "metadata": {},
     "output_type": "display_data"
    },
    {
     "name": "stdout",
     "output_type": "stream",
     "text": [
      "Subflow says: Hello Marvin!\n"
     ]
    },
    {
     "data": {
      "text/html": [
       "<pre style=\"white-space:pre;overflow-x:auto;line-height:normal;font-family:Menlo,'DejaVu Sans Mono',consolas,'Courier New',monospace\">00:20:26.393 | <span style=\"color: #008080; text-decoration-color: #008080\">INFO</span>    | Flow run<span style=\"color: #800080; text-decoration-color: #800080\"> 'conscious-bandicoot'</span> - Finished in state <span style=\"color: #008000; text-decoration-color: #008000\">Completed</span>()\n",
       "</pre>\n"
      ],
      "text/plain": [
       "00:20:26.393 | \u001b[36mINFO\u001b[0m    | Flow run\u001b[35m 'conscious-bandicoot'\u001b[0m - Finished in state \u001b[32mCompleted\u001b[0m()\n"
      ]
     },
     "metadata": {},
     "output_type": "display_data"
    },
    {
     "data": {
      "text/html": [
       "<pre style=\"white-space:pre;overflow-x:auto;line-height:normal;font-family:Menlo,'DejaVu Sans Mono',consolas,'Courier New',monospace\">00:20:26.406 | <span style=\"color: #008080; text-decoration-color: #008080\">INFO</span>    | Flow run<span style=\"color: #800080; text-decoration-color: #800080\"> 'didactic-alpaca'</span> - Finished in state <span style=\"color: #008000; text-decoration-color: #008000\">Completed</span>('All states completed.')\n",
       "</pre>\n"
      ],
      "text/plain": [
       "00:20:26.406 | \u001b[36mINFO\u001b[0m    | Flow run\u001b[35m 'didactic-alpaca'\u001b[0m - Finished in state \u001b[32mCompleted\u001b[0m('All states completed.')\n"
      ]
     },
     "metadata": {},
     "output_type": "display_data"
    },
    {
     "data": {
      "text/plain": [
       "[Completed(message=None, type=COMPLETED, result=UnpersistedResult(type='unpersisted', artifact_type='result', artifact_description='Unpersisted result of type `str`')),\n",
       " Completed(message=None, type=COMPLETED, result=UnpersistedResult(type='unpersisted', artifact_type='result', artifact_description='Unpersisted result of type `NoneType`'))]"
      ]
     },
     "execution_count": 12,
     "metadata": {},
     "output_type": "execute_result"
    }
   ],
   "source": [
    "from prefect import flow, task\n",
    "\n",
    "@task(name=\"Print Hello\")\n",
    "def print_hello(name):\n",
    "    msg = f\"Hello {name}!\"\n",
    "    print(msg)\n",
    "    return msg\n",
    "\n",
    "@flow(name=\"Subflow\")\n",
    "def my_subflow(msg):\n",
    "    print(f\"Subflow says: {msg}\")\n",
    "\n",
    "@flow(name=\"Hello Flow\")\n",
    "def hello_world(name=\"world\"):\n",
    "    message = print_hello(name)\n",
    "    my_subflow(message)\n",
    "\n",
    "hello_world(\"Marvin\")\n"
   ]
  },
  {
   "cell_type": "markdown",
   "metadata": {},
   "source": [
    "#### Parameters"
   ]
  },
  {
   "cell_type": "code",
   "execution_count": 14,
   "metadata": {},
   "outputs": [],
   "source": [
    "from prefect import flow\n",
    "from pydantic import BaseModel\n",
    "\n",
    "class Model(BaseModel):\n",
    "    a: int\n",
    "    b: float\n",
    "    c: str\n",
    "\n",
    "@flow\n",
    "def model_validator(model: Model):\n",
    "    print(model)\n"
   ]
  },
  {
   "cell_type": "markdown",
   "metadata": {},
   "source": [
    "Ví dụ: để tự động chuyển đổi thứ gì đó thành ngày giờ:\""
   ]
  },
  {
   "cell_type": "code",
   "execution_count": 15,
   "metadata": {},
   "outputs": [
    {
     "data": {
      "text/html": [
       "<pre style=\"white-space:pre;overflow-x:auto;line-height:normal;font-family:Menlo,'DejaVu Sans Mono',consolas,'Courier New',monospace\">00:44:01.055 | <span style=\"color: #008080; text-decoration-color: #008080\">INFO</span>    | prefect.engine - Created flow run<span style=\"color: #800080; text-decoration-color: #800080\"> 'delectable-waxbill'</span> for flow<span style=\"color: #800080; text-decoration-color: #800080; font-weight: bold\"> 'what-day-is-it'</span>\n",
       "</pre>\n"
      ],
      "text/plain": [
       "00:44:01.055 | \u001b[36mINFO\u001b[0m    | prefect.engine - Created flow run\u001b[35m 'delectable-waxbill'\u001b[0m for flow\u001b[1;35m 'what-day-is-it'\u001b[0m\n"
      ]
     },
     "metadata": {},
     "output_type": "display_data"
    },
    {
     "data": {
      "text/html": [
       "<pre style=\"white-space:pre;overflow-x:auto;line-height:normal;font-family:Menlo,'DejaVu Sans Mono',consolas,'Courier New',monospace\">00:44:01.056 | <span style=\"color: #008080; text-decoration-color: #008080\">INFO</span>    | Flow run<span style=\"color: #800080; text-decoration-color: #800080\"> 'delectable-waxbill'</span> - View at <span style=\"color: #0000ff; text-decoration-color: #0000ff\">http://0.0.0.0:4200/flow-runs/flow-run/aab7ecc3-e1a4-4ffa-b038-d4d602e565d7</span>\n",
       "</pre>\n"
      ],
      "text/plain": [
       "00:44:01.056 | \u001b[36mINFO\u001b[0m    | Flow run\u001b[35m 'delectable-waxbill'\u001b[0m - View at \u001b[94mhttp://0.0.0.0:4200/flow-runs/flow-run/aab7ecc3-e1a4-4ffa-b038-d4d602e565d7\u001b[0m\n"
      ]
     },
     "metadata": {},
     "output_type": "display_data"
    },
    {
     "name": "stdout",
     "output_type": "stream",
     "text": [
      "It was Friday on 2021-01-01T02:00:19.180906\n"
     ]
    },
    {
     "data": {
      "text/html": [
       "<pre style=\"white-space:pre;overflow-x:auto;line-height:normal;font-family:Menlo,'DejaVu Sans Mono',consolas,'Courier New',monospace\">00:44:01.111 | <span style=\"color: #008080; text-decoration-color: #008080\">INFO</span>    | Flow run<span style=\"color: #800080; text-decoration-color: #800080\"> 'delectable-waxbill'</span> - Finished in state <span style=\"color: #008000; text-decoration-color: #008000\">Completed</span>()\n",
       "</pre>\n"
      ],
      "text/plain": [
       "00:44:01.111 | \u001b[36mINFO\u001b[0m    | Flow run\u001b[35m 'delectable-waxbill'\u001b[0m - Finished in state \u001b[32mCompleted\u001b[0m()\n"
      ]
     },
     "metadata": {},
     "output_type": "display_data"
    }
   ],
   "source": [
    "from prefect import flow\n",
    "from datetime import datetime\n",
    "\n",
    "@flow\n",
    "def what_day_is_it(date: datetime = None):\n",
    "    if date is None:\n",
    "        date = datetime.utcnow()\n",
    "    print(f\"It was {date.strftime('%A')} on {date.isoformat()}\")\n",
    "\n",
    "what_day_is_it(\"2021-01-01T02:00:19.180906\")\n",
    "# It was Friday on 2021-01-01T02:00:19.180906\n"
   ]
  },
  {
   "cell_type": "markdown",
   "metadata": {},
   "source": [
    "#### Final state determination\n",
    "\n",
    "- If an exception is raised directly in the flow function, the flow run is marked as failed.\n",
    "- If the flow does not return a value (or returns None), its state is determined by the states of all of the tasks and subflows within it.\n",
    "- If any task run or subflow run failed, then the final flow run state is marked as FAILED.\n",
    "- If any task run was cancelled, then the final flow run state is marked as CANCELLED.\n",
    "- If a flow returns a manually created state, it is used as the state of the final flow run. This allows for manual determination of final state.\n",
    "- If the flow run returns any other object, then it is marked as completed.\n"
   ]
  },
  {
   "cell_type": "markdown",
   "metadata": {},
   "source": [
    "#### Raise an exception"
   ]
  },
  {
   "cell_type": "code",
   "execution_count": 3,
   "metadata": {},
   "outputs": [
    {
     "name": "stderr",
     "output_type": "stream",
     "text": [
      "/Users/ngohongthai/Documents/projects/dl_labs/.conda/lib/python3.9/site-packages/prefect/flows.py:244: UserWarning: A flow named 'always-fails-flow' and defined at '/var/folders/66/6rbnzyf91v9d5v8nb46hmn0h0000gn/T/ipykernel_1573/537351721.py:3' conflicts with another flow. Consider specifying a unique `name` parameter in the flow definition:\n",
      "\n",
      " `@flow(name='my_unique_name', ...)`\n",
      "  warnings.warn(\n"
     ]
    },
    {
     "data": {
      "text/html": [
       "<pre style=\"white-space:pre;overflow-x:auto;line-height:normal;font-family:Menlo,'DejaVu Sans Mono',consolas,'Courier New',monospace\">22:49:10.442 | <span style=\"color: #008080; text-decoration-color: #008080\">INFO</span>    | prefect.engine - Created flow run<span style=\"color: #800080; text-decoration-color: #800080\"> 'vague-aardwolf'</span> for flow<span style=\"color: #800080; text-decoration-color: #800080; font-weight: bold\"> 'always-fails-flow'</span>\n",
       "</pre>\n"
      ],
      "text/plain": [
       "22:49:10.442 | \u001b[36mINFO\u001b[0m    | prefect.engine - Created flow run\u001b[35m 'vague-aardwolf'\u001b[0m for flow\u001b[1;35m 'always-fails-flow'\u001b[0m\n"
      ]
     },
     "metadata": {},
     "output_type": "display_data"
    },
    {
     "data": {
      "text/html": [
       "<pre style=\"white-space:pre;overflow-x:auto;line-height:normal;font-family:Menlo,'DejaVu Sans Mono',consolas,'Courier New',monospace\">22:49:10.444 | <span style=\"color: #008080; text-decoration-color: #008080\">INFO</span>    | Flow run<span style=\"color: #800080; text-decoration-color: #800080\"> 'vague-aardwolf'</span> - View at <span style=\"color: #0000ff; text-decoration-color: #0000ff\">http://0.0.0.0:4200/flow-runs/flow-run/91803ac4-21ec-43d7-976e-68cdc8f2bf39</span>\n",
       "</pre>\n"
      ],
      "text/plain": [
       "22:49:10.444 | \u001b[36mINFO\u001b[0m    | Flow run\u001b[35m 'vague-aardwolf'\u001b[0m - View at \u001b[94mhttp://0.0.0.0:4200/flow-runs/flow-run/91803ac4-21ec-43d7-976e-68cdc8f2bf39\u001b[0m\n"
      ]
     },
     "metadata": {},
     "output_type": "display_data"
    },
    {
     "data": {
      "text/html": [
       "<pre style=\"white-space:pre;overflow-x:auto;line-height:normal;font-family:Menlo,'DejaVu Sans Mono',consolas,'Courier New',monospace\">22:49:10.499 | <span style=\"color: #d70000; text-decoration-color: #d70000\">ERROR</span>   | Flow run<span style=\"color: #800080; text-decoration-color: #800080\"> 'vague-aardwolf'</span> - Encountered exception during execution:\n",
       "Traceback (most recent call last):\n",
       "  File \"/Users/ngohongthai/Documents/projects/dl_labs/.conda/lib/python3.9/site-packages/prefect/engine.py\", line 833, in orchestrate_flow_run\n",
       "    result = await flow_call.aresult()\n",
       "  File \"/Users/ngohongthai/Documents/projects/dl_labs/.conda/lib/python3.9/site-packages/prefect/_internal/concurrency/calls.py\", line 292, in aresult\n",
       "    return await asyncio.wrap_future(self.future)\n",
       "  File \"/Users/ngohongthai/Documents/projects/dl_labs/.conda/lib/python3.9/site-packages/prefect/_internal/concurrency/calls.py\", line 316, in _run_sync\n",
       "    result = self.fn(*self.args, **self.kwargs)\n",
       "  File \"/var/folders/66/6rbnzyf91v9d5v8nb46hmn0h0000gn/T/ipykernel_1573/537351721.py\", line 5, in always_fails_flow\n",
       "    raise ValueError(\"This flow immediately fails\")\n",
       "ValueError: This flow immediately fails\n",
       "</pre>\n"
      ],
      "text/plain": [
       "22:49:10.499 | \u001b[38;5;160mERROR\u001b[0m   | Flow run\u001b[35m 'vague-aardwolf'\u001b[0m - Encountered exception during execution:\n",
       "Traceback (most recent call last):\n",
       "  File \"/Users/ngohongthai/Documents/projects/dl_labs/.conda/lib/python3.9/site-packages/prefect/engine.py\", line 833, in orchestrate_flow_run\n",
       "    result = await flow_call.aresult()\n",
       "  File \"/Users/ngohongthai/Documents/projects/dl_labs/.conda/lib/python3.9/site-packages/prefect/_internal/concurrency/calls.py\", line 292, in aresult\n",
       "    return await asyncio.wrap_future(self.future)\n",
       "  File \"/Users/ngohongthai/Documents/projects/dl_labs/.conda/lib/python3.9/site-packages/prefect/_internal/concurrency/calls.py\", line 316, in _run_sync\n",
       "    result = self.fn(*self.args, **self.kwargs)\n",
       "  File \"/var/folders/66/6rbnzyf91v9d5v8nb46hmn0h0000gn/T/ipykernel_1573/537351721.py\", line 5, in always_fails_flow\n",
       "    raise ValueError(\"This flow immediately fails\")\n",
       "ValueError: This flow immediately fails\n"
      ]
     },
     "metadata": {},
     "output_type": "display_data"
    },
    {
     "data": {
      "text/html": [
       "<pre style=\"white-space:pre;overflow-x:auto;line-height:normal;font-family:Menlo,'DejaVu Sans Mono',consolas,'Courier New',monospace\">22:49:10.522 | <span style=\"color: #d70000; text-decoration-color: #d70000\">ERROR</span>   | Flow run<span style=\"color: #800080; text-decoration-color: #800080\"> 'vague-aardwolf'</span> - Finished in state <span style=\"color: #d70000; text-decoration-color: #d70000\">Failed</span>('Flow run encountered an exception. ValueError: This flow immediately fails')\n",
       "</pre>\n"
      ],
      "text/plain": [
       "22:49:10.522 | \u001b[38;5;160mERROR\u001b[0m   | Flow run\u001b[35m 'vague-aardwolf'\u001b[0m - Finished in state \u001b[38;5;160mFailed\u001b[0m('Flow run encountered an exception. ValueError: This flow immediately fails')\n"
      ]
     },
     "metadata": {},
     "output_type": "display_data"
    },
    {
     "ename": "ValueError",
     "evalue": "This flow immediately fails",
     "output_type": "error",
     "traceback": [
      "\u001b[0;31m---------------------------------------------------------------------------\u001b[0m",
      "\u001b[0;31mValueError\u001b[0m                                Traceback (most recent call last)",
      "Cell \u001b[0;32mIn[3], line 7\u001b[0m\n\u001b[1;32m      3\u001b[0m \u001b[39m@flow\u001b[39m\n\u001b[1;32m      4\u001b[0m \u001b[39mdef\u001b[39;00m \u001b[39malways_fails_flow\u001b[39m():\n\u001b[1;32m      5\u001b[0m     \u001b[39mraise\u001b[39;00m \u001b[39mValueError\u001b[39;00m(\u001b[39m\"\u001b[39m\u001b[39mThis flow immediately fails\u001b[39m\u001b[39m\"\u001b[39m)\n\u001b[0;32m----> 7\u001b[0m always_fails_flow()\n",
      "File \u001b[0;32m~/Documents/projects/dl_labs/.conda/lib/python3.9/site-packages/prefect/flows.py:511\u001b[0m, in \u001b[0;36mFlow.__call__\u001b[0;34m(self, return_state, wait_for, *args, **kwargs)\u001b[0m\n\u001b[1;32m    507\u001b[0m parameters \u001b[39m=\u001b[39m get_call_parameters(\u001b[39mself\u001b[39m\u001b[39m.\u001b[39mfn, args, kwargs)\n\u001b[1;32m    509\u001b[0m return_type \u001b[39m=\u001b[39m \u001b[39m\"\u001b[39m\u001b[39mstate\u001b[39m\u001b[39m\"\u001b[39m \u001b[39mif\u001b[39;00m return_state \u001b[39melse\u001b[39;00m \u001b[39m\"\u001b[39m\u001b[39mresult\u001b[39m\u001b[39m\"\u001b[39m\n\u001b[0;32m--> 511\u001b[0m \u001b[39mreturn\u001b[39;00m enter_flow_run_engine_from_flow_call(\n\u001b[1;32m    512\u001b[0m     \u001b[39mself\u001b[39;49m,\n\u001b[1;32m    513\u001b[0m     parameters,\n\u001b[1;32m    514\u001b[0m     wait_for\u001b[39m=\u001b[39;49mwait_for,\n\u001b[1;32m    515\u001b[0m     return_type\u001b[39m=\u001b[39;49mreturn_type,\n\u001b[1;32m    516\u001b[0m )\n",
      "File \u001b[0;32m~/Documents/projects/dl_labs/.conda/lib/python3.9/site-packages/prefect/engine.py:272\u001b[0m, in \u001b[0;36menter_flow_run_engine_from_flow_call\u001b[0;34m(flow, parameters, wait_for, return_type)\u001b[0m\n\u001b[1;32m    265\u001b[0m     retval \u001b[39m=\u001b[39m from_async\u001b[39m.\u001b[39mwait_for_call_in_loop_thread(\n\u001b[1;32m    266\u001b[0m         begin_run,\n\u001b[1;32m    267\u001b[0m         done_callbacks\u001b[39m=\u001b[39mdone_callbacks,\n\u001b[1;32m    268\u001b[0m         contexts\u001b[39m=\u001b[39mcontexts,\n\u001b[1;32m    269\u001b[0m     )\n\u001b[1;32m    271\u001b[0m \u001b[39melse\u001b[39;00m:\n\u001b[0;32m--> 272\u001b[0m     retval \u001b[39m=\u001b[39m from_sync\u001b[39m.\u001b[39;49mwait_for_call_in_loop_thread(\n\u001b[1;32m    273\u001b[0m         begin_run,\n\u001b[1;32m    274\u001b[0m         done_callbacks\u001b[39m=\u001b[39;49mdone_callbacks,\n\u001b[1;32m    275\u001b[0m         contexts\u001b[39m=\u001b[39;49mcontexts,\n\u001b[1;32m    276\u001b[0m     )\n\u001b[1;32m    278\u001b[0m \u001b[39mreturn\u001b[39;00m retval\n",
      "File \u001b[0;32m~/Documents/projects/dl_labs/.conda/lib/python3.9/site-packages/prefect/_internal/concurrency/api.py:243\u001b[0m, in \u001b[0;36mfrom_sync.wait_for_call_in_loop_thread\u001b[0;34m(_from_sync__call, timeout, done_callbacks, contexts)\u001b[0m\n\u001b[1;32m    241\u001b[0m     stack\u001b[39m.\u001b[39menter_context(context)\n\u001b[1;32m    242\u001b[0m waiter\u001b[39m.\u001b[39mwait()\n\u001b[0;32m--> 243\u001b[0m \u001b[39mreturn\u001b[39;00m call\u001b[39m.\u001b[39;49mresult()\n",
      "File \u001b[0;32m~/Documents/projects/dl_labs/.conda/lib/python3.9/site-packages/prefect/_internal/concurrency/calls.py:283\u001b[0m, in \u001b[0;36mCall.result\u001b[0;34m(self, timeout)\u001b[0m\n\u001b[1;32m    277\u001b[0m \u001b[39mdef\u001b[39;00m \u001b[39mresult\u001b[39m(\u001b[39mself\u001b[39m, timeout: Optional[\u001b[39mfloat\u001b[39m] \u001b[39m=\u001b[39m \u001b[39mNone\u001b[39;00m) \u001b[39m-\u001b[39m\u001b[39m>\u001b[39m T:\n\u001b[1;32m    278\u001b[0m \u001b[39m    \u001b[39m\u001b[39m\"\"\"\u001b[39;00m\n\u001b[1;32m    279\u001b[0m \u001b[39m    Wait for the result of the call.\u001b[39;00m\n\u001b[1;32m    280\u001b[0m \n\u001b[1;32m    281\u001b[0m \u001b[39m    Not safe for use from asynchronous contexts.\u001b[39;00m\n\u001b[1;32m    282\u001b[0m \u001b[39m    \"\"\"\u001b[39;00m\n\u001b[0;32m--> 283\u001b[0m     \u001b[39mreturn\u001b[39;00m \u001b[39mself\u001b[39;49m\u001b[39m.\u001b[39;49mfuture\u001b[39m.\u001b[39;49mresult(timeout\u001b[39m=\u001b[39;49mtimeout)\n",
      "File \u001b[0;32m~/Documents/projects/dl_labs/.conda/lib/python3.9/site-packages/prefect/_internal/concurrency/calls.py:169\u001b[0m, in \u001b[0;36mFuture.result\u001b[0;34m(self, timeout)\u001b[0m\n\u001b[1;32m    167\u001b[0m     \u001b[39mraise\u001b[39;00m CancelledError()\n\u001b[1;32m    168\u001b[0m \u001b[39melif\u001b[39;00m \u001b[39mself\u001b[39m\u001b[39m.\u001b[39m_state \u001b[39m==\u001b[39m FINISHED:\n\u001b[0;32m--> 169\u001b[0m     \u001b[39mreturn\u001b[39;00m \u001b[39mself\u001b[39;49m\u001b[39m.\u001b[39;49m__get_result()\n\u001b[1;32m    171\u001b[0m \u001b[39mself\u001b[39m\u001b[39m.\u001b[39m_condition\u001b[39m.\u001b[39mwait(timeout)\n\u001b[1;32m    173\u001b[0m \u001b[39mif\u001b[39;00m \u001b[39mself\u001b[39m\u001b[39m.\u001b[39m_state \u001b[39min\u001b[39;00m [CANCELLED, CANCELLED_AND_NOTIFIED]:\n\u001b[1;32m    174\u001b[0m     \u001b[39m# Raise Prefect cancelled error instead of\u001b[39;00m\n\u001b[1;32m    175\u001b[0m     \u001b[39m# `concurrent.futures._base.CancelledError`\u001b[39;00m\n",
      "File \u001b[0;32m~/Documents/projects/dl_labs/.conda/lib/python3.9/concurrent/futures/_base.py:391\u001b[0m, in \u001b[0;36mFuture.__get_result\u001b[0;34m(self)\u001b[0m\n\u001b[1;32m    389\u001b[0m \u001b[39mif\u001b[39;00m \u001b[39mself\u001b[39m\u001b[39m.\u001b[39m_exception:\n\u001b[1;32m    390\u001b[0m     \u001b[39mtry\u001b[39;00m:\n\u001b[0;32m--> 391\u001b[0m         \u001b[39mraise\u001b[39;00m \u001b[39mself\u001b[39m\u001b[39m.\u001b[39m_exception\n\u001b[1;32m    392\u001b[0m     \u001b[39mfinally\u001b[39;00m:\n\u001b[1;32m    393\u001b[0m         \u001b[39m# Break a reference cycle with the exception in self._exception\u001b[39;00m\n\u001b[1;32m    394\u001b[0m         \u001b[39mself\u001b[39m \u001b[39m=\u001b[39m \u001b[39mNone\u001b[39;00m\n",
      "File \u001b[0;32m~/Documents/projects/dl_labs/.conda/lib/python3.9/site-packages/prefect/_internal/concurrency/calls.py:346\u001b[0m, in \u001b[0;36mCall._run_async\u001b[0;34m(***failed resolving arguments***)\u001b[0m\n\u001b[1;32m    344\u001b[0m     \u001b[39mwith\u001b[39;00m set_current_call(\u001b[39mself\u001b[39m):\n\u001b[1;32m    345\u001b[0m         \u001b[39mwith\u001b[39;00m \u001b[39mself\u001b[39m\u001b[39m.\u001b[39mfuture\u001b[39m.\u001b[39menforce_async_deadline() \u001b[39mas\u001b[39;00m cancel_scope:\n\u001b[0;32m--> 346\u001b[0m             result \u001b[39m=\u001b[39m \u001b[39mawait\u001b[39;00m coro\n\u001b[1;32m    347\u001b[0m \u001b[39mexcept\u001b[39;00m CancelledError:\n\u001b[1;32m    348\u001b[0m     \u001b[39m# Report cancellation\u001b[39;00m\n\u001b[1;32m    349\u001b[0m     \u001b[39mif\u001b[39;00m cancel_scope\u001b[39m.\u001b[39mtimedout():\n",
      "File \u001b[0;32m~/Documents/projects/dl_labs/.conda/lib/python3.9/site-packages/prefect/client/utilities.py:51\u001b[0m, in \u001b[0;36minject_client.<locals>.with_injected_client\u001b[0;34m(*args, **kwargs)\u001b[0m\n\u001b[1;32m     49\u001b[0m \u001b[39masync\u001b[39;00m \u001b[39mwith\u001b[39;00m client_context \u001b[39mas\u001b[39;00m new_client:\n\u001b[1;32m     50\u001b[0m     kwargs\u001b[39m.\u001b[39msetdefault(\u001b[39m\"\u001b[39m\u001b[39mclient\u001b[39m\u001b[39m\"\u001b[39m, new_client \u001b[39mor\u001b[39;00m client)\n\u001b[0;32m---> 51\u001b[0m     \u001b[39mreturn\u001b[39;00m \u001b[39mawait\u001b[39;00m fn(\u001b[39m*\u001b[39margs, \u001b[39m*\u001b[39m\u001b[39m*\u001b[39mkwargs)\n",
      "File \u001b[0;32m~/Documents/projects/dl_labs/.conda/lib/python3.9/site-packages/prefect/engine.py:375\u001b[0m, in \u001b[0;36mcreate_then_begin_flow_run\u001b[0;34m(flow, parameters, wait_for, return_type, client, user_thread)\u001b[0m\n\u001b[1;32m    373\u001b[0m     \u001b[39mreturn\u001b[39;00m state\n\u001b[1;32m    374\u001b[0m \u001b[39melif\u001b[39;00m return_type \u001b[39m==\u001b[39m \u001b[39m\"\u001b[39m\u001b[39mresult\u001b[39m\u001b[39m\"\u001b[39m:\n\u001b[0;32m--> 375\u001b[0m     \u001b[39mreturn\u001b[39;00m \u001b[39mawait\u001b[39;00m state\u001b[39m.\u001b[39mresult(fetch\u001b[39m=\u001b[39m\u001b[39mTrue\u001b[39;00m)\n\u001b[1;32m    376\u001b[0m \u001b[39melse\u001b[39;00m:\n\u001b[1;32m    377\u001b[0m     \u001b[39mraise\u001b[39;00m \u001b[39mValueError\u001b[39;00m(\u001b[39mf\u001b[39m\u001b[39m\"\u001b[39m\u001b[39mInvalid return type for flow engine \u001b[39m\u001b[39m{\u001b[39;00mreturn_type\u001b[39m!r}\u001b[39;00m\u001b[39m.\u001b[39m\u001b[39m\"\u001b[39m)\n",
      "File \u001b[0;32m~/Documents/projects/dl_labs/.conda/lib/python3.9/site-packages/prefect/states.py:91\u001b[0m, in \u001b[0;36m_get_state_result\u001b[0;34m(state, raise_on_failure)\u001b[0m\n\u001b[1;32m     84\u001b[0m     \u001b[39mraise\u001b[39;00m UnfinishedRun(\n\u001b[1;32m     85\u001b[0m         \u001b[39mf\u001b[39m\u001b[39m\"\u001b[39m\u001b[39mRun is in \u001b[39m\u001b[39m{\u001b[39;00mstate\u001b[39m.\u001b[39mtype\u001b[39m.\u001b[39mname\u001b[39m}\u001b[39;00m\u001b[39m state, its result is not available.\u001b[39m\u001b[39m\"\u001b[39m\n\u001b[1;32m     86\u001b[0m     )\n\u001b[1;32m     88\u001b[0m \u001b[39mif\u001b[39;00m raise_on_failure \u001b[39mand\u001b[39;00m (\n\u001b[1;32m     89\u001b[0m     state\u001b[39m.\u001b[39mis_crashed() \u001b[39mor\u001b[39;00m state\u001b[39m.\u001b[39mis_failed() \u001b[39mor\u001b[39;00m state\u001b[39m.\u001b[39mis_cancelled()\n\u001b[1;32m     90\u001b[0m ):\n\u001b[0;32m---> 91\u001b[0m     \u001b[39mraise\u001b[39;00m \u001b[39mawait\u001b[39;00m get_state_exception(state)\n\u001b[1;32m     93\u001b[0m \u001b[39mif\u001b[39;00m \u001b[39misinstance\u001b[39m(state\u001b[39m.\u001b[39mdata, DataDocument):\n\u001b[1;32m     94\u001b[0m     result \u001b[39m=\u001b[39m result_from_state_with_data_document(\n\u001b[1;32m     95\u001b[0m         state, raise_on_failure\u001b[39m=\u001b[39mraise_on_failure\n\u001b[1;32m     96\u001b[0m     )\n",
      "File \u001b[0;32m~/Documents/projects/dl_labs/.conda/lib/python3.9/site-packages/prefect/engine.py:833\u001b[0m, in \u001b[0;36morchestrate_flow_run\u001b[0;34m(flow, flow_run, parameters, wait_for, interruptible, client, partial_flow_run_context, user_thread)\u001b[0m\n\u001b[1;32m    828\u001b[0m         \u001b[39melse\u001b[39;00m:\n\u001b[1;32m    829\u001b[0m             from_async\u001b[39m.\u001b[39mcall_soon_in_new_thread(\n\u001b[1;32m    830\u001b[0m                 flow_call, timeout\u001b[39m=\u001b[39mflow\u001b[39m.\u001b[39mtimeout_seconds\n\u001b[1;32m    831\u001b[0m             )\n\u001b[0;32m--> 833\u001b[0m         result \u001b[39m=\u001b[39m \u001b[39mawait\u001b[39;00m flow_call\u001b[39m.\u001b[39maresult()\n\u001b[1;32m    835\u001b[0m         waited_for_task_runs \u001b[39m=\u001b[39m \u001b[39mawait\u001b[39;00m wait_for_task_runs_and_report_crashes(\n\u001b[1;32m    836\u001b[0m             flow_run_context\u001b[39m.\u001b[39mtask_run_futures, client\u001b[39m=\u001b[39mclient\n\u001b[1;32m    837\u001b[0m         )\n\u001b[1;32m    838\u001b[0m \u001b[39mexcept\u001b[39;00m PausedRun:\n",
      "File \u001b[0;32m~/Documents/projects/dl_labs/.conda/lib/python3.9/site-packages/prefect/_internal/concurrency/calls.py:292\u001b[0m, in \u001b[0;36mCall.aresult\u001b[0;34m(self)\u001b[0m\n\u001b[1;32m    286\u001b[0m \u001b[39m\u001b[39m\u001b[39m\"\"\"\u001b[39;00m\n\u001b[1;32m    287\u001b[0m \u001b[39mWait for the result of the call.\u001b[39;00m\n\u001b[1;32m    288\u001b[0m \n\u001b[1;32m    289\u001b[0m \u001b[39mFor use from asynchronous contexts.\u001b[39;00m\n\u001b[1;32m    290\u001b[0m \u001b[39m\"\"\"\u001b[39;00m\n\u001b[1;32m    291\u001b[0m \u001b[39mtry\u001b[39;00m:\n\u001b[0;32m--> 292\u001b[0m     \u001b[39mreturn\u001b[39;00m \u001b[39mawait\u001b[39;00m asyncio\u001b[39m.\u001b[39mwrap_future(\u001b[39mself\u001b[39m\u001b[39m.\u001b[39mfuture)\n\u001b[1;32m    293\u001b[0m \u001b[39mexcept\u001b[39;00m asyncio\u001b[39m.\u001b[39mCancelledError \u001b[39mas\u001b[39;00m exc:\n\u001b[1;32m    294\u001b[0m     \u001b[39mraise\u001b[39;00m CancelledError() \u001b[39mfrom\u001b[39;00m \u001b[39mexc\u001b[39;00m\n",
      "File \u001b[0;32m~/Documents/projects/dl_labs/.conda/lib/python3.9/site-packages/prefect/_internal/concurrency/calls.py:316\u001b[0m, in \u001b[0;36mCall._run_sync\u001b[0;34m(***failed resolving arguments***)\u001b[0m\n\u001b[1;32m    314\u001b[0m \u001b[39mwith\u001b[39;00m set_current_call(\u001b[39mself\u001b[39m):\n\u001b[1;32m    315\u001b[0m     \u001b[39mwith\u001b[39;00m \u001b[39mself\u001b[39m\u001b[39m.\u001b[39mfuture\u001b[39m.\u001b[39menforce_sync_deadline() \u001b[39mas\u001b[39;00m cancel_scope:\n\u001b[0;32m--> 316\u001b[0m         result \u001b[39m=\u001b[39m \u001b[39mself\u001b[39;49m\u001b[39m.\u001b[39;49mfn(\u001b[39m*\u001b[39;49m\u001b[39mself\u001b[39;49m\u001b[39m.\u001b[39;49margs, \u001b[39m*\u001b[39;49m\u001b[39m*\u001b[39;49m\u001b[39mself\u001b[39;49m\u001b[39m.\u001b[39;49mkwargs)\n\u001b[1;32m    318\u001b[0m \u001b[39m# Return the coroutine for async execution\u001b[39;00m\n\u001b[1;32m    319\u001b[0m \u001b[39mif\u001b[39;00m inspect\u001b[39m.\u001b[39misawaitable(result):\n",
      "Cell \u001b[0;32mIn[3], line 5\u001b[0m, in \u001b[0;36malways_fails_flow\u001b[0;34m()\u001b[0m\n\u001b[1;32m      3\u001b[0m \u001b[39m@flow\u001b[39m\n\u001b[1;32m      4\u001b[0m \u001b[39mdef\u001b[39;00m \u001b[39malways_fails_flow\u001b[39m():\n\u001b[0;32m----> 5\u001b[0m     \u001b[39mraise\u001b[39;00m \u001b[39mValueError\u001b[39;00m(\u001b[39m\"\u001b[39m\u001b[39mThis flow immediately fails\u001b[39m\u001b[39m\"\u001b[39m)\n",
      "\u001b[0;31mValueError\u001b[0m: This flow immediately fails"
     ]
    }
   ],
   "source": [
    "from prefect import flow\n",
    "\n",
    "@flow\n",
    "def always_fails_flow():\n",
    "    raise ValueError(\"This flow immediately fails\")\n",
    "\n",
    "always_fails_flow()\n"
   ]
  },
  {
   "cell_type": "markdown",
   "metadata": {},
   "source": [
    "#### Return None"
   ]
  },
  {
   "cell_type": "code",
   "execution_count": 4,
   "metadata": {},
   "outputs": [
    {
     "name": "stderr",
     "output_type": "stream",
     "text": [
      "/Users/ngohongthai/Documents/projects/dl_labs/.conda/lib/python3.9/site-packages/prefect/flows.py:244: UserWarning: A flow named 'always-fails-flow' and defined at '/var/folders/66/6rbnzyf91v9d5v8nb46hmn0h0000gn/T/ipykernel_1573/458152494.py:12' conflicts with another flow. Consider specifying a unique `name` parameter in the flow definition:\n",
      "\n",
      " `@flow(name='my_unique_name', ...)`\n",
      "  warnings.warn(\n"
     ]
    },
    {
     "data": {
      "text/html": [
       "<pre style=\"white-space:pre;overflow-x:auto;line-height:normal;font-family:Menlo,'DejaVu Sans Mono',consolas,'Courier New',monospace\">23:08:01.616 | <span style=\"color: #008080; text-decoration-color: #008080\">INFO</span>    | prefect.engine - Created flow run<span style=\"color: #800080; text-decoration-color: #800080\"> 'ultramarine-goldfish'</span> for flow<span style=\"color: #800080; text-decoration-color: #800080; font-weight: bold\"> 'always-fails-flow'</span>\n",
       "</pre>\n"
      ],
      "text/plain": [
       "23:08:01.616 | \u001b[36mINFO\u001b[0m    | prefect.engine - Created flow run\u001b[35m 'ultramarine-goldfish'\u001b[0m for flow\u001b[1;35m 'always-fails-flow'\u001b[0m\n"
      ]
     },
     "metadata": {},
     "output_type": "display_data"
    },
    {
     "data": {
      "text/html": [
       "<pre style=\"white-space:pre;overflow-x:auto;line-height:normal;font-family:Menlo,'DejaVu Sans Mono',consolas,'Courier New',monospace\">23:08:01.617 | <span style=\"color: #008080; text-decoration-color: #008080\">INFO</span>    | Flow run<span style=\"color: #800080; text-decoration-color: #800080\"> 'ultramarine-goldfish'</span> - View at <span style=\"color: #0000ff; text-decoration-color: #0000ff\">http://0.0.0.0:4200/flow-runs/flow-run/28b41819-e847-4714-b78d-2b4f839af7e7</span>\n",
       "</pre>\n"
      ],
      "text/plain": [
       "23:08:01.617 | \u001b[36mINFO\u001b[0m    | Flow run\u001b[35m 'ultramarine-goldfish'\u001b[0m - View at \u001b[94mhttp://0.0.0.0:4200/flow-runs/flow-run/28b41819-e847-4714-b78d-2b4f839af7e7\u001b[0m\n"
      ]
     },
     "metadata": {},
     "output_type": "display_data"
    },
    {
     "data": {
      "text/html": [
       "<pre style=\"white-space:pre;overflow-x:auto;line-height:normal;font-family:Menlo,'DejaVu Sans Mono',consolas,'Courier New',monospace\">23:08:01.679 | <span style=\"color: #008080; text-decoration-color: #008080\">INFO</span>    | Flow run<span style=\"color: #800080; text-decoration-color: #800080\"> 'ultramarine-goldfish'</span> - Created task run 'always_fails_task-0' for task 'always_fails_task'\n",
       "</pre>\n"
      ],
      "text/plain": [
       "23:08:01.679 | \u001b[36mINFO\u001b[0m    | Flow run\u001b[35m 'ultramarine-goldfish'\u001b[0m - Created task run 'always_fails_task-0' for task 'always_fails_task'\n"
      ]
     },
     "metadata": {},
     "output_type": "display_data"
    },
    {
     "data": {
      "text/html": [
       "<pre style=\"white-space:pre;overflow-x:auto;line-height:normal;font-family:Menlo,'DejaVu Sans Mono',consolas,'Courier New',monospace\">23:08:01.681 | <span style=\"color: #008080; text-decoration-color: #008080\">INFO</span>    | Flow run<span style=\"color: #800080; text-decoration-color: #800080\"> 'ultramarine-goldfish'</span> - Submitted task run 'always_fails_task-0' for execution.\n",
       "</pre>\n"
      ],
      "text/plain": [
       "23:08:01.681 | \u001b[36mINFO\u001b[0m    | Flow run\u001b[35m 'ultramarine-goldfish'\u001b[0m - Submitted task run 'always_fails_task-0' for execution.\n"
      ]
     },
     "metadata": {},
     "output_type": "display_data"
    },
    {
     "data": {
      "text/html": [
       "<pre style=\"white-space:pre;overflow-x:auto;line-height:normal;font-family:Menlo,'DejaVu Sans Mono',consolas,'Courier New',monospace\">23:08:01.724 | <span style=\"color: #d70000; text-decoration-color: #d70000\">ERROR</span>   | Task run 'always_fails_task-0' - Encountered exception during execution:\n",
       "Traceback (most recent call last):\n",
       "  File \"/Users/ngohongthai/Documents/projects/dl_labs/.conda/lib/python3.9/site-packages/prefect/engine.py\", line 1719, in orchestrate_task_run\n",
       "    result = await call.aresult()\n",
       "  File \"/Users/ngohongthai/Documents/projects/dl_labs/.conda/lib/python3.9/site-packages/prefect/_internal/concurrency/calls.py\", line 292, in aresult\n",
       "    return await asyncio.wrap_future(self.future)\n",
       "  File \"/Users/ngohongthai/Documents/projects/dl_labs/.conda/lib/python3.9/site-packages/prefect/_internal/concurrency/calls.py\", line 316, in _run_sync\n",
       "    result = self.fn(*self.args, **self.kwargs)\n",
       "  File \"/var/folders/66/6rbnzyf91v9d5v8nb46hmn0h0000gn/T/ipykernel_1573/458152494.py\", line 5, in always_fails_task\n",
       "    raise ValueError(\"I fail successfully\")\n",
       "ValueError: I fail successfully\n",
       "</pre>\n"
      ],
      "text/plain": [
       "23:08:01.724 | \u001b[38;5;160mERROR\u001b[0m   | Task run 'always_fails_task-0' - Encountered exception during execution:\n",
       "Traceback (most recent call last):\n",
       "  File \"/Users/ngohongthai/Documents/projects/dl_labs/.conda/lib/python3.9/site-packages/prefect/engine.py\", line 1719, in orchestrate_task_run\n",
       "    result = await call.aresult()\n",
       "  File \"/Users/ngohongthai/Documents/projects/dl_labs/.conda/lib/python3.9/site-packages/prefect/_internal/concurrency/calls.py\", line 292, in aresult\n",
       "    return await asyncio.wrap_future(self.future)\n",
       "  File \"/Users/ngohongthai/Documents/projects/dl_labs/.conda/lib/python3.9/site-packages/prefect/_internal/concurrency/calls.py\", line 316, in _run_sync\n",
       "    result = self.fn(*self.args, **self.kwargs)\n",
       "  File \"/var/folders/66/6rbnzyf91v9d5v8nb46hmn0h0000gn/T/ipykernel_1573/458152494.py\", line 5, in always_fails_task\n",
       "    raise ValueError(\"I fail successfully\")\n",
       "ValueError: I fail successfully\n"
      ]
     },
     "metadata": {},
     "output_type": "display_data"
    },
    {
     "data": {
      "text/html": [
       "<pre style=\"white-space:pre;overflow-x:auto;line-height:normal;font-family:Menlo,'DejaVu Sans Mono',consolas,'Courier New',monospace\">23:08:01.742 | <span style=\"color: #d70000; text-decoration-color: #d70000\">ERROR</span>   | Task run 'always_fails_task-0' - Finished in state <span style=\"color: #d70000; text-decoration-color: #d70000\">Failed</span>('Task run encountered an exception ValueError: I fail successfully')\n",
       "</pre>\n"
      ],
      "text/plain": [
       "23:08:01.742 | \u001b[38;5;160mERROR\u001b[0m   | Task run 'always_fails_task-0' - Finished in state \u001b[38;5;160mFailed\u001b[0m('Task run encountered an exception ValueError: I fail successfully')\n"
      ]
     },
     "metadata": {},
     "output_type": "display_data"
    },
    {
     "data": {
      "text/html": [
       "<pre style=\"white-space:pre;overflow-x:auto;line-height:normal;font-family:Menlo,'DejaVu Sans Mono',consolas,'Courier New',monospace\">23:08:01.752 | <span style=\"color: #008080; text-decoration-color: #008080\">INFO</span>    | Flow run<span style=\"color: #800080; text-decoration-color: #800080\"> 'ultramarine-goldfish'</span> - Created task run 'always_succeeds_task-0' for task 'always_succeeds_task'\n",
       "</pre>\n"
      ],
      "text/plain": [
       "23:08:01.752 | \u001b[36mINFO\u001b[0m    | Flow run\u001b[35m 'ultramarine-goldfish'\u001b[0m - Created task run 'always_succeeds_task-0' for task 'always_succeeds_task'\n"
      ]
     },
     "metadata": {},
     "output_type": "display_data"
    },
    {
     "data": {
      "text/html": [
       "<pre style=\"white-space:pre;overflow-x:auto;line-height:normal;font-family:Menlo,'DejaVu Sans Mono',consolas,'Courier New',monospace\">23:08:01.753 | <span style=\"color: #008080; text-decoration-color: #008080\">INFO</span>    | Flow run<span style=\"color: #800080; text-decoration-color: #800080\"> 'ultramarine-goldfish'</span> - Executing 'always_succeeds_task-0' immediately...\n",
       "</pre>\n"
      ],
      "text/plain": [
       "23:08:01.753 | \u001b[36mINFO\u001b[0m    | Flow run\u001b[35m 'ultramarine-goldfish'\u001b[0m - Executing 'always_succeeds_task-0' immediately...\n"
      ]
     },
     "metadata": {},
     "output_type": "display_data"
    },
    {
     "name": "stdout",
     "output_type": "stream",
     "text": [
      "I'm fail safe!\n"
     ]
    },
    {
     "data": {
      "text/html": [
       "<pre style=\"white-space:pre;overflow-x:auto;line-height:normal;font-family:Menlo,'DejaVu Sans Mono',consolas,'Courier New',monospace\">23:08:01.806 | <span style=\"color: #008080; text-decoration-color: #008080\">INFO</span>    | Task run 'always_succeeds_task-0' - Finished in state <span style=\"color: #008000; text-decoration-color: #008000\">Completed</span>()\n",
       "</pre>\n"
      ],
      "text/plain": [
       "23:08:01.806 | \u001b[36mINFO\u001b[0m    | Task run 'always_succeeds_task-0' - Finished in state \u001b[32mCompleted\u001b[0m()\n"
      ]
     },
     "metadata": {},
     "output_type": "display_data"
    },
    {
     "data": {
      "text/html": [
       "<pre style=\"white-space:pre;overflow-x:auto;line-height:normal;font-family:Menlo,'DejaVu Sans Mono',consolas,'Courier New',monospace\">23:08:01.820 | <span style=\"color: #d70000; text-decoration-color: #d70000\">ERROR</span>   | Flow run<span style=\"color: #800080; text-decoration-color: #800080\"> 'ultramarine-goldfish'</span> - Finished in state <span style=\"color: #d70000; text-decoration-color: #d70000\">Failed</span>('1/2 states failed.')\n",
       "</pre>\n"
      ],
      "text/plain": [
       "23:08:01.820 | \u001b[38;5;160mERROR\u001b[0m   | Flow run\u001b[35m 'ultramarine-goldfish'\u001b[0m - Finished in state \u001b[38;5;160mFailed\u001b[0m('1/2 states failed.')\n"
      ]
     },
     "metadata": {},
     "output_type": "display_data"
    },
    {
     "ename": "ValueError",
     "evalue": "I fail successfully",
     "output_type": "error",
     "traceback": [
      "\u001b[0;31m---------------------------------------------------------------------------\u001b[0m",
      "\u001b[0;31mValueError\u001b[0m                                Traceback (most recent call last)",
      "Cell \u001b[0;32mIn[4], line 17\u001b[0m\n\u001b[1;32m     14\u001b[0m     always_fails_task\u001b[39m.\u001b[39msubmit()\u001b[39m.\u001b[39mresult(raise_on_failure\u001b[39m=\u001b[39m\u001b[39mFalse\u001b[39;00m)\n\u001b[1;32m     15\u001b[0m     always_succeeds_task()\n\u001b[0;32m---> 17\u001b[0m always_fails_flow()\n",
      "File \u001b[0;32m~/Documents/projects/dl_labs/.conda/lib/python3.9/site-packages/prefect/flows.py:511\u001b[0m, in \u001b[0;36mFlow.__call__\u001b[0;34m(self, return_state, wait_for, *args, **kwargs)\u001b[0m\n\u001b[1;32m    507\u001b[0m parameters \u001b[39m=\u001b[39m get_call_parameters(\u001b[39mself\u001b[39m\u001b[39m.\u001b[39mfn, args, kwargs)\n\u001b[1;32m    509\u001b[0m return_type \u001b[39m=\u001b[39m \u001b[39m\"\u001b[39m\u001b[39mstate\u001b[39m\u001b[39m\"\u001b[39m \u001b[39mif\u001b[39;00m return_state \u001b[39melse\u001b[39;00m \u001b[39m\"\u001b[39m\u001b[39mresult\u001b[39m\u001b[39m\"\u001b[39m\n\u001b[0;32m--> 511\u001b[0m \u001b[39mreturn\u001b[39;00m enter_flow_run_engine_from_flow_call(\n\u001b[1;32m    512\u001b[0m     \u001b[39mself\u001b[39;49m,\n\u001b[1;32m    513\u001b[0m     parameters,\n\u001b[1;32m    514\u001b[0m     wait_for\u001b[39m=\u001b[39;49mwait_for,\n\u001b[1;32m    515\u001b[0m     return_type\u001b[39m=\u001b[39;49mreturn_type,\n\u001b[1;32m    516\u001b[0m )\n",
      "File \u001b[0;32m~/Documents/projects/dl_labs/.conda/lib/python3.9/site-packages/prefect/engine.py:272\u001b[0m, in \u001b[0;36menter_flow_run_engine_from_flow_call\u001b[0;34m(flow, parameters, wait_for, return_type)\u001b[0m\n\u001b[1;32m    265\u001b[0m     retval \u001b[39m=\u001b[39m from_async\u001b[39m.\u001b[39mwait_for_call_in_loop_thread(\n\u001b[1;32m    266\u001b[0m         begin_run,\n\u001b[1;32m    267\u001b[0m         done_callbacks\u001b[39m=\u001b[39mdone_callbacks,\n\u001b[1;32m    268\u001b[0m         contexts\u001b[39m=\u001b[39mcontexts,\n\u001b[1;32m    269\u001b[0m     )\n\u001b[1;32m    271\u001b[0m \u001b[39melse\u001b[39;00m:\n\u001b[0;32m--> 272\u001b[0m     retval \u001b[39m=\u001b[39m from_sync\u001b[39m.\u001b[39;49mwait_for_call_in_loop_thread(\n\u001b[1;32m    273\u001b[0m         begin_run,\n\u001b[1;32m    274\u001b[0m         done_callbacks\u001b[39m=\u001b[39;49mdone_callbacks,\n\u001b[1;32m    275\u001b[0m         contexts\u001b[39m=\u001b[39;49mcontexts,\n\u001b[1;32m    276\u001b[0m     )\n\u001b[1;32m    278\u001b[0m \u001b[39mreturn\u001b[39;00m retval\n",
      "File \u001b[0;32m~/Documents/projects/dl_labs/.conda/lib/python3.9/site-packages/prefect/_internal/concurrency/api.py:243\u001b[0m, in \u001b[0;36mfrom_sync.wait_for_call_in_loop_thread\u001b[0;34m(_from_sync__call, timeout, done_callbacks, contexts)\u001b[0m\n\u001b[1;32m    241\u001b[0m     stack\u001b[39m.\u001b[39menter_context(context)\n\u001b[1;32m    242\u001b[0m waiter\u001b[39m.\u001b[39mwait()\n\u001b[0;32m--> 243\u001b[0m \u001b[39mreturn\u001b[39;00m call\u001b[39m.\u001b[39;49mresult()\n",
      "File \u001b[0;32m~/Documents/projects/dl_labs/.conda/lib/python3.9/site-packages/prefect/_internal/concurrency/calls.py:283\u001b[0m, in \u001b[0;36mCall.result\u001b[0;34m(self, timeout)\u001b[0m\n\u001b[1;32m    277\u001b[0m \u001b[39mdef\u001b[39;00m \u001b[39mresult\u001b[39m(\u001b[39mself\u001b[39m, timeout: Optional[\u001b[39mfloat\u001b[39m] \u001b[39m=\u001b[39m \u001b[39mNone\u001b[39;00m) \u001b[39m-\u001b[39m\u001b[39m>\u001b[39m T:\n\u001b[1;32m    278\u001b[0m \u001b[39m    \u001b[39m\u001b[39m\"\"\"\u001b[39;00m\n\u001b[1;32m    279\u001b[0m \u001b[39m    Wait for the result of the call.\u001b[39;00m\n\u001b[1;32m    280\u001b[0m \n\u001b[1;32m    281\u001b[0m \u001b[39m    Not safe for use from asynchronous contexts.\u001b[39;00m\n\u001b[1;32m    282\u001b[0m \u001b[39m    \"\"\"\u001b[39;00m\n\u001b[0;32m--> 283\u001b[0m     \u001b[39mreturn\u001b[39;00m \u001b[39mself\u001b[39;49m\u001b[39m.\u001b[39;49mfuture\u001b[39m.\u001b[39;49mresult(timeout\u001b[39m=\u001b[39;49mtimeout)\n",
      "File \u001b[0;32m~/Documents/projects/dl_labs/.conda/lib/python3.9/site-packages/prefect/_internal/concurrency/calls.py:169\u001b[0m, in \u001b[0;36mFuture.result\u001b[0;34m(self, timeout)\u001b[0m\n\u001b[1;32m    167\u001b[0m     \u001b[39mraise\u001b[39;00m CancelledError()\n\u001b[1;32m    168\u001b[0m \u001b[39melif\u001b[39;00m \u001b[39mself\u001b[39m\u001b[39m.\u001b[39m_state \u001b[39m==\u001b[39m FINISHED:\n\u001b[0;32m--> 169\u001b[0m     \u001b[39mreturn\u001b[39;00m \u001b[39mself\u001b[39;49m\u001b[39m.\u001b[39;49m__get_result()\n\u001b[1;32m    171\u001b[0m \u001b[39mself\u001b[39m\u001b[39m.\u001b[39m_condition\u001b[39m.\u001b[39mwait(timeout)\n\u001b[1;32m    173\u001b[0m \u001b[39mif\u001b[39;00m \u001b[39mself\u001b[39m\u001b[39m.\u001b[39m_state \u001b[39min\u001b[39;00m [CANCELLED, CANCELLED_AND_NOTIFIED]:\n\u001b[1;32m    174\u001b[0m     \u001b[39m# Raise Prefect cancelled error instead of\u001b[39;00m\n\u001b[1;32m    175\u001b[0m     \u001b[39m# `concurrent.futures._base.CancelledError`\u001b[39;00m\n",
      "File \u001b[0;32m~/Documents/projects/dl_labs/.conda/lib/python3.9/concurrent/futures/_base.py:391\u001b[0m, in \u001b[0;36mFuture.__get_result\u001b[0;34m(self)\u001b[0m\n\u001b[1;32m    389\u001b[0m \u001b[39mif\u001b[39;00m \u001b[39mself\u001b[39m\u001b[39m.\u001b[39m_exception:\n\u001b[1;32m    390\u001b[0m     \u001b[39mtry\u001b[39;00m:\n\u001b[0;32m--> 391\u001b[0m         \u001b[39mraise\u001b[39;00m \u001b[39mself\u001b[39m\u001b[39m.\u001b[39m_exception\n\u001b[1;32m    392\u001b[0m     \u001b[39mfinally\u001b[39;00m:\n\u001b[1;32m    393\u001b[0m         \u001b[39m# Break a reference cycle with the exception in self._exception\u001b[39;00m\n\u001b[1;32m    394\u001b[0m         \u001b[39mself\u001b[39m \u001b[39m=\u001b[39m \u001b[39mNone\u001b[39;00m\n",
      "File \u001b[0;32m~/Documents/projects/dl_labs/.conda/lib/python3.9/site-packages/prefect/_internal/concurrency/calls.py:346\u001b[0m, in \u001b[0;36mCall._run_async\u001b[0;34m(***failed resolving arguments***)\u001b[0m\n\u001b[1;32m    344\u001b[0m     \u001b[39mwith\u001b[39;00m set_current_call(\u001b[39mself\u001b[39m):\n\u001b[1;32m    345\u001b[0m         \u001b[39mwith\u001b[39;00m \u001b[39mself\u001b[39m\u001b[39m.\u001b[39mfuture\u001b[39m.\u001b[39menforce_async_deadline() \u001b[39mas\u001b[39;00m cancel_scope:\n\u001b[0;32m--> 346\u001b[0m             result \u001b[39m=\u001b[39m \u001b[39mawait\u001b[39;00m coro\n\u001b[1;32m    347\u001b[0m \u001b[39mexcept\u001b[39;00m CancelledError:\n\u001b[1;32m    348\u001b[0m     \u001b[39m# Report cancellation\u001b[39;00m\n\u001b[1;32m    349\u001b[0m     \u001b[39mif\u001b[39;00m cancel_scope\u001b[39m.\u001b[39mtimedout():\n",
      "File \u001b[0;32m~/Documents/projects/dl_labs/.conda/lib/python3.9/site-packages/prefect/client/utilities.py:51\u001b[0m, in \u001b[0;36minject_client.<locals>.with_injected_client\u001b[0;34m(*args, **kwargs)\u001b[0m\n\u001b[1;32m     49\u001b[0m \u001b[39masync\u001b[39;00m \u001b[39mwith\u001b[39;00m client_context \u001b[39mas\u001b[39;00m new_client:\n\u001b[1;32m     50\u001b[0m     kwargs\u001b[39m.\u001b[39msetdefault(\u001b[39m\"\u001b[39m\u001b[39mclient\u001b[39m\u001b[39m\"\u001b[39m, new_client \u001b[39mor\u001b[39;00m client)\n\u001b[0;32m---> 51\u001b[0m     \u001b[39mreturn\u001b[39;00m \u001b[39mawait\u001b[39;00m fn(\u001b[39m*\u001b[39margs, \u001b[39m*\u001b[39m\u001b[39m*\u001b[39mkwargs)\n",
      "File \u001b[0;32m~/Documents/projects/dl_labs/.conda/lib/python3.9/site-packages/prefect/engine.py:375\u001b[0m, in \u001b[0;36mcreate_then_begin_flow_run\u001b[0;34m(flow, parameters, wait_for, return_type, client, user_thread)\u001b[0m\n\u001b[1;32m    373\u001b[0m     \u001b[39mreturn\u001b[39;00m state\n\u001b[1;32m    374\u001b[0m \u001b[39melif\u001b[39;00m return_type \u001b[39m==\u001b[39m \u001b[39m\"\u001b[39m\u001b[39mresult\u001b[39m\u001b[39m\"\u001b[39m:\n\u001b[0;32m--> 375\u001b[0m     \u001b[39mreturn\u001b[39;00m \u001b[39mawait\u001b[39;00m state\u001b[39m.\u001b[39mresult(fetch\u001b[39m=\u001b[39m\u001b[39mTrue\u001b[39;00m)\n\u001b[1;32m    376\u001b[0m \u001b[39melse\u001b[39;00m:\n\u001b[1;32m    377\u001b[0m     \u001b[39mraise\u001b[39;00m \u001b[39mValueError\u001b[39;00m(\u001b[39mf\u001b[39m\u001b[39m\"\u001b[39m\u001b[39mInvalid return type for flow engine \u001b[39m\u001b[39m{\u001b[39;00mreturn_type\u001b[39m!r}\u001b[39;00m\u001b[39m.\u001b[39m\u001b[39m\"\u001b[39m)\n",
      "File \u001b[0;32m~/Documents/projects/dl_labs/.conda/lib/python3.9/site-packages/prefect/states.py:91\u001b[0m, in \u001b[0;36m_get_state_result\u001b[0;34m(state, raise_on_failure)\u001b[0m\n\u001b[1;32m     84\u001b[0m     \u001b[39mraise\u001b[39;00m UnfinishedRun(\n\u001b[1;32m     85\u001b[0m         \u001b[39mf\u001b[39m\u001b[39m\"\u001b[39m\u001b[39mRun is in \u001b[39m\u001b[39m{\u001b[39;00mstate\u001b[39m.\u001b[39mtype\u001b[39m.\u001b[39mname\u001b[39m}\u001b[39;00m\u001b[39m state, its result is not available.\u001b[39m\u001b[39m\"\u001b[39m\n\u001b[1;32m     86\u001b[0m     )\n\u001b[1;32m     88\u001b[0m \u001b[39mif\u001b[39;00m raise_on_failure \u001b[39mand\u001b[39;00m (\n\u001b[1;32m     89\u001b[0m     state\u001b[39m.\u001b[39mis_crashed() \u001b[39mor\u001b[39;00m state\u001b[39m.\u001b[39mis_failed() \u001b[39mor\u001b[39;00m state\u001b[39m.\u001b[39mis_cancelled()\n\u001b[1;32m     90\u001b[0m ):\n\u001b[0;32m---> 91\u001b[0m     \u001b[39mraise\u001b[39;00m \u001b[39mawait\u001b[39;00m get_state_exception(state)\n\u001b[1;32m     93\u001b[0m \u001b[39mif\u001b[39;00m \u001b[39misinstance\u001b[39m(state\u001b[39m.\u001b[39mdata, DataDocument):\n\u001b[1;32m     94\u001b[0m     result \u001b[39m=\u001b[39m result_from_state_with_data_document(\n\u001b[1;32m     95\u001b[0m         state, raise_on_failure\u001b[39m=\u001b[39mraise_on_failure\n\u001b[1;32m     96\u001b[0m     )\n",
      "File \u001b[0;32m~/Documents/projects/dl_labs/.conda/lib/python3.9/site-packages/prefect/engine.py:1719\u001b[0m, in \u001b[0;36morchestrate_task_run\u001b[0;34m(task, task_run, parameters, wait_for, result_factory, log_prints, interruptible, client)\u001b[0m\n\u001b[1;32m   1712\u001b[0m         logger\u001b[39m.\u001b[39mdebug(\n\u001b[1;32m   1713\u001b[0m             \u001b[39m\"\u001b[39m\u001b[39mBeginning execution...\u001b[39m\u001b[39m\"\u001b[39m, extra\u001b[39m=\u001b[39m{\u001b[39m\"\u001b[39m\u001b[39mstate_message\u001b[39m\u001b[39m\"\u001b[39m: \u001b[39mTrue\u001b[39;00m}\n\u001b[1;32m   1714\u001b[0m         )\n\u001b[1;32m   1716\u001b[0m     call \u001b[39m=\u001b[39m from_async\u001b[39m.\u001b[39mcall_soon_in_new_thread(\n\u001b[1;32m   1717\u001b[0m         create_call(task\u001b[39m.\u001b[39mfn, \u001b[39m*\u001b[39margs, \u001b[39m*\u001b[39m\u001b[39m*\u001b[39mkwargs), timeout\u001b[39m=\u001b[39mtask\u001b[39m.\u001b[39mtimeout_seconds\n\u001b[1;32m   1718\u001b[0m     )\n\u001b[0;32m-> 1719\u001b[0m     result \u001b[39m=\u001b[39m \u001b[39mawait\u001b[39;00m call\u001b[39m.\u001b[39maresult()\n\u001b[1;32m   1721\u001b[0m \u001b[39mexcept\u001b[39;00m (CancelledError, asyncio\u001b[39m.\u001b[39mCancelledError) \u001b[39mas\u001b[39;00m exc:\n\u001b[1;32m   1722\u001b[0m     \u001b[39mif\u001b[39;00m \u001b[39mnot\u001b[39;00m call\u001b[39m.\u001b[39mtimedout():\n\u001b[1;32m   1723\u001b[0m         \u001b[39m# If the task call was not cancelled by us; this is a crash\u001b[39;00m\n",
      "File \u001b[0;32m~/Documents/projects/dl_labs/.conda/lib/python3.9/site-packages/prefect/_internal/concurrency/calls.py:292\u001b[0m, in \u001b[0;36mCall.aresult\u001b[0;34m(self)\u001b[0m\n\u001b[1;32m    286\u001b[0m \u001b[39m\u001b[39m\u001b[39m\"\"\"\u001b[39;00m\n\u001b[1;32m    287\u001b[0m \u001b[39mWait for the result of the call.\u001b[39;00m\n\u001b[1;32m    288\u001b[0m \n\u001b[1;32m    289\u001b[0m \u001b[39mFor use from asynchronous contexts.\u001b[39;00m\n\u001b[1;32m    290\u001b[0m \u001b[39m\"\"\"\u001b[39;00m\n\u001b[1;32m    291\u001b[0m \u001b[39mtry\u001b[39;00m:\n\u001b[0;32m--> 292\u001b[0m     \u001b[39mreturn\u001b[39;00m \u001b[39mawait\u001b[39;00m asyncio\u001b[39m.\u001b[39mwrap_future(\u001b[39mself\u001b[39m\u001b[39m.\u001b[39mfuture)\n\u001b[1;32m    293\u001b[0m \u001b[39mexcept\u001b[39;00m asyncio\u001b[39m.\u001b[39mCancelledError \u001b[39mas\u001b[39;00m exc:\n\u001b[1;32m    294\u001b[0m     \u001b[39mraise\u001b[39;00m CancelledError() \u001b[39mfrom\u001b[39;00m \u001b[39mexc\u001b[39;00m\n",
      "File \u001b[0;32m~/Documents/projects/dl_labs/.conda/lib/python3.9/site-packages/prefect/_internal/concurrency/calls.py:316\u001b[0m, in \u001b[0;36mCall._run_sync\u001b[0;34m(***failed resolving arguments***)\u001b[0m\n\u001b[1;32m    314\u001b[0m \u001b[39mwith\u001b[39;00m set_current_call(\u001b[39mself\u001b[39m):\n\u001b[1;32m    315\u001b[0m     \u001b[39mwith\u001b[39;00m \u001b[39mself\u001b[39m\u001b[39m.\u001b[39mfuture\u001b[39m.\u001b[39menforce_sync_deadline() \u001b[39mas\u001b[39;00m cancel_scope:\n\u001b[0;32m--> 316\u001b[0m         result \u001b[39m=\u001b[39m \u001b[39mself\u001b[39;49m\u001b[39m.\u001b[39;49mfn(\u001b[39m*\u001b[39;49m\u001b[39mself\u001b[39;49m\u001b[39m.\u001b[39;49margs, \u001b[39m*\u001b[39;49m\u001b[39m*\u001b[39;49m\u001b[39mself\u001b[39;49m\u001b[39m.\u001b[39;49mkwargs)\n\u001b[1;32m    318\u001b[0m \u001b[39m# Return the coroutine for async execution\u001b[39;00m\n\u001b[1;32m    319\u001b[0m \u001b[39mif\u001b[39;00m inspect\u001b[39m.\u001b[39misawaitable(result):\n",
      "Cell \u001b[0;32mIn[4], line 5\u001b[0m, in \u001b[0;36malways_fails_task\u001b[0;34m()\u001b[0m\n\u001b[1;32m      3\u001b[0m \u001b[39m@task\u001b[39m\n\u001b[1;32m      4\u001b[0m \u001b[39mdef\u001b[39;00m \u001b[39malways_fails_task\u001b[39m():\n\u001b[0;32m----> 5\u001b[0m     \u001b[39mraise\u001b[39;00m \u001b[39mValueError\u001b[39;00m(\u001b[39m\"\u001b[39m\u001b[39mI fail successfully\u001b[39m\u001b[39m\"\u001b[39m)\n",
      "\u001b[0;31mValueError\u001b[0m: I fail successfully"
     ]
    }
   ],
   "source": [
    "from prefect import flow, task\n",
    "\n",
    "@task\n",
    "def always_fails_task():\n",
    "    raise ValueError(\"I fail successfully\")\n",
    "\n",
    "@task\n",
    "def always_succeeds_task():\n",
    "    print(\"I'm fail safe!\")\n",
    "    return \"success\"\n",
    "\n",
    "@flow\n",
    "def always_fails_flow():\n",
    "    always_fails_task.submit().result(raise_on_failure=False)\n",
    "    always_succeeds_task()\n",
    "\n",
    "always_fails_flow()\n"
   ]
  },
  {
   "cell_type": "markdown",
   "metadata": {},
   "source": [
    "#### Return a future"
   ]
  },
  {
   "cell_type": "code",
   "execution_count": 5,
   "metadata": {},
   "outputs": [
    {
     "name": "stderr",
     "output_type": "stream",
     "text": [
      "/Users/ngohongthai/Documents/projects/dl_labs/.conda/lib/python3.9/site-packages/prefect/tasks.py:298: UserWarning: A task named 'always_fails_task' and defined at '/var/folders/66/6rbnzyf91v9d5v8nb46hmn0h0000gn/T/ipykernel_1573/1150729889.py:3' conflicts with another task. Consider specifying a unique `name` parameter in the task definition:\n",
      "\n",
      " `@task(name='my_unique_name', ...)`\n",
      "  warnings.warn(\n",
      "/Users/ngohongthai/Documents/projects/dl_labs/.conda/lib/python3.9/site-packages/prefect/tasks.py:298: UserWarning: A task named 'always_succeeds_task' and defined at '/var/folders/66/6rbnzyf91v9d5v8nb46hmn0h0000gn/T/ipykernel_1573/1150729889.py:7' conflicts with another task. Consider specifying a unique `name` parameter in the task definition:\n",
      "\n",
      " `@task(name='my_unique_name', ...)`\n",
      "  warnings.warn(\n"
     ]
    },
    {
     "data": {
      "text/html": [
       "<pre style=\"white-space:pre;overflow-x:auto;line-height:normal;font-family:Menlo,'DejaVu Sans Mono',consolas,'Courier New',monospace\">23:12:12.717 | <span style=\"color: #008080; text-decoration-color: #008080\">INFO</span>    | prefect.engine - Created flow run<span style=\"color: #800080; text-decoration-color: #800080\"> 'almond-barracuda'</span> for flow<span style=\"color: #800080; text-decoration-color: #800080; font-weight: bold\"> 'always-succeeds-flow'</span>\n",
       "</pre>\n"
      ],
      "text/plain": [
       "23:12:12.717 | \u001b[36mINFO\u001b[0m    | prefect.engine - Created flow run\u001b[35m 'almond-barracuda'\u001b[0m for flow\u001b[1;35m 'always-succeeds-flow'\u001b[0m\n"
      ]
     },
     "metadata": {},
     "output_type": "display_data"
    },
    {
     "data": {
      "text/html": [
       "<pre style=\"white-space:pre;overflow-x:auto;line-height:normal;font-family:Menlo,'DejaVu Sans Mono',consolas,'Courier New',monospace\">23:12:12.718 | <span style=\"color: #008080; text-decoration-color: #008080\">INFO</span>    | Flow run<span style=\"color: #800080; text-decoration-color: #800080\"> 'almond-barracuda'</span> - View at <span style=\"color: #0000ff; text-decoration-color: #0000ff\">http://0.0.0.0:4200/flow-runs/flow-run/064ec5b0-7287-4616-967a-37c74aae1eaa</span>\n",
       "</pre>\n"
      ],
      "text/plain": [
       "23:12:12.718 | \u001b[36mINFO\u001b[0m    | Flow run\u001b[35m 'almond-barracuda'\u001b[0m - View at \u001b[94mhttp://0.0.0.0:4200/flow-runs/flow-run/064ec5b0-7287-4616-967a-37c74aae1eaa\u001b[0m\n"
      ]
     },
     "metadata": {},
     "output_type": "display_data"
    },
    {
     "data": {
      "text/html": [
       "<pre style=\"white-space:pre;overflow-x:auto;line-height:normal;font-family:Menlo,'DejaVu Sans Mono',consolas,'Courier New',monospace\">23:12:12.772 | <span style=\"color: #008080; text-decoration-color: #008080\">INFO</span>    | Flow run<span style=\"color: #800080; text-decoration-color: #800080\"> 'almond-barracuda'</span> - Created task run 'always_fails_task-0' for task 'always_fails_task'\n",
       "</pre>\n"
      ],
      "text/plain": [
       "23:12:12.772 | \u001b[36mINFO\u001b[0m    | Flow run\u001b[35m 'almond-barracuda'\u001b[0m - Created task run 'always_fails_task-0' for task 'always_fails_task'\n"
      ]
     },
     "metadata": {},
     "output_type": "display_data"
    },
    {
     "data": {
      "text/html": [
       "<pre style=\"white-space:pre;overflow-x:auto;line-height:normal;font-family:Menlo,'DejaVu Sans Mono',consolas,'Courier New',monospace\">23:12:12.773 | <span style=\"color: #008080; text-decoration-color: #008080\">INFO</span>    | Flow run<span style=\"color: #800080; text-decoration-color: #800080\"> 'almond-barracuda'</span> - Submitted task run 'always_fails_task-0' for execution.\n",
       "</pre>\n"
      ],
      "text/plain": [
       "23:12:12.773 | \u001b[36mINFO\u001b[0m    | Flow run\u001b[35m 'almond-barracuda'\u001b[0m - Submitted task run 'always_fails_task-0' for execution.\n"
      ]
     },
     "metadata": {},
     "output_type": "display_data"
    },
    {
     "data": {
      "text/html": [
       "<pre style=\"white-space:pre;overflow-x:auto;line-height:normal;font-family:Menlo,'DejaVu Sans Mono',consolas,'Courier New',monospace\">23:12:12.819 | <span style=\"color: #d70000; text-decoration-color: #d70000\">ERROR</span>   | Task run 'always_fails_task-0' - Encountered exception during execution:\n",
       "Traceback (most recent call last):\n",
       "  File \"/Users/ngohongthai/Documents/projects/dl_labs/.conda/lib/python3.9/site-packages/prefect/engine.py\", line 1719, in orchestrate_task_run\n",
       "    result = await call.aresult()\n",
       "  File \"/Users/ngohongthai/Documents/projects/dl_labs/.conda/lib/python3.9/site-packages/prefect/_internal/concurrency/calls.py\", line 292, in aresult\n",
       "    return await asyncio.wrap_future(self.future)\n",
       "  File \"/Users/ngohongthai/Documents/projects/dl_labs/.conda/lib/python3.9/site-packages/prefect/_internal/concurrency/calls.py\", line 316, in _run_sync\n",
       "    result = self.fn(*self.args, **self.kwargs)\n",
       "  File \"/var/folders/66/6rbnzyf91v9d5v8nb46hmn0h0000gn/T/ipykernel_1573/1150729889.py\", line 5, in always_fails_task\n",
       "    raise ValueError(\"I fail successfully\")\n",
       "ValueError: I fail successfully\n",
       "</pre>\n"
      ],
      "text/plain": [
       "23:12:12.819 | \u001b[38;5;160mERROR\u001b[0m   | Task run 'always_fails_task-0' - Encountered exception during execution:\n",
       "Traceback (most recent call last):\n",
       "  File \"/Users/ngohongthai/Documents/projects/dl_labs/.conda/lib/python3.9/site-packages/prefect/engine.py\", line 1719, in orchestrate_task_run\n",
       "    result = await call.aresult()\n",
       "  File \"/Users/ngohongthai/Documents/projects/dl_labs/.conda/lib/python3.9/site-packages/prefect/_internal/concurrency/calls.py\", line 292, in aresult\n",
       "    return await asyncio.wrap_future(self.future)\n",
       "  File \"/Users/ngohongthai/Documents/projects/dl_labs/.conda/lib/python3.9/site-packages/prefect/_internal/concurrency/calls.py\", line 316, in _run_sync\n",
       "    result = self.fn(*self.args, **self.kwargs)\n",
       "  File \"/var/folders/66/6rbnzyf91v9d5v8nb46hmn0h0000gn/T/ipykernel_1573/1150729889.py\", line 5, in always_fails_task\n",
       "    raise ValueError(\"I fail successfully\")\n",
       "ValueError: I fail successfully\n"
      ]
     },
     "metadata": {},
     "output_type": "display_data"
    },
    {
     "data": {
      "text/html": [
       "<pre style=\"white-space:pre;overflow-x:auto;line-height:normal;font-family:Menlo,'DejaVu Sans Mono',consolas,'Courier New',monospace\">23:12:12.836 | <span style=\"color: #d70000; text-decoration-color: #d70000\">ERROR</span>   | Task run 'always_fails_task-0' - Finished in state <span style=\"color: #d70000; text-decoration-color: #d70000\">Failed</span>('Task run encountered an exception ValueError: I fail successfully')\n",
       "</pre>\n"
      ],
      "text/plain": [
       "23:12:12.836 | \u001b[38;5;160mERROR\u001b[0m   | Task run 'always_fails_task-0' - Finished in state \u001b[38;5;160mFailed\u001b[0m('Task run encountered an exception ValueError: I fail successfully')\n"
      ]
     },
     "metadata": {},
     "output_type": "display_data"
    },
    {
     "data": {
      "text/html": [
       "<pre style=\"white-space:pre;overflow-x:auto;line-height:normal;font-family:Menlo,'DejaVu Sans Mono',consolas,'Courier New',monospace\">23:12:12.848 | <span style=\"color: #008080; text-decoration-color: #008080\">INFO</span>    | Flow run<span style=\"color: #800080; text-decoration-color: #800080\"> 'almond-barracuda'</span> - Created task run 'always_succeeds_task-0' for task 'always_succeeds_task'\n",
       "</pre>\n"
      ],
      "text/plain": [
       "23:12:12.848 | \u001b[36mINFO\u001b[0m    | Flow run\u001b[35m 'almond-barracuda'\u001b[0m - Created task run 'always_succeeds_task-0' for task 'always_succeeds_task'\n"
      ]
     },
     "metadata": {},
     "output_type": "display_data"
    },
    {
     "data": {
      "text/html": [
       "<pre style=\"white-space:pre;overflow-x:auto;line-height:normal;font-family:Menlo,'DejaVu Sans Mono',consolas,'Courier New',monospace\">23:12:12.849 | <span style=\"color: #008080; text-decoration-color: #008080\">INFO</span>    | Flow run<span style=\"color: #800080; text-decoration-color: #800080\"> 'almond-barracuda'</span> - Submitted task run 'always_succeeds_task-0' for execution.\n",
       "</pre>\n"
      ],
      "text/plain": [
       "23:12:12.849 | \u001b[36mINFO\u001b[0m    | Flow run\u001b[35m 'almond-barracuda'\u001b[0m - Submitted task run 'always_succeeds_task-0' for execution.\n"
      ]
     },
     "metadata": {},
     "output_type": "display_data"
    },
    {
     "name": "stdout",
     "output_type": "stream",
     "text": [
      "I'm fail safe!\n"
     ]
    },
    {
     "data": {
      "text/html": [
       "<pre style=\"white-space:pre;overflow-x:auto;line-height:normal;font-family:Menlo,'DejaVu Sans Mono',consolas,'Courier New',monospace\">23:12:12.892 | <span style=\"color: #008080; text-decoration-color: #008080\">INFO</span>    | Task run 'always_succeeds_task-0' - Finished in state <span style=\"color: #008000; text-decoration-color: #008000\">Completed</span>()\n",
       "</pre>\n"
      ],
      "text/plain": [
       "23:12:12.892 | \u001b[36mINFO\u001b[0m    | Task run 'always_succeeds_task-0' - Finished in state \u001b[32mCompleted\u001b[0m()\n"
      ]
     },
     "metadata": {},
     "output_type": "display_data"
    },
    {
     "data": {
      "text/html": [
       "<pre style=\"white-space:pre;overflow-x:auto;line-height:normal;font-family:Menlo,'DejaVu Sans Mono',consolas,'Courier New',monospace\">23:12:12.907 | <span style=\"color: #008080; text-decoration-color: #008080\">INFO</span>    | Flow run<span style=\"color: #800080; text-decoration-color: #800080\"> 'almond-barracuda'</span> - Finished in state <span style=\"color: #008000; text-decoration-color: #008000\">Completed</span>('All states completed.')\n",
       "</pre>\n"
      ],
      "text/plain": [
       "23:12:12.907 | \u001b[36mINFO\u001b[0m    | Flow run\u001b[35m 'almond-barracuda'\u001b[0m - Finished in state \u001b[32mCompleted\u001b[0m('All states completed.')\n"
      ]
     },
     "metadata": {},
     "output_type": "display_data"
    },
    {
     "data": {
      "text/plain": [
       "Completed(message=None, type=COMPLETED, result=UnpersistedResult(type='unpersisted', artifact_type='result', artifact_description='Unpersisted result of type `str`'))"
      ]
     },
     "execution_count": 5,
     "metadata": {},
     "output_type": "execute_result"
    }
   ],
   "source": [
    "from prefect import flow, task\n",
    "\n",
    "@task\n",
    "def always_fails_task():\n",
    "    raise ValueError(\"I fail successfully\")\n",
    "\n",
    "@task\n",
    "def always_succeeds_task():\n",
    "    print(\"I'm fail safe!\")\n",
    "    return \"success\"\n",
    "\n",
    "@flow\n",
    "def always_succeeds_flow():\n",
    "    x = always_fails_task.submit().result(raise_on_failure=False)\n",
    "    y = always_succeeds_task.submit(wait_for=[x])\n",
    "    return y\n",
    "\n",
    "always_succeeds_flow()"
   ]
  },
  {
   "cell_type": "code",
   "execution_count": 6,
   "metadata": {},
   "outputs": [
    {
     "name": "stderr",
     "output_type": "stream",
     "text": [
      "/Users/ngohongthai/Documents/projects/dl_labs/.conda/lib/python3.9/site-packages/prefect/tasks.py:298: UserWarning: A task named 'always_fails_task' and defined at '/var/folders/66/6rbnzyf91v9d5v8nb46hmn0h0000gn/T/ipykernel_1573/1065477061.py:3' conflicts with another task. Consider specifying a unique `name` parameter in the task definition:\n",
      "\n",
      " `@task(name='my_unique_name', ...)`\n",
      "  warnings.warn(\n",
      "/Users/ngohongthai/Documents/projects/dl_labs/.conda/lib/python3.9/site-packages/prefect/tasks.py:298: UserWarning: A task named 'always_succeeds_task' and defined at '/var/folders/66/6rbnzyf91v9d5v8nb46hmn0h0000gn/T/ipykernel_1573/1065477061.py:7' conflicts with another task. Consider specifying a unique `name` parameter in the task definition:\n",
      "\n",
      " `@task(name='my_unique_name', ...)`\n",
      "  warnings.warn(\n",
      "/Users/ngohongthai/Documents/projects/dl_labs/.conda/lib/python3.9/site-packages/prefect/flows.py:244: UserWarning: A flow named 'always-succeeds-flow' and defined at '/var/folders/66/6rbnzyf91v9d5v8nb46hmn0h0000gn/T/ipykernel_1573/1065477061.py:11' conflicts with another flow. Consider specifying a unique `name` parameter in the flow definition:\n",
      "\n",
      " `@flow(name='my_unique_name', ...)`\n",
      "  warnings.warn(\n",
      "/Users/ngohongthai/Documents/projects/dl_labs/.conda/lib/python3.9/site-packages/prefect/flows.py:244: UserWarning: A flow named 'always-fails-flow' and defined at '/var/folders/66/6rbnzyf91v9d5v8nb46hmn0h0000gn/T/ipykernel_1573/1065477061.py:15' conflicts with another flow. Consider specifying a unique `name` parameter in the flow definition:\n",
      "\n",
      " `@flow(name='my_unique_name', ...)`\n",
      "  warnings.warn(\n"
     ]
    },
    {
     "data": {
      "text/html": [
       "<pre style=\"white-space:pre;overflow-x:auto;line-height:normal;font-family:Menlo,'DejaVu Sans Mono',consolas,'Courier New',monospace\">23:13:37.060 | <span style=\"color: #008080; text-decoration-color: #008080\">INFO</span>    | prefect.engine - Created flow run<span style=\"color: #800080; text-decoration-color: #800080\"> 'mini-kagu'</span> for flow<span style=\"color: #800080; text-decoration-color: #800080; font-weight: bold\"> 'always-fails-flow'</span>\n",
       "</pre>\n"
      ],
      "text/plain": [
       "23:13:37.060 | \u001b[36mINFO\u001b[0m    | prefect.engine - Created flow run\u001b[35m 'mini-kagu'\u001b[0m for flow\u001b[1;35m 'always-fails-flow'\u001b[0m\n"
      ]
     },
     "metadata": {},
     "output_type": "display_data"
    },
    {
     "data": {
      "text/html": [
       "<pre style=\"white-space:pre;overflow-x:auto;line-height:normal;font-family:Menlo,'DejaVu Sans Mono',consolas,'Courier New',monospace\">23:13:37.061 | <span style=\"color: #008080; text-decoration-color: #008080\">INFO</span>    | Flow run<span style=\"color: #800080; text-decoration-color: #800080\"> 'mini-kagu'</span> - View at <span style=\"color: #0000ff; text-decoration-color: #0000ff\">http://0.0.0.0:4200/flow-runs/flow-run/434fb90c-b317-4670-a76a-64351d287b46</span>\n",
       "</pre>\n"
      ],
      "text/plain": [
       "23:13:37.061 | \u001b[36mINFO\u001b[0m    | Flow run\u001b[35m 'mini-kagu'\u001b[0m - View at \u001b[94mhttp://0.0.0.0:4200/flow-runs/flow-run/434fb90c-b317-4670-a76a-64351d287b46\u001b[0m\n"
      ]
     },
     "metadata": {},
     "output_type": "display_data"
    },
    {
     "data": {
      "text/html": [
       "<pre style=\"white-space:pre;overflow-x:auto;line-height:normal;font-family:Menlo,'DejaVu Sans Mono',consolas,'Courier New',monospace\">23:13:37.116 | <span style=\"color: #008080; text-decoration-color: #008080\">INFO</span>    | Flow run<span style=\"color: #800080; text-decoration-color: #800080\"> 'mini-kagu'</span> - Created task run 'always_fails_task-0' for task 'always_fails_task'\n",
       "</pre>\n"
      ],
      "text/plain": [
       "23:13:37.116 | \u001b[36mINFO\u001b[0m    | Flow run\u001b[35m 'mini-kagu'\u001b[0m - Created task run 'always_fails_task-0' for task 'always_fails_task'\n"
      ]
     },
     "metadata": {},
     "output_type": "display_data"
    },
    {
     "data": {
      "text/html": [
       "<pre style=\"white-space:pre;overflow-x:auto;line-height:normal;font-family:Menlo,'DejaVu Sans Mono',consolas,'Courier New',monospace\">23:13:37.118 | <span style=\"color: #008080; text-decoration-color: #008080\">INFO</span>    | Flow run<span style=\"color: #800080; text-decoration-color: #800080\"> 'mini-kagu'</span> - Executing 'always_fails_task-0' immediately...\n",
       "</pre>\n"
      ],
      "text/plain": [
       "23:13:37.118 | \u001b[36mINFO\u001b[0m    | Flow run\u001b[35m 'mini-kagu'\u001b[0m - Executing 'always_fails_task-0' immediately...\n"
      ]
     },
     "metadata": {},
     "output_type": "display_data"
    },
    {
     "data": {
      "text/html": [
       "<pre style=\"white-space:pre;overflow-x:auto;line-height:normal;font-family:Menlo,'DejaVu Sans Mono',consolas,'Courier New',monospace\">23:13:37.154 | <span style=\"color: #d70000; text-decoration-color: #d70000\">ERROR</span>   | Task run 'always_fails_task-0' - Encountered exception during execution:\n",
       "Traceback (most recent call last):\n",
       "  File \"/Users/ngohongthai/Documents/projects/dl_labs/.conda/lib/python3.9/site-packages/prefect/engine.py\", line 1719, in orchestrate_task_run\n",
       "    result = await call.aresult()\n",
       "  File \"/Users/ngohongthai/Documents/projects/dl_labs/.conda/lib/python3.9/site-packages/prefect/_internal/concurrency/calls.py\", line 292, in aresult\n",
       "    return await asyncio.wrap_future(self.future)\n",
       "  File \"/Users/ngohongthai/Documents/projects/dl_labs/.conda/lib/python3.9/site-packages/prefect/_internal/concurrency/calls.py\", line 316, in _run_sync\n",
       "    result = self.fn(*self.args, **self.kwargs)\n",
       "  File \"/var/folders/66/6rbnzyf91v9d5v8nb46hmn0h0000gn/T/ipykernel_1573/1065477061.py\", line 5, in always_fails_task\n",
       "    raise ValueError(\"I am bad task\")\n",
       "ValueError: I am bad task\n",
       "</pre>\n"
      ],
      "text/plain": [
       "23:13:37.154 | \u001b[38;5;160mERROR\u001b[0m   | Task run 'always_fails_task-0' - Encountered exception during execution:\n",
       "Traceback (most recent call last):\n",
       "  File \"/Users/ngohongthai/Documents/projects/dl_labs/.conda/lib/python3.9/site-packages/prefect/engine.py\", line 1719, in orchestrate_task_run\n",
       "    result = await call.aresult()\n",
       "  File \"/Users/ngohongthai/Documents/projects/dl_labs/.conda/lib/python3.9/site-packages/prefect/_internal/concurrency/calls.py\", line 292, in aresult\n",
       "    return await asyncio.wrap_future(self.future)\n",
       "  File \"/Users/ngohongthai/Documents/projects/dl_labs/.conda/lib/python3.9/site-packages/prefect/_internal/concurrency/calls.py\", line 316, in _run_sync\n",
       "    result = self.fn(*self.args, **self.kwargs)\n",
       "  File \"/var/folders/66/6rbnzyf91v9d5v8nb46hmn0h0000gn/T/ipykernel_1573/1065477061.py\", line 5, in always_fails_task\n",
       "    raise ValueError(\"I am bad task\")\n",
       "ValueError: I am bad task\n"
      ]
     },
     "metadata": {},
     "output_type": "display_data"
    },
    {
     "data": {
      "text/html": [
       "<pre style=\"white-space:pre;overflow-x:auto;line-height:normal;font-family:Menlo,'DejaVu Sans Mono',consolas,'Courier New',monospace\">23:13:37.168 | <span style=\"color: #d70000; text-decoration-color: #d70000\">ERROR</span>   | Task run 'always_fails_task-0' - Finished in state <span style=\"color: #d70000; text-decoration-color: #d70000\">Failed</span>('Task run encountered an exception ValueError: I am bad task')\n",
       "</pre>\n"
      ],
      "text/plain": [
       "23:13:37.168 | \u001b[38;5;160mERROR\u001b[0m   | Task run 'always_fails_task-0' - Finished in state \u001b[38;5;160mFailed\u001b[0m('Task run encountered an exception ValueError: I am bad task')\n"
      ]
     },
     "metadata": {},
     "output_type": "display_data"
    },
    {
     "data": {
      "text/html": [
       "<pre style=\"white-space:pre;overflow-x:auto;line-height:normal;font-family:Menlo,'DejaVu Sans Mono',consolas,'Courier New',monospace\">23:13:37.170 | <span style=\"color: #d70000; text-decoration-color: #d70000\">ERROR</span>   | Flow run<span style=\"color: #800080; text-decoration-color: #800080\"> 'mini-kagu'</span> - Encountered exception during execution:\n",
       "Traceback (most recent call last):\n",
       "  File \"/Users/ngohongthai/Documents/projects/dl_labs/.conda/lib/python3.9/site-packages/prefect/engine.py\", line 833, in orchestrate_flow_run\n",
       "    result = await flow_call.aresult()\n",
       "  File \"/Users/ngohongthai/Documents/projects/dl_labs/.conda/lib/python3.9/site-packages/prefect/_internal/concurrency/calls.py\", line 292, in aresult\n",
       "    return await asyncio.wrap_future(self.future)\n",
       "  File \"/Users/ngohongthai/Documents/projects/dl_labs/.conda/lib/python3.9/site-packages/prefect/_internal/concurrency/calls.py\", line 316, in _run_sync\n",
       "    result = self.fn(*self.args, **self.kwargs)\n",
       "  File \"/var/folders/66/6rbnzyf91v9d5v8nb46hmn0h0000gn/T/ipykernel_1573/1065477061.py\", line 17, in always_fails_flow\n",
       "    x = always_fails_task()\n",
       "  File \"/Users/ngohongthai/Documents/projects/dl_labs/.conda/lib/python3.9/site-packages/prefect/tasks.py\", line 505, in __call__\n",
       "    return enter_task_run_engine(\n",
       "  File \"/Users/ngohongthai/Documents/projects/dl_labs/.conda/lib/python3.9/site-packages/prefect/engine.py\", line 1137, in enter_task_run_engine\n",
       "    return from_sync.wait_for_call_in_loop_thread(begin_run)\n",
       "  File \"/Users/ngohongthai/Documents/projects/dl_labs/.conda/lib/python3.9/site-packages/prefect/_internal/concurrency/api.py\", line 243, in wait_for_call_in_loop_thread\n",
       "    return call.result()\n",
       "  File \"/Users/ngohongthai/Documents/projects/dl_labs/.conda/lib/python3.9/site-packages/prefect/_internal/concurrency/calls.py\", line 283, in result\n",
       "    return self.future.result(timeout=timeout)\n",
       "  File \"/Users/ngohongthai/Documents/projects/dl_labs/.conda/lib/python3.9/site-packages/prefect/_internal/concurrency/calls.py\", line 169, in result\n",
       "    return self.__get_result()\n",
       "  File \"/Users/ngohongthai/Documents/projects/dl_labs/.conda/lib/python3.9/concurrent/futures/_base.py\", line 391, in __get_result\n",
       "    raise self._exception\n",
       "  File \"/Users/ngohongthai/Documents/projects/dl_labs/.conda/lib/python3.9/site-packages/prefect/_internal/concurrency/calls.py\", line 346, in _run_async\n",
       "    result = await coro\n",
       "  File \"/Users/ngohongthai/Documents/projects/dl_labs/.conda/lib/python3.9/site-packages/prefect/engine.py\", line 1302, in get_task_call_return_value\n",
       "    return await future._result()\n",
       "  File \"/Users/ngohongthai/Documents/projects/dl_labs/.conda/lib/python3.9/site-packages/prefect/futures.py\", line 237, in _result\n",
       "    return await final_state.result(raise_on_failure=raise_on_failure, fetch=True)\n",
       "  File \"/Users/ngohongthai/Documents/projects/dl_labs/.conda/lib/python3.9/site-packages/prefect/states.py\", line 91, in _get_state_result\n",
       "    raise await get_state_exception(state)\n",
       "  File \"/Users/ngohongthai/Documents/projects/dl_labs/.conda/lib/python3.9/site-packages/prefect/engine.py\", line 1719, in orchestrate_task_run\n",
       "    result = await call.aresult()\n",
       "  File \"/Users/ngohongthai/Documents/projects/dl_labs/.conda/lib/python3.9/site-packages/prefect/_internal/concurrency/calls.py\", line 292, in aresult\n",
       "    return await asyncio.wrap_future(self.future)\n",
       "  File \"/Users/ngohongthai/Documents/projects/dl_labs/.conda/lib/python3.9/site-packages/prefect/_internal/concurrency/calls.py\", line 316, in _run_sync\n",
       "    result = self.fn(*self.args, **self.kwargs)\n",
       "  File \"/var/folders/66/6rbnzyf91v9d5v8nb46hmn0h0000gn/T/ipykernel_1573/1065477061.py\", line 5, in always_fails_task\n",
       "    raise ValueError(\"I am bad task\")\n",
       "ValueError: I am bad task\n",
       "</pre>\n"
      ],
      "text/plain": [
       "23:13:37.170 | \u001b[38;5;160mERROR\u001b[0m   | Flow run\u001b[35m 'mini-kagu'\u001b[0m - Encountered exception during execution:\n",
       "Traceback (most recent call last):\n",
       "  File \"/Users/ngohongthai/Documents/projects/dl_labs/.conda/lib/python3.9/site-packages/prefect/engine.py\", line 833, in orchestrate_flow_run\n",
       "    result = await flow_call.aresult()\n",
       "  File \"/Users/ngohongthai/Documents/projects/dl_labs/.conda/lib/python3.9/site-packages/prefect/_internal/concurrency/calls.py\", line 292, in aresult\n",
       "    return await asyncio.wrap_future(self.future)\n",
       "  File \"/Users/ngohongthai/Documents/projects/dl_labs/.conda/lib/python3.9/site-packages/prefect/_internal/concurrency/calls.py\", line 316, in _run_sync\n",
       "    result = self.fn(*self.args, **self.kwargs)\n",
       "  File \"/var/folders/66/6rbnzyf91v9d5v8nb46hmn0h0000gn/T/ipykernel_1573/1065477061.py\", line 17, in always_fails_flow\n",
       "    x = always_fails_task()\n",
       "  File \"/Users/ngohongthai/Documents/projects/dl_labs/.conda/lib/python3.9/site-packages/prefect/tasks.py\", line 505, in __call__\n",
       "    return enter_task_run_engine(\n",
       "  File \"/Users/ngohongthai/Documents/projects/dl_labs/.conda/lib/python3.9/site-packages/prefect/engine.py\", line 1137, in enter_task_run_engine\n",
       "    return from_sync.wait_for_call_in_loop_thread(begin_run)\n",
       "  File \"/Users/ngohongthai/Documents/projects/dl_labs/.conda/lib/python3.9/site-packages/prefect/_internal/concurrency/api.py\", line 243, in wait_for_call_in_loop_thread\n",
       "    return call.result()\n",
       "  File \"/Users/ngohongthai/Documents/projects/dl_labs/.conda/lib/python3.9/site-packages/prefect/_internal/concurrency/calls.py\", line 283, in result\n",
       "    return self.future.result(timeout=timeout)\n",
       "  File \"/Users/ngohongthai/Documents/projects/dl_labs/.conda/lib/python3.9/site-packages/prefect/_internal/concurrency/calls.py\", line 169, in result\n",
       "    return self.__get_result()\n",
       "  File \"/Users/ngohongthai/Documents/projects/dl_labs/.conda/lib/python3.9/concurrent/futures/_base.py\", line 391, in __get_result\n",
       "    raise self._exception\n",
       "  File \"/Users/ngohongthai/Documents/projects/dl_labs/.conda/lib/python3.9/site-packages/prefect/_internal/concurrency/calls.py\", line 346, in _run_async\n",
       "    result = await coro\n",
       "  File \"/Users/ngohongthai/Documents/projects/dl_labs/.conda/lib/python3.9/site-packages/prefect/engine.py\", line 1302, in get_task_call_return_value\n",
       "    return await future._result()\n",
       "  File \"/Users/ngohongthai/Documents/projects/dl_labs/.conda/lib/python3.9/site-packages/prefect/futures.py\", line 237, in _result\n",
       "    return await final_state.result(raise_on_failure=raise_on_failure, fetch=True)\n",
       "  File \"/Users/ngohongthai/Documents/projects/dl_labs/.conda/lib/python3.9/site-packages/prefect/states.py\", line 91, in _get_state_result\n",
       "    raise await get_state_exception(state)\n",
       "  File \"/Users/ngohongthai/Documents/projects/dl_labs/.conda/lib/python3.9/site-packages/prefect/engine.py\", line 1719, in orchestrate_task_run\n",
       "    result = await call.aresult()\n",
       "  File \"/Users/ngohongthai/Documents/projects/dl_labs/.conda/lib/python3.9/site-packages/prefect/_internal/concurrency/calls.py\", line 292, in aresult\n",
       "    return await asyncio.wrap_future(self.future)\n",
       "  File \"/Users/ngohongthai/Documents/projects/dl_labs/.conda/lib/python3.9/site-packages/prefect/_internal/concurrency/calls.py\", line 316, in _run_sync\n",
       "    result = self.fn(*self.args, **self.kwargs)\n",
       "  File \"/var/folders/66/6rbnzyf91v9d5v8nb46hmn0h0000gn/T/ipykernel_1573/1065477061.py\", line 5, in always_fails_task\n",
       "    raise ValueError(\"I am bad task\")\n",
       "ValueError: I am bad task\n"
      ]
     },
     "metadata": {},
     "output_type": "display_data"
    },
    {
     "data": {
      "text/html": [
       "<pre style=\"white-space:pre;overflow-x:auto;line-height:normal;font-family:Menlo,'DejaVu Sans Mono',consolas,'Courier New',monospace\">23:13:37.183 | <span style=\"color: #d70000; text-decoration-color: #d70000\">ERROR</span>   | Flow run<span style=\"color: #800080; text-decoration-color: #800080\"> 'mini-kagu'</span> - Finished in state <span style=\"color: #d70000; text-decoration-color: #d70000\">Failed</span>('Flow run encountered an exception. ValueError: I am bad task')\n",
       "</pre>\n"
      ],
      "text/plain": [
       "23:13:37.183 | \u001b[38;5;160mERROR\u001b[0m   | Flow run\u001b[35m 'mini-kagu'\u001b[0m - Finished in state \u001b[38;5;160mFailed\u001b[0m('Flow run encountered an exception. ValueError: I am bad task')\n"
      ]
     },
     "metadata": {},
     "output_type": "display_data"
    },
    {
     "ename": "ValueError",
     "evalue": "I am bad task",
     "output_type": "error",
     "traceback": [
      "\u001b[0;31m---------------------------------------------------------------------------\u001b[0m",
      "\u001b[0;31mValueError\u001b[0m                                Traceback (most recent call last)",
      "Cell \u001b[0;32mIn[6], line 22\u001b[0m\n\u001b[1;32m     19\u001b[0m     z \u001b[39m=\u001b[39m always_succeeds_flow()\n\u001b[1;32m     20\u001b[0m     \u001b[39mreturn\u001b[39;00m x, y, z\n\u001b[0;32m---> 22\u001b[0m always_fails_flow()\n",
      "File \u001b[0;32m~/Documents/projects/dl_labs/.conda/lib/python3.9/site-packages/prefect/flows.py:511\u001b[0m, in \u001b[0;36mFlow.__call__\u001b[0;34m(self, return_state, wait_for, *args, **kwargs)\u001b[0m\n\u001b[1;32m    507\u001b[0m parameters \u001b[39m=\u001b[39m get_call_parameters(\u001b[39mself\u001b[39m\u001b[39m.\u001b[39mfn, args, kwargs)\n\u001b[1;32m    509\u001b[0m return_type \u001b[39m=\u001b[39m \u001b[39m\"\u001b[39m\u001b[39mstate\u001b[39m\u001b[39m\"\u001b[39m \u001b[39mif\u001b[39;00m return_state \u001b[39melse\u001b[39;00m \u001b[39m\"\u001b[39m\u001b[39mresult\u001b[39m\u001b[39m\"\u001b[39m\n\u001b[0;32m--> 511\u001b[0m \u001b[39mreturn\u001b[39;00m enter_flow_run_engine_from_flow_call(\n\u001b[1;32m    512\u001b[0m     \u001b[39mself\u001b[39;49m,\n\u001b[1;32m    513\u001b[0m     parameters,\n\u001b[1;32m    514\u001b[0m     wait_for\u001b[39m=\u001b[39;49mwait_for,\n\u001b[1;32m    515\u001b[0m     return_type\u001b[39m=\u001b[39;49mreturn_type,\n\u001b[1;32m    516\u001b[0m )\n",
      "File \u001b[0;32m~/Documents/projects/dl_labs/.conda/lib/python3.9/site-packages/prefect/engine.py:272\u001b[0m, in \u001b[0;36menter_flow_run_engine_from_flow_call\u001b[0;34m(flow, parameters, wait_for, return_type)\u001b[0m\n\u001b[1;32m    265\u001b[0m     retval \u001b[39m=\u001b[39m from_async\u001b[39m.\u001b[39mwait_for_call_in_loop_thread(\n\u001b[1;32m    266\u001b[0m         begin_run,\n\u001b[1;32m    267\u001b[0m         done_callbacks\u001b[39m=\u001b[39mdone_callbacks,\n\u001b[1;32m    268\u001b[0m         contexts\u001b[39m=\u001b[39mcontexts,\n\u001b[1;32m    269\u001b[0m     )\n\u001b[1;32m    271\u001b[0m \u001b[39melse\u001b[39;00m:\n\u001b[0;32m--> 272\u001b[0m     retval \u001b[39m=\u001b[39m from_sync\u001b[39m.\u001b[39;49mwait_for_call_in_loop_thread(\n\u001b[1;32m    273\u001b[0m         begin_run,\n\u001b[1;32m    274\u001b[0m         done_callbacks\u001b[39m=\u001b[39;49mdone_callbacks,\n\u001b[1;32m    275\u001b[0m         contexts\u001b[39m=\u001b[39;49mcontexts,\n\u001b[1;32m    276\u001b[0m     )\n\u001b[1;32m    278\u001b[0m \u001b[39mreturn\u001b[39;00m retval\n",
      "File \u001b[0;32m~/Documents/projects/dl_labs/.conda/lib/python3.9/site-packages/prefect/_internal/concurrency/api.py:243\u001b[0m, in \u001b[0;36mfrom_sync.wait_for_call_in_loop_thread\u001b[0;34m(_from_sync__call, timeout, done_callbacks, contexts)\u001b[0m\n\u001b[1;32m    241\u001b[0m     stack\u001b[39m.\u001b[39menter_context(context)\n\u001b[1;32m    242\u001b[0m waiter\u001b[39m.\u001b[39mwait()\n\u001b[0;32m--> 243\u001b[0m \u001b[39mreturn\u001b[39;00m call\u001b[39m.\u001b[39;49mresult()\n",
      "File \u001b[0;32m~/Documents/projects/dl_labs/.conda/lib/python3.9/site-packages/prefect/_internal/concurrency/calls.py:283\u001b[0m, in \u001b[0;36mCall.result\u001b[0;34m(self, timeout)\u001b[0m\n\u001b[1;32m    277\u001b[0m \u001b[39mdef\u001b[39;00m \u001b[39mresult\u001b[39m(\u001b[39mself\u001b[39m, timeout: Optional[\u001b[39mfloat\u001b[39m] \u001b[39m=\u001b[39m \u001b[39mNone\u001b[39;00m) \u001b[39m-\u001b[39m\u001b[39m>\u001b[39m T:\n\u001b[1;32m    278\u001b[0m \u001b[39m    \u001b[39m\u001b[39m\"\"\"\u001b[39;00m\n\u001b[1;32m    279\u001b[0m \u001b[39m    Wait for the result of the call.\u001b[39;00m\n\u001b[1;32m    280\u001b[0m \n\u001b[1;32m    281\u001b[0m \u001b[39m    Not safe for use from asynchronous contexts.\u001b[39;00m\n\u001b[1;32m    282\u001b[0m \u001b[39m    \"\"\"\u001b[39;00m\n\u001b[0;32m--> 283\u001b[0m     \u001b[39mreturn\u001b[39;00m \u001b[39mself\u001b[39;49m\u001b[39m.\u001b[39;49mfuture\u001b[39m.\u001b[39;49mresult(timeout\u001b[39m=\u001b[39;49mtimeout)\n",
      "File \u001b[0;32m~/Documents/projects/dl_labs/.conda/lib/python3.9/site-packages/prefect/_internal/concurrency/calls.py:169\u001b[0m, in \u001b[0;36mFuture.result\u001b[0;34m(self, timeout)\u001b[0m\n\u001b[1;32m    167\u001b[0m     \u001b[39mraise\u001b[39;00m CancelledError()\n\u001b[1;32m    168\u001b[0m \u001b[39melif\u001b[39;00m \u001b[39mself\u001b[39m\u001b[39m.\u001b[39m_state \u001b[39m==\u001b[39m FINISHED:\n\u001b[0;32m--> 169\u001b[0m     \u001b[39mreturn\u001b[39;00m \u001b[39mself\u001b[39;49m\u001b[39m.\u001b[39;49m__get_result()\n\u001b[1;32m    171\u001b[0m \u001b[39mself\u001b[39m\u001b[39m.\u001b[39m_condition\u001b[39m.\u001b[39mwait(timeout)\n\u001b[1;32m    173\u001b[0m \u001b[39mif\u001b[39;00m \u001b[39mself\u001b[39m\u001b[39m.\u001b[39m_state \u001b[39min\u001b[39;00m [CANCELLED, CANCELLED_AND_NOTIFIED]:\n\u001b[1;32m    174\u001b[0m     \u001b[39m# Raise Prefect cancelled error instead of\u001b[39;00m\n\u001b[1;32m    175\u001b[0m     \u001b[39m# `concurrent.futures._base.CancelledError`\u001b[39;00m\n",
      "File \u001b[0;32m~/Documents/projects/dl_labs/.conda/lib/python3.9/concurrent/futures/_base.py:391\u001b[0m, in \u001b[0;36mFuture.__get_result\u001b[0;34m(self)\u001b[0m\n\u001b[1;32m    389\u001b[0m \u001b[39mif\u001b[39;00m \u001b[39mself\u001b[39m\u001b[39m.\u001b[39m_exception:\n\u001b[1;32m    390\u001b[0m     \u001b[39mtry\u001b[39;00m:\n\u001b[0;32m--> 391\u001b[0m         \u001b[39mraise\u001b[39;00m \u001b[39mself\u001b[39m\u001b[39m.\u001b[39m_exception\n\u001b[1;32m    392\u001b[0m     \u001b[39mfinally\u001b[39;00m:\n\u001b[1;32m    393\u001b[0m         \u001b[39m# Break a reference cycle with the exception in self._exception\u001b[39;00m\n\u001b[1;32m    394\u001b[0m         \u001b[39mself\u001b[39m \u001b[39m=\u001b[39m \u001b[39mNone\u001b[39;00m\n",
      "File \u001b[0;32m~/Documents/projects/dl_labs/.conda/lib/python3.9/site-packages/prefect/_internal/concurrency/calls.py:346\u001b[0m, in \u001b[0;36mCall._run_async\u001b[0;34m(***failed resolving arguments***)\u001b[0m\n\u001b[1;32m    344\u001b[0m     \u001b[39mwith\u001b[39;00m set_current_call(\u001b[39mself\u001b[39m):\n\u001b[1;32m    345\u001b[0m         \u001b[39mwith\u001b[39;00m \u001b[39mself\u001b[39m\u001b[39m.\u001b[39mfuture\u001b[39m.\u001b[39menforce_async_deadline() \u001b[39mas\u001b[39;00m cancel_scope:\n\u001b[0;32m--> 346\u001b[0m             result \u001b[39m=\u001b[39m \u001b[39mawait\u001b[39;00m coro\n\u001b[1;32m    347\u001b[0m \u001b[39mexcept\u001b[39;00m CancelledError:\n\u001b[1;32m    348\u001b[0m     \u001b[39m# Report cancellation\u001b[39;00m\n\u001b[1;32m    349\u001b[0m     \u001b[39mif\u001b[39;00m cancel_scope\u001b[39m.\u001b[39mtimedout():\n",
      "File \u001b[0;32m~/Documents/projects/dl_labs/.conda/lib/python3.9/site-packages/prefect/client/utilities.py:51\u001b[0m, in \u001b[0;36minject_client.<locals>.with_injected_client\u001b[0;34m(*args, **kwargs)\u001b[0m\n\u001b[1;32m     49\u001b[0m \u001b[39masync\u001b[39;00m \u001b[39mwith\u001b[39;00m client_context \u001b[39mas\u001b[39;00m new_client:\n\u001b[1;32m     50\u001b[0m     kwargs\u001b[39m.\u001b[39msetdefault(\u001b[39m\"\u001b[39m\u001b[39mclient\u001b[39m\u001b[39m\"\u001b[39m, new_client \u001b[39mor\u001b[39;00m client)\n\u001b[0;32m---> 51\u001b[0m     \u001b[39mreturn\u001b[39;00m \u001b[39mawait\u001b[39;00m fn(\u001b[39m*\u001b[39margs, \u001b[39m*\u001b[39m\u001b[39m*\u001b[39mkwargs)\n",
      "File \u001b[0;32m~/Documents/projects/dl_labs/.conda/lib/python3.9/site-packages/prefect/engine.py:375\u001b[0m, in \u001b[0;36mcreate_then_begin_flow_run\u001b[0;34m(flow, parameters, wait_for, return_type, client, user_thread)\u001b[0m\n\u001b[1;32m    373\u001b[0m     \u001b[39mreturn\u001b[39;00m state\n\u001b[1;32m    374\u001b[0m \u001b[39melif\u001b[39;00m return_type \u001b[39m==\u001b[39m \u001b[39m\"\u001b[39m\u001b[39mresult\u001b[39m\u001b[39m\"\u001b[39m:\n\u001b[0;32m--> 375\u001b[0m     \u001b[39mreturn\u001b[39;00m \u001b[39mawait\u001b[39;00m state\u001b[39m.\u001b[39mresult(fetch\u001b[39m=\u001b[39m\u001b[39mTrue\u001b[39;00m)\n\u001b[1;32m    376\u001b[0m \u001b[39melse\u001b[39;00m:\n\u001b[1;32m    377\u001b[0m     \u001b[39mraise\u001b[39;00m \u001b[39mValueError\u001b[39;00m(\u001b[39mf\u001b[39m\u001b[39m\"\u001b[39m\u001b[39mInvalid return type for flow engine \u001b[39m\u001b[39m{\u001b[39;00mreturn_type\u001b[39m!r}\u001b[39;00m\u001b[39m.\u001b[39m\u001b[39m\"\u001b[39m)\n",
      "File \u001b[0;32m~/Documents/projects/dl_labs/.conda/lib/python3.9/site-packages/prefect/states.py:91\u001b[0m, in \u001b[0;36m_get_state_result\u001b[0;34m(state, raise_on_failure)\u001b[0m\n\u001b[1;32m     84\u001b[0m     \u001b[39mraise\u001b[39;00m UnfinishedRun(\n\u001b[1;32m     85\u001b[0m         \u001b[39mf\u001b[39m\u001b[39m\"\u001b[39m\u001b[39mRun is in \u001b[39m\u001b[39m{\u001b[39;00mstate\u001b[39m.\u001b[39mtype\u001b[39m.\u001b[39mname\u001b[39m}\u001b[39;00m\u001b[39m state, its result is not available.\u001b[39m\u001b[39m\"\u001b[39m\n\u001b[1;32m     86\u001b[0m     )\n\u001b[1;32m     88\u001b[0m \u001b[39mif\u001b[39;00m raise_on_failure \u001b[39mand\u001b[39;00m (\n\u001b[1;32m     89\u001b[0m     state\u001b[39m.\u001b[39mis_crashed() \u001b[39mor\u001b[39;00m state\u001b[39m.\u001b[39mis_failed() \u001b[39mor\u001b[39;00m state\u001b[39m.\u001b[39mis_cancelled()\n\u001b[1;32m     90\u001b[0m ):\n\u001b[0;32m---> 91\u001b[0m     \u001b[39mraise\u001b[39;00m \u001b[39mawait\u001b[39;00m get_state_exception(state)\n\u001b[1;32m     93\u001b[0m \u001b[39mif\u001b[39;00m \u001b[39misinstance\u001b[39m(state\u001b[39m.\u001b[39mdata, DataDocument):\n\u001b[1;32m     94\u001b[0m     result \u001b[39m=\u001b[39m result_from_state_with_data_document(\n\u001b[1;32m     95\u001b[0m         state, raise_on_failure\u001b[39m=\u001b[39mraise_on_failure\n\u001b[1;32m     96\u001b[0m     )\n",
      "File \u001b[0;32m~/Documents/projects/dl_labs/.conda/lib/python3.9/site-packages/prefect/engine.py:833\u001b[0m, in \u001b[0;36morchestrate_flow_run\u001b[0;34m(flow, flow_run, parameters, wait_for, interruptible, client, partial_flow_run_context, user_thread)\u001b[0m\n\u001b[1;32m    828\u001b[0m         \u001b[39melse\u001b[39;00m:\n\u001b[1;32m    829\u001b[0m             from_async\u001b[39m.\u001b[39mcall_soon_in_new_thread(\n\u001b[1;32m    830\u001b[0m                 flow_call, timeout\u001b[39m=\u001b[39mflow\u001b[39m.\u001b[39mtimeout_seconds\n\u001b[1;32m    831\u001b[0m             )\n\u001b[0;32m--> 833\u001b[0m         result \u001b[39m=\u001b[39m \u001b[39mawait\u001b[39;00m flow_call\u001b[39m.\u001b[39maresult()\n\u001b[1;32m    835\u001b[0m         waited_for_task_runs \u001b[39m=\u001b[39m \u001b[39mawait\u001b[39;00m wait_for_task_runs_and_report_crashes(\n\u001b[1;32m    836\u001b[0m             flow_run_context\u001b[39m.\u001b[39mtask_run_futures, client\u001b[39m=\u001b[39mclient\n\u001b[1;32m    837\u001b[0m         )\n\u001b[1;32m    838\u001b[0m \u001b[39mexcept\u001b[39;00m PausedRun:\n",
      "File \u001b[0;32m~/Documents/projects/dl_labs/.conda/lib/python3.9/site-packages/prefect/_internal/concurrency/calls.py:292\u001b[0m, in \u001b[0;36mCall.aresult\u001b[0;34m(self)\u001b[0m\n\u001b[1;32m    286\u001b[0m \u001b[39m\u001b[39m\u001b[39m\"\"\"\u001b[39;00m\n\u001b[1;32m    287\u001b[0m \u001b[39mWait for the result of the call.\u001b[39;00m\n\u001b[1;32m    288\u001b[0m \n\u001b[1;32m    289\u001b[0m \u001b[39mFor use from asynchronous contexts.\u001b[39;00m\n\u001b[1;32m    290\u001b[0m \u001b[39m\"\"\"\u001b[39;00m\n\u001b[1;32m    291\u001b[0m \u001b[39mtry\u001b[39;00m:\n\u001b[0;32m--> 292\u001b[0m     \u001b[39mreturn\u001b[39;00m \u001b[39mawait\u001b[39;00m asyncio\u001b[39m.\u001b[39mwrap_future(\u001b[39mself\u001b[39m\u001b[39m.\u001b[39mfuture)\n\u001b[1;32m    293\u001b[0m \u001b[39mexcept\u001b[39;00m asyncio\u001b[39m.\u001b[39mCancelledError \u001b[39mas\u001b[39;00m exc:\n\u001b[1;32m    294\u001b[0m     \u001b[39mraise\u001b[39;00m CancelledError() \u001b[39mfrom\u001b[39;00m \u001b[39mexc\u001b[39;00m\n",
      "File \u001b[0;32m~/Documents/projects/dl_labs/.conda/lib/python3.9/site-packages/prefect/_internal/concurrency/calls.py:316\u001b[0m, in \u001b[0;36mCall._run_sync\u001b[0;34m(***failed resolving arguments***)\u001b[0m\n\u001b[1;32m    314\u001b[0m \u001b[39mwith\u001b[39;00m set_current_call(\u001b[39mself\u001b[39m):\n\u001b[1;32m    315\u001b[0m     \u001b[39mwith\u001b[39;00m \u001b[39mself\u001b[39m\u001b[39m.\u001b[39mfuture\u001b[39m.\u001b[39menforce_sync_deadline() \u001b[39mas\u001b[39;00m cancel_scope:\n\u001b[0;32m--> 316\u001b[0m         result \u001b[39m=\u001b[39m \u001b[39mself\u001b[39;49m\u001b[39m.\u001b[39;49mfn(\u001b[39m*\u001b[39;49m\u001b[39mself\u001b[39;49m\u001b[39m.\u001b[39;49margs, \u001b[39m*\u001b[39;49m\u001b[39m*\u001b[39;49m\u001b[39mself\u001b[39;49m\u001b[39m.\u001b[39;49mkwargs)\n\u001b[1;32m    318\u001b[0m \u001b[39m# Return the coroutine for async execution\u001b[39;00m\n\u001b[1;32m    319\u001b[0m \u001b[39mif\u001b[39;00m inspect\u001b[39m.\u001b[39misawaitable(result):\n",
      "Cell \u001b[0;32mIn[6], line 17\u001b[0m, in \u001b[0;36malways_fails_flow\u001b[0;34m()\u001b[0m\n\u001b[1;32m     15\u001b[0m \u001b[39m@flow\u001b[39m\n\u001b[1;32m     16\u001b[0m \u001b[39mdef\u001b[39;00m \u001b[39malways_fails_flow\u001b[39m():\n\u001b[0;32m---> 17\u001b[0m     x \u001b[39m=\u001b[39m always_fails_task()\n\u001b[1;32m     18\u001b[0m     y \u001b[39m=\u001b[39m always_succeeds_task()\n\u001b[1;32m     19\u001b[0m     z \u001b[39m=\u001b[39m always_succeeds_flow()\n",
      "File \u001b[0;32m~/Documents/projects/dl_labs/.conda/lib/python3.9/site-packages/prefect/tasks.py:505\u001b[0m, in \u001b[0;36mTask.__call__\u001b[0;34m(self, return_state, wait_for, *args, **kwargs)\u001b[0m\n\u001b[1;32m    501\u001b[0m parameters \u001b[39m=\u001b[39m get_call_parameters(\u001b[39mself\u001b[39m\u001b[39m.\u001b[39mfn, args, kwargs)\n\u001b[1;32m    503\u001b[0m return_type \u001b[39m=\u001b[39m \u001b[39m\"\u001b[39m\u001b[39mstate\u001b[39m\u001b[39m\"\u001b[39m \u001b[39mif\u001b[39;00m return_state \u001b[39melse\u001b[39;00m \u001b[39m\"\u001b[39m\u001b[39mresult\u001b[39m\u001b[39m\"\u001b[39m\n\u001b[0;32m--> 505\u001b[0m \u001b[39mreturn\u001b[39;00m enter_task_run_engine(\n\u001b[1;32m    506\u001b[0m     \u001b[39mself\u001b[39;49m,\n\u001b[1;32m    507\u001b[0m     parameters\u001b[39m=\u001b[39;49mparameters,\n\u001b[1;32m    508\u001b[0m     wait_for\u001b[39m=\u001b[39;49mwait_for,\n\u001b[1;32m    509\u001b[0m     task_runner\u001b[39m=\u001b[39;49mSequentialTaskRunner(),\n\u001b[1;32m    510\u001b[0m     return_type\u001b[39m=\u001b[39;49mreturn_type,\n\u001b[1;32m    511\u001b[0m     mapped\u001b[39m=\u001b[39;49m\u001b[39mFalse\u001b[39;49;00m,\n\u001b[1;32m    512\u001b[0m )\n",
      "File \u001b[0;32m~/Documents/projects/dl_labs/.conda/lib/python3.9/site-packages/prefect/engine.py:1137\u001b[0m, in \u001b[0;36menter_task_run_engine\u001b[0;34m(task, parameters, wait_for, return_type, task_runner, mapped)\u001b[0m\n\u001b[1;32m   1135\u001b[0m     \u001b[39mreturn\u001b[39;00m from_async\u001b[39m.\u001b[39mwait_for_call_in_loop_thread(begin_run)\n\u001b[1;32m   1136\u001b[0m \u001b[39melse\u001b[39;00m:\n\u001b[0;32m-> 1137\u001b[0m     \u001b[39mreturn\u001b[39;00m from_sync\u001b[39m.\u001b[39;49mwait_for_call_in_loop_thread(begin_run)\n",
      "File \u001b[0;32m~/Documents/projects/dl_labs/.conda/lib/python3.9/site-packages/prefect/_internal/concurrency/api.py:243\u001b[0m, in \u001b[0;36mfrom_sync.wait_for_call_in_loop_thread\u001b[0;34m(_from_sync__call, timeout, done_callbacks, contexts)\u001b[0m\n\u001b[1;32m    241\u001b[0m     stack\u001b[39m.\u001b[39menter_context(context)\n\u001b[1;32m    242\u001b[0m waiter\u001b[39m.\u001b[39mwait()\n\u001b[0;32m--> 243\u001b[0m \u001b[39mreturn\u001b[39;00m call\u001b[39m.\u001b[39;49mresult()\n",
      "File \u001b[0;32m~/Documents/projects/dl_labs/.conda/lib/python3.9/site-packages/prefect/_internal/concurrency/calls.py:283\u001b[0m, in \u001b[0;36mCall.result\u001b[0;34m(self, timeout)\u001b[0m\n\u001b[1;32m    277\u001b[0m \u001b[39mdef\u001b[39;00m \u001b[39mresult\u001b[39m(\u001b[39mself\u001b[39m, timeout: Optional[\u001b[39mfloat\u001b[39m] \u001b[39m=\u001b[39m \u001b[39mNone\u001b[39;00m) \u001b[39m-\u001b[39m\u001b[39m>\u001b[39m T:\n\u001b[1;32m    278\u001b[0m \u001b[39m    \u001b[39m\u001b[39m\"\"\"\u001b[39;00m\n\u001b[1;32m    279\u001b[0m \u001b[39m    Wait for the result of the call.\u001b[39;00m\n\u001b[1;32m    280\u001b[0m \n\u001b[1;32m    281\u001b[0m \u001b[39m    Not safe for use from asynchronous contexts.\u001b[39;00m\n\u001b[1;32m    282\u001b[0m \u001b[39m    \"\"\"\u001b[39;00m\n\u001b[0;32m--> 283\u001b[0m     \u001b[39mreturn\u001b[39;00m \u001b[39mself\u001b[39;49m\u001b[39m.\u001b[39;49mfuture\u001b[39m.\u001b[39;49mresult(timeout\u001b[39m=\u001b[39;49mtimeout)\n",
      "File \u001b[0;32m~/Documents/projects/dl_labs/.conda/lib/python3.9/site-packages/prefect/_internal/concurrency/calls.py:169\u001b[0m, in \u001b[0;36mFuture.result\u001b[0;34m(self, timeout)\u001b[0m\n\u001b[1;32m    167\u001b[0m     \u001b[39mraise\u001b[39;00m CancelledError()\n\u001b[1;32m    168\u001b[0m \u001b[39melif\u001b[39;00m \u001b[39mself\u001b[39m\u001b[39m.\u001b[39m_state \u001b[39m==\u001b[39m FINISHED:\n\u001b[0;32m--> 169\u001b[0m     \u001b[39mreturn\u001b[39;00m \u001b[39mself\u001b[39;49m\u001b[39m.\u001b[39;49m__get_result()\n\u001b[1;32m    171\u001b[0m \u001b[39mself\u001b[39m\u001b[39m.\u001b[39m_condition\u001b[39m.\u001b[39mwait(timeout)\n\u001b[1;32m    173\u001b[0m \u001b[39mif\u001b[39;00m \u001b[39mself\u001b[39m\u001b[39m.\u001b[39m_state \u001b[39min\u001b[39;00m [CANCELLED, CANCELLED_AND_NOTIFIED]:\n\u001b[1;32m    174\u001b[0m     \u001b[39m# Raise Prefect cancelled error instead of\u001b[39;00m\n\u001b[1;32m    175\u001b[0m     \u001b[39m# `concurrent.futures._base.CancelledError`\u001b[39;00m\n",
      "File \u001b[0;32m~/Documents/projects/dl_labs/.conda/lib/python3.9/concurrent/futures/_base.py:391\u001b[0m, in \u001b[0;36mFuture.__get_result\u001b[0;34m(self)\u001b[0m\n\u001b[1;32m    389\u001b[0m \u001b[39mif\u001b[39;00m \u001b[39mself\u001b[39m\u001b[39m.\u001b[39m_exception:\n\u001b[1;32m    390\u001b[0m     \u001b[39mtry\u001b[39;00m:\n\u001b[0;32m--> 391\u001b[0m         \u001b[39mraise\u001b[39;00m \u001b[39mself\u001b[39m\u001b[39m.\u001b[39m_exception\n\u001b[1;32m    392\u001b[0m     \u001b[39mfinally\u001b[39;00m:\n\u001b[1;32m    393\u001b[0m         \u001b[39m# Break a reference cycle with the exception in self._exception\u001b[39;00m\n\u001b[1;32m    394\u001b[0m         \u001b[39mself\u001b[39m \u001b[39m=\u001b[39m \u001b[39mNone\u001b[39;00m\n",
      "File \u001b[0;32m~/Documents/projects/dl_labs/.conda/lib/python3.9/site-packages/prefect/_internal/concurrency/calls.py:346\u001b[0m, in \u001b[0;36mCall._run_async\u001b[0;34m(***failed resolving arguments***)\u001b[0m\n\u001b[1;32m    344\u001b[0m     \u001b[39mwith\u001b[39;00m set_current_call(\u001b[39mself\u001b[39m):\n\u001b[1;32m    345\u001b[0m         \u001b[39mwith\u001b[39;00m \u001b[39mself\u001b[39m\u001b[39m.\u001b[39mfuture\u001b[39m.\u001b[39menforce_async_deadline() \u001b[39mas\u001b[39;00m cancel_scope:\n\u001b[0;32m--> 346\u001b[0m             result \u001b[39m=\u001b[39m \u001b[39mawait\u001b[39;00m coro\n\u001b[1;32m    347\u001b[0m \u001b[39mexcept\u001b[39;00m CancelledError:\n\u001b[1;32m    348\u001b[0m     \u001b[39m# Report cancellation\u001b[39;00m\n\u001b[1;32m    349\u001b[0m     \u001b[39mif\u001b[39;00m cancel_scope\u001b[39m.\u001b[39mtimedout():\n",
      "File \u001b[0;32m~/Documents/projects/dl_labs/.conda/lib/python3.9/site-packages/prefect/engine.py:1302\u001b[0m, in \u001b[0;36mget_task_call_return_value\u001b[0;34m(task, flow_run_context, parameters, wait_for, return_type, task_runner, extra_task_inputs)\u001b[0m\n\u001b[1;32m   1300\u001b[0m     \u001b[39mreturn\u001b[39;00m \u001b[39mawait\u001b[39;00m future\u001b[39m.\u001b[39m_wait()\n\u001b[1;32m   1301\u001b[0m \u001b[39melif\u001b[39;00m return_type \u001b[39m==\u001b[39m \u001b[39m\"\u001b[39m\u001b[39mresult\u001b[39m\u001b[39m\"\u001b[39m:\n\u001b[0;32m-> 1302\u001b[0m     \u001b[39mreturn\u001b[39;00m \u001b[39mawait\u001b[39;00m future\u001b[39m.\u001b[39m_result()\n\u001b[1;32m   1303\u001b[0m \u001b[39melse\u001b[39;00m:\n\u001b[1;32m   1304\u001b[0m     \u001b[39mraise\u001b[39;00m \u001b[39mValueError\u001b[39;00m(\u001b[39mf\u001b[39m\u001b[39m\"\u001b[39m\u001b[39mInvalid return type for task engine \u001b[39m\u001b[39m{\u001b[39;00mreturn_type\u001b[39m!r}\u001b[39;00m\u001b[39m.\u001b[39m\u001b[39m\"\u001b[39m)\n",
      "File \u001b[0;32m~/Documents/projects/dl_labs/.conda/lib/python3.9/site-packages/prefect/futures.py:237\u001b[0m, in \u001b[0;36mPrefectFuture._result\u001b[0;34m(self, timeout, raise_on_failure)\u001b[0m\n\u001b[1;32m    235\u001b[0m \u001b[39mif\u001b[39;00m \u001b[39mnot\u001b[39;00m final_state:\n\u001b[1;32m    236\u001b[0m     \u001b[39mraise\u001b[39;00m \u001b[39mTimeoutError\u001b[39;00m(\u001b[39m\"\u001b[39m\u001b[39mCall timed out before task finished.\u001b[39m\u001b[39m\"\u001b[39m)\n\u001b[0;32m--> 237\u001b[0m \u001b[39mreturn\u001b[39;00m \u001b[39mawait\u001b[39;00m final_state\u001b[39m.\u001b[39mresult(raise_on_failure\u001b[39m=\u001b[39mraise_on_failure, fetch\u001b[39m=\u001b[39m\u001b[39mTrue\u001b[39;00m)\n",
      "File \u001b[0;32m~/Documents/projects/dl_labs/.conda/lib/python3.9/site-packages/prefect/states.py:91\u001b[0m, in \u001b[0;36m_get_state_result\u001b[0;34m(state, raise_on_failure)\u001b[0m\n\u001b[1;32m     84\u001b[0m     \u001b[39mraise\u001b[39;00m UnfinishedRun(\n\u001b[1;32m     85\u001b[0m         \u001b[39mf\u001b[39m\u001b[39m\"\u001b[39m\u001b[39mRun is in \u001b[39m\u001b[39m{\u001b[39;00mstate\u001b[39m.\u001b[39mtype\u001b[39m.\u001b[39mname\u001b[39m}\u001b[39;00m\u001b[39m state, its result is not available.\u001b[39m\u001b[39m\"\u001b[39m\n\u001b[1;32m     86\u001b[0m     )\n\u001b[1;32m     88\u001b[0m \u001b[39mif\u001b[39;00m raise_on_failure \u001b[39mand\u001b[39;00m (\n\u001b[1;32m     89\u001b[0m     state\u001b[39m.\u001b[39mis_crashed() \u001b[39mor\u001b[39;00m state\u001b[39m.\u001b[39mis_failed() \u001b[39mor\u001b[39;00m state\u001b[39m.\u001b[39mis_cancelled()\n\u001b[1;32m     90\u001b[0m ):\n\u001b[0;32m---> 91\u001b[0m     \u001b[39mraise\u001b[39;00m \u001b[39mawait\u001b[39;00m get_state_exception(state)\n\u001b[1;32m     93\u001b[0m \u001b[39mif\u001b[39;00m \u001b[39misinstance\u001b[39m(state\u001b[39m.\u001b[39mdata, DataDocument):\n\u001b[1;32m     94\u001b[0m     result \u001b[39m=\u001b[39m result_from_state_with_data_document(\n\u001b[1;32m     95\u001b[0m         state, raise_on_failure\u001b[39m=\u001b[39mraise_on_failure\n\u001b[1;32m     96\u001b[0m     )\n",
      "File \u001b[0;32m~/Documents/projects/dl_labs/.conda/lib/python3.9/site-packages/prefect/engine.py:1719\u001b[0m, in \u001b[0;36morchestrate_task_run\u001b[0;34m(task, task_run, parameters, wait_for, result_factory, log_prints, interruptible, client)\u001b[0m\n\u001b[1;32m   1712\u001b[0m         logger\u001b[39m.\u001b[39mdebug(\n\u001b[1;32m   1713\u001b[0m             \u001b[39m\"\u001b[39m\u001b[39mBeginning execution...\u001b[39m\u001b[39m\"\u001b[39m, extra\u001b[39m=\u001b[39m{\u001b[39m\"\u001b[39m\u001b[39mstate_message\u001b[39m\u001b[39m\"\u001b[39m: \u001b[39mTrue\u001b[39;00m}\n\u001b[1;32m   1714\u001b[0m         )\n\u001b[1;32m   1716\u001b[0m     call \u001b[39m=\u001b[39m from_async\u001b[39m.\u001b[39mcall_soon_in_new_thread(\n\u001b[1;32m   1717\u001b[0m         create_call(task\u001b[39m.\u001b[39mfn, \u001b[39m*\u001b[39margs, \u001b[39m*\u001b[39m\u001b[39m*\u001b[39mkwargs), timeout\u001b[39m=\u001b[39mtask\u001b[39m.\u001b[39mtimeout_seconds\n\u001b[1;32m   1718\u001b[0m     )\n\u001b[0;32m-> 1719\u001b[0m     result \u001b[39m=\u001b[39m \u001b[39mawait\u001b[39;00m call\u001b[39m.\u001b[39maresult()\n\u001b[1;32m   1721\u001b[0m \u001b[39mexcept\u001b[39;00m (CancelledError, asyncio\u001b[39m.\u001b[39mCancelledError) \u001b[39mas\u001b[39;00m exc:\n\u001b[1;32m   1722\u001b[0m     \u001b[39mif\u001b[39;00m \u001b[39mnot\u001b[39;00m call\u001b[39m.\u001b[39mtimedout():\n\u001b[1;32m   1723\u001b[0m         \u001b[39m# If the task call was not cancelled by us; this is a crash\u001b[39;00m\n",
      "File \u001b[0;32m~/Documents/projects/dl_labs/.conda/lib/python3.9/site-packages/prefect/_internal/concurrency/calls.py:292\u001b[0m, in \u001b[0;36mCall.aresult\u001b[0;34m(self)\u001b[0m\n\u001b[1;32m    286\u001b[0m \u001b[39m\u001b[39m\u001b[39m\"\"\"\u001b[39;00m\n\u001b[1;32m    287\u001b[0m \u001b[39mWait for the result of the call.\u001b[39;00m\n\u001b[1;32m    288\u001b[0m \n\u001b[1;32m    289\u001b[0m \u001b[39mFor use from asynchronous contexts.\u001b[39;00m\n\u001b[1;32m    290\u001b[0m \u001b[39m\"\"\"\u001b[39;00m\n\u001b[1;32m    291\u001b[0m \u001b[39mtry\u001b[39;00m:\n\u001b[0;32m--> 292\u001b[0m     \u001b[39mreturn\u001b[39;00m \u001b[39mawait\u001b[39;00m asyncio\u001b[39m.\u001b[39mwrap_future(\u001b[39mself\u001b[39m\u001b[39m.\u001b[39mfuture)\n\u001b[1;32m    293\u001b[0m \u001b[39mexcept\u001b[39;00m asyncio\u001b[39m.\u001b[39mCancelledError \u001b[39mas\u001b[39;00m exc:\n\u001b[1;32m    294\u001b[0m     \u001b[39mraise\u001b[39;00m CancelledError() \u001b[39mfrom\u001b[39;00m \u001b[39mexc\u001b[39;00m\n",
      "File \u001b[0;32m~/Documents/projects/dl_labs/.conda/lib/python3.9/site-packages/prefect/_internal/concurrency/calls.py:316\u001b[0m, in \u001b[0;36mCall._run_sync\u001b[0;34m(***failed resolving arguments***)\u001b[0m\n\u001b[1;32m    314\u001b[0m \u001b[39mwith\u001b[39;00m set_current_call(\u001b[39mself\u001b[39m):\n\u001b[1;32m    315\u001b[0m     \u001b[39mwith\u001b[39;00m \u001b[39mself\u001b[39m\u001b[39m.\u001b[39mfuture\u001b[39m.\u001b[39menforce_sync_deadline() \u001b[39mas\u001b[39;00m cancel_scope:\n\u001b[0;32m--> 316\u001b[0m         result \u001b[39m=\u001b[39m \u001b[39mself\u001b[39;49m\u001b[39m.\u001b[39;49mfn(\u001b[39m*\u001b[39;49m\u001b[39mself\u001b[39;49m\u001b[39m.\u001b[39;49margs, \u001b[39m*\u001b[39;49m\u001b[39m*\u001b[39;49m\u001b[39mself\u001b[39;49m\u001b[39m.\u001b[39;49mkwargs)\n\u001b[1;32m    318\u001b[0m \u001b[39m# Return the coroutine for async execution\u001b[39;00m\n\u001b[1;32m    319\u001b[0m \u001b[39mif\u001b[39;00m inspect\u001b[39m.\u001b[39misawaitable(result):\n",
      "Cell \u001b[0;32mIn[6], line 5\u001b[0m, in \u001b[0;36malways_fails_task\u001b[0;34m()\u001b[0m\n\u001b[1;32m      3\u001b[0m \u001b[39m@task\u001b[39m\n\u001b[1;32m      4\u001b[0m \u001b[39mdef\u001b[39;00m \u001b[39malways_fails_task\u001b[39m():\n\u001b[0;32m----> 5\u001b[0m     \u001b[39mraise\u001b[39;00m \u001b[39mValueError\u001b[39;00m(\u001b[39m\"\u001b[39m\u001b[39mI am bad task\u001b[39m\u001b[39m\"\u001b[39m)\n",
      "\u001b[0;31mValueError\u001b[0m: I am bad task"
     ]
    }
   ],
   "source": [
    "from prefect import task, flow\n",
    "\n",
    "@task\n",
    "def always_fails_task():\n",
    "    raise ValueError(\"I am bad task\")\n",
    "\n",
    "@task\n",
    "def always_succeeds_task():\n",
    "    return \"foo\"\n",
    "\n",
    "@flow\n",
    "def always_succeeds_flow():\n",
    "    return \"bar\"\n",
    "\n",
    "@flow\n",
    "def always_fails_flow():\n",
    "    x = always_fails_task()\n",
    "    y = always_succeeds_task()\n",
    "    z = always_succeeds_flow()\n",
    "    return x, y, z\n",
    "\n",
    "always_fails_flow()\n"
   ]
  },
  {
   "cell_type": "code",
   "execution_count": 7,
   "metadata": {},
   "outputs": [
    {
     "name": "stderr",
     "output_type": "stream",
     "text": [
      "/Users/ngohongthai/Documents/projects/dl_labs/.conda/lib/python3.9/site-packages/prefect/tasks.py:298: UserWarning: A task named 'always_fails_task' and defined at '/var/folders/66/6rbnzyf91v9d5v8nb46hmn0h0000gn/T/ipykernel_1573/224199838.py:4' conflicts with another task. Consider specifying a unique `name` parameter in the task definition:\n",
      "\n",
      " `@task(name='my_unique_name', ...)`\n",
      "  warnings.warn(\n",
      "/Users/ngohongthai/Documents/projects/dl_labs/.conda/lib/python3.9/site-packages/prefect/tasks.py:298: UserWarning: A task named 'always_succeeds_task' and defined at '/var/folders/66/6rbnzyf91v9d5v8nb46hmn0h0000gn/T/ipykernel_1573/224199838.py:8' conflicts with another task. Consider specifying a unique `name` parameter in the task definition:\n",
      "\n",
      " `@task(name='my_unique_name', ...)`\n",
      "  warnings.warn(\n",
      "/Users/ngohongthai/Documents/projects/dl_labs/.conda/lib/python3.9/site-packages/prefect/flows.py:244: UserWarning: A flow named 'always-succeeds-flow' and defined at '/var/folders/66/6rbnzyf91v9d5v8nb46hmn0h0000gn/T/ipykernel_1573/224199838.py:13' conflicts with another flow. Consider specifying a unique `name` parameter in the flow definition:\n",
      "\n",
      " `@flow(name='my_unique_name', ...)`\n",
      "  warnings.warn(\n"
     ]
    },
    {
     "data": {
      "text/html": [
       "<pre style=\"white-space:pre;overflow-x:auto;line-height:normal;font-family:Menlo,'DejaVu Sans Mono',consolas,'Courier New',monospace\">23:14:57.109 | <span style=\"color: #008080; text-decoration-color: #008080\">INFO</span>    | prefect.engine - Created flow run<span style=\"color: #800080; text-decoration-color: #800080\"> 'voracious-weasel'</span> for flow<span style=\"color: #800080; text-decoration-color: #800080; font-weight: bold\"> 'always-succeeds-flow'</span>\n",
       "</pre>\n"
      ],
      "text/plain": [
       "23:14:57.109 | \u001b[36mINFO\u001b[0m    | prefect.engine - Created flow run\u001b[35m 'voracious-weasel'\u001b[0m for flow\u001b[1;35m 'always-succeeds-flow'\u001b[0m\n"
      ]
     },
     "metadata": {},
     "output_type": "display_data"
    },
    {
     "data": {
      "text/html": [
       "<pre style=\"white-space:pre;overflow-x:auto;line-height:normal;font-family:Menlo,'DejaVu Sans Mono',consolas,'Courier New',monospace\">23:14:57.111 | <span style=\"color: #008080; text-decoration-color: #008080\">INFO</span>    | Flow run<span style=\"color: #800080; text-decoration-color: #800080\"> 'voracious-weasel'</span> - View at <span style=\"color: #0000ff; text-decoration-color: #0000ff\">http://0.0.0.0:4200/flow-runs/flow-run/7ba2b398-7fe1-4575-bd8e-ef4e7c2df3d8</span>\n",
       "</pre>\n"
      ],
      "text/plain": [
       "23:14:57.111 | \u001b[36mINFO\u001b[0m    | Flow run\u001b[35m 'voracious-weasel'\u001b[0m - View at \u001b[94mhttp://0.0.0.0:4200/flow-runs/flow-run/7ba2b398-7fe1-4575-bd8e-ef4e7c2df3d8\u001b[0m\n"
      ]
     },
     "metadata": {},
     "output_type": "display_data"
    },
    {
     "data": {
      "text/html": [
       "<pre style=\"white-space:pre;overflow-x:auto;line-height:normal;font-family:Menlo,'DejaVu Sans Mono',consolas,'Courier New',monospace\">23:14:57.181 | <span style=\"color: #008080; text-decoration-color: #008080\">INFO</span>    | Flow run<span style=\"color: #800080; text-decoration-color: #800080\"> 'voracious-weasel'</span> - Created task run 'always_fails_task-0' for task 'always_fails_task'\n",
       "</pre>\n"
      ],
      "text/plain": [
       "23:14:57.181 | \u001b[36mINFO\u001b[0m    | Flow run\u001b[35m 'voracious-weasel'\u001b[0m - Created task run 'always_fails_task-0' for task 'always_fails_task'\n"
      ]
     },
     "metadata": {},
     "output_type": "display_data"
    },
    {
     "data": {
      "text/html": [
       "<pre style=\"white-space:pre;overflow-x:auto;line-height:normal;font-family:Menlo,'DejaVu Sans Mono',consolas,'Courier New',monospace\">23:14:57.182 | <span style=\"color: #008080; text-decoration-color: #008080\">INFO</span>    | Flow run<span style=\"color: #800080; text-decoration-color: #800080\"> 'voracious-weasel'</span> - Submitted task run 'always_fails_task-0' for execution.\n",
       "</pre>\n"
      ],
      "text/plain": [
       "23:14:57.182 | \u001b[36mINFO\u001b[0m    | Flow run\u001b[35m 'voracious-weasel'\u001b[0m - Submitted task run 'always_fails_task-0' for execution.\n"
      ]
     },
     "metadata": {},
     "output_type": "display_data"
    },
    {
     "data": {
      "text/html": [
       "<pre style=\"white-space:pre;overflow-x:auto;line-height:normal;font-family:Menlo,'DejaVu Sans Mono',consolas,'Courier New',monospace\">23:14:57.194 | <span style=\"color: #008080; text-decoration-color: #008080\">INFO</span>    | Flow run<span style=\"color: #800080; text-decoration-color: #800080\"> 'voracious-weasel'</span> - Created task run 'always_succeeds_task-0' for task 'always_succeeds_task'\n",
       "</pre>\n"
      ],
      "text/plain": [
       "23:14:57.194 | \u001b[36mINFO\u001b[0m    | Flow run\u001b[35m 'voracious-weasel'\u001b[0m - Created task run 'always_succeeds_task-0' for task 'always_succeeds_task'\n"
      ]
     },
     "metadata": {},
     "output_type": "display_data"
    },
    {
     "data": {
      "text/html": [
       "<pre style=\"white-space:pre;overflow-x:auto;line-height:normal;font-family:Menlo,'DejaVu Sans Mono',consolas,'Courier New',monospace\">23:14:57.195 | <span style=\"color: #008080; text-decoration-color: #008080\">INFO</span>    | Flow run<span style=\"color: #800080; text-decoration-color: #800080\"> 'voracious-weasel'</span> - Submitted task run 'always_succeeds_task-0' for execution.\n",
       "</pre>\n"
      ],
      "text/plain": [
       "23:14:57.195 | \u001b[36mINFO\u001b[0m    | Flow run\u001b[35m 'voracious-weasel'\u001b[0m - Submitted task run 'always_succeeds_task-0' for execution.\n"
      ]
     },
     "metadata": {},
     "output_type": "display_data"
    },
    {
     "data": {
      "text/html": [
       "<pre style=\"white-space:pre;overflow-x:auto;line-height:normal;font-family:Menlo,'DejaVu Sans Mono',consolas,'Courier New',monospace\">23:14:57.229 | <span style=\"color: #d70000; text-decoration-color: #d70000\">ERROR</span>   | Task run 'always_fails_task-0' - Encountered exception during execution:\n",
       "Traceback (most recent call last):\n",
       "  File \"/Users/ngohongthai/Documents/projects/dl_labs/.conda/lib/python3.9/site-packages/prefect/engine.py\", line 1719, in orchestrate_task_run\n",
       "    result = await call.aresult()\n",
       "  File \"/Users/ngohongthai/Documents/projects/dl_labs/.conda/lib/python3.9/site-packages/prefect/_internal/concurrency/calls.py\", line 292, in aresult\n",
       "    return await asyncio.wrap_future(self.future)\n",
       "  File \"/Users/ngohongthai/Documents/projects/dl_labs/.conda/lib/python3.9/site-packages/prefect/_internal/concurrency/calls.py\", line 316, in _run_sync\n",
       "    result = self.fn(*self.args, **self.kwargs)\n",
       "  File \"/var/folders/66/6rbnzyf91v9d5v8nb46hmn0h0000gn/T/ipykernel_1573/224199838.py\", line 6, in always_fails_task\n",
       "    raise ValueError(\"I fail successfully\")\n",
       "ValueError: I fail successfully\n",
       "</pre>\n"
      ],
      "text/plain": [
       "23:14:57.229 | \u001b[38;5;160mERROR\u001b[0m   | Task run 'always_fails_task-0' - Encountered exception during execution:\n",
       "Traceback (most recent call last):\n",
       "  File \"/Users/ngohongthai/Documents/projects/dl_labs/.conda/lib/python3.9/site-packages/prefect/engine.py\", line 1719, in orchestrate_task_run\n",
       "    result = await call.aresult()\n",
       "  File \"/Users/ngohongthai/Documents/projects/dl_labs/.conda/lib/python3.9/site-packages/prefect/_internal/concurrency/calls.py\", line 292, in aresult\n",
       "    return await asyncio.wrap_future(self.future)\n",
       "  File \"/Users/ngohongthai/Documents/projects/dl_labs/.conda/lib/python3.9/site-packages/prefect/_internal/concurrency/calls.py\", line 316, in _run_sync\n",
       "    result = self.fn(*self.args, **self.kwargs)\n",
       "  File \"/var/folders/66/6rbnzyf91v9d5v8nb46hmn0h0000gn/T/ipykernel_1573/224199838.py\", line 6, in always_fails_task\n",
       "    raise ValueError(\"I fail successfully\")\n",
       "ValueError: I fail successfully\n"
      ]
     },
     "metadata": {},
     "output_type": "display_data"
    },
    {
     "name": "stdout",
     "output_type": "stream",
     "text": [
      "I'm fail safe!\n"
     ]
    },
    {
     "data": {
      "text/html": [
       "<pre style=\"white-space:pre;overflow-x:auto;line-height:normal;font-family:Menlo,'DejaVu Sans Mono',consolas,'Courier New',monospace\">23:14:57.247 | <span style=\"color: #d70000; text-decoration-color: #d70000\">ERROR</span>   | Task run 'always_fails_task-0' - Finished in state <span style=\"color: #d70000; text-decoration-color: #d70000\">Failed</span>('Task run encountered an exception ValueError: I fail successfully')\n",
       "</pre>\n"
      ],
      "text/plain": [
       "23:14:57.247 | \u001b[38;5;160mERROR\u001b[0m   | Task run 'always_fails_task-0' - Finished in state \u001b[38;5;160mFailed\u001b[0m('Task run encountered an exception ValueError: I fail successfully')\n"
      ]
     },
     "metadata": {},
     "output_type": "display_data"
    },
    {
     "data": {
      "text/html": [
       "<pre style=\"white-space:pre;overflow-x:auto;line-height:normal;font-family:Menlo,'DejaVu Sans Mono',consolas,'Courier New',monospace\">23:14:57.249 | <span style=\"color: #008080; text-decoration-color: #008080\">INFO</span>    | Task run 'always_succeeds_task-0' - Finished in state <span style=\"color: #008000; text-decoration-color: #008000\">Completed</span>()\n",
       "</pre>\n"
      ],
      "text/plain": [
       "23:14:57.249 | \u001b[36mINFO\u001b[0m    | Task run 'always_succeeds_task-0' - Finished in state \u001b[32mCompleted\u001b[0m()\n"
      ]
     },
     "metadata": {},
     "output_type": "display_data"
    },
    {
     "data": {
      "text/html": [
       "<pre style=\"white-space:pre;overflow-x:auto;line-height:normal;font-family:Menlo,'DejaVu Sans Mono',consolas,'Courier New',monospace\">23:14:57.264 | <span style=\"color: #008080; text-decoration-color: #008080\">INFO</span>    | Flow run<span style=\"color: #800080; text-decoration-color: #800080\"> 'voracious-weasel'</span> - Finished in state <span style=\"color: #008000; text-decoration-color: #008000\">Completed</span>('I am happy with this result')\n",
       "</pre>\n"
      ],
      "text/plain": [
       "23:14:57.264 | \u001b[36mINFO\u001b[0m    | Flow run\u001b[35m 'voracious-weasel'\u001b[0m - Finished in state \u001b[32mCompleted\u001b[0m('I am happy with this result')\n"
      ]
     },
     "metadata": {},
     "output_type": "display_data"
    }
   ],
   "source": [
    "from prefect import task, flow\n",
    "from prefect.server.schemas.states import Completed, Failed\n",
    "\n",
    "@task\n",
    "def always_fails_task():\n",
    "    raise ValueError(\"I fail successfully\")\n",
    "\n",
    "@task\n",
    "def always_succeeds_task():\n",
    "    print(\"I'm fail safe!\")\n",
    "    return \"success\"\n",
    "\n",
    "@flow\n",
    "def always_succeeds_flow():\n",
    "    x = always_fails_task.submit()\n",
    "    y = always_succeeds_task.submit()\n",
    "    if y.result() == \"success\":\n",
    "        return Completed(message=\"I am happy with this result\")\n",
    "    else:\n",
    "        return Failed(message=\"How did this happen!?\")\n",
    "\n",
    "always_succeeds_flow()"
   ]
  },
  {
   "cell_type": "markdown",
   "metadata": {},
   "source": [
    "#### Return an object"
   ]
  },
  {
   "cell_type": "code",
   "execution_count": 8,
   "metadata": {},
   "outputs": [
    {
     "name": "stderr",
     "output_type": "stream",
     "text": [
      "/Users/ngohongthai/Documents/projects/dl_labs/.conda/lib/python3.9/site-packages/prefect/tasks.py:298: UserWarning: A task named 'always_fails_task' and defined at '/var/folders/66/6rbnzyf91v9d5v8nb46hmn0h0000gn/T/ipykernel_1573/1389218770.py:3' conflicts with another task. Consider specifying a unique `name` parameter in the task definition:\n",
      "\n",
      " `@task(name='my_unique_name', ...)`\n",
      "  warnings.warn(\n",
      "/Users/ngohongthai/Documents/projects/dl_labs/.conda/lib/python3.9/site-packages/prefect/flows.py:244: UserWarning: A flow named 'always-succeeds-flow' and defined at '/var/folders/66/6rbnzyf91v9d5v8nb46hmn0h0000gn/T/ipykernel_1573/1389218770.py:7' conflicts with another flow. Consider specifying a unique `name` parameter in the flow definition:\n",
      "\n",
      " `@flow(name='my_unique_name', ...)`\n",
      "  warnings.warn(\n"
     ]
    },
    {
     "data": {
      "text/html": [
       "<pre style=\"white-space:pre;overflow-x:auto;line-height:normal;font-family:Menlo,'DejaVu Sans Mono',consolas,'Courier New',monospace\">23:15:43.951 | <span style=\"color: #008080; text-decoration-color: #008080\">INFO</span>    | prefect.engine - Created flow run<span style=\"color: #800080; text-decoration-color: #800080\"> 'private-dragon'</span> for flow<span style=\"color: #800080; text-decoration-color: #800080; font-weight: bold\"> 'always-succeeds-flow'</span>\n",
       "</pre>\n"
      ],
      "text/plain": [
       "23:15:43.951 | \u001b[36mINFO\u001b[0m    | prefect.engine - Created flow run\u001b[35m 'private-dragon'\u001b[0m for flow\u001b[1;35m 'always-succeeds-flow'\u001b[0m\n"
      ]
     },
     "metadata": {},
     "output_type": "display_data"
    },
    {
     "data": {
      "text/html": [
       "<pre style=\"white-space:pre;overflow-x:auto;line-height:normal;font-family:Menlo,'DejaVu Sans Mono',consolas,'Courier New',monospace\">23:15:43.956 | <span style=\"color: #008080; text-decoration-color: #008080\">INFO</span>    | Flow run<span style=\"color: #800080; text-decoration-color: #800080\"> 'private-dragon'</span> - View at <span style=\"color: #0000ff; text-decoration-color: #0000ff\">http://0.0.0.0:4200/flow-runs/flow-run/661eb9d8-2417-4693-b260-adfd9d55c4fa</span>\n",
       "</pre>\n"
      ],
      "text/plain": [
       "23:15:43.956 | \u001b[36mINFO\u001b[0m    | Flow run\u001b[35m 'private-dragon'\u001b[0m - View at \u001b[94mhttp://0.0.0.0:4200/flow-runs/flow-run/661eb9d8-2417-4693-b260-adfd9d55c4fa\u001b[0m\n"
      ]
     },
     "metadata": {},
     "output_type": "display_data"
    },
    {
     "data": {
      "text/html": [
       "<pre style=\"white-space:pre;overflow-x:auto;line-height:normal;font-family:Menlo,'DejaVu Sans Mono',consolas,'Courier New',monospace\">23:15:44.014 | <span style=\"color: #008080; text-decoration-color: #008080\">INFO</span>    | Flow run<span style=\"color: #800080; text-decoration-color: #800080\"> 'private-dragon'</span> - Created task run 'always_fails_task-0' for task 'always_fails_task'\n",
       "</pre>\n"
      ],
      "text/plain": [
       "23:15:44.014 | \u001b[36mINFO\u001b[0m    | Flow run\u001b[35m 'private-dragon'\u001b[0m - Created task run 'always_fails_task-0' for task 'always_fails_task'\n"
      ]
     },
     "metadata": {},
     "output_type": "display_data"
    },
    {
     "data": {
      "text/html": [
       "<pre style=\"white-space:pre;overflow-x:auto;line-height:normal;font-family:Menlo,'DejaVu Sans Mono',consolas,'Courier New',monospace\">23:15:44.015 | <span style=\"color: #008080; text-decoration-color: #008080\">INFO</span>    | Flow run<span style=\"color: #800080; text-decoration-color: #800080\"> 'private-dragon'</span> - Executing 'always_fails_task-0' immediately...\n",
       "</pre>\n"
      ],
      "text/plain": [
       "23:15:44.015 | \u001b[36mINFO\u001b[0m    | Flow run\u001b[35m 'private-dragon'\u001b[0m - Executing 'always_fails_task-0' immediately...\n"
      ]
     },
     "metadata": {},
     "output_type": "display_data"
    },
    {
     "data": {
      "text/html": [
       "<pre style=\"white-space:pre;overflow-x:auto;line-height:normal;font-family:Menlo,'DejaVu Sans Mono',consolas,'Courier New',monospace\">23:15:44.050 | <span style=\"color: #d70000; text-decoration-color: #d70000\">ERROR</span>   | Task run 'always_fails_task-0' - Encountered exception during execution:\n",
       "Traceback (most recent call last):\n",
       "  File \"/Users/ngohongthai/Documents/projects/dl_labs/.conda/lib/python3.9/site-packages/prefect/engine.py\", line 1719, in orchestrate_task_run\n",
       "    result = await call.aresult()\n",
       "  File \"/Users/ngohongthai/Documents/projects/dl_labs/.conda/lib/python3.9/site-packages/prefect/_internal/concurrency/calls.py\", line 292, in aresult\n",
       "    return await asyncio.wrap_future(self.future)\n",
       "  File \"/Users/ngohongthai/Documents/projects/dl_labs/.conda/lib/python3.9/site-packages/prefect/_internal/concurrency/calls.py\", line 316, in _run_sync\n",
       "    result = self.fn(*self.args, **self.kwargs)\n",
       "  File \"/var/folders/66/6rbnzyf91v9d5v8nb46hmn0h0000gn/T/ipykernel_1573/1389218770.py\", line 5, in always_fails_task\n",
       "    raise ValueError(\"I fail successfully\")\n",
       "ValueError: I fail successfully\n",
       "</pre>\n"
      ],
      "text/plain": [
       "23:15:44.050 | \u001b[38;5;160mERROR\u001b[0m   | Task run 'always_fails_task-0' - Encountered exception during execution:\n",
       "Traceback (most recent call last):\n",
       "  File \"/Users/ngohongthai/Documents/projects/dl_labs/.conda/lib/python3.9/site-packages/prefect/engine.py\", line 1719, in orchestrate_task_run\n",
       "    result = await call.aresult()\n",
       "  File \"/Users/ngohongthai/Documents/projects/dl_labs/.conda/lib/python3.9/site-packages/prefect/_internal/concurrency/calls.py\", line 292, in aresult\n",
       "    return await asyncio.wrap_future(self.future)\n",
       "  File \"/Users/ngohongthai/Documents/projects/dl_labs/.conda/lib/python3.9/site-packages/prefect/_internal/concurrency/calls.py\", line 316, in _run_sync\n",
       "    result = self.fn(*self.args, **self.kwargs)\n",
       "  File \"/var/folders/66/6rbnzyf91v9d5v8nb46hmn0h0000gn/T/ipykernel_1573/1389218770.py\", line 5, in always_fails_task\n",
       "    raise ValueError(\"I fail successfully\")\n",
       "ValueError: I fail successfully\n"
      ]
     },
     "metadata": {},
     "output_type": "display_data"
    },
    {
     "data": {
      "text/html": [
       "<pre style=\"white-space:pre;overflow-x:auto;line-height:normal;font-family:Menlo,'DejaVu Sans Mono',consolas,'Courier New',monospace\">23:15:44.065 | <span style=\"color: #d70000; text-decoration-color: #d70000\">ERROR</span>   | Task run 'always_fails_task-0' - Finished in state <span style=\"color: #d70000; text-decoration-color: #d70000\">Failed</span>('Task run encountered an exception ValueError: I fail successfully')\n",
       "</pre>\n"
      ],
      "text/plain": [
       "23:15:44.065 | \u001b[38;5;160mERROR\u001b[0m   | Task run 'always_fails_task-0' - Finished in state \u001b[38;5;160mFailed\u001b[0m('Task run encountered an exception ValueError: I fail successfully')\n"
      ]
     },
     "metadata": {},
     "output_type": "display_data"
    },
    {
     "data": {
      "text/html": [
       "<pre style=\"white-space:pre;overflow-x:auto;line-height:normal;font-family:Menlo,'DejaVu Sans Mono',consolas,'Courier New',monospace\">23:15:44.066 | <span style=\"color: #d70000; text-decoration-color: #d70000\">ERROR</span>   | Flow run<span style=\"color: #800080; text-decoration-color: #800080\"> 'private-dragon'</span> - Encountered exception during execution:\n",
       "Traceback (most recent call last):\n",
       "  File \"/Users/ngohongthai/Documents/projects/dl_labs/.conda/lib/python3.9/site-packages/prefect/engine.py\", line 833, in orchestrate_flow_run\n",
       "    result = await flow_call.aresult()\n",
       "  File \"/Users/ngohongthai/Documents/projects/dl_labs/.conda/lib/python3.9/site-packages/prefect/_internal/concurrency/calls.py\", line 292, in aresult\n",
       "    return await asyncio.wrap_future(self.future)\n",
       "  File \"/Users/ngohongthai/Documents/projects/dl_labs/.conda/lib/python3.9/site-packages/prefect/_internal/concurrency/calls.py\", line 316, in _run_sync\n",
       "    result = self.fn(*self.args, **self.kwargs)\n",
       "  File \"/var/folders/66/6rbnzyf91v9d5v8nb46hmn0h0000gn/T/ipykernel_1573/1389218770.py\", line 9, in always_succeeds_flow\n",
       "    always_fails_task().submit()\n",
       "  File \"/Users/ngohongthai/Documents/projects/dl_labs/.conda/lib/python3.9/site-packages/prefect/tasks.py\", line 505, in __call__\n",
       "    return enter_task_run_engine(\n",
       "  File \"/Users/ngohongthai/Documents/projects/dl_labs/.conda/lib/python3.9/site-packages/prefect/engine.py\", line 1137, in enter_task_run_engine\n",
       "    return from_sync.wait_for_call_in_loop_thread(begin_run)\n",
       "  File \"/Users/ngohongthai/Documents/projects/dl_labs/.conda/lib/python3.9/site-packages/prefect/_internal/concurrency/api.py\", line 243, in wait_for_call_in_loop_thread\n",
       "    return call.result()\n",
       "  File \"/Users/ngohongthai/Documents/projects/dl_labs/.conda/lib/python3.9/site-packages/prefect/_internal/concurrency/calls.py\", line 283, in result\n",
       "    return self.future.result(timeout=timeout)\n",
       "  File \"/Users/ngohongthai/Documents/projects/dl_labs/.conda/lib/python3.9/site-packages/prefect/_internal/concurrency/calls.py\", line 169, in result\n",
       "    return self.__get_result()\n",
       "  File \"/Users/ngohongthai/Documents/projects/dl_labs/.conda/lib/python3.9/concurrent/futures/_base.py\", line 391, in __get_result\n",
       "    raise self._exception\n",
       "  File \"/Users/ngohongthai/Documents/projects/dl_labs/.conda/lib/python3.9/site-packages/prefect/_internal/concurrency/calls.py\", line 346, in _run_async\n",
       "    result = await coro\n",
       "  File \"/Users/ngohongthai/Documents/projects/dl_labs/.conda/lib/python3.9/site-packages/prefect/engine.py\", line 1302, in get_task_call_return_value\n",
       "    return await future._result()\n",
       "  File \"/Users/ngohongthai/Documents/projects/dl_labs/.conda/lib/python3.9/site-packages/prefect/futures.py\", line 237, in _result\n",
       "    return await final_state.result(raise_on_failure=raise_on_failure, fetch=True)\n",
       "  File \"/Users/ngohongthai/Documents/projects/dl_labs/.conda/lib/python3.9/site-packages/prefect/states.py\", line 91, in _get_state_result\n",
       "    raise await get_state_exception(state)\n",
       "  File \"/Users/ngohongthai/Documents/projects/dl_labs/.conda/lib/python3.9/site-packages/prefect/engine.py\", line 1719, in orchestrate_task_run\n",
       "    result = await call.aresult()\n",
       "  File \"/Users/ngohongthai/Documents/projects/dl_labs/.conda/lib/python3.9/site-packages/prefect/_internal/concurrency/calls.py\", line 292, in aresult\n",
       "    return await asyncio.wrap_future(self.future)\n",
       "  File \"/Users/ngohongthai/Documents/projects/dl_labs/.conda/lib/python3.9/site-packages/prefect/_internal/concurrency/calls.py\", line 316, in _run_sync\n",
       "    result = self.fn(*self.args, **self.kwargs)\n",
       "  File \"/var/folders/66/6rbnzyf91v9d5v8nb46hmn0h0000gn/T/ipykernel_1573/1389218770.py\", line 5, in always_fails_task\n",
       "    raise ValueError(\"I fail successfully\")\n",
       "ValueError: I fail successfully\n",
       "</pre>\n"
      ],
      "text/plain": [
       "23:15:44.066 | \u001b[38;5;160mERROR\u001b[0m   | Flow run\u001b[35m 'private-dragon'\u001b[0m - Encountered exception during execution:\n",
       "Traceback (most recent call last):\n",
       "  File \"/Users/ngohongthai/Documents/projects/dl_labs/.conda/lib/python3.9/site-packages/prefect/engine.py\", line 833, in orchestrate_flow_run\n",
       "    result = await flow_call.aresult()\n",
       "  File \"/Users/ngohongthai/Documents/projects/dl_labs/.conda/lib/python3.9/site-packages/prefect/_internal/concurrency/calls.py\", line 292, in aresult\n",
       "    return await asyncio.wrap_future(self.future)\n",
       "  File \"/Users/ngohongthai/Documents/projects/dl_labs/.conda/lib/python3.9/site-packages/prefect/_internal/concurrency/calls.py\", line 316, in _run_sync\n",
       "    result = self.fn(*self.args, **self.kwargs)\n",
       "  File \"/var/folders/66/6rbnzyf91v9d5v8nb46hmn0h0000gn/T/ipykernel_1573/1389218770.py\", line 9, in always_succeeds_flow\n",
       "    always_fails_task().submit()\n",
       "  File \"/Users/ngohongthai/Documents/projects/dl_labs/.conda/lib/python3.9/site-packages/prefect/tasks.py\", line 505, in __call__\n",
       "    return enter_task_run_engine(\n",
       "  File \"/Users/ngohongthai/Documents/projects/dl_labs/.conda/lib/python3.9/site-packages/prefect/engine.py\", line 1137, in enter_task_run_engine\n",
       "    return from_sync.wait_for_call_in_loop_thread(begin_run)\n",
       "  File \"/Users/ngohongthai/Documents/projects/dl_labs/.conda/lib/python3.9/site-packages/prefect/_internal/concurrency/api.py\", line 243, in wait_for_call_in_loop_thread\n",
       "    return call.result()\n",
       "  File \"/Users/ngohongthai/Documents/projects/dl_labs/.conda/lib/python3.9/site-packages/prefect/_internal/concurrency/calls.py\", line 283, in result\n",
       "    return self.future.result(timeout=timeout)\n",
       "  File \"/Users/ngohongthai/Documents/projects/dl_labs/.conda/lib/python3.9/site-packages/prefect/_internal/concurrency/calls.py\", line 169, in result\n",
       "    return self.__get_result()\n",
       "  File \"/Users/ngohongthai/Documents/projects/dl_labs/.conda/lib/python3.9/concurrent/futures/_base.py\", line 391, in __get_result\n",
       "    raise self._exception\n",
       "  File \"/Users/ngohongthai/Documents/projects/dl_labs/.conda/lib/python3.9/site-packages/prefect/_internal/concurrency/calls.py\", line 346, in _run_async\n",
       "    result = await coro\n",
       "  File \"/Users/ngohongthai/Documents/projects/dl_labs/.conda/lib/python3.9/site-packages/prefect/engine.py\", line 1302, in get_task_call_return_value\n",
       "    return await future._result()\n",
       "  File \"/Users/ngohongthai/Documents/projects/dl_labs/.conda/lib/python3.9/site-packages/prefect/futures.py\", line 237, in _result\n",
       "    return await final_state.result(raise_on_failure=raise_on_failure, fetch=True)\n",
       "  File \"/Users/ngohongthai/Documents/projects/dl_labs/.conda/lib/python3.9/site-packages/prefect/states.py\", line 91, in _get_state_result\n",
       "    raise await get_state_exception(state)\n",
       "  File \"/Users/ngohongthai/Documents/projects/dl_labs/.conda/lib/python3.9/site-packages/prefect/engine.py\", line 1719, in orchestrate_task_run\n",
       "    result = await call.aresult()\n",
       "  File \"/Users/ngohongthai/Documents/projects/dl_labs/.conda/lib/python3.9/site-packages/prefect/_internal/concurrency/calls.py\", line 292, in aresult\n",
       "    return await asyncio.wrap_future(self.future)\n",
       "  File \"/Users/ngohongthai/Documents/projects/dl_labs/.conda/lib/python3.9/site-packages/prefect/_internal/concurrency/calls.py\", line 316, in _run_sync\n",
       "    result = self.fn(*self.args, **self.kwargs)\n",
       "  File \"/var/folders/66/6rbnzyf91v9d5v8nb46hmn0h0000gn/T/ipykernel_1573/1389218770.py\", line 5, in always_fails_task\n",
       "    raise ValueError(\"I fail successfully\")\n",
       "ValueError: I fail successfully\n"
      ]
     },
     "metadata": {},
     "output_type": "display_data"
    },
    {
     "data": {
      "text/html": [
       "<pre style=\"white-space:pre;overflow-x:auto;line-height:normal;font-family:Menlo,'DejaVu Sans Mono',consolas,'Courier New',monospace\">23:15:44.081 | <span style=\"color: #d70000; text-decoration-color: #d70000\">ERROR</span>   | Flow run<span style=\"color: #800080; text-decoration-color: #800080\"> 'private-dragon'</span> - Finished in state <span style=\"color: #d70000; text-decoration-color: #d70000\">Failed</span>('Flow run encountered an exception. ValueError: I fail successfully')\n",
       "</pre>\n"
      ],
      "text/plain": [
       "23:15:44.081 | \u001b[38;5;160mERROR\u001b[0m   | Flow run\u001b[35m 'private-dragon'\u001b[0m - Finished in state \u001b[38;5;160mFailed\u001b[0m('Flow run encountered an exception. ValueError: I fail successfully')\n"
      ]
     },
     "metadata": {},
     "output_type": "display_data"
    },
    {
     "ename": "ValueError",
     "evalue": "I fail successfully",
     "output_type": "error",
     "traceback": [
      "\u001b[0;31m---------------------------------------------------------------------------\u001b[0m",
      "\u001b[0;31mValueError\u001b[0m                                Traceback (most recent call last)",
      "Cell \u001b[0;32mIn[8], line 12\u001b[0m\n\u001b[1;32m      9\u001b[0m     always_fails_task()\u001b[39m.\u001b[39msubmit()\n\u001b[1;32m     10\u001b[0m     \u001b[39mreturn\u001b[39;00m \u001b[39m\"\u001b[39m\u001b[39mfoo\u001b[39m\u001b[39m\"\u001b[39m\n\u001b[0;32m---> 12\u001b[0m always_succeeds_flow()\n",
      "File \u001b[0;32m~/Documents/projects/dl_labs/.conda/lib/python3.9/site-packages/prefect/flows.py:511\u001b[0m, in \u001b[0;36mFlow.__call__\u001b[0;34m(self, return_state, wait_for, *args, **kwargs)\u001b[0m\n\u001b[1;32m    507\u001b[0m parameters \u001b[39m=\u001b[39m get_call_parameters(\u001b[39mself\u001b[39m\u001b[39m.\u001b[39mfn, args, kwargs)\n\u001b[1;32m    509\u001b[0m return_type \u001b[39m=\u001b[39m \u001b[39m\"\u001b[39m\u001b[39mstate\u001b[39m\u001b[39m\"\u001b[39m \u001b[39mif\u001b[39;00m return_state \u001b[39melse\u001b[39;00m \u001b[39m\"\u001b[39m\u001b[39mresult\u001b[39m\u001b[39m\"\u001b[39m\n\u001b[0;32m--> 511\u001b[0m \u001b[39mreturn\u001b[39;00m enter_flow_run_engine_from_flow_call(\n\u001b[1;32m    512\u001b[0m     \u001b[39mself\u001b[39;49m,\n\u001b[1;32m    513\u001b[0m     parameters,\n\u001b[1;32m    514\u001b[0m     wait_for\u001b[39m=\u001b[39;49mwait_for,\n\u001b[1;32m    515\u001b[0m     return_type\u001b[39m=\u001b[39;49mreturn_type,\n\u001b[1;32m    516\u001b[0m )\n",
      "File \u001b[0;32m~/Documents/projects/dl_labs/.conda/lib/python3.9/site-packages/prefect/engine.py:272\u001b[0m, in \u001b[0;36menter_flow_run_engine_from_flow_call\u001b[0;34m(flow, parameters, wait_for, return_type)\u001b[0m\n\u001b[1;32m    265\u001b[0m     retval \u001b[39m=\u001b[39m from_async\u001b[39m.\u001b[39mwait_for_call_in_loop_thread(\n\u001b[1;32m    266\u001b[0m         begin_run,\n\u001b[1;32m    267\u001b[0m         done_callbacks\u001b[39m=\u001b[39mdone_callbacks,\n\u001b[1;32m    268\u001b[0m         contexts\u001b[39m=\u001b[39mcontexts,\n\u001b[1;32m    269\u001b[0m     )\n\u001b[1;32m    271\u001b[0m \u001b[39melse\u001b[39;00m:\n\u001b[0;32m--> 272\u001b[0m     retval \u001b[39m=\u001b[39m from_sync\u001b[39m.\u001b[39;49mwait_for_call_in_loop_thread(\n\u001b[1;32m    273\u001b[0m         begin_run,\n\u001b[1;32m    274\u001b[0m         done_callbacks\u001b[39m=\u001b[39;49mdone_callbacks,\n\u001b[1;32m    275\u001b[0m         contexts\u001b[39m=\u001b[39;49mcontexts,\n\u001b[1;32m    276\u001b[0m     )\n\u001b[1;32m    278\u001b[0m \u001b[39mreturn\u001b[39;00m retval\n",
      "File \u001b[0;32m~/Documents/projects/dl_labs/.conda/lib/python3.9/site-packages/prefect/_internal/concurrency/api.py:243\u001b[0m, in \u001b[0;36mfrom_sync.wait_for_call_in_loop_thread\u001b[0;34m(_from_sync__call, timeout, done_callbacks, contexts)\u001b[0m\n\u001b[1;32m    241\u001b[0m     stack\u001b[39m.\u001b[39menter_context(context)\n\u001b[1;32m    242\u001b[0m waiter\u001b[39m.\u001b[39mwait()\n\u001b[0;32m--> 243\u001b[0m \u001b[39mreturn\u001b[39;00m call\u001b[39m.\u001b[39;49mresult()\n",
      "File \u001b[0;32m~/Documents/projects/dl_labs/.conda/lib/python3.9/site-packages/prefect/_internal/concurrency/calls.py:283\u001b[0m, in \u001b[0;36mCall.result\u001b[0;34m(self, timeout)\u001b[0m\n\u001b[1;32m    277\u001b[0m \u001b[39mdef\u001b[39;00m \u001b[39mresult\u001b[39m(\u001b[39mself\u001b[39m, timeout: Optional[\u001b[39mfloat\u001b[39m] \u001b[39m=\u001b[39m \u001b[39mNone\u001b[39;00m) \u001b[39m-\u001b[39m\u001b[39m>\u001b[39m T:\n\u001b[1;32m    278\u001b[0m \u001b[39m    \u001b[39m\u001b[39m\"\"\"\u001b[39;00m\n\u001b[1;32m    279\u001b[0m \u001b[39m    Wait for the result of the call.\u001b[39;00m\n\u001b[1;32m    280\u001b[0m \n\u001b[1;32m    281\u001b[0m \u001b[39m    Not safe for use from asynchronous contexts.\u001b[39;00m\n\u001b[1;32m    282\u001b[0m \u001b[39m    \"\"\"\u001b[39;00m\n\u001b[0;32m--> 283\u001b[0m     \u001b[39mreturn\u001b[39;00m \u001b[39mself\u001b[39;49m\u001b[39m.\u001b[39;49mfuture\u001b[39m.\u001b[39;49mresult(timeout\u001b[39m=\u001b[39;49mtimeout)\n",
      "File \u001b[0;32m~/Documents/projects/dl_labs/.conda/lib/python3.9/site-packages/prefect/_internal/concurrency/calls.py:169\u001b[0m, in \u001b[0;36mFuture.result\u001b[0;34m(self, timeout)\u001b[0m\n\u001b[1;32m    167\u001b[0m     \u001b[39mraise\u001b[39;00m CancelledError()\n\u001b[1;32m    168\u001b[0m \u001b[39melif\u001b[39;00m \u001b[39mself\u001b[39m\u001b[39m.\u001b[39m_state \u001b[39m==\u001b[39m FINISHED:\n\u001b[0;32m--> 169\u001b[0m     \u001b[39mreturn\u001b[39;00m \u001b[39mself\u001b[39;49m\u001b[39m.\u001b[39;49m__get_result()\n\u001b[1;32m    171\u001b[0m \u001b[39mself\u001b[39m\u001b[39m.\u001b[39m_condition\u001b[39m.\u001b[39mwait(timeout)\n\u001b[1;32m    173\u001b[0m \u001b[39mif\u001b[39;00m \u001b[39mself\u001b[39m\u001b[39m.\u001b[39m_state \u001b[39min\u001b[39;00m [CANCELLED, CANCELLED_AND_NOTIFIED]:\n\u001b[1;32m    174\u001b[0m     \u001b[39m# Raise Prefect cancelled error instead of\u001b[39;00m\n\u001b[1;32m    175\u001b[0m     \u001b[39m# `concurrent.futures._base.CancelledError`\u001b[39;00m\n",
      "File \u001b[0;32m~/Documents/projects/dl_labs/.conda/lib/python3.9/concurrent/futures/_base.py:391\u001b[0m, in \u001b[0;36mFuture.__get_result\u001b[0;34m(self)\u001b[0m\n\u001b[1;32m    389\u001b[0m \u001b[39mif\u001b[39;00m \u001b[39mself\u001b[39m\u001b[39m.\u001b[39m_exception:\n\u001b[1;32m    390\u001b[0m     \u001b[39mtry\u001b[39;00m:\n\u001b[0;32m--> 391\u001b[0m         \u001b[39mraise\u001b[39;00m \u001b[39mself\u001b[39m\u001b[39m.\u001b[39m_exception\n\u001b[1;32m    392\u001b[0m     \u001b[39mfinally\u001b[39;00m:\n\u001b[1;32m    393\u001b[0m         \u001b[39m# Break a reference cycle with the exception in self._exception\u001b[39;00m\n\u001b[1;32m    394\u001b[0m         \u001b[39mself\u001b[39m \u001b[39m=\u001b[39m \u001b[39mNone\u001b[39;00m\n",
      "File \u001b[0;32m~/Documents/projects/dl_labs/.conda/lib/python3.9/site-packages/prefect/_internal/concurrency/calls.py:346\u001b[0m, in \u001b[0;36mCall._run_async\u001b[0;34m(***failed resolving arguments***)\u001b[0m\n\u001b[1;32m    344\u001b[0m     \u001b[39mwith\u001b[39;00m set_current_call(\u001b[39mself\u001b[39m):\n\u001b[1;32m    345\u001b[0m         \u001b[39mwith\u001b[39;00m \u001b[39mself\u001b[39m\u001b[39m.\u001b[39mfuture\u001b[39m.\u001b[39menforce_async_deadline() \u001b[39mas\u001b[39;00m cancel_scope:\n\u001b[0;32m--> 346\u001b[0m             result \u001b[39m=\u001b[39m \u001b[39mawait\u001b[39;00m coro\n\u001b[1;32m    347\u001b[0m \u001b[39mexcept\u001b[39;00m CancelledError:\n\u001b[1;32m    348\u001b[0m     \u001b[39m# Report cancellation\u001b[39;00m\n\u001b[1;32m    349\u001b[0m     \u001b[39mif\u001b[39;00m cancel_scope\u001b[39m.\u001b[39mtimedout():\n",
      "File \u001b[0;32m~/Documents/projects/dl_labs/.conda/lib/python3.9/site-packages/prefect/client/utilities.py:51\u001b[0m, in \u001b[0;36minject_client.<locals>.with_injected_client\u001b[0;34m(*args, **kwargs)\u001b[0m\n\u001b[1;32m     49\u001b[0m \u001b[39masync\u001b[39;00m \u001b[39mwith\u001b[39;00m client_context \u001b[39mas\u001b[39;00m new_client:\n\u001b[1;32m     50\u001b[0m     kwargs\u001b[39m.\u001b[39msetdefault(\u001b[39m\"\u001b[39m\u001b[39mclient\u001b[39m\u001b[39m\"\u001b[39m, new_client \u001b[39mor\u001b[39;00m client)\n\u001b[0;32m---> 51\u001b[0m     \u001b[39mreturn\u001b[39;00m \u001b[39mawait\u001b[39;00m fn(\u001b[39m*\u001b[39margs, \u001b[39m*\u001b[39m\u001b[39m*\u001b[39mkwargs)\n",
      "File \u001b[0;32m~/Documents/projects/dl_labs/.conda/lib/python3.9/site-packages/prefect/engine.py:375\u001b[0m, in \u001b[0;36mcreate_then_begin_flow_run\u001b[0;34m(flow, parameters, wait_for, return_type, client, user_thread)\u001b[0m\n\u001b[1;32m    373\u001b[0m     \u001b[39mreturn\u001b[39;00m state\n\u001b[1;32m    374\u001b[0m \u001b[39melif\u001b[39;00m return_type \u001b[39m==\u001b[39m \u001b[39m\"\u001b[39m\u001b[39mresult\u001b[39m\u001b[39m\"\u001b[39m:\n\u001b[0;32m--> 375\u001b[0m     \u001b[39mreturn\u001b[39;00m \u001b[39mawait\u001b[39;00m state\u001b[39m.\u001b[39mresult(fetch\u001b[39m=\u001b[39m\u001b[39mTrue\u001b[39;00m)\n\u001b[1;32m    376\u001b[0m \u001b[39melse\u001b[39;00m:\n\u001b[1;32m    377\u001b[0m     \u001b[39mraise\u001b[39;00m \u001b[39mValueError\u001b[39;00m(\u001b[39mf\u001b[39m\u001b[39m\"\u001b[39m\u001b[39mInvalid return type for flow engine \u001b[39m\u001b[39m{\u001b[39;00mreturn_type\u001b[39m!r}\u001b[39;00m\u001b[39m.\u001b[39m\u001b[39m\"\u001b[39m)\n",
      "File \u001b[0;32m~/Documents/projects/dl_labs/.conda/lib/python3.9/site-packages/prefect/states.py:91\u001b[0m, in \u001b[0;36m_get_state_result\u001b[0;34m(state, raise_on_failure)\u001b[0m\n\u001b[1;32m     84\u001b[0m     \u001b[39mraise\u001b[39;00m UnfinishedRun(\n\u001b[1;32m     85\u001b[0m         \u001b[39mf\u001b[39m\u001b[39m\"\u001b[39m\u001b[39mRun is in \u001b[39m\u001b[39m{\u001b[39;00mstate\u001b[39m.\u001b[39mtype\u001b[39m.\u001b[39mname\u001b[39m}\u001b[39;00m\u001b[39m state, its result is not available.\u001b[39m\u001b[39m\"\u001b[39m\n\u001b[1;32m     86\u001b[0m     )\n\u001b[1;32m     88\u001b[0m \u001b[39mif\u001b[39;00m raise_on_failure \u001b[39mand\u001b[39;00m (\n\u001b[1;32m     89\u001b[0m     state\u001b[39m.\u001b[39mis_crashed() \u001b[39mor\u001b[39;00m state\u001b[39m.\u001b[39mis_failed() \u001b[39mor\u001b[39;00m state\u001b[39m.\u001b[39mis_cancelled()\n\u001b[1;32m     90\u001b[0m ):\n\u001b[0;32m---> 91\u001b[0m     \u001b[39mraise\u001b[39;00m \u001b[39mawait\u001b[39;00m get_state_exception(state)\n\u001b[1;32m     93\u001b[0m \u001b[39mif\u001b[39;00m \u001b[39misinstance\u001b[39m(state\u001b[39m.\u001b[39mdata, DataDocument):\n\u001b[1;32m     94\u001b[0m     result \u001b[39m=\u001b[39m result_from_state_with_data_document(\n\u001b[1;32m     95\u001b[0m         state, raise_on_failure\u001b[39m=\u001b[39mraise_on_failure\n\u001b[1;32m     96\u001b[0m     )\n",
      "File \u001b[0;32m~/Documents/projects/dl_labs/.conda/lib/python3.9/site-packages/prefect/engine.py:833\u001b[0m, in \u001b[0;36morchestrate_flow_run\u001b[0;34m(flow, flow_run, parameters, wait_for, interruptible, client, partial_flow_run_context, user_thread)\u001b[0m\n\u001b[1;32m    828\u001b[0m         \u001b[39melse\u001b[39;00m:\n\u001b[1;32m    829\u001b[0m             from_async\u001b[39m.\u001b[39mcall_soon_in_new_thread(\n\u001b[1;32m    830\u001b[0m                 flow_call, timeout\u001b[39m=\u001b[39mflow\u001b[39m.\u001b[39mtimeout_seconds\n\u001b[1;32m    831\u001b[0m             )\n\u001b[0;32m--> 833\u001b[0m         result \u001b[39m=\u001b[39m \u001b[39mawait\u001b[39;00m flow_call\u001b[39m.\u001b[39maresult()\n\u001b[1;32m    835\u001b[0m         waited_for_task_runs \u001b[39m=\u001b[39m \u001b[39mawait\u001b[39;00m wait_for_task_runs_and_report_crashes(\n\u001b[1;32m    836\u001b[0m             flow_run_context\u001b[39m.\u001b[39mtask_run_futures, client\u001b[39m=\u001b[39mclient\n\u001b[1;32m    837\u001b[0m         )\n\u001b[1;32m    838\u001b[0m \u001b[39mexcept\u001b[39;00m PausedRun:\n",
      "File \u001b[0;32m~/Documents/projects/dl_labs/.conda/lib/python3.9/site-packages/prefect/_internal/concurrency/calls.py:292\u001b[0m, in \u001b[0;36mCall.aresult\u001b[0;34m(self)\u001b[0m\n\u001b[1;32m    286\u001b[0m \u001b[39m\u001b[39m\u001b[39m\"\"\"\u001b[39;00m\n\u001b[1;32m    287\u001b[0m \u001b[39mWait for the result of the call.\u001b[39;00m\n\u001b[1;32m    288\u001b[0m \n\u001b[1;32m    289\u001b[0m \u001b[39mFor use from asynchronous contexts.\u001b[39;00m\n\u001b[1;32m    290\u001b[0m \u001b[39m\"\"\"\u001b[39;00m\n\u001b[1;32m    291\u001b[0m \u001b[39mtry\u001b[39;00m:\n\u001b[0;32m--> 292\u001b[0m     \u001b[39mreturn\u001b[39;00m \u001b[39mawait\u001b[39;00m asyncio\u001b[39m.\u001b[39mwrap_future(\u001b[39mself\u001b[39m\u001b[39m.\u001b[39mfuture)\n\u001b[1;32m    293\u001b[0m \u001b[39mexcept\u001b[39;00m asyncio\u001b[39m.\u001b[39mCancelledError \u001b[39mas\u001b[39;00m exc:\n\u001b[1;32m    294\u001b[0m     \u001b[39mraise\u001b[39;00m CancelledError() \u001b[39mfrom\u001b[39;00m \u001b[39mexc\u001b[39;00m\n",
      "File \u001b[0;32m~/Documents/projects/dl_labs/.conda/lib/python3.9/site-packages/prefect/_internal/concurrency/calls.py:316\u001b[0m, in \u001b[0;36mCall._run_sync\u001b[0;34m(***failed resolving arguments***)\u001b[0m\n\u001b[1;32m    314\u001b[0m \u001b[39mwith\u001b[39;00m set_current_call(\u001b[39mself\u001b[39m):\n\u001b[1;32m    315\u001b[0m     \u001b[39mwith\u001b[39;00m \u001b[39mself\u001b[39m\u001b[39m.\u001b[39mfuture\u001b[39m.\u001b[39menforce_sync_deadline() \u001b[39mas\u001b[39;00m cancel_scope:\n\u001b[0;32m--> 316\u001b[0m         result \u001b[39m=\u001b[39m \u001b[39mself\u001b[39;49m\u001b[39m.\u001b[39;49mfn(\u001b[39m*\u001b[39;49m\u001b[39mself\u001b[39;49m\u001b[39m.\u001b[39;49margs, \u001b[39m*\u001b[39;49m\u001b[39m*\u001b[39;49m\u001b[39mself\u001b[39;49m\u001b[39m.\u001b[39;49mkwargs)\n\u001b[1;32m    318\u001b[0m \u001b[39m# Return the coroutine for async execution\u001b[39;00m\n\u001b[1;32m    319\u001b[0m \u001b[39mif\u001b[39;00m inspect\u001b[39m.\u001b[39misawaitable(result):\n",
      "Cell \u001b[0;32mIn[8], line 9\u001b[0m, in \u001b[0;36malways_succeeds_flow\u001b[0;34m()\u001b[0m\n\u001b[1;32m      7\u001b[0m \u001b[39m@flow\u001b[39m\n\u001b[1;32m      8\u001b[0m \u001b[39mdef\u001b[39;00m \u001b[39malways_succeeds_flow\u001b[39m():\n\u001b[0;32m----> 9\u001b[0m     always_fails_task()\u001b[39m.\u001b[39msubmit()\n\u001b[1;32m     10\u001b[0m     \u001b[39mreturn\u001b[39;00m \u001b[39m\"\u001b[39m\u001b[39mfoo\u001b[39m\u001b[39m\"\u001b[39m\n",
      "File \u001b[0;32m~/Documents/projects/dl_labs/.conda/lib/python3.9/site-packages/prefect/tasks.py:505\u001b[0m, in \u001b[0;36mTask.__call__\u001b[0;34m(self, return_state, wait_for, *args, **kwargs)\u001b[0m\n\u001b[1;32m    501\u001b[0m parameters \u001b[39m=\u001b[39m get_call_parameters(\u001b[39mself\u001b[39m\u001b[39m.\u001b[39mfn, args, kwargs)\n\u001b[1;32m    503\u001b[0m return_type \u001b[39m=\u001b[39m \u001b[39m\"\u001b[39m\u001b[39mstate\u001b[39m\u001b[39m\"\u001b[39m \u001b[39mif\u001b[39;00m return_state \u001b[39melse\u001b[39;00m \u001b[39m\"\u001b[39m\u001b[39mresult\u001b[39m\u001b[39m\"\u001b[39m\n\u001b[0;32m--> 505\u001b[0m \u001b[39mreturn\u001b[39;00m enter_task_run_engine(\n\u001b[1;32m    506\u001b[0m     \u001b[39mself\u001b[39;49m,\n\u001b[1;32m    507\u001b[0m     parameters\u001b[39m=\u001b[39;49mparameters,\n\u001b[1;32m    508\u001b[0m     wait_for\u001b[39m=\u001b[39;49mwait_for,\n\u001b[1;32m    509\u001b[0m     task_runner\u001b[39m=\u001b[39;49mSequentialTaskRunner(),\n\u001b[1;32m    510\u001b[0m     return_type\u001b[39m=\u001b[39;49mreturn_type,\n\u001b[1;32m    511\u001b[0m     mapped\u001b[39m=\u001b[39;49m\u001b[39mFalse\u001b[39;49;00m,\n\u001b[1;32m    512\u001b[0m )\n",
      "File \u001b[0;32m~/Documents/projects/dl_labs/.conda/lib/python3.9/site-packages/prefect/engine.py:1137\u001b[0m, in \u001b[0;36menter_task_run_engine\u001b[0;34m(task, parameters, wait_for, return_type, task_runner, mapped)\u001b[0m\n\u001b[1;32m   1135\u001b[0m     \u001b[39mreturn\u001b[39;00m from_async\u001b[39m.\u001b[39mwait_for_call_in_loop_thread(begin_run)\n\u001b[1;32m   1136\u001b[0m \u001b[39melse\u001b[39;00m:\n\u001b[0;32m-> 1137\u001b[0m     \u001b[39mreturn\u001b[39;00m from_sync\u001b[39m.\u001b[39;49mwait_for_call_in_loop_thread(begin_run)\n",
      "File \u001b[0;32m~/Documents/projects/dl_labs/.conda/lib/python3.9/site-packages/prefect/_internal/concurrency/api.py:243\u001b[0m, in \u001b[0;36mfrom_sync.wait_for_call_in_loop_thread\u001b[0;34m(_from_sync__call, timeout, done_callbacks, contexts)\u001b[0m\n\u001b[1;32m    241\u001b[0m     stack\u001b[39m.\u001b[39menter_context(context)\n\u001b[1;32m    242\u001b[0m waiter\u001b[39m.\u001b[39mwait()\n\u001b[0;32m--> 243\u001b[0m \u001b[39mreturn\u001b[39;00m call\u001b[39m.\u001b[39;49mresult()\n",
      "File \u001b[0;32m~/Documents/projects/dl_labs/.conda/lib/python3.9/site-packages/prefect/_internal/concurrency/calls.py:283\u001b[0m, in \u001b[0;36mCall.result\u001b[0;34m(self, timeout)\u001b[0m\n\u001b[1;32m    277\u001b[0m \u001b[39mdef\u001b[39;00m \u001b[39mresult\u001b[39m(\u001b[39mself\u001b[39m, timeout: Optional[\u001b[39mfloat\u001b[39m] \u001b[39m=\u001b[39m \u001b[39mNone\u001b[39;00m) \u001b[39m-\u001b[39m\u001b[39m>\u001b[39m T:\n\u001b[1;32m    278\u001b[0m \u001b[39m    \u001b[39m\u001b[39m\"\"\"\u001b[39;00m\n\u001b[1;32m    279\u001b[0m \u001b[39m    Wait for the result of the call.\u001b[39;00m\n\u001b[1;32m    280\u001b[0m \n\u001b[1;32m    281\u001b[0m \u001b[39m    Not safe for use from asynchronous contexts.\u001b[39;00m\n\u001b[1;32m    282\u001b[0m \u001b[39m    \"\"\"\u001b[39;00m\n\u001b[0;32m--> 283\u001b[0m     \u001b[39mreturn\u001b[39;00m \u001b[39mself\u001b[39;49m\u001b[39m.\u001b[39;49mfuture\u001b[39m.\u001b[39;49mresult(timeout\u001b[39m=\u001b[39;49mtimeout)\n",
      "File \u001b[0;32m~/Documents/projects/dl_labs/.conda/lib/python3.9/site-packages/prefect/_internal/concurrency/calls.py:169\u001b[0m, in \u001b[0;36mFuture.result\u001b[0;34m(self, timeout)\u001b[0m\n\u001b[1;32m    167\u001b[0m     \u001b[39mraise\u001b[39;00m CancelledError()\n\u001b[1;32m    168\u001b[0m \u001b[39melif\u001b[39;00m \u001b[39mself\u001b[39m\u001b[39m.\u001b[39m_state \u001b[39m==\u001b[39m FINISHED:\n\u001b[0;32m--> 169\u001b[0m     \u001b[39mreturn\u001b[39;00m \u001b[39mself\u001b[39;49m\u001b[39m.\u001b[39;49m__get_result()\n\u001b[1;32m    171\u001b[0m \u001b[39mself\u001b[39m\u001b[39m.\u001b[39m_condition\u001b[39m.\u001b[39mwait(timeout)\n\u001b[1;32m    173\u001b[0m \u001b[39mif\u001b[39;00m \u001b[39mself\u001b[39m\u001b[39m.\u001b[39m_state \u001b[39min\u001b[39;00m [CANCELLED, CANCELLED_AND_NOTIFIED]:\n\u001b[1;32m    174\u001b[0m     \u001b[39m# Raise Prefect cancelled error instead of\u001b[39;00m\n\u001b[1;32m    175\u001b[0m     \u001b[39m# `concurrent.futures._base.CancelledError`\u001b[39;00m\n",
      "File \u001b[0;32m~/Documents/projects/dl_labs/.conda/lib/python3.9/concurrent/futures/_base.py:391\u001b[0m, in \u001b[0;36mFuture.__get_result\u001b[0;34m(self)\u001b[0m\n\u001b[1;32m    389\u001b[0m \u001b[39mif\u001b[39;00m \u001b[39mself\u001b[39m\u001b[39m.\u001b[39m_exception:\n\u001b[1;32m    390\u001b[0m     \u001b[39mtry\u001b[39;00m:\n\u001b[0;32m--> 391\u001b[0m         \u001b[39mraise\u001b[39;00m \u001b[39mself\u001b[39m\u001b[39m.\u001b[39m_exception\n\u001b[1;32m    392\u001b[0m     \u001b[39mfinally\u001b[39;00m:\n\u001b[1;32m    393\u001b[0m         \u001b[39m# Break a reference cycle with the exception in self._exception\u001b[39;00m\n\u001b[1;32m    394\u001b[0m         \u001b[39mself\u001b[39m \u001b[39m=\u001b[39m \u001b[39mNone\u001b[39;00m\n",
      "File \u001b[0;32m~/Documents/projects/dl_labs/.conda/lib/python3.9/site-packages/prefect/_internal/concurrency/calls.py:346\u001b[0m, in \u001b[0;36mCall._run_async\u001b[0;34m(***failed resolving arguments***)\u001b[0m\n\u001b[1;32m    344\u001b[0m     \u001b[39mwith\u001b[39;00m set_current_call(\u001b[39mself\u001b[39m):\n\u001b[1;32m    345\u001b[0m         \u001b[39mwith\u001b[39;00m \u001b[39mself\u001b[39m\u001b[39m.\u001b[39mfuture\u001b[39m.\u001b[39menforce_async_deadline() \u001b[39mas\u001b[39;00m cancel_scope:\n\u001b[0;32m--> 346\u001b[0m             result \u001b[39m=\u001b[39m \u001b[39mawait\u001b[39;00m coro\n\u001b[1;32m    347\u001b[0m \u001b[39mexcept\u001b[39;00m CancelledError:\n\u001b[1;32m    348\u001b[0m     \u001b[39m# Report cancellation\u001b[39;00m\n\u001b[1;32m    349\u001b[0m     \u001b[39mif\u001b[39;00m cancel_scope\u001b[39m.\u001b[39mtimedout():\n",
      "File \u001b[0;32m~/Documents/projects/dl_labs/.conda/lib/python3.9/site-packages/prefect/engine.py:1302\u001b[0m, in \u001b[0;36mget_task_call_return_value\u001b[0;34m(task, flow_run_context, parameters, wait_for, return_type, task_runner, extra_task_inputs)\u001b[0m\n\u001b[1;32m   1300\u001b[0m     \u001b[39mreturn\u001b[39;00m \u001b[39mawait\u001b[39;00m future\u001b[39m.\u001b[39m_wait()\n\u001b[1;32m   1301\u001b[0m \u001b[39melif\u001b[39;00m return_type \u001b[39m==\u001b[39m \u001b[39m\"\u001b[39m\u001b[39mresult\u001b[39m\u001b[39m\"\u001b[39m:\n\u001b[0;32m-> 1302\u001b[0m     \u001b[39mreturn\u001b[39;00m \u001b[39mawait\u001b[39;00m future\u001b[39m.\u001b[39m_result()\n\u001b[1;32m   1303\u001b[0m \u001b[39melse\u001b[39;00m:\n\u001b[1;32m   1304\u001b[0m     \u001b[39mraise\u001b[39;00m \u001b[39mValueError\u001b[39;00m(\u001b[39mf\u001b[39m\u001b[39m\"\u001b[39m\u001b[39mInvalid return type for task engine \u001b[39m\u001b[39m{\u001b[39;00mreturn_type\u001b[39m!r}\u001b[39;00m\u001b[39m.\u001b[39m\u001b[39m\"\u001b[39m)\n",
      "File \u001b[0;32m~/Documents/projects/dl_labs/.conda/lib/python3.9/site-packages/prefect/futures.py:237\u001b[0m, in \u001b[0;36mPrefectFuture._result\u001b[0;34m(self, timeout, raise_on_failure)\u001b[0m\n\u001b[1;32m    235\u001b[0m \u001b[39mif\u001b[39;00m \u001b[39mnot\u001b[39;00m final_state:\n\u001b[1;32m    236\u001b[0m     \u001b[39mraise\u001b[39;00m \u001b[39mTimeoutError\u001b[39;00m(\u001b[39m\"\u001b[39m\u001b[39mCall timed out before task finished.\u001b[39m\u001b[39m\"\u001b[39m)\n\u001b[0;32m--> 237\u001b[0m \u001b[39mreturn\u001b[39;00m \u001b[39mawait\u001b[39;00m final_state\u001b[39m.\u001b[39mresult(raise_on_failure\u001b[39m=\u001b[39mraise_on_failure, fetch\u001b[39m=\u001b[39m\u001b[39mTrue\u001b[39;00m)\n",
      "File \u001b[0;32m~/Documents/projects/dl_labs/.conda/lib/python3.9/site-packages/prefect/states.py:91\u001b[0m, in \u001b[0;36m_get_state_result\u001b[0;34m(state, raise_on_failure)\u001b[0m\n\u001b[1;32m     84\u001b[0m     \u001b[39mraise\u001b[39;00m UnfinishedRun(\n\u001b[1;32m     85\u001b[0m         \u001b[39mf\u001b[39m\u001b[39m\"\u001b[39m\u001b[39mRun is in \u001b[39m\u001b[39m{\u001b[39;00mstate\u001b[39m.\u001b[39mtype\u001b[39m.\u001b[39mname\u001b[39m}\u001b[39;00m\u001b[39m state, its result is not available.\u001b[39m\u001b[39m\"\u001b[39m\n\u001b[1;32m     86\u001b[0m     )\n\u001b[1;32m     88\u001b[0m \u001b[39mif\u001b[39;00m raise_on_failure \u001b[39mand\u001b[39;00m (\n\u001b[1;32m     89\u001b[0m     state\u001b[39m.\u001b[39mis_crashed() \u001b[39mor\u001b[39;00m state\u001b[39m.\u001b[39mis_failed() \u001b[39mor\u001b[39;00m state\u001b[39m.\u001b[39mis_cancelled()\n\u001b[1;32m     90\u001b[0m ):\n\u001b[0;32m---> 91\u001b[0m     \u001b[39mraise\u001b[39;00m \u001b[39mawait\u001b[39;00m get_state_exception(state)\n\u001b[1;32m     93\u001b[0m \u001b[39mif\u001b[39;00m \u001b[39misinstance\u001b[39m(state\u001b[39m.\u001b[39mdata, DataDocument):\n\u001b[1;32m     94\u001b[0m     result \u001b[39m=\u001b[39m result_from_state_with_data_document(\n\u001b[1;32m     95\u001b[0m         state, raise_on_failure\u001b[39m=\u001b[39mraise_on_failure\n\u001b[1;32m     96\u001b[0m     )\n",
      "File \u001b[0;32m~/Documents/projects/dl_labs/.conda/lib/python3.9/site-packages/prefect/engine.py:1719\u001b[0m, in \u001b[0;36morchestrate_task_run\u001b[0;34m(task, task_run, parameters, wait_for, result_factory, log_prints, interruptible, client)\u001b[0m\n\u001b[1;32m   1712\u001b[0m         logger\u001b[39m.\u001b[39mdebug(\n\u001b[1;32m   1713\u001b[0m             \u001b[39m\"\u001b[39m\u001b[39mBeginning execution...\u001b[39m\u001b[39m\"\u001b[39m, extra\u001b[39m=\u001b[39m{\u001b[39m\"\u001b[39m\u001b[39mstate_message\u001b[39m\u001b[39m\"\u001b[39m: \u001b[39mTrue\u001b[39;00m}\n\u001b[1;32m   1714\u001b[0m         )\n\u001b[1;32m   1716\u001b[0m     call \u001b[39m=\u001b[39m from_async\u001b[39m.\u001b[39mcall_soon_in_new_thread(\n\u001b[1;32m   1717\u001b[0m         create_call(task\u001b[39m.\u001b[39mfn, \u001b[39m*\u001b[39margs, \u001b[39m*\u001b[39m\u001b[39m*\u001b[39mkwargs), timeout\u001b[39m=\u001b[39mtask\u001b[39m.\u001b[39mtimeout_seconds\n\u001b[1;32m   1718\u001b[0m     )\n\u001b[0;32m-> 1719\u001b[0m     result \u001b[39m=\u001b[39m \u001b[39mawait\u001b[39;00m call\u001b[39m.\u001b[39maresult()\n\u001b[1;32m   1721\u001b[0m \u001b[39mexcept\u001b[39;00m (CancelledError, asyncio\u001b[39m.\u001b[39mCancelledError) \u001b[39mas\u001b[39;00m exc:\n\u001b[1;32m   1722\u001b[0m     \u001b[39mif\u001b[39;00m \u001b[39mnot\u001b[39;00m call\u001b[39m.\u001b[39mtimedout():\n\u001b[1;32m   1723\u001b[0m         \u001b[39m# If the task call was not cancelled by us; this is a crash\u001b[39;00m\n",
      "File \u001b[0;32m~/Documents/projects/dl_labs/.conda/lib/python3.9/site-packages/prefect/_internal/concurrency/calls.py:292\u001b[0m, in \u001b[0;36mCall.aresult\u001b[0;34m(self)\u001b[0m\n\u001b[1;32m    286\u001b[0m \u001b[39m\u001b[39m\u001b[39m\"\"\"\u001b[39;00m\n\u001b[1;32m    287\u001b[0m \u001b[39mWait for the result of the call.\u001b[39;00m\n\u001b[1;32m    288\u001b[0m \n\u001b[1;32m    289\u001b[0m \u001b[39mFor use from asynchronous contexts.\u001b[39;00m\n\u001b[1;32m    290\u001b[0m \u001b[39m\"\"\"\u001b[39;00m\n\u001b[1;32m    291\u001b[0m \u001b[39mtry\u001b[39;00m:\n\u001b[0;32m--> 292\u001b[0m     \u001b[39mreturn\u001b[39;00m \u001b[39mawait\u001b[39;00m asyncio\u001b[39m.\u001b[39mwrap_future(\u001b[39mself\u001b[39m\u001b[39m.\u001b[39mfuture)\n\u001b[1;32m    293\u001b[0m \u001b[39mexcept\u001b[39;00m asyncio\u001b[39m.\u001b[39mCancelledError \u001b[39mas\u001b[39;00m exc:\n\u001b[1;32m    294\u001b[0m     \u001b[39mraise\u001b[39;00m CancelledError() \u001b[39mfrom\u001b[39;00m \u001b[39mexc\u001b[39;00m\n",
      "File \u001b[0;32m~/Documents/projects/dl_labs/.conda/lib/python3.9/site-packages/prefect/_internal/concurrency/calls.py:316\u001b[0m, in \u001b[0;36mCall._run_sync\u001b[0;34m(***failed resolving arguments***)\u001b[0m\n\u001b[1;32m    314\u001b[0m \u001b[39mwith\u001b[39;00m set_current_call(\u001b[39mself\u001b[39m):\n\u001b[1;32m    315\u001b[0m     \u001b[39mwith\u001b[39;00m \u001b[39mself\u001b[39m\u001b[39m.\u001b[39mfuture\u001b[39m.\u001b[39menforce_sync_deadline() \u001b[39mas\u001b[39;00m cancel_scope:\n\u001b[0;32m--> 316\u001b[0m         result \u001b[39m=\u001b[39m \u001b[39mself\u001b[39;49m\u001b[39m.\u001b[39;49mfn(\u001b[39m*\u001b[39;49m\u001b[39mself\u001b[39;49m\u001b[39m.\u001b[39;49margs, \u001b[39m*\u001b[39;49m\u001b[39m*\u001b[39;49m\u001b[39mself\u001b[39;49m\u001b[39m.\u001b[39;49mkwargs)\n\u001b[1;32m    318\u001b[0m \u001b[39m# Return the coroutine for async execution\u001b[39;00m\n\u001b[1;32m    319\u001b[0m \u001b[39mif\u001b[39;00m inspect\u001b[39m.\u001b[39misawaitable(result):\n",
      "Cell \u001b[0;32mIn[8], line 5\u001b[0m, in \u001b[0;36malways_fails_task\u001b[0;34m()\u001b[0m\n\u001b[1;32m      3\u001b[0m \u001b[39m@task\u001b[39m\n\u001b[1;32m      4\u001b[0m \u001b[39mdef\u001b[39;00m \u001b[39malways_fails_task\u001b[39m():\n\u001b[0;32m----> 5\u001b[0m     \u001b[39mraise\u001b[39;00m \u001b[39mValueError\u001b[39;00m(\u001b[39m\"\u001b[39m\u001b[39mI fail successfully\u001b[39m\u001b[39m\"\u001b[39m)\n",
      "\u001b[0;31mValueError\u001b[0m: I fail successfully"
     ]
    }
   ],
   "source": [
    "from prefect import task, flow\n",
    "\n",
    "@task\n",
    "def always_fails_task():\n",
    "    raise ValueError(\"I fail successfully\")\n",
    "\n",
    "@flow\n",
    "def always_succeeds_flow():\n",
    "    always_fails_task().submit()\n",
    "    return \"foo\"\n",
    "\n",
    "always_succeeds_flow()\n"
   ]
  },
  {
   "cell_type": "markdown",
   "metadata": {},
   "source": [
    "#### Pause a flow run"
   ]
  },
  {
   "cell_type": "code",
   "execution_count": 12,
   "metadata": {},
   "outputs": [
    {
     "name": "stderr",
     "output_type": "stream",
     "text": [
      "/Users/ngohongthai/Documents/projects/dl_labs/.conda/lib/python3.9/site-packages/prefect/tasks.py:298: UserWarning: A task named 'marvin_setup' and defined at '/var/folders/66/6rbnzyf91v9d5v8nb46hmn0h0000gn/T/ipykernel_1573/3288741609.py:3' conflicts with another task. Consider specifying a unique `name` parameter in the task definition:\n",
      "\n",
      " `@task(name='my_unique_name', ...)`\n",
      "  warnings.warn(\n",
      "/Users/ngohongthai/Documents/projects/dl_labs/.conda/lib/python3.9/site-packages/prefect/tasks.py:298: UserWarning: A task named 'marvin_punchline' and defined at '/var/folders/66/6rbnzyf91v9d5v8nb46hmn0h0000gn/T/ipykernel_1573/3288741609.py:6' conflicts with another task. Consider specifying a unique `name` parameter in the task definition:\n",
      "\n",
      " `@task(name='my_unique_name', ...)`\n",
      "  warnings.warn(\n",
      "/Users/ngohongthai/Documents/projects/dl_labs/.conda/lib/python3.9/site-packages/prefect/flows.py:244: UserWarning: A flow named 'inspiring-joke' and defined at '/var/folders/66/6rbnzyf91v9d5v8nb46hmn0h0000gn/T/ipykernel_1573/3288741609.py:9' conflicts with another flow. Consider specifying a unique `name` parameter in the flow definition:\n",
      "\n",
      " `@flow(name='my_unique_name', ...)`\n",
      "  warnings.warn(\n"
     ]
    },
    {
     "data": {
      "text/html": [
       "<pre style=\"white-space:pre;overflow-x:auto;line-height:normal;font-family:Menlo,'DejaVu Sans Mono',consolas,'Courier New',monospace\">23:19:50.497 | <span style=\"color: #008080; text-decoration-color: #008080\">INFO</span>    | prefect.engine - Created flow run<span style=\"color: #800080; text-decoration-color: #800080\"> 'amigurumi-ibex'</span> for flow<span style=\"color: #800080; text-decoration-color: #800080; font-weight: bold\"> 'inspiring-joke'</span>\n",
       "</pre>\n"
      ],
      "text/plain": [
       "23:19:50.497 | \u001b[36mINFO\u001b[0m    | prefect.engine - Created flow run\u001b[35m 'amigurumi-ibex'\u001b[0m for flow\u001b[1;35m 'inspiring-joke'\u001b[0m\n"
      ]
     },
     "metadata": {},
     "output_type": "display_data"
    },
    {
     "data": {
      "text/html": [
       "<pre style=\"white-space:pre;overflow-x:auto;line-height:normal;font-family:Menlo,'DejaVu Sans Mono',consolas,'Courier New',monospace\">23:19:50.498 | <span style=\"color: #008080; text-decoration-color: #008080\">INFO</span>    | Flow run<span style=\"color: #800080; text-decoration-color: #800080\"> 'amigurumi-ibex'</span> - View at <span style=\"color: #0000ff; text-decoration-color: #0000ff\">http://0.0.0.0:4200/flow-runs/flow-run/0a76ef98-b60c-47e0-b334-7879f5d72e21</span>\n",
       "</pre>\n"
      ],
      "text/plain": [
       "23:19:50.498 | \u001b[36mINFO\u001b[0m    | Flow run\u001b[35m 'amigurumi-ibex'\u001b[0m - View at \u001b[94mhttp://0.0.0.0:4200/flow-runs/flow-run/0a76ef98-b60c-47e0-b334-7879f5d72e21\u001b[0m\n"
      ]
     },
     "metadata": {},
     "output_type": "display_data"
    },
    {
     "data": {
      "text/html": [
       "<pre style=\"white-space:pre;overflow-x:auto;line-height:normal;font-family:Menlo,'DejaVu Sans Mono',consolas,'Courier New',monospace\">23:19:50.552 | <span style=\"color: #008080; text-decoration-color: #008080\">INFO</span>    | Flow run<span style=\"color: #800080; text-decoration-color: #800080\"> 'amigurumi-ibex'</span> - Created task run 'marvin_setup-0' for task 'marvin_setup'\n",
       "</pre>\n"
      ],
      "text/plain": [
       "23:19:50.552 | \u001b[36mINFO\u001b[0m    | Flow run\u001b[35m 'amigurumi-ibex'\u001b[0m - Created task run 'marvin_setup-0' for task 'marvin_setup'\n"
      ]
     },
     "metadata": {},
     "output_type": "display_data"
    },
    {
     "data": {
      "text/html": [
       "<pre style=\"white-space:pre;overflow-x:auto;line-height:normal;font-family:Menlo,'DejaVu Sans Mono',consolas,'Courier New',monospace\">23:19:50.553 | <span style=\"color: #008080; text-decoration-color: #008080\">INFO</span>    | Flow run<span style=\"color: #800080; text-decoration-color: #800080\"> 'amigurumi-ibex'</span> - Executing 'marvin_setup-0' immediately...\n",
       "</pre>\n"
      ],
      "text/plain": [
       "23:19:50.553 | \u001b[36mINFO\u001b[0m    | Flow run\u001b[35m 'amigurumi-ibex'\u001b[0m - Executing 'marvin_setup-0' immediately...\n"
      ]
     },
     "metadata": {},
     "output_type": "display_data"
    },
    {
     "data": {
      "text/html": [
       "<pre style=\"white-space:pre;overflow-x:auto;line-height:normal;font-family:Menlo,'DejaVu Sans Mono',consolas,'Courier New',monospace\">23:19:50.604 | <span style=\"color: #008080; text-decoration-color: #008080\">INFO</span>    | Task run 'marvin_setup-0' - Finished in state <span style=\"color: #008000; text-decoration-color: #008000\">Completed</span>()\n",
       "</pre>\n"
      ],
      "text/plain": [
       "23:19:50.604 | \u001b[36mINFO\u001b[0m    | Task run 'marvin_setup-0' - Finished in state \u001b[32mCompleted\u001b[0m()\n"
      ]
     },
     "metadata": {},
     "output_type": "display_data"
    },
    {
     "data": {
      "text/html": [
       "<pre style=\"white-space:pre;overflow-x:auto;line-height:normal;font-family:Menlo,'DejaVu Sans Mono',consolas,'Courier New',monospace\">23:19:50.615 | <span style=\"color: #008080; text-decoration-color: #008080\">INFO</span>    | Flow run<span style=\"color: #800080; text-decoration-color: #800080\"> 'amigurumi-ibex'</span> - Pausing flow, execution will continue when this flow run is resumed.\n",
       "</pre>\n"
      ],
      "text/plain": [
       "23:19:50.615 | \u001b[36mINFO\u001b[0m    | Flow run\u001b[35m 'amigurumi-ibex'\u001b[0m - Pausing flow, execution will continue when this flow run is resumed.\n"
      ]
     },
     "metadata": {},
     "output_type": "display_data"
    },
    {
     "data": {
      "text/html": [
       "<pre style=\"white-space:pre;overflow-x:auto;line-height:normal;font-family:Menlo,'DejaVu Sans Mono',consolas,'Courier New',monospace\">23:20:10.702 | <span style=\"color: #008080; text-decoration-color: #008080\">INFO</span>    | Flow run<span style=\"color: #800080; text-decoration-color: #800080\"> 'amigurumi-ibex'</span> - Resuming flow run execution!\n",
       "</pre>\n"
      ],
      "text/plain": [
       "23:20:10.702 | \u001b[36mINFO\u001b[0m    | Flow run\u001b[35m 'amigurumi-ibex'\u001b[0m - Resuming flow run execution!\n"
      ]
     },
     "metadata": {},
     "output_type": "display_data"
    },
    {
     "data": {
      "text/html": [
       "<pre style=\"white-space:pre;overflow-x:auto;line-height:normal;font-family:Menlo,'DejaVu Sans Mono',consolas,'Courier New',monospace\">23:20:10.729 | <span style=\"color: #008080; text-decoration-color: #008080\">INFO</span>    | Flow run<span style=\"color: #800080; text-decoration-color: #800080\"> 'amigurumi-ibex'</span> - Created task run 'marvin_punchline-0' for task 'marvin_punchline'\n",
       "</pre>\n"
      ],
      "text/plain": [
       "23:20:10.729 | \u001b[36mINFO\u001b[0m    | Flow run\u001b[35m 'amigurumi-ibex'\u001b[0m - Created task run 'marvin_punchline-0' for task 'marvin_punchline'\n"
      ]
     },
     "metadata": {},
     "output_type": "display_data"
    },
    {
     "data": {
      "text/html": [
       "<pre style=\"white-space:pre;overflow-x:auto;line-height:normal;font-family:Menlo,'DejaVu Sans Mono',consolas,'Courier New',monospace\">23:20:10.731 | <span style=\"color: #008080; text-decoration-color: #008080\">INFO</span>    | Flow run<span style=\"color: #800080; text-decoration-color: #800080\"> 'amigurumi-ibex'</span> - Executing 'marvin_punchline-0' immediately...\n",
       "</pre>\n"
      ],
      "text/plain": [
       "23:20:10.731 | \u001b[36mINFO\u001b[0m    | Flow run\u001b[35m 'amigurumi-ibex'\u001b[0m - Executing 'marvin_punchline-0' immediately...\n"
      ]
     },
     "metadata": {},
     "output_type": "display_data"
    },
    {
     "data": {
      "text/html": [
       "<pre style=\"white-space:pre;overflow-x:auto;line-height:normal;font-family:Menlo,'DejaVu Sans Mono',consolas,'Courier New',monospace\">23:20:10.786 | <span style=\"color: #008080; text-decoration-color: #008080\">INFO</span>    | Task run 'marvin_punchline-0' - Finished in state <span style=\"color: #008000; text-decoration-color: #008000\">Completed</span>()\n",
       "</pre>\n"
      ],
      "text/plain": [
       "23:20:10.786 | \u001b[36mINFO\u001b[0m    | Task run 'marvin_punchline-0' - Finished in state \u001b[32mCompleted\u001b[0m()\n"
      ]
     },
     "metadata": {},
     "output_type": "display_data"
    },
    {
     "data": {
      "text/html": [
       "<pre style=\"white-space:pre;overflow-x:auto;line-height:normal;font-family:Menlo,'DejaVu Sans Mono',consolas,'Courier New',monospace\">23:20:10.805 | <span style=\"color: #008080; text-decoration-color: #008080\">INFO</span>    | Flow run<span style=\"color: #800080; text-decoration-color: #800080\"> 'amigurumi-ibex'</span> - Finished in state <span style=\"color: #008000; text-decoration-color: #008000\">Completed</span>('All states completed.')\n",
       "</pre>\n"
      ],
      "text/plain": [
       "23:20:10.805 | \u001b[36mINFO\u001b[0m    | Flow run\u001b[35m 'amigurumi-ibex'\u001b[0m - Finished in state \u001b[32mCompleted\u001b[0m('All states completed.')\n"
      ]
     },
     "metadata": {},
     "output_type": "display_data"
    },
    {
     "data": {
      "text/plain": [
       "[Completed(message=None, type=COMPLETED, result=UnpersistedResult(type='unpersisted', artifact_type='result', artifact_description='Unpersisted result of type `str`')),\n",
       " Completed(message=None, type=COMPLETED, result=UnpersistedResult(type='unpersisted', artifact_type='result', artifact_description='Unpersisted result of type `str`'))]"
      ]
     },
     "execution_count": 12,
     "metadata": {},
     "output_type": "execute_result"
    }
   ],
   "source": [
    "from prefect import task, flow, pause_flow_run, resume_flow_run\n",
    "\n",
    "@task\n",
    "async def marvin_setup():\n",
    "    return \"a raft of ducks walk into a bar...\"\n",
    "@task\n",
    "async def marvin_punchline():\n",
    "    return \"it's a wonder none of them ducked!\"\n",
    "@flow\n",
    "async def inspiring_joke():\n",
    "    await marvin_setup()\n",
    "    await pause_flow_run(timeout=600)  # pauses for 10 minutes\n",
    "    await marvin_punchline()\n",
    "\n",
    "await inspiring_joke()"
   ]
  },
  {
   "cell_type": "markdown",
   "metadata": {},
   "source": [
    "### Tasks"
   ]
  },
  {
   "cell_type": "markdown",
   "metadata": {},
   "source": [
    "Prefect không cho phép kích hoạt task chạy từ các task khác. \n",
    "\n",
    "Nếu bạn muốn gọi trực tiếp chức năng của task, bạn có thể sử dụng task.fn()"
   ]
  },
  {
   "cell_type": "code",
   "execution_count": 13,
   "metadata": {},
   "outputs": [
    {
     "data": {
      "text/html": [
       "<pre style=\"white-space:pre;overflow-x:auto;line-height:normal;font-family:Menlo,'DejaVu Sans Mono',consolas,'Courier New',monospace\">23:32:53.273 | <span style=\"color: #008080; text-decoration-color: #008080\">INFO</span>    | prefect.engine - Created flow run<span style=\"color: #800080; text-decoration-color: #800080\"> 'tunneling-goldfish'</span> for flow<span style=\"color: #800080; text-decoration-color: #800080; font-weight: bold\"> 'my-flow'</span>\n",
       "</pre>\n"
      ],
      "text/plain": [
       "23:32:53.273 | \u001b[36mINFO\u001b[0m    | prefect.engine - Created flow run\u001b[35m 'tunneling-goldfish'\u001b[0m for flow\u001b[1;35m 'my-flow'\u001b[0m\n"
      ]
     },
     "metadata": {},
     "output_type": "display_data"
    },
    {
     "data": {
      "text/html": [
       "<pre style=\"white-space:pre;overflow-x:auto;line-height:normal;font-family:Menlo,'DejaVu Sans Mono',consolas,'Courier New',monospace\">23:32:53.274 | <span style=\"color: #008080; text-decoration-color: #008080\">INFO</span>    | Flow run<span style=\"color: #800080; text-decoration-color: #800080\"> 'tunneling-goldfish'</span> - View at <span style=\"color: #0000ff; text-decoration-color: #0000ff\">http://0.0.0.0:4200/flow-runs/flow-run/54a2fd19-ea25-477d-9915-b24178db3498</span>\n",
       "</pre>\n"
      ],
      "text/plain": [
       "23:32:53.274 | \u001b[36mINFO\u001b[0m    | Flow run\u001b[35m 'tunneling-goldfish'\u001b[0m - View at \u001b[94mhttp://0.0.0.0:4200/flow-runs/flow-run/54a2fd19-ea25-477d-9915-b24178db3498\u001b[0m\n"
      ]
     },
     "metadata": {},
     "output_type": "display_data"
    },
    {
     "data": {
      "text/html": [
       "<pre style=\"white-space:pre;overflow-x:auto;line-height:normal;font-family:Menlo,'DejaVu Sans Mono',consolas,'Courier New',monospace\">23:32:53.329 | <span style=\"color: #008080; text-decoration-color: #008080\">INFO</span>    | Flow run<span style=\"color: #800080; text-decoration-color: #800080\"> 'tunneling-goldfish'</span> - Created task run 'my_second_task-0' for task 'my_second_task'\n",
       "</pre>\n"
      ],
      "text/plain": [
       "23:32:53.329 | \u001b[36mINFO\u001b[0m    | Flow run\u001b[35m 'tunneling-goldfish'\u001b[0m - Created task run 'my_second_task-0' for task 'my_second_task'\n"
      ]
     },
     "metadata": {},
     "output_type": "display_data"
    },
    {
     "data": {
      "text/html": [
       "<pre style=\"white-space:pre;overflow-x:auto;line-height:normal;font-family:Menlo,'DejaVu Sans Mono',consolas,'Courier New',monospace\">23:32:53.330 | <span style=\"color: #008080; text-decoration-color: #008080\">INFO</span>    | Flow run<span style=\"color: #800080; text-decoration-color: #800080\"> 'tunneling-goldfish'</span> - Executing 'my_second_task-0' immediately...\n",
       "</pre>\n"
      ],
      "text/plain": [
       "23:32:53.330 | \u001b[36mINFO\u001b[0m    | Flow run\u001b[35m 'tunneling-goldfish'\u001b[0m - Executing 'my_second_task-0' immediately...\n"
      ]
     },
     "metadata": {},
     "output_type": "display_data"
    },
    {
     "name": "stdout",
     "output_type": "stream",
     "text": [
      "Hello, Trillian\n"
     ]
    },
    {
     "data": {
      "text/html": [
       "<pre style=\"white-space:pre;overflow-x:auto;line-height:normal;font-family:Menlo,'DejaVu Sans Mono',consolas,'Courier New',monospace\">23:32:53.380 | <span style=\"color: #008080; text-decoration-color: #008080\">INFO</span>    | Task run 'my_second_task-0' - Finished in state <span style=\"color: #008000; text-decoration-color: #008000\">Completed</span>()\n",
       "</pre>\n"
      ],
      "text/plain": [
       "23:32:53.380 | \u001b[36mINFO\u001b[0m    | Task run 'my_second_task-0' - Finished in state \u001b[32mCompleted\u001b[0m()\n"
      ]
     },
     "metadata": {},
     "output_type": "display_data"
    },
    {
     "data": {
      "text/html": [
       "<pre style=\"white-space:pre;overflow-x:auto;line-height:normal;font-family:Menlo,'DejaVu Sans Mono',consolas,'Courier New',monospace\">23:32:53.395 | <span style=\"color: #008080; text-decoration-color: #008080\">INFO</span>    | Flow run<span style=\"color: #800080; text-decoration-color: #800080\"> 'tunneling-goldfish'</span> - Finished in state <span style=\"color: #008000; text-decoration-color: #008000\">Completed</span>('All states completed.')\n",
       "</pre>\n"
      ],
      "text/plain": [
       "23:32:53.395 | \u001b[36mINFO\u001b[0m    | Flow run\u001b[35m 'tunneling-goldfish'\u001b[0m - Finished in state \u001b[32mCompleted\u001b[0m('All states completed.')\n"
      ]
     },
     "metadata": {},
     "output_type": "display_data"
    },
    {
     "data": {
      "text/plain": [
       "[Completed(message=None, type=COMPLETED, result=UnpersistedResult(type='unpersisted', artifact_type='result', artifact_description='Unpersisted result of type `NoneType`'))]"
      ]
     },
     "execution_count": 13,
     "metadata": {},
     "output_type": "execute_result"
    }
   ],
   "source": [
    "from prefect import flow, task\n",
    "\n",
    "@task\n",
    "def my_first_task(msg):\n",
    "    print(f\"Hello, {msg}\")\n",
    "\n",
    "@task\n",
    "def my_second_task(msg):\n",
    "    my_first_task.fn(msg)\n",
    "\n",
    "@flow\n",
    "def my_flow():\n",
    "    my_second_task(\"Trillian\")\n",
    "    \n",
    "my_flow()\n"
   ]
  },
  {
   "cell_type": "code",
   "execution_count": 14,
   "metadata": {},
   "outputs": [],
   "source": [
    "@task(name=\"hello-task\", \n",
    "    description=\"This task says hello.\")\n",
    "def my_task():\n",
    "    print(\"Hello, I'm a task\")\n"
   ]
  },
  {
   "cell_type": "code",
   "execution_count": 16,
   "metadata": {},
   "outputs": [
    {
     "name": "stderr",
     "output_type": "stream",
     "text": [
      "/Users/ngohongthai/Documents/projects/dl_labs/.conda/lib/python3.9/site-packages/prefect/tasks.py:298: UserWarning: A task named 'My Example Task' and defined at '/var/folders/66/6rbnzyf91v9d5v8nb46hmn0h0000gn/T/ipykernel_1573/2417417895.py:4' conflicts with another task. Consider specifying a unique `name` parameter in the task definition:\n",
      "\n",
      " `@task(name='my_unique_name', ...)`\n",
      "  warnings.warn(\n",
      "/Users/ngohongthai/Documents/projects/dl_labs/.conda/lib/python3.9/site-packages/prefect/flows.py:244: UserWarning: A flow named 'my-flow' and defined at '/var/folders/66/6rbnzyf91v9d5v8nb46hmn0h0000gn/T/ipykernel_1573/2417417895.py:10' conflicts with another flow. Consider specifying a unique `name` parameter in the flow definition:\n",
      "\n",
      " `@flow(name='my_unique_name', ...)`\n",
      "  warnings.warn(\n"
     ]
    },
    {
     "data": {
      "text/html": [
       "<pre style=\"white-space:pre;overflow-x:auto;line-height:normal;font-family:Menlo,'DejaVu Sans Mono',consolas,'Courier New',monospace\">23:36:01.409 | <span style=\"color: #008080; text-decoration-color: #008080\">INFO</span>    | prefect.engine - Created flow run<span style=\"color: #800080; text-decoration-color: #800080\"> 'screeching-manatee'</span> for flow<span style=\"color: #800080; text-decoration-color: #800080; font-weight: bold\"> 'my-flow'</span>\n",
       "</pre>\n"
      ],
      "text/plain": [
       "23:36:01.409 | \u001b[36mINFO\u001b[0m    | prefect.engine - Created flow run\u001b[35m 'screeching-manatee'\u001b[0m for flow\u001b[1;35m 'my-flow'\u001b[0m\n"
      ]
     },
     "metadata": {},
     "output_type": "display_data"
    },
    {
     "data": {
      "text/html": [
       "<pre style=\"white-space:pre;overflow-x:auto;line-height:normal;font-family:Menlo,'DejaVu Sans Mono',consolas,'Courier New',monospace\">23:36:01.412 | <span style=\"color: #008080; text-decoration-color: #008080\">INFO</span>    | Flow run<span style=\"color: #800080; text-decoration-color: #800080\"> 'screeching-manatee'</span> - View at <span style=\"color: #0000ff; text-decoration-color: #0000ff\">http://0.0.0.0:4200/flow-runs/flow-run/f754ed0e-bb23-4569-98a0-5ab63bfe8e1a</span>\n",
       "</pre>\n"
      ],
      "text/plain": [
       "23:36:01.412 | \u001b[36mINFO\u001b[0m    | Flow run\u001b[35m 'screeching-manatee'\u001b[0m - View at \u001b[94mhttp://0.0.0.0:4200/flow-runs/flow-run/f754ed0e-bb23-4569-98a0-5ab63bfe8e1a\u001b[0m\n"
      ]
     },
     "metadata": {},
     "output_type": "display_data"
    },
    {
     "data": {
      "text/html": [
       "<pre style=\"white-space:pre;overflow-x:auto;line-height:normal;font-family:Menlo,'DejaVu Sans Mono',consolas,'Courier New',monospace\">23:36:01.472 | <span style=\"color: #008080; text-decoration-color: #008080\">INFO</span>    | Flow run<span style=\"color: #800080; text-decoration-color: #800080\"> 'screeching-manatee'</span> - Created task run 'My Example Task-0' for task 'My Example Task'\n",
       "</pre>\n"
      ],
      "text/plain": [
       "23:36:01.472 | \u001b[36mINFO\u001b[0m    | Flow run\u001b[35m 'screeching-manatee'\u001b[0m - Created task run 'My Example Task-0' for task 'My Example Task'\n"
      ]
     },
     "metadata": {},
     "output_type": "display_data"
    },
    {
     "data": {
      "text/html": [
       "<pre style=\"white-space:pre;overflow-x:auto;line-height:normal;font-family:Menlo,'DejaVu Sans Mono',consolas,'Courier New',monospace\">23:36:01.473 | <span style=\"color: #008080; text-decoration-color: #008080\">INFO</span>    | Flow run<span style=\"color: #800080; text-decoration-color: #800080\"> 'screeching-manatee'</span> - Executing 'My Example Task-0' immediately...\n",
       "</pre>\n"
      ],
      "text/plain": [
       "23:36:01.473 | \u001b[36mINFO\u001b[0m    | Flow run\u001b[35m 'screeching-manatee'\u001b[0m - Executing 'My Example Task-0' immediately...\n"
      ]
     },
     "metadata": {},
     "output_type": "display_data"
    },
    {
     "data": {
      "text/html": [
       "<pre style=\"white-space:pre;overflow-x:auto;line-height:normal;font-family:Menlo,'DejaVu Sans Mono',consolas,'Courier New',monospace\">23:36:01.525 | <span style=\"color: #008080; text-decoration-color: #008080\">INFO</span>    | Task run 'hello-marvin-on-Monday' - Finished in state <span style=\"color: #008000; text-decoration-color: #008000\">Completed</span>()\n",
       "</pre>\n"
      ],
      "text/plain": [
       "23:36:01.525 | \u001b[36mINFO\u001b[0m    | Task run 'hello-marvin-on-Monday' - Finished in state \u001b[32mCompleted\u001b[0m()\n"
      ]
     },
     "metadata": {},
     "output_type": "display_data"
    },
    {
     "data": {
      "text/html": [
       "<pre style=\"white-space:pre;overflow-x:auto;line-height:normal;font-family:Menlo,'DejaVu Sans Mono',consolas,'Courier New',monospace\">23:36:01.539 | <span style=\"color: #008080; text-decoration-color: #008080\">INFO</span>    | Flow run<span style=\"color: #800080; text-decoration-color: #800080\"> 'screeching-manatee'</span> - Finished in state <span style=\"color: #008000; text-decoration-color: #008000\">Completed</span>('All states completed.')\n",
       "</pre>\n"
      ],
      "text/plain": [
       "23:36:01.539 | \u001b[36mINFO\u001b[0m    | Flow run\u001b[35m 'screeching-manatee'\u001b[0m - Finished in state \u001b[32mCompleted\u001b[0m('All states completed.')\n"
      ]
     },
     "metadata": {},
     "output_type": "display_data"
    },
    {
     "data": {
      "text/plain": [
       "[Completed(message=None, type=COMPLETED, result=UnpersistedResult(type='unpersisted', artifact_type='result', artifact_description='Unpersisted result of type `NoneType`'))]"
      ]
     },
     "execution_count": 16,
     "metadata": {},
     "output_type": "execute_result"
    }
   ],
   "source": [
    "import datetime\n",
    "from prefect import flow, task\n",
    "\n",
    "@task(name=\"My Example Task\", \n",
    "    description=\"An example task for a tutorial.\",\n",
    "    task_run_name=\"hello-{name}-on-{date:%A}\")\n",
    "def my_task(name, date):\n",
    "    pass\n",
    "\n",
    "@flow\n",
    "def my_flow():\n",
    "    # creates a run with a name like \"hello-marvin-on-Thursday\"\n",
    "    my_task(name=\"marvin\", date=datetime.datetime.utcnow())\n",
    "\n",
    "my_flow()"
   ]
  },
  {
   "cell_type": "code",
   "execution_count": 18,
   "metadata": {},
   "outputs": [
    {
     "name": "stderr",
     "output_type": "stream",
     "text": [
      "/Users/ngohongthai/Documents/projects/dl_labs/.conda/lib/python3.9/site-packages/prefect/tasks.py:298: UserWarning: A task named 'My Example Task' and defined at '/var/folders/66/6rbnzyf91v9d5v8nb46hmn0h0000gn/T/ipykernel_1573/1858519966.py:8' conflicts with another task. Consider specifying a unique `name` parameter in the task definition:\n",
      "\n",
      " `@task(name='my_unique_name', ...)`\n",
      "  warnings.warn(\n",
      "/Users/ngohongthai/Documents/projects/dl_labs/.conda/lib/python3.9/site-packages/prefect/flows.py:244: UserWarning: A flow named 'my-flow' and defined at '/var/folders/66/6rbnzyf91v9d5v8nb46hmn0h0000gn/T/ipykernel_1573/1858519966.py:14' conflicts with another flow. Consider specifying a unique `name` parameter in the flow definition:\n",
      "\n",
      " `@flow(name='my_unique_name', ...)`\n",
      "  warnings.warn(\n"
     ]
    },
    {
     "data": {
      "text/html": [
       "<pre style=\"white-space:pre;overflow-x:auto;line-height:normal;font-family:Menlo,'DejaVu Sans Mono',consolas,'Courier New',monospace\">23:38:58.732 | <span style=\"color: #008080; text-decoration-color: #008080\">INFO</span>    | prefect.engine - Created flow run<span style=\"color: #800080; text-decoration-color: #800080\"> 'solid-fulmar'</span> for flow<span style=\"color: #800080; text-decoration-color: #800080; font-weight: bold\"> 'my-flow'</span>\n",
       "</pre>\n"
      ],
      "text/plain": [
       "23:38:58.732 | \u001b[36mINFO\u001b[0m    | prefect.engine - Created flow run\u001b[35m 'solid-fulmar'\u001b[0m for flow\u001b[1;35m 'my-flow'\u001b[0m\n"
      ]
     },
     "metadata": {},
     "output_type": "display_data"
    },
    {
     "data": {
      "text/html": [
       "<pre style=\"white-space:pre;overflow-x:auto;line-height:normal;font-family:Menlo,'DejaVu Sans Mono',consolas,'Courier New',monospace\">23:38:58.733 | <span style=\"color: #008080; text-decoration-color: #008080\">INFO</span>    | Flow run<span style=\"color: #800080; text-decoration-color: #800080\"> 'solid-fulmar'</span> - View at <span style=\"color: #0000ff; text-decoration-color: #0000ff\">http://0.0.0.0:4200/flow-runs/flow-run/cc12096b-297a-4115-8587-4c17fb965393</span>\n",
       "</pre>\n"
      ],
      "text/plain": [
       "23:38:58.733 | \u001b[36mINFO\u001b[0m    | Flow run\u001b[35m 'solid-fulmar'\u001b[0m - View at \u001b[94mhttp://0.0.0.0:4200/flow-runs/flow-run/cc12096b-297a-4115-8587-4c17fb965393\u001b[0m\n"
      ]
     },
     "metadata": {},
     "output_type": "display_data"
    },
    {
     "data": {
      "text/html": [
       "<pre style=\"white-space:pre;overflow-x:auto;line-height:normal;font-family:Menlo,'DejaVu Sans Mono',consolas,'Courier New',monospace\">23:38:58.800 | <span style=\"color: #008080; text-decoration-color: #008080\">INFO</span>    | Flow run<span style=\"color: #800080; text-decoration-color: #800080\"> 'solid-fulmar'</span> - Created task run 'My Example Task-0' for task 'My Example Task'\n",
       "</pre>\n"
      ],
      "text/plain": [
       "23:38:58.800 | \u001b[36mINFO\u001b[0m    | Flow run\u001b[35m 'solid-fulmar'\u001b[0m - Created task run 'My Example Task-0' for task 'My Example Task'\n"
      ]
     },
     "metadata": {},
     "output_type": "display_data"
    },
    {
     "data": {
      "text/html": [
       "<pre style=\"white-space:pre;overflow-x:auto;line-height:normal;font-family:Menlo,'DejaVu Sans Mono',consolas,'Courier New',monospace\">23:38:58.801 | <span style=\"color: #008080; text-decoration-color: #008080\">INFO</span>    | Flow run<span style=\"color: #800080; text-decoration-color: #800080\"> 'solid-fulmar'</span> - Executing 'My Example Task-0' immediately...\n",
       "</pre>\n"
      ],
      "text/plain": [
       "23:38:58.801 | \u001b[36mINFO\u001b[0m    | Flow run\u001b[35m 'solid-fulmar'\u001b[0m - Executing 'My Example Task-0' immediately...\n"
      ]
     },
     "metadata": {},
     "output_type": "display_data"
    },
    {
     "data": {
      "text/html": [
       "<pre style=\"white-space:pre;overflow-x:auto;line-height:normal;font-family:Menlo,'DejaVu Sans Mono',consolas,'Courier New',monospace\">23:38:58.851 | <span style=\"color: #008080; text-decoration-color: #008080\">INFO</span>    | Task run 'Monday-is-a-lovely-day' - Finished in state <span style=\"color: #008000; text-decoration-color: #008000\">Completed</span>()\n",
       "</pre>\n"
      ],
      "text/plain": [
       "23:38:58.851 | \u001b[36mINFO\u001b[0m    | Task run 'Monday-is-a-lovely-day' - Finished in state \u001b[32mCompleted\u001b[0m()\n"
      ]
     },
     "metadata": {},
     "output_type": "display_data"
    },
    {
     "data": {
      "text/html": [
       "<pre style=\"white-space:pre;overflow-x:auto;line-height:normal;font-family:Menlo,'DejaVu Sans Mono',consolas,'Courier New',monospace\">23:38:58.864 | <span style=\"color: #008080; text-decoration-color: #008080\">INFO</span>    | Flow run<span style=\"color: #800080; text-decoration-color: #800080\"> 'solid-fulmar'</span> - Finished in state <span style=\"color: #008000; text-decoration-color: #008000\">Completed</span>('All states completed.')\n",
       "</pre>\n"
      ],
      "text/plain": [
       "23:38:58.864 | \u001b[36mINFO\u001b[0m    | Flow run\u001b[35m 'solid-fulmar'\u001b[0m - Finished in state \u001b[32mCompleted\u001b[0m('All states completed.')\n"
      ]
     },
     "metadata": {},
     "output_type": "display_data"
    },
    {
     "data": {
      "text/plain": [
       "[Completed(message=None, type=COMPLETED, result=UnpersistedResult(type='unpersisted', artifact_type='result', artifact_description='Unpersisted result of type `NoneType`'))]"
      ]
     },
     "execution_count": 18,
     "metadata": {},
     "output_type": "execute_result"
    }
   ],
   "source": [
    "import datetime\n",
    "from prefect import flow, task\n",
    "\n",
    "def generate_task_name():\n",
    "    date = datetime.datetime.utcnow()\n",
    "    return f\"{date:%A}-is-a-lovely-day\"\n",
    "\n",
    "@task(name=\"My Example Task\",\n",
    "    description=\"An example task for a tutorial.\",\n",
    "    task_run_name=generate_task_name)\n",
    "def my_task(name):\n",
    "    pass\n",
    "\n",
    "@flow\n",
    "def my_flow():\n",
    "    # creates a run with a name like \"Thursday-is-a-lovely-day\"\n",
    "    my_task(name=\"marvin\")\n",
    "    \n",
    "my_flow()\n"
   ]
  },
  {
   "cell_type": "code",
   "execution_count": 21,
   "metadata": {},
   "outputs": [
    {
     "name": "stderr",
     "output_type": "stream",
     "text": [
      "/Users/ngohongthai/Documents/projects/dl_labs/.conda/lib/python3.9/site-packages/prefect/tasks.py:298: UserWarning: A task named 'my-example-task' and defined at '/var/folders/66/6rbnzyf91v9d5v8nb46hmn0h0000gn/T/ipykernel_1573/471519368.py:15' conflicts with another task. Consider specifying a unique `name` parameter in the task definition:\n",
      "\n",
      " `@task(name='my_unique_name', ...)`\n",
      "  warnings.warn(\n",
      "/Users/ngohongthai/Documents/projects/dl_labs/.conda/lib/python3.9/site-packages/prefect/flows.py:244: UserWarning: A flow named 'my-flow' and defined at '/var/folders/66/6rbnzyf91v9d5v8nb46hmn0h0000gn/T/ipykernel_1573/471519368.py:21' conflicts with another flow. Consider specifying a unique `name` parameter in the flow definition:\n",
      "\n",
      " `@flow(name='my_unique_name', ...)`\n",
      "  warnings.warn(\n"
     ]
    },
    {
     "data": {
      "text/html": [
       "<pre style=\"white-space:pre;overflow-x:auto;line-height:normal;font-family:Menlo,'DejaVu Sans Mono',consolas,'Courier New',monospace\">23:42:07.347 | <span style=\"color: #008080; text-decoration-color: #008080\">INFO</span>    | prefect.engine - Created flow run<span style=\"color: #800080; text-decoration-color: #800080\"> 'cocky-crab'</span> for flow<span style=\"color: #800080; text-decoration-color: #800080; font-weight: bold\"> 'my-flow'</span>\n",
       "</pre>\n"
      ],
      "text/plain": [
       "23:42:07.347 | \u001b[36mINFO\u001b[0m    | prefect.engine - Created flow run\u001b[35m 'cocky-crab'\u001b[0m for flow\u001b[1;35m 'my-flow'\u001b[0m\n"
      ]
     },
     "metadata": {},
     "output_type": "display_data"
    },
    {
     "data": {
      "text/html": [
       "<pre style=\"white-space:pre;overflow-x:auto;line-height:normal;font-family:Menlo,'DejaVu Sans Mono',consolas,'Courier New',monospace\">23:42:07.348 | <span style=\"color: #008080; text-decoration-color: #008080\">INFO</span>    | Flow run<span style=\"color: #800080; text-decoration-color: #800080\"> 'cocky-crab'</span> - View at <span style=\"color: #0000ff; text-decoration-color: #0000ff\">http://0.0.0.0:4200/flow-runs/flow-run/af1ed186-5064-41a8-b86d-f2f19b8a1562</span>\n",
       "</pre>\n"
      ],
      "text/plain": [
       "23:42:07.348 | \u001b[36mINFO\u001b[0m    | Flow run\u001b[35m 'cocky-crab'\u001b[0m - View at \u001b[94mhttp://0.0.0.0:4200/flow-runs/flow-run/af1ed186-5064-41a8-b86d-f2f19b8a1562\u001b[0m\n"
      ]
     },
     "metadata": {},
     "output_type": "display_data"
    },
    {
     "data": {
      "text/html": [
       "<pre style=\"white-space:pre;overflow-x:auto;line-height:normal;font-family:Menlo,'DejaVu Sans Mono',consolas,'Courier New',monospace\">23:42:07.417 | <span style=\"color: #008080; text-decoration-color: #008080\">INFO</span>    | Flow run<span style=\"color: #800080; text-decoration-color: #800080\"> 'cocky-crab'</span> - Created task run 'my-example-task-0' for task 'my-example-task'\n",
       "</pre>\n"
      ],
      "text/plain": [
       "23:42:07.417 | \u001b[36mINFO\u001b[0m    | Flow run\u001b[35m 'cocky-crab'\u001b[0m - Created task run 'my-example-task-0' for task 'my-example-task'\n"
      ]
     },
     "metadata": {},
     "output_type": "display_data"
    },
    {
     "data": {
      "text/html": [
       "<pre style=\"white-space:pre;overflow-x:auto;line-height:normal;font-family:Menlo,'DejaVu Sans Mono',consolas,'Courier New',monospace\">23:42:07.418 | <span style=\"color: #008080; text-decoration-color: #008080\">INFO</span>    | Flow run<span style=\"color: #800080; text-decoration-color: #800080\"> 'cocky-crab'</span> - Executing 'my-example-task-0' immediately...\n",
       "</pre>\n"
      ],
      "text/plain": [
       "23:42:07.418 | \u001b[36mINFO\u001b[0m    | Flow run\u001b[35m 'cocky-crab'\u001b[0m - Executing 'my-example-task-0' immediately...\n"
      ]
     },
     "metadata": {},
     "output_type": "display_data"
    },
    {
     "data": {
      "text/html": [
       "<pre style=\"white-space:pre;overflow-x:auto;line-height:normal;font-family:Menlo,'DejaVu Sans Mono',consolas,'Courier New',monospace\">23:42:07.468 | <span style=\"color: #008080; text-decoration-color: #008080\">INFO</span>    | Task run 'my-flow-my-example-task-with-thai-and-100' - Finished in state <span style=\"color: #008000; text-decoration-color: #008000\">Completed</span>()\n",
       "</pre>\n"
      ],
      "text/plain": [
       "23:42:07.468 | \u001b[36mINFO\u001b[0m    | Task run 'my-flow-my-example-task-with-thai-and-100' - Finished in state \u001b[32mCompleted\u001b[0m()\n"
      ]
     },
     "metadata": {},
     "output_type": "display_data"
    },
    {
     "data": {
      "text/html": [
       "<pre style=\"white-space:pre;overflow-x:auto;line-height:normal;font-family:Menlo,'DejaVu Sans Mono',consolas,'Courier New',monospace\">23:42:07.480 | <span style=\"color: #008080; text-decoration-color: #008080\">INFO</span>    | Flow run<span style=\"color: #800080; text-decoration-color: #800080\"> 'cocky-crab'</span> - Finished in state <span style=\"color: #008000; text-decoration-color: #008000\">Completed</span>('All states completed.')\n",
       "</pre>\n"
      ],
      "text/plain": [
       "23:42:07.480 | \u001b[36mINFO\u001b[0m    | Flow run\u001b[35m 'cocky-crab'\u001b[0m - Finished in state \u001b[32mCompleted\u001b[0m('All states completed.')\n"
      ]
     },
     "metadata": {},
     "output_type": "display_data"
    },
    {
     "data": {
      "text/plain": [
       "[Completed(message=None, type=COMPLETED, result=UnpersistedResult(type='unpersisted', artifact_type='result', artifact_description='Unpersisted result of type `NoneType`'))]"
      ]
     },
     "execution_count": 21,
     "metadata": {},
     "output_type": "execute_result"
    }
   ],
   "source": [
    "# Nếu bạn cần truy cập thông tin về nhiệm vụ, hãy sử dụng prefect.runtimemô-đun. Ví dụ:\n",
    "from prefect import flow\n",
    "from prefect.runtime import flow_run, task_run\n",
    "\n",
    "def generate_task_name():\n",
    "    flow_name = flow_run.flow_name\n",
    "    task_name = task_run.task_name\n",
    "\n",
    "    parameters = task_run.parameters\n",
    "    name = parameters[\"name\"]\n",
    "    limit = parameters[\"limit\"]\n",
    "\n",
    "    return f\"{flow_name}-{task_name}-with-{name}-and-{limit}\"\n",
    "\n",
    "@task(name=\"my-example-task\",\n",
    "      description=\"An example task for a tutorial.\",\n",
    "      task_run_name=generate_task_name)\n",
    "def my_task(name: str, limit: int = 100):\n",
    "    pass\n",
    "\n",
    "@flow\n",
    "def my_flow(name: str):\n",
    "    # creates a run with a name like \"my-flow-my-example-task-with-marvin-and-100\"\n",
    "    my_task(name)\n",
    "\n",
    "my_flow(\"thai\")"
   ]
  },
  {
   "cell_type": "code",
   "execution_count": 22,
   "metadata": {},
   "outputs": [
    {
     "name": "stderr",
     "output_type": "stream",
     "text": [
      "/Users/ngohongthai/Documents/projects/dl_labs/.conda/lib/python3.9/site-packages/prefect/tasks.py:298: UserWarning: A task named 'hello-task' and defined at '/var/folders/66/6rbnzyf91v9d5v8nb46hmn0h0000gn/T/ipykernel_1573/2481010401.py:1' conflicts with another task. Consider specifying a unique `name` parameter in the task definition:\n",
      "\n",
      " `@task(name='my_unique_name', ...)`\n",
      "  warnings.warn(\n"
     ]
    }
   ],
   "source": [
    "@task(name=\"hello-task\", tags=[\"test\"])\n",
    "def my_task():\n",
    "    print(\"Hello, I'm a task\")\n"
   ]
  },
  {
   "cell_type": "code",
   "execution_count": 23,
   "metadata": {},
   "outputs": [
    {
     "name": "stderr",
     "output_type": "stream",
     "text": [
      "/Users/ngohongthai/Documents/projects/dl_labs/.conda/lib/python3.9/site-packages/prefect/flows.py:244: UserWarning: A flow named 'my-flow' and defined at '/var/folders/66/6rbnzyf91v9d5v8nb46hmn0h0000gn/T/ipykernel_1573/2403789061.py:8' conflicts with another flow. Consider specifying a unique `name` parameter in the flow definition:\n",
      "\n",
      " `@flow(name='my_unique_name', ...)`\n",
      "  warnings.warn(\n"
     ]
    }
   ],
   "source": [
    "from prefect import flow, task\n",
    "from prefect import tags\n",
    "\n",
    "@task\n",
    "def my_task():\n",
    "    print(\"Hello, I'm a task\")\n",
    "\n",
    "@flow\n",
    "def my_flow():\n",
    "    with tags(\"test\"):\n",
    "        my_task()\n"
   ]
  },
  {
   "cell_type": "markdown",
   "metadata": {},
   "source": [
    "### Results"
   ]
  },
  {
   "cell_type": "code",
   "execution_count": 24,
   "metadata": {},
   "outputs": [
    {
     "name": "stderr",
     "output_type": "stream",
     "text": [
      "/Users/ngohongthai/Documents/projects/dl_labs/.conda/lib/python3.9/site-packages/prefect/tasks.py:298: UserWarning: A task named 'my_task' and defined at '/var/folders/66/6rbnzyf91v9d5v8nb46hmn0h0000gn/T/ipykernel_1573/211488352.py:3' conflicts with another task. Consider specifying a unique `name` parameter in the task definition:\n",
      "\n",
      " `@task(name='my_unique_name', ...)`\n",
      "  warnings.warn(\n",
      "/Users/ngohongthai/Documents/projects/dl_labs/.conda/lib/python3.9/site-packages/prefect/flows.py:244: UserWarning: A flow named 'my-flow' and defined at '/var/folders/66/6rbnzyf91v9d5v8nb46hmn0h0000gn/T/ipykernel_1573/211488352.py:7' conflicts with another flow. Consider specifying a unique `name` parameter in the flow definition:\n",
      "\n",
      " `@flow(name='my_unique_name', ...)`\n",
      "  warnings.warn(\n"
     ]
    },
    {
     "data": {
      "text/html": [
       "<pre style=\"white-space:pre;overflow-x:auto;line-height:normal;font-family:Menlo,'DejaVu Sans Mono',consolas,'Courier New',monospace\">00:45:03.329 | <span style=\"color: #008080; text-decoration-color: #008080\">INFO</span>    | prefect.engine - Created flow run<span style=\"color: #800080; text-decoration-color: #800080\"> 'accurate-fennec'</span> for flow<span style=\"color: #800080; text-decoration-color: #800080; font-weight: bold\"> 'my-flow'</span>\n",
       "</pre>\n"
      ],
      "text/plain": [
       "00:45:03.329 | \u001b[36mINFO\u001b[0m    | prefect.engine - Created flow run\u001b[35m 'accurate-fennec'\u001b[0m for flow\u001b[1;35m 'my-flow'\u001b[0m\n"
      ]
     },
     "metadata": {},
     "output_type": "display_data"
    },
    {
     "data": {
      "text/html": [
       "<pre style=\"white-space:pre;overflow-x:auto;line-height:normal;font-family:Menlo,'DejaVu Sans Mono',consolas,'Courier New',monospace\">00:45:03.331 | <span style=\"color: #008080; text-decoration-color: #008080\">INFO</span>    | Flow run<span style=\"color: #800080; text-decoration-color: #800080\"> 'accurate-fennec'</span> - View at <span style=\"color: #0000ff; text-decoration-color: #0000ff\">http://0.0.0.0:4200/flow-runs/flow-run/89549a11-c953-4c63-b792-6fc77da6fe4d</span>\n",
       "</pre>\n"
      ],
      "text/plain": [
       "00:45:03.331 | \u001b[36mINFO\u001b[0m    | Flow run\u001b[35m 'accurate-fennec'\u001b[0m - View at \u001b[94mhttp://0.0.0.0:4200/flow-runs/flow-run/89549a11-c953-4c63-b792-6fc77da6fe4d\u001b[0m\n"
      ]
     },
     "metadata": {},
     "output_type": "display_data"
    },
    {
     "data": {
      "text/html": [
       "<pre style=\"white-space:pre;overflow-x:auto;line-height:normal;font-family:Menlo,'DejaVu Sans Mono',consolas,'Courier New',monospace\">00:45:03.393 | <span style=\"color: #008080; text-decoration-color: #008080\">INFO</span>    | Flow run<span style=\"color: #800080; text-decoration-color: #800080\"> 'accurate-fennec'</span> - Created task run 'my_task-0' for task 'my_task'\n",
       "</pre>\n"
      ],
      "text/plain": [
       "00:45:03.393 | \u001b[36mINFO\u001b[0m    | Flow run\u001b[35m 'accurate-fennec'\u001b[0m - Created task run 'my_task-0' for task 'my_task'\n"
      ]
     },
     "metadata": {},
     "output_type": "display_data"
    },
    {
     "data": {
      "text/html": [
       "<pre style=\"white-space:pre;overflow-x:auto;line-height:normal;font-family:Menlo,'DejaVu Sans Mono',consolas,'Courier New',monospace\">00:45:03.395 | <span style=\"color: #008080; text-decoration-color: #008080\">INFO</span>    | Flow run<span style=\"color: #800080; text-decoration-color: #800080\"> 'accurate-fennec'</span> - Executing 'my_task-0' immediately...\n",
       "</pre>\n"
      ],
      "text/plain": [
       "00:45:03.395 | \u001b[36mINFO\u001b[0m    | Flow run\u001b[35m 'accurate-fennec'\u001b[0m - Executing 'my_task-0' immediately...\n"
      ]
     },
     "metadata": {},
     "output_type": "display_data"
    },
    {
     "data": {
      "text/html": [
       "<pre style=\"white-space:pre;overflow-x:auto;line-height:normal;font-family:Menlo,'DejaVu Sans Mono',consolas,'Courier New',monospace\">00:45:03.446 | <span style=\"color: #008080; text-decoration-color: #008080\">INFO</span>    | Task run 'my_task-0' - Finished in state <span style=\"color: #008000; text-decoration-color: #008000\">Completed</span>()\n",
       "</pre>\n"
      ],
      "text/plain": [
       "00:45:03.446 | \u001b[36mINFO\u001b[0m    | Task run 'my_task-0' - Finished in state \u001b[32mCompleted\u001b[0m()\n"
      ]
     },
     "metadata": {},
     "output_type": "display_data"
    },
    {
     "data": {
      "text/html": [
       "<pre style=\"white-space:pre;overflow-x:auto;line-height:normal;font-family:Menlo,'DejaVu Sans Mono',consolas,'Courier New',monospace\">00:45:03.459 | <span style=\"color: #008080; text-decoration-color: #008080\">INFO</span>    | Flow run<span style=\"color: #800080; text-decoration-color: #800080\"> 'accurate-fennec'</span> - Finished in state <span style=\"color: #008000; text-decoration-color: #008000\">Completed</span>()\n",
       "</pre>\n"
      ],
      "text/plain": [
       "00:45:03.459 | \u001b[36mINFO\u001b[0m    | Flow run\u001b[35m 'accurate-fennec'\u001b[0m - Finished in state \u001b[32mCompleted\u001b[0m()\n"
      ]
     },
     "metadata": {},
     "output_type": "display_data"
    }
   ],
   "source": [
    "from prefect import flow, task\n",
    "\n",
    "@task\n",
    "def my_task():\n",
    "    return 1\n",
    "\n",
    "@flow\n",
    "def my_flow():\n",
    "    task_result = my_task()\n",
    "    return task_result + 1\n",
    "\n",
    "result = my_flow()\n",
    "assert result == 2\n"
   ]
  },
  {
   "cell_type": "code",
   "execution_count": 25,
   "metadata": {},
   "outputs": [
    {
     "data": {
      "text/plain": [
       "2"
      ]
     },
     "execution_count": 25,
     "metadata": {},
     "output_type": "execute_result"
    }
   ],
   "source": [
    "result"
   ]
  },
  {
   "cell_type": "code",
   "execution_count": 28,
   "metadata": {},
   "outputs": [
    {
     "name": "stderr",
     "output_type": "stream",
     "text": [
      "/Users/ngohongthai/Documents/projects/dl_labs/.conda/lib/python3.9/site-packages/prefect/tasks.py:298: UserWarning: A task named 'my_task' and defined at '/var/folders/66/6rbnzyf91v9d5v8nb46hmn0h0000gn/T/ipykernel_1573/494091010.py:3' conflicts with another task. Consider specifying a unique `name` parameter in the task definition:\n",
      "\n",
      " `@task(name='my_unique_name', ...)`\n",
      "  warnings.warn(\n",
      "/Users/ngohongthai/Documents/projects/dl_labs/.conda/lib/python3.9/site-packages/prefect/flows.py:244: UserWarning: A flow named 'my-flow' and defined at '/var/folders/66/6rbnzyf91v9d5v8nb46hmn0h0000gn/T/ipykernel_1573/494091010.py:7' conflicts with another flow. Consider specifying a unique `name` parameter in the flow definition:\n",
      "\n",
      " `@flow(name='my_unique_name', ...)`\n",
      "  warnings.warn(\n"
     ]
    },
    {
     "data": {
      "text/html": [
       "<pre style=\"white-space:pre;overflow-x:auto;line-height:normal;font-family:Menlo,'DejaVu Sans Mono',consolas,'Courier New',monospace\">00:47:28.708 | <span style=\"color: #008080; text-decoration-color: #008080\">INFO</span>    | prefect.engine - Created flow run<span style=\"color: #800080; text-decoration-color: #800080\"> 'quixotic-ammonite'</span> for flow<span style=\"color: #800080; text-decoration-color: #800080; font-weight: bold\"> 'my-flow'</span>\n",
       "</pre>\n"
      ],
      "text/plain": [
       "00:47:28.708 | \u001b[36mINFO\u001b[0m    | prefect.engine - Created flow run\u001b[35m 'quixotic-ammonite'\u001b[0m for flow\u001b[1;35m 'my-flow'\u001b[0m\n"
      ]
     },
     "metadata": {},
     "output_type": "display_data"
    },
    {
     "data": {
      "text/html": [
       "<pre style=\"white-space:pre;overflow-x:auto;line-height:normal;font-family:Menlo,'DejaVu Sans Mono',consolas,'Courier New',monospace\">00:47:28.708 | <span style=\"color: #008080; text-decoration-color: #008080\">INFO</span>    | Flow run<span style=\"color: #800080; text-decoration-color: #800080\"> 'quixotic-ammonite'</span> - View at <span style=\"color: #0000ff; text-decoration-color: #0000ff\">http://0.0.0.0:4200/flow-runs/flow-run/b491dcd8-9e1d-4a19-9d84-d07a62924038</span>\n",
       "</pre>\n"
      ],
      "text/plain": [
       "00:47:28.708 | \u001b[36mINFO\u001b[0m    | Flow run\u001b[35m 'quixotic-ammonite'\u001b[0m - View at \u001b[94mhttp://0.0.0.0:4200/flow-runs/flow-run/b491dcd8-9e1d-4a19-9d84-d07a62924038\u001b[0m\n"
      ]
     },
     "metadata": {},
     "output_type": "display_data"
    },
    {
     "data": {
      "text/html": [
       "<pre style=\"white-space:pre;overflow-x:auto;line-height:normal;font-family:Menlo,'DejaVu Sans Mono',consolas,'Courier New',monospace\">00:47:28.777 | <span style=\"color: #008080; text-decoration-color: #008080\">INFO</span>    | Flow run<span style=\"color: #800080; text-decoration-color: #800080\"> 'quixotic-ammonite'</span> - Created task run 'my_task-0' for task 'my_task'\n",
       "</pre>\n"
      ],
      "text/plain": [
       "00:47:28.777 | \u001b[36mINFO\u001b[0m    | Flow run\u001b[35m 'quixotic-ammonite'\u001b[0m - Created task run 'my_task-0' for task 'my_task'\n"
      ]
     },
     "metadata": {},
     "output_type": "display_data"
    },
    {
     "data": {
      "text/html": [
       "<pre style=\"white-space:pre;overflow-x:auto;line-height:normal;font-family:Menlo,'DejaVu Sans Mono',consolas,'Courier New',monospace\">00:47:28.778 | <span style=\"color: #008080; text-decoration-color: #008080\">INFO</span>    | Flow run<span style=\"color: #800080; text-decoration-color: #800080\"> 'quixotic-ammonite'</span> - Executing 'my_task-0' immediately...\n",
       "</pre>\n"
      ],
      "text/plain": [
       "00:47:28.778 | \u001b[36mINFO\u001b[0m    | Flow run\u001b[35m 'quixotic-ammonite'\u001b[0m - Executing 'my_task-0' immediately...\n"
      ]
     },
     "metadata": {},
     "output_type": "display_data"
    },
    {
     "data": {
      "text/html": [
       "<pre style=\"white-space:pre;overflow-x:auto;line-height:normal;font-family:Menlo,'DejaVu Sans Mono',consolas,'Courier New',monospace\">00:47:28.832 | <span style=\"color: #008080; text-decoration-color: #008080\">INFO</span>    | Task run 'my_task-0' - Finished in state <span style=\"color: #008000; text-decoration-color: #008000\">Completed</span>()\n",
       "</pre>\n"
      ],
      "text/plain": [
       "00:47:28.832 | \u001b[36mINFO\u001b[0m    | Task run 'my_task-0' - Finished in state \u001b[32mCompleted\u001b[0m()\n"
      ]
     },
     "metadata": {},
     "output_type": "display_data"
    },
    {
     "data": {
      "text/html": [
       "<pre style=\"white-space:pre;overflow-x:auto;line-height:normal;font-family:Menlo,'DejaVu Sans Mono',consolas,'Courier New',monospace\">00:47:28.847 | <span style=\"color: #008080; text-decoration-color: #008080\">INFO</span>    | Flow run<span style=\"color: #800080; text-decoration-color: #800080\"> 'quixotic-ammonite'</span> - Finished in state <span style=\"color: #008000; text-decoration-color: #008000\">Completed</span>()\n",
       "</pre>\n"
      ],
      "text/plain": [
       "00:47:28.847 | \u001b[36mINFO\u001b[0m    | Flow run\u001b[35m 'quixotic-ammonite'\u001b[0m - Finished in state \u001b[32mCompleted\u001b[0m()\n"
      ]
     },
     "metadata": {},
     "output_type": "display_data"
    }
   ],
   "source": [
    "from prefect import flow, task\n",
    "\n",
    "@task\n",
    "def my_task():\n",
    "    return 1\n",
    "\n",
    "@flow\n",
    "def my_flow():\n",
    "    # state = my_task(return_state=True)\n",
    "    # return state.result() + 1\n",
    "    num = my_task()\n",
    "    return num +1\n",
    "state = my_flow(return_state=True)"
   ]
  },
  {
   "cell_type": "code",
   "execution_count": 32,
   "metadata": {},
   "outputs": [
    {
     "data": {
      "text/plain": [
       "UnpersistedResult(type='unpersisted', artifact_type='result', artifact_description='Unpersisted result of type `int`')"
      ]
     },
     "execution_count": 32,
     "metadata": {},
     "output_type": "execute_result"
    }
   ],
   "source": [
    "state.result()"
   ]
  },
  {
   "cell_type": "markdown",
   "metadata": {},
   "source": [
    "### Artifacts"
   ]
  },
  {
   "cell_type": "code",
   "execution_count": 33,
   "metadata": {},
   "outputs": [
    {
     "name": "stderr",
     "output_type": "stream",
     "text": [
      "/Users/ngohongthai/Documents/projects/dl_labs/.conda/lib/python3.9/site-packages/prefect/tasks.py:298: UserWarning: A task named 'my_first_task' and defined at '/var/folders/66/6rbnzyf91v9d5v8nb46hmn0h0000gn/T/ipykernel_1573/1198792446.py:5' conflicts with another task. Consider specifying a unique `name` parameter in the task definition:\n",
      "\n",
      " `@task(name='my_unique_name', ...)`\n",
      "  warnings.warn(\n",
      "/Users/ngohongthai/Documents/projects/dl_labs/.conda/lib/python3.9/site-packages/prefect/tasks.py:298: UserWarning: A task named 'my_second_task' and defined at '/var/folders/66/6rbnzyf91v9d5v8nb46hmn0h0000gn/T/ipykernel_1573/1198792446.py:13' conflicts with another task. Consider specifying a unique `name` parameter in the task definition:\n",
      "\n",
      " `@task(name='my_unique_name', ...)`\n",
      "  warnings.warn(\n",
      "/Users/ngohongthai/Documents/projects/dl_labs/.conda/lib/python3.9/site-packages/prefect/flows.py:244: UserWarning: A flow named 'my-flow' and defined at '/var/folders/66/6rbnzyf91v9d5v8nb46hmn0h0000gn/T/ipykernel_1573/1198792446.py:21' conflicts with another flow. Consider specifying a unique `name` parameter in the flow definition:\n",
      "\n",
      " `@flow(name='my_unique_name', ...)`\n",
      "  warnings.warn(\n"
     ]
    },
    {
     "data": {
      "text/html": [
       "<pre style=\"white-space:pre;overflow-x:auto;line-height:normal;font-family:Menlo,'DejaVu Sans Mono',consolas,'Courier New',monospace\">00:52:49.402 | <span style=\"color: #008080; text-decoration-color: #008080\">INFO</span>    | prefect.engine - Created flow run<span style=\"color: #800080; text-decoration-color: #800080\"> 'zippy-tuatara'</span> for flow<span style=\"color: #800080; text-decoration-color: #800080; font-weight: bold\"> 'my-flow'</span>\n",
       "</pre>\n"
      ],
      "text/plain": [
       "00:52:49.402 | \u001b[36mINFO\u001b[0m    | prefect.engine - Created flow run\u001b[35m 'zippy-tuatara'\u001b[0m for flow\u001b[1;35m 'my-flow'\u001b[0m\n"
      ]
     },
     "metadata": {},
     "output_type": "display_data"
    },
    {
     "data": {
      "text/html": [
       "<pre style=\"white-space:pre;overflow-x:auto;line-height:normal;font-family:Menlo,'DejaVu Sans Mono',consolas,'Courier New',monospace\">00:52:49.404 | <span style=\"color: #008080; text-decoration-color: #008080\">INFO</span>    | Flow run<span style=\"color: #800080; text-decoration-color: #800080\"> 'zippy-tuatara'</span> - View at <span style=\"color: #0000ff; text-decoration-color: #0000ff\">http://0.0.0.0:4200/flow-runs/flow-run/d0c86422-f5e2-4353-85b4-68985a28281e</span>\n",
       "</pre>\n"
      ],
      "text/plain": [
       "00:52:49.404 | \u001b[36mINFO\u001b[0m    | Flow run\u001b[35m 'zippy-tuatara'\u001b[0m - View at \u001b[94mhttp://0.0.0.0:4200/flow-runs/flow-run/d0c86422-f5e2-4353-85b4-68985a28281e\u001b[0m\n"
      ]
     },
     "metadata": {},
     "output_type": "display_data"
    },
    {
     "data": {
      "text/html": [
       "<pre style=\"white-space:pre;overflow-x:auto;line-height:normal;font-family:Menlo,'DejaVu Sans Mono',consolas,'Courier New',monospace\">00:52:49.462 | <span style=\"color: #008080; text-decoration-color: #008080\">INFO</span>    | Flow run<span style=\"color: #800080; text-decoration-color: #800080\"> 'zippy-tuatara'</span> - Created task run 'my_first_task-0' for task 'my_first_task'\n",
       "</pre>\n"
      ],
      "text/plain": [
       "00:52:49.462 | \u001b[36mINFO\u001b[0m    | Flow run\u001b[35m 'zippy-tuatara'\u001b[0m - Created task run 'my_first_task-0' for task 'my_first_task'\n"
      ]
     },
     "metadata": {},
     "output_type": "display_data"
    },
    {
     "data": {
      "text/html": [
       "<pre style=\"white-space:pre;overflow-x:auto;line-height:normal;font-family:Menlo,'DejaVu Sans Mono',consolas,'Courier New',monospace\">00:52:49.463 | <span style=\"color: #008080; text-decoration-color: #008080\">INFO</span>    | Flow run<span style=\"color: #800080; text-decoration-color: #800080\"> 'zippy-tuatara'</span> - Executing 'my_first_task-0' immediately...\n",
       "</pre>\n"
      ],
      "text/plain": [
       "00:52:49.463 | \u001b[36mINFO\u001b[0m    | Flow run\u001b[35m 'zippy-tuatara'\u001b[0m - Executing 'my_first_task-0' immediately...\n"
      ]
     },
     "metadata": {},
     "output_type": "display_data"
    },
    {
     "data": {
      "text/html": [
       "<pre style=\"white-space:pre;overflow-x:auto;line-height:normal;font-family:Menlo,'DejaVu Sans Mono',consolas,'Courier New',monospace\">00:52:49.535 | <span style=\"color: #008080; text-decoration-color: #008080\">INFO</span>    | Task run 'my_first_task-0' - Finished in state <span style=\"color: #008000; text-decoration-color: #008000\">Completed</span>()\n",
       "</pre>\n"
      ],
      "text/plain": [
       "00:52:49.535 | \u001b[36mINFO\u001b[0m    | Task run 'my_first_task-0' - Finished in state \u001b[32mCompleted\u001b[0m()\n"
      ]
     },
     "metadata": {},
     "output_type": "display_data"
    },
    {
     "data": {
      "text/html": [
       "<pre style=\"white-space:pre;overflow-x:auto;line-height:normal;font-family:Menlo,'DejaVu Sans Mono',consolas,'Courier New',monospace\">00:52:49.547 | <span style=\"color: #008080; text-decoration-color: #008080\">INFO</span>    | Flow run<span style=\"color: #800080; text-decoration-color: #800080\"> 'zippy-tuatara'</span> - Created task run 'my_second_task-0' for task 'my_second_task'\n",
       "</pre>\n"
      ],
      "text/plain": [
       "00:52:49.547 | \u001b[36mINFO\u001b[0m    | Flow run\u001b[35m 'zippy-tuatara'\u001b[0m - Created task run 'my_second_task-0' for task 'my_second_task'\n"
      ]
     },
     "metadata": {},
     "output_type": "display_data"
    },
    {
     "data": {
      "text/html": [
       "<pre style=\"white-space:pre;overflow-x:auto;line-height:normal;font-family:Menlo,'DejaVu Sans Mono',consolas,'Courier New',monospace\">00:52:49.548 | <span style=\"color: #008080; text-decoration-color: #008080\">INFO</span>    | Flow run<span style=\"color: #800080; text-decoration-color: #800080\"> 'zippy-tuatara'</span> - Executing 'my_second_task-0' immediately...\n",
       "</pre>\n"
      ],
      "text/plain": [
       "00:52:49.548 | \u001b[36mINFO\u001b[0m    | Flow run\u001b[35m 'zippy-tuatara'\u001b[0m - Executing 'my_second_task-0' immediately...\n"
      ]
     },
     "metadata": {},
     "output_type": "display_data"
    },
    {
     "data": {
      "text/html": [
       "<pre style=\"white-space:pre;overflow-x:auto;line-height:normal;font-family:Menlo,'DejaVu Sans Mono',consolas,'Courier New',monospace\">00:52:49.604 | <span style=\"color: #008080; text-decoration-color: #008080\">INFO</span>    | Task run 'my_second_task-0' - Finished in state <span style=\"color: #008000; text-decoration-color: #008000\">Completed</span>()\n",
       "</pre>\n"
      ],
      "text/plain": [
       "00:52:49.604 | \u001b[36mINFO\u001b[0m    | Task run 'my_second_task-0' - Finished in state \u001b[32mCompleted\u001b[0m()\n"
      ]
     },
     "metadata": {},
     "output_type": "display_data"
    },
    {
     "data": {
      "text/html": [
       "<pre style=\"white-space:pre;overflow-x:auto;line-height:normal;font-family:Menlo,'DejaVu Sans Mono',consolas,'Courier New',monospace\">00:52:49.618 | <span style=\"color: #008080; text-decoration-color: #008080\">INFO</span>    | Flow run<span style=\"color: #800080; text-decoration-color: #800080\"> 'zippy-tuatara'</span> - Finished in state <span style=\"color: #008000; text-decoration-color: #008000\">Completed</span>('All states completed.')\n",
       "</pre>\n"
      ],
      "text/plain": [
       "00:52:49.618 | \u001b[36mINFO\u001b[0m    | Flow run\u001b[35m 'zippy-tuatara'\u001b[0m - Finished in state \u001b[32mCompleted\u001b[0m('All states completed.')\n"
      ]
     },
     "metadata": {},
     "output_type": "display_data"
    }
   ],
   "source": [
    "# Link artifactes\n",
    "from prefect import flow, task\n",
    "from prefect.artifacts import create_link_artifact\n",
    "\n",
    "@task\n",
    "def my_first_task():\n",
    "        create_link_artifact(\n",
    "            key=\"irregular-data\",\n",
    "            link=\"https://nyc3.digitaloceanspaces.com/my-bucket-name/highly_variable_data.csv\",\n",
    "            description=\"## Highly variable data\",\n",
    "        )\n",
    "\n",
    "@task\n",
    "def my_second_task():\n",
    "        create_link_artifact(\n",
    "            key=\"irregular-data\",\n",
    "            link=\"https://nyc3.digitaloceanspaces.com/my-bucket-name/low_pred_data.csv\",\n",
    "            description=\"# Low prediction accuracy\",\n",
    "        )\n",
    "\n",
    "@flow\n",
    "def my_flow():\n",
    "    my_first_task()\n",
    "    my_second_task()\n",
    "\n",
    "if __name__ == \"__main__\":\n",
    "    my_flow()\n"
   ]
  },
  {
   "cell_type": "code",
   "execution_count": 34,
   "metadata": {},
   "outputs": [
    {
     "name": "stderr",
     "output_type": "stream",
     "text": [
      "/Users/ngohongthai/Documents/projects/dl_labs/.conda/lib/python3.9/site-packages/prefect/flows.py:244: UserWarning: A flow named 'my-flow' and defined at '/var/folders/66/6rbnzyf91v9d5v8nb46hmn0h0000gn/T/ipykernel_1573/2024015220.py:4' conflicts with another flow. Consider specifying a unique `name` parameter in the flow definition:\n",
      "\n",
      " `@flow(name='my_unique_name', ...)`\n",
      "  warnings.warn(\n"
     ]
    },
    {
     "data": {
      "text/html": [
       "<pre style=\"white-space:pre;overflow-x:auto;line-height:normal;font-family:Menlo,'DejaVu Sans Mono',consolas,'Courier New',monospace\">00:54:00.104 | <span style=\"color: #008080; text-decoration-color: #008080\">INFO</span>    | prefect.engine - Created flow run<span style=\"color: #800080; text-decoration-color: #800080\"> 'succinct-pheasant'</span> for flow<span style=\"color: #800080; text-decoration-color: #800080; font-weight: bold\"> 'my-flow'</span>\n",
       "</pre>\n"
      ],
      "text/plain": [
       "00:54:00.104 | \u001b[36mINFO\u001b[0m    | prefect.engine - Created flow run\u001b[35m 'succinct-pheasant'\u001b[0m for flow\u001b[1;35m 'my-flow'\u001b[0m\n"
      ]
     },
     "metadata": {},
     "output_type": "display_data"
    },
    {
     "data": {
      "text/html": [
       "<pre style=\"white-space:pre;overflow-x:auto;line-height:normal;font-family:Menlo,'DejaVu Sans Mono',consolas,'Courier New',monospace\">00:54:00.105 | <span style=\"color: #008080; text-decoration-color: #008080\">INFO</span>    | Flow run<span style=\"color: #800080; text-decoration-color: #800080\"> 'succinct-pheasant'</span> - View at <span style=\"color: #0000ff; text-decoration-color: #0000ff\">http://0.0.0.0:4200/flow-runs/flow-run/8f58e8eb-d511-4fce-888a-65229b947bd5</span>\n",
       "</pre>\n"
      ],
      "text/plain": [
       "00:54:00.105 | \u001b[36mINFO\u001b[0m    | Flow run\u001b[35m 'succinct-pheasant'\u001b[0m - View at \u001b[94mhttp://0.0.0.0:4200/flow-runs/flow-run/8f58e8eb-d511-4fce-888a-65229b947bd5\u001b[0m\n"
      ]
     },
     "metadata": {},
     "output_type": "display_data"
    },
    {
     "data": {
      "text/html": [
       "<pre style=\"white-space:pre;overflow-x:auto;line-height:normal;font-family:Menlo,'DejaVu Sans Mono',consolas,'Courier New',monospace\">00:54:00.164 | <span style=\"color: #008080; text-decoration-color: #008080\">INFO</span>    | Flow run<span style=\"color: #800080; text-decoration-color: #800080\"> 'succinct-pheasant'</span> - Finished in state <span style=\"color: #008000; text-decoration-color: #008000\">Completed</span>()\n",
       "</pre>\n"
      ],
      "text/plain": [
       "00:54:00.164 | \u001b[36mINFO\u001b[0m    | Flow run\u001b[35m 'succinct-pheasant'\u001b[0m - Finished in state \u001b[32mCompleted\u001b[0m()\n"
      ]
     },
     "metadata": {},
     "output_type": "display_data"
    }
   ],
   "source": [
    "from prefect import flow\n",
    "from prefect.artifacts import create_link_artifact\n",
    "\n",
    "@flow\n",
    "def my_flow():\n",
    "    create_link_artifact(\n",
    "        key=\"my-important-link\",\n",
    "        link=\"https://www.prefect.io/\",\n",
    "        link_text=\"Prefect\",\n",
    "    )\n",
    "\n",
    "my_flow()"
   ]
  },
  {
   "cell_type": "code",
   "execution_count": 35,
   "metadata": {},
   "outputs": [
    {
     "name": "stderr",
     "output_type": "stream",
     "text": [
      "/Users/ngohongthai/Documents/projects/dl_labs/.conda/lib/python3.9/site-packages/prefect/flows.py:244: UserWarning: A flow named 'my-flow' and defined at '/var/folders/66/6rbnzyf91v9d5v8nb46hmn0h0000gn/T/ipykernel_1573/917451064.py:42' conflicts with another flow. Consider specifying a unique `name` parameter in the flow definition:\n",
      "\n",
      " `@flow(name='my_unique_name', ...)`\n",
      "  warnings.warn(\n"
     ]
    },
    {
     "data": {
      "text/html": [
       "<pre style=\"white-space:pre;overflow-x:auto;line-height:normal;font-family:Menlo,'DejaVu Sans Mono',consolas,'Courier New',monospace\">00:54:36.883 | <span style=\"color: #008080; text-decoration-color: #008080\">INFO</span>    | prefect.engine - Created flow run<span style=\"color: #800080; text-decoration-color: #800080\"> 'laughing-quoll'</span> for flow<span style=\"color: #800080; text-decoration-color: #800080; font-weight: bold\"> 'my-flow'</span>\n",
       "</pre>\n"
      ],
      "text/plain": [
       "00:54:36.883 | \u001b[36mINFO\u001b[0m    | prefect.engine - Created flow run\u001b[35m 'laughing-quoll'\u001b[0m for flow\u001b[1;35m 'my-flow'\u001b[0m\n"
      ]
     },
     "metadata": {},
     "output_type": "display_data"
    },
    {
     "data": {
      "text/html": [
       "<pre style=\"white-space:pre;overflow-x:auto;line-height:normal;font-family:Menlo,'DejaVu Sans Mono',consolas,'Courier New',monospace\">00:54:36.886 | <span style=\"color: #008080; text-decoration-color: #008080\">INFO</span>    | Flow run<span style=\"color: #800080; text-decoration-color: #800080\"> 'laughing-quoll'</span> - View at <span style=\"color: #0000ff; text-decoration-color: #0000ff\">http://0.0.0.0:4200/flow-runs/flow-run/2b06cda4-8f47-49c5-9873-e510522d10bd</span>\n",
       "</pre>\n"
      ],
      "text/plain": [
       "00:54:36.886 | \u001b[36mINFO\u001b[0m    | Flow run\u001b[35m 'laughing-quoll'\u001b[0m - View at \u001b[94mhttp://0.0.0.0:4200/flow-runs/flow-run/2b06cda4-8f47-49c5-9873-e510522d10bd\u001b[0m\n"
      ]
     },
     "metadata": {},
     "output_type": "display_data"
    },
    {
     "data": {
      "text/html": [
       "<pre style=\"white-space:pre;overflow-x:auto;line-height:normal;font-family:Menlo,'DejaVu Sans Mono',consolas,'Courier New',monospace\">00:54:36.943 | <span style=\"color: #008080; text-decoration-color: #008080\">INFO</span>    | Flow run<span style=\"color: #800080; text-decoration-color: #800080\"> 'laughing-quoll'</span> - Created task run 'markdown_task-0' for task 'markdown_task'\n",
       "</pre>\n"
      ],
      "text/plain": [
       "00:54:36.943 | \u001b[36mINFO\u001b[0m    | Flow run\u001b[35m 'laughing-quoll'\u001b[0m - Created task run 'markdown_task-0' for task 'markdown_task'\n"
      ]
     },
     "metadata": {},
     "output_type": "display_data"
    },
    {
     "data": {
      "text/html": [
       "<pre style=\"white-space:pre;overflow-x:auto;line-height:normal;font-family:Menlo,'DejaVu Sans Mono',consolas,'Courier New',monospace\">00:54:36.944 | <span style=\"color: #008080; text-decoration-color: #008080\">INFO</span>    | Flow run<span style=\"color: #800080; text-decoration-color: #800080\"> 'laughing-quoll'</span> - Executing 'markdown_task-0' immediately...\n",
       "</pre>\n"
      ],
      "text/plain": [
       "00:54:36.944 | \u001b[36mINFO\u001b[0m    | Flow run\u001b[35m 'laughing-quoll'\u001b[0m - Executing 'markdown_task-0' immediately...\n"
      ]
     },
     "metadata": {},
     "output_type": "display_data"
    },
    {
     "data": {
      "text/html": [
       "<pre style=\"white-space:pre;overflow-x:auto;line-height:normal;font-family:Menlo,'DejaVu Sans Mono',consolas,'Courier New',monospace\">00:54:37.010 | <span style=\"color: #008080; text-decoration-color: #008080\">INFO</span>    | Task run 'markdown_task-0' - Finished in state <span style=\"color: #008000; text-decoration-color: #008000\">Completed</span>()\n",
       "</pre>\n"
      ],
      "text/plain": [
       "00:54:37.010 | \u001b[36mINFO\u001b[0m    | Task run 'markdown_task-0' - Finished in state \u001b[32mCompleted\u001b[0m()\n"
      ]
     },
     "metadata": {},
     "output_type": "display_data"
    },
    {
     "data": {
      "text/html": [
       "<pre style=\"white-space:pre;overflow-x:auto;line-height:normal;font-family:Menlo,'DejaVu Sans Mono',consolas,'Courier New',monospace\">00:54:37.022 | <span style=\"color: #008080; text-decoration-color: #008080\">INFO</span>    | Flow run<span style=\"color: #800080; text-decoration-color: #800080\"> 'laughing-quoll'</span> - Finished in state <span style=\"color: #008000; text-decoration-color: #008000\">Completed</span>('All states completed.')\n",
       "</pre>\n"
      ],
      "text/plain": [
       "00:54:37.022 | \u001b[36mINFO\u001b[0m    | Flow run\u001b[35m 'laughing-quoll'\u001b[0m - Finished in state \u001b[32mCompleted\u001b[0m('All states completed.')\n"
      ]
     },
     "metadata": {},
     "output_type": "display_data"
    },
    {
     "data": {
      "text/plain": [
       "[Completed(message=None, type=COMPLETED, result=UnpersistedResult(type='unpersisted', artifact_type='result', artifact_description='Unpersisted result of type `NoneType`'))]"
      ]
     },
     "execution_count": 35,
     "metadata": {},
     "output_type": "execute_result"
    }
   ],
   "source": [
    "from prefect import flow, task\n",
    "from prefect.artifacts import create_markdown_artifact\n",
    "\n",
    "@task\n",
    "def markdown_task():\n",
    "    na_revenue = 500000\n",
    "    markdown_report = f\"\"\"# Sales Report\n",
    "\n",
    "## Summary\n",
    "\n",
    "In the past quarter, our company saw a significant increase in sales, with a total revenue of $1,000,000. \n",
    "This represents a 20% increase over the same period last year.\n",
    "\n",
    "## Sales by Region\n",
    "\n",
    "| Region        | Revenue |\n",
    "|:--------------|-------:|\n",
    "| North America | ${na_revenue:,} |\n",
    "| Europe        | $250,000 |\n",
    "| Asia          | $150,000 |\n",
    "| South America | $75,000 |\n",
    "| Africa        | $25,000 |\n",
    "\n",
    "## Top Products\n",
    "\n",
    "1. Product A - $300,000 in revenue\n",
    "2. Product B - $200,000 in revenue\n",
    "3. Product C - $150,000 in revenue\n",
    "\n",
    "## Conclusion\n",
    "\n",
    "Overall, these results are very encouraging and demonstrate the success of our sales team in increasing revenue \n",
    "across all regions. However, we still have room for improvement and should focus on further increasing sales in \n",
    "the coming quarter.\n",
    "\"\"\"\n",
    "    create_markdown_artifact(\n",
    "        key=\"gtm-report\",\n",
    "        markdown=markdown_report,\n",
    "        description=\"Quarterly Sales Report\",\n",
    "    )\n",
    "\n",
    "@flow()\n",
    "def my_flow():\n",
    "    markdown_task()\n",
    "\n",
    "my_flow()\n"
   ]
  },
  {
   "cell_type": "code",
   "execution_count": 38,
   "metadata": {},
   "outputs": [
    {
     "name": "stderr",
     "output_type": "stream",
     "text": [
      "/var/folders/66/6rbnzyf91v9d5v8nb46hmn0h0000gn/T/ipykernel_1573/55996737.py:9: RuntimeWarning: coroutine 'create_table_artifact' was never awaited\n",
      "  create_table_artifact(\n",
      "RuntimeWarning: Enable tracemalloc to get the object allocation traceback\n"
     ]
    }
   ],
   "source": [
    "from prefect.artifacts import create_table_artifact\n",
    "\n",
    "def my_fn():\n",
    "    highest_churn_possibility = [\n",
    "       {'customer_id':'12345', 'name': 'John Smith', 'churn_probability': 0.85 }, \n",
    "       {'customer_id':'56789', 'name': 'Jane Jones', 'churn_probability': 0.65 } \n",
    "    ]\n",
    "\n",
    "    create_table_artifact(\n",
    "        key=\"personalized-reachout\",\n",
    "        table=highest_churn_possibility,\n",
    "        description= \"# Marvin, please reach out to these customers today!\"\n",
    "    )\n",
    "\n",
    "my_fn()\n"
   ]
  },
  {
   "cell_type": "code",
   "execution_count": null,
   "metadata": {},
   "outputs": [],
   "source": []
  }
 ],
 "metadata": {
  "kernelspec": {
   "display_name": "Python 3",
   "language": "python",
   "name": "python3"
  },
  "language_info": {
   "codemirror_mode": {
    "name": "ipython",
    "version": 3
   },
   "file_extension": ".py",
   "mimetype": "text/x-python",
   "name": "python",
   "nbconvert_exporter": "python",
   "pygments_lexer": "ipython3",
   "version": "3.9.16"
  },
  "orig_nbformat": 4
 },
 "nbformat": 4,
 "nbformat_minor": 2
}
