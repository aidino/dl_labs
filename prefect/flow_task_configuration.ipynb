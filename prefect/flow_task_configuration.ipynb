{
 "cells": [
  {
   "cell_type": "code",
   "execution_count": 2,
   "metadata": {},
   "outputs": [],
   "source": [
    "# !pip install prefect\n",
    "# prefect config set PREFECT_API_URL=http://192.168.24.254:4200/api"
   ]
  },
  {
   "cell_type": "markdown",
   "metadata": {},
   "source": [
    "# Flow and task configuration"
   ]
  },
  {
   "cell_type": "markdown",
   "metadata": {},
   "source": [
    "## Attaching metadata to flows"
   ]
  },
  {
   "cell_type": "code",
   "execution_count": 1,
   "metadata": {},
   "outputs": [],
   "source": [
    "import os\n",
    "from prefect import flow\n",
    "\n",
    "@flow(\n",
    "    name=\"My Example Flow\", \n",
    "    description=\"An example flow for a tutorial.\",\n",
    "    version=os.getenv(\"GIT_COMMIT_SHA\")\n",
    ")\n",
    "def my_flow():\n",
    "    # run tasks and subflows\n",
    "    pass\n"
   ]
  },
  {
   "cell_type": "markdown",
   "metadata": {},
   "source": [
    "### Customizing flow run names"
   ]
  },
  {
   "cell_type": "code",
   "execution_count": 3,
   "metadata": {},
   "outputs": [
    {
     "data": {
      "text/html": [
       "<pre style=\"white-space:pre;overflow-x:auto;line-height:normal;font-family:Menlo,'DejaVu Sans Mono',consolas,'Courier New',monospace\">14:21:59.899 | <span style=\"color: #008080; text-decoration-color: #008080\">INFO</span>    | prefect.engine - Created flow run<span style=\"color: #800080; text-decoration-color: #800080\"> 'benevolent-polecat'</span> for flow<span style=\"color: #800080; text-decoration-color: #800080; font-weight: bold\"> 'my-flow'</span>\n",
       "</pre>\n"
      ],
      "text/plain": [
       "14:21:59.899 | \u001b[36mINFO\u001b[0m    | prefect.engine - Created flow run\u001b[35m 'benevolent-polecat'\u001b[0m for flow\u001b[1;35m 'my-flow'\u001b[0m\n"
      ]
     },
     "metadata": {},
     "output_type": "display_data"
    },
    {
     "data": {
      "text/html": [
       "<pre style=\"white-space:pre;overflow-x:auto;line-height:normal;font-family:Menlo,'DejaVu Sans Mono',consolas,'Courier New',monospace\">14:22:00.094 | <span style=\"color: #008080; text-decoration-color: #008080\">INFO</span>    | Flow run<span style=\"color: #800080; text-decoration-color: #800080\"> 'benevolent-polecat'</span> - Finished in state <span style=\"color: #008000; text-decoration-color: #008000\">Completed</span>()\n",
       "</pre>\n"
      ],
      "text/plain": [
       "14:22:00.094 | \u001b[36mINFO\u001b[0m    | Flow run\u001b[35m 'benevolent-polecat'\u001b[0m - Finished in state \u001b[32mCompleted\u001b[0m()\n"
      ]
     },
     "metadata": {},
     "output_type": "display_data"
    }
   ],
   "source": [
    "import datetime\n",
    "from prefect import flow\n",
    "\n",
    "@flow(flow_run_name=\"{name}-on-{date:%A}\")\n",
    "def my_flow(name: str, date: datetime.datetime):\n",
    "    pass\n",
    "\n",
    "# creates a flow run called 'marvin-on-Thursday'\n",
    "my_flow(name=\"marvin\", date=datetime.datetime.utcnow())\n"
   ]
  },
  {
   "cell_type": "code",
   "execution_count": 4,
   "metadata": {},
   "outputs": [
    {
     "name": "stderr",
     "output_type": "stream",
     "text": [
      "/Users/macpro2014/Documents/projects/dl_labs/.venv/lib/python3.9/site-packages/prefect/flows.py:232: UserWarning: A flow named 'my-flow' and defined at '/var/folders/dv/0d5qzfx94lg3j1h65v6yghxw0000gp/T/ipykernel_55674/628841591.py:9' conflicts with another flow. Consider specifying a unique `name` parameter in the flow definition:\n",
      "\n",
      " `@flow(name='my_unique_name', ...)`\n",
      "  warnings.warn(\n"
     ]
    },
    {
     "data": {
      "text/html": [
       "<pre style=\"white-space:pre;overflow-x:auto;line-height:normal;font-family:Menlo,'DejaVu Sans Mono',consolas,'Courier New',monospace\">14:22:52.183 | <span style=\"color: #008080; text-decoration-color: #008080\">INFO</span>    | prefect.engine - Created flow run<span style=\"color: #800080; text-decoration-color: #800080\"> 'lilac-coua'</span> for flow<span style=\"color: #800080; text-decoration-color: #800080; font-weight: bold\"> 'my-flow'</span>\n",
       "</pre>\n"
      ],
      "text/plain": [
       "14:22:52.183 | \u001b[36mINFO\u001b[0m    | prefect.engine - Created flow run\u001b[35m 'lilac-coua'\u001b[0m for flow\u001b[1;35m 'my-flow'\u001b[0m\n"
      ]
     },
     "metadata": {},
     "output_type": "display_data"
    },
    {
     "data": {
      "text/html": [
       "<pre style=\"white-space:pre;overflow-x:auto;line-height:normal;font-family:Menlo,'DejaVu Sans Mono',consolas,'Courier New',monospace\">14:22:52.351 | <span style=\"color: #008080; text-decoration-color: #008080\">INFO</span>    | Flow run<span style=\"color: #800080; text-decoration-color: #800080\"> 'lilac-coua'</span> - Finished in state <span style=\"color: #008000; text-decoration-color: #008000\">Completed</span>()\n",
       "</pre>\n"
      ],
      "text/plain": [
       "14:22:52.351 | \u001b[36mINFO\u001b[0m    | Flow run\u001b[35m 'lilac-coua'\u001b[0m - Finished in state \u001b[32mCompleted\u001b[0m()\n"
      ]
     },
     "metadata": {},
     "output_type": "display_data"
    }
   ],
   "source": [
    "# Additionally this setting accepts a function that returns a string for the flow run name:\n",
    "import datetime\n",
    "from prefect import flow\n",
    "\n",
    "def generate_flow_run_name():\n",
    "    date = datetime.datetime.utcnow()\n",
    "    return f\"{date:%A}-is-a-nice-day\"\n",
    "\n",
    "@flow(flow_run_name=generate_flow_run_name)\n",
    "def my_flow(name: str):\n",
    "    pass\n",
    "\n",
    "# creates a flow run called 'Thursday-is-a-nice-day'\n",
    "my_flow(name=\"marvin\")\n"
   ]
  },
  {
   "cell_type": "code",
   "execution_count": 6,
   "metadata": {},
   "outputs": [
    {
     "name": "stderr",
     "output_type": "stream",
     "text": [
      "/Users/macpro2014/Documents/projects/dl_labs/.venv/lib/python3.9/site-packages/prefect/flows.py:232: UserWarning: A flow named 'my-flow' and defined at '/var/folders/dv/0d5qzfx94lg3j1h65v6yghxw0000gp/T/ipykernel_55674/1177650621.py:15' conflicts with another flow. Consider specifying a unique `name` parameter in the flow definition:\n",
      "\n",
      " `@flow(name='my_unique_name', ...)`\n",
      "  warnings.warn(\n"
     ]
    },
    {
     "data": {
      "text/html": [
       "<pre style=\"white-space:pre;overflow-x:auto;line-height:normal;font-family:Menlo,'DejaVu Sans Mono',consolas,'Courier New',monospace\">14:23:36.963 | <span style=\"color: #008080; text-decoration-color: #008080\">INFO</span>    | prefect.engine - Created flow run<span style=\"color: #800080; text-decoration-color: #800080\"> 'attentive-guppy'</span> for flow<span style=\"color: #800080; text-decoration-color: #800080; font-weight: bold\"> 'my-flow'</span>\n",
       "</pre>\n"
      ],
      "text/plain": [
       "14:23:36.963 | \u001b[36mINFO\u001b[0m    | prefect.engine - Created flow run\u001b[35m 'attentive-guppy'\u001b[0m for flow\u001b[1;35m 'my-flow'\u001b[0m\n"
      ]
     },
     "metadata": {},
     "output_type": "display_data"
    },
    {
     "data": {
      "text/html": [
       "<pre style=\"white-space:pre;overflow-x:auto;line-height:normal;font-family:Menlo,'DejaVu Sans Mono',consolas,'Courier New',monospace\">14:23:37.143 | <span style=\"color: #008080; text-decoration-color: #008080\">INFO</span>    | Flow run<span style=\"color: #800080; text-decoration-color: #800080\"> 'attentive-guppy'</span> - Finished in state <span style=\"color: #008000; text-decoration-color: #008000\">Completed</span>()\n",
       "</pre>\n"
      ],
      "text/plain": [
       "14:23:37.143 | \u001b[36mINFO\u001b[0m    | Flow run\u001b[35m 'attentive-guppy'\u001b[0m - Finished in state \u001b[32mCompleted\u001b[0m()\n"
      ]
     },
     "metadata": {},
     "output_type": "display_data"
    }
   ],
   "source": [
    "# If you need access to information about the flow, use the prefect.runtime module. For example\n",
    "\n",
    "from prefect import flow\n",
    "from prefect.runtime import flow_run\n",
    "\n",
    "def generate_flow_run_name():\n",
    "    flow_name = flow_run.flow_name\n",
    "\n",
    "    parameters = flow_run.parameters\n",
    "    name = parameters[\"name\"]\n",
    "    limit = parameters[\"limit\"]\n",
    "\n",
    "    return f\"{flow_name}-with-{name}-and-{limit}\"\n",
    "\n",
    "@flow(flow_run_name=generate_flow_run_name)\n",
    "def my_flow(name: str, limit: int = 100):\n",
    "    pass\n",
    "\n",
    "# creates a flow run called 'my-flow-with-marvin-and-100'\n",
    "my_flow(name=\"marvin\")\n"
   ]
  },
  {
   "cell_type": "markdown",
   "metadata": {},
   "source": [
    "## Attaching metadata to tasks"
   ]
  },
  {
   "cell_type": "code",
   "execution_count": 7,
   "metadata": {},
   "outputs": [
    {
     "name": "stderr",
     "output_type": "stream",
     "text": [
      "/Users/macpro2014/Documents/projects/dl_labs/.venv/lib/python3.9/site-packages/prefect/flows.py:232: UserWarning: A flow named 'my-flow' and defined at '/var/folders/dv/0d5qzfx94lg3j1h65v6yghxw0000gp/T/ipykernel_55674/1329679144.py:16' conflicts with another flow. Consider specifying a unique `name` parameter in the flow definition:\n",
      "\n",
      " `@flow(name='my_unique_name', ...)`\n",
      "  warnings.warn(\n"
     ]
    }
   ],
   "source": [
    "import datetime\n",
    "from prefect import flow, task\n",
    "\n",
    "def generate_task_name():\n",
    "    date = datetime.datetime.utcnow()\n",
    "    return f\"{date:%A}-is-a-lovely-day\"\n",
    "\n",
    "@task(\n",
    "    name=\"My Example Task\",\n",
    "    description=\"An example task for a tutorial.\",\n",
    "    task_run_name=generate_task_name\n",
    ")\n",
    "def my_task(name):\n",
    "    pass\n",
    "\n",
    "@flow\n",
    "def my_flow():\n",
    "    # creates a run with a name like \"Thursday-is-a-lovely-day\"\n",
    "    my_task(name=\"marvin\")\n"
   ]
  },
  {
   "cell_type": "code",
   "execution_count": 9,
   "metadata": {},
   "outputs": [
    {
     "name": "stderr",
     "output_type": "stream",
     "text": [
      "/Users/macpro2014/Documents/projects/dl_labs/.venv/lib/python3.9/site-packages/prefect/tasks.py:287: UserWarning: A task named 'my-example-task' and defined at '/var/folders/dv/0d5qzfx94lg3j1h65v6yghxw0000gp/T/ipykernel_55674/15213493.py:14' conflicts with another task. Consider specifying a unique `name` parameter in the task definition:\n",
      "\n",
      " `@task(name='my_unique_name', ...)`\n",
      "  warnings.warn(\n"
     ]
    }
   ],
   "source": [
    "from prefect import flow\n",
    "from prefect.runtime import flow_run, task_run\n",
    "\n",
    "def generate_task_name():\n",
    "    flow_name = flow_run.flow_name\n",
    "    task_name = task_run.task_name\n",
    "\n",
    "    parameters = task_run.parameters\n",
    "    name = parameters[\"name\"]\n",
    "    limit = parameters[\"limit\"]\n",
    "\n",
    "    return f\"{flow_name}-{task_name}-with-{name}-and-{limit}\"\n",
    "\n",
    "@task(\n",
    "    name=\"my-example-task\",\n",
    "    description=\"An example task for a tutorial.\",\n",
    "    task_run_name=generate_task_name\n",
    ")\n",
    "def my_task(name: str, limit: int = 100):\n",
    "    pass\n",
    "\n",
    "@flow\n",
    "def my_flow(name: str):\n",
    "    # creates a run with a name like \"my-flow-my-example-task-with-marvin-and-100\"\n",
    "    my_task(name=\"marvin\")\n"
   ]
  },
  {
   "cell_type": "markdown",
   "metadata": {},
   "source": [
    "## Flow and task retries"
   ]
  },
  {
   "cell_type": "code",
   "execution_count": 11,
   "metadata": {},
   "outputs": [
    {
     "name": "stderr",
     "output_type": "stream",
     "text": [
      "/Users/macpro2014/Documents/projects/dl_labs/.venv/lib/python3.9/site-packages/prefect/tasks.py:287: UserWarning: A task named 'failure' and defined at '/var/folders/dv/0d5qzfx94lg3j1h65v6yghxw0000gp/T/ipykernel_55674/3437083298.py:4' conflicts with another task. Consider specifying a unique `name` parameter in the task definition:\n",
      "\n",
      " `@task(name='my_unique_name', ...)`\n",
      "  warnings.warn(\n",
      "/Users/macpro2014/Documents/projects/dl_labs/.venv/lib/python3.9/site-packages/prefect/flows.py:232: UserWarning: A flow named 'test-retries' and defined at '/var/folders/dv/0d5qzfx94lg3j1h65v6yghxw0000gp/T/ipykernel_55674/3437083298.py:9' conflicts with another flow. Consider specifying a unique `name` parameter in the flow definition:\n",
      "\n",
      " `@flow(name='my_unique_name', ...)`\n",
      "  warnings.warn(\n"
     ]
    },
    {
     "data": {
      "text/html": [
       "<pre style=\"white-space:pre;overflow-x:auto;line-height:normal;font-family:Menlo,'DejaVu Sans Mono',consolas,'Courier New',monospace\">14:36:25.351 | <span style=\"color: #008080; text-decoration-color: #008080\">INFO</span>    | prefect.engine - Created flow run<span style=\"color: #800080; text-decoration-color: #800080\"> 'sandy-otter'</span> for flow<span style=\"color: #800080; text-decoration-color: #800080; font-weight: bold\"> 'test-retries'</span>\n",
       "</pre>\n"
      ],
      "text/plain": [
       "14:36:25.351 | \u001b[36mINFO\u001b[0m    | prefect.engine - Created flow run\u001b[35m 'sandy-otter'\u001b[0m for flow\u001b[1;35m 'test-retries'\u001b[0m\n"
      ]
     },
     "metadata": {},
     "output_type": "display_data"
    },
    {
     "data": {
      "text/html": [
       "<pre style=\"white-space:pre;overflow-x:auto;line-height:normal;font-family:Menlo,'DejaVu Sans Mono',consolas,'Courier New',monospace\">14:36:27.407 | <span style=\"color: #008080; text-decoration-color: #008080\">INFO</span>    | Flow run<span style=\"color: #800080; text-decoration-color: #800080\"> 'sandy-otter'</span> - Created task run 'failure-0' for task 'failure'\n",
       "</pre>\n"
      ],
      "text/plain": [
       "14:36:27.407 | \u001b[36mINFO\u001b[0m    | Flow run\u001b[35m 'sandy-otter'\u001b[0m - Created task run 'failure-0' for task 'failure'\n"
      ]
     },
     "metadata": {},
     "output_type": "display_data"
    },
    {
     "data": {
      "text/html": [
       "<pre style=\"white-space:pre;overflow-x:auto;line-height:normal;font-family:Menlo,'DejaVu Sans Mono',consolas,'Courier New',monospace\">14:36:27.410 | <span style=\"color: #008080; text-decoration-color: #008080\">INFO</span>    | Flow run<span style=\"color: #800080; text-decoration-color: #800080\"> 'sandy-otter'</span> - Executing 'failure-0' immediately...\n",
       "</pre>\n"
      ],
      "text/plain": [
       "14:36:27.410 | \u001b[36mINFO\u001b[0m    | Flow run\u001b[35m 'sandy-otter'\u001b[0m - Executing 'failure-0' immediately...\n"
      ]
     },
     "metadata": {},
     "output_type": "display_data"
    },
    {
     "name": "stdout",
     "output_type": "stream",
     "text": [
      "running\n"
     ]
    },
    {
     "data": {
      "text/html": [
       "<pre style=\"white-space:pre;overflow-x:auto;line-height:normal;font-family:Menlo,'DejaVu Sans Mono',consolas,'Courier New',monospace\">14:36:27.853 | <span style=\"color: #d70000; text-decoration-color: #d70000\">ERROR</span>   | Task run 'failure-0' - Encountered exception during execution:\n",
       "Traceback (most recent call last):\n",
       "  File \"/Users/macpro2014/Documents/projects/dl_labs/.venv/lib/python3.9/site-packages/prefect/engine.py\", line 1581, in orchestrate_task_run\n",
       "    result = await call.aresult()\n",
       "  File \"/Users/macpro2014/Documents/projects/dl_labs/.venv/lib/python3.9/site-packages/prefect/_internal/concurrency/calls.py\", line 181, in aresult\n",
       "    return await asyncio.wrap_future(self.future)\n",
       "  File \"/Users/macpro2014/Documents/projects/dl_labs/.venv/lib/python3.9/site-packages/prefect/_internal/concurrency/calls.py\", line 194, in _run_sync\n",
       "    result = self.fn(*self.args, **self.kwargs)\n",
       "  File \"/var/folders/dv/0d5qzfx94lg3j1h65v6yghxw0000gp/T/ipykernel_55674/3437083298.py\", line 7, in failure\n",
       "    raise ValueError(\"bad code\")\n",
       "ValueError: bad code\n",
       "</pre>\n"
      ],
      "text/plain": [
       "14:36:27.853 | \u001b[38;5;160mERROR\u001b[0m   | Task run 'failure-0' - Encountered exception during execution:\n",
       "Traceback (most recent call last):\n",
       "  File \"/Users/macpro2014/Documents/projects/dl_labs/.venv/lib/python3.9/site-packages/prefect/engine.py\", line 1581, in orchestrate_task_run\n",
       "    result = await call.aresult()\n",
       "  File \"/Users/macpro2014/Documents/projects/dl_labs/.venv/lib/python3.9/site-packages/prefect/_internal/concurrency/calls.py\", line 181, in aresult\n",
       "    return await asyncio.wrap_future(self.future)\n",
       "  File \"/Users/macpro2014/Documents/projects/dl_labs/.venv/lib/python3.9/site-packages/prefect/_internal/concurrency/calls.py\", line 194, in _run_sync\n",
       "    result = self.fn(*self.args, **self.kwargs)\n",
       "  File \"/var/folders/dv/0d5qzfx94lg3j1h65v6yghxw0000gp/T/ipykernel_55674/3437083298.py\", line 7, in failure\n",
       "    raise ValueError(\"bad code\")\n",
       "ValueError: bad code\n"
      ]
     },
     "metadata": {},
     "output_type": "display_data"
    },
    {
     "data": {
      "text/html": [
       "<pre style=\"white-space:pre;overflow-x:auto;line-height:normal;font-family:Menlo,'DejaVu Sans Mono',consolas,'Courier New',monospace\">14:36:28.006 | <span style=\"color: #008080; text-decoration-color: #008080\">INFO</span>    | Task run 'failure-0' - Received non-final state 'AwaitingRetry' when proposing final state '<span style=\"color: #d70000; text-decoration-color: #d70000\">Failed</span>' and will attempt to run again...\n",
       "</pre>\n"
      ],
      "text/plain": [
       "14:36:28.006 | \u001b[36mINFO\u001b[0m    | Task run 'failure-0' - Received non-final state 'AwaitingRetry' when proposing final state '\u001b[38;5;160mFailed\u001b[0m' and will attempt to run again...\n"
      ]
     },
     "metadata": {},
     "output_type": "display_data"
    },
    {
     "name": "stdout",
     "output_type": "stream",
     "text": [
      "running\n"
     ]
    },
    {
     "data": {
      "text/html": [
       "<pre style=\"white-space:pre;overflow-x:auto;line-height:normal;font-family:Menlo,'DejaVu Sans Mono',consolas,'Courier New',monospace\">14:36:35.462 | <span style=\"color: #d70000; text-decoration-color: #d70000\">ERROR</span>   | Task run 'failure-0' - Encountered exception during execution:\n",
       "Traceback (most recent call last):\n",
       "  File \"/Users/macpro2014/Documents/projects/dl_labs/.venv/lib/python3.9/site-packages/prefect/engine.py\", line 1581, in orchestrate_task_run\n",
       "    result = await call.aresult()\n",
       "  File \"/Users/macpro2014/Documents/projects/dl_labs/.venv/lib/python3.9/site-packages/prefect/_internal/concurrency/calls.py\", line 181, in aresult\n",
       "    return await asyncio.wrap_future(self.future)\n",
       "  File \"/Users/macpro2014/Documents/projects/dl_labs/.venv/lib/python3.9/site-packages/prefect/_internal/concurrency/calls.py\", line 194, in _run_sync\n",
       "    result = self.fn(*self.args, **self.kwargs)\n",
       "  File \"/var/folders/dv/0d5qzfx94lg3j1h65v6yghxw0000gp/T/ipykernel_55674/3437083298.py\", line 7, in failure\n",
       "    raise ValueError(\"bad code\")\n",
       "ValueError: bad code\n",
       "</pre>\n"
      ],
      "text/plain": [
       "14:36:35.462 | \u001b[38;5;160mERROR\u001b[0m   | Task run 'failure-0' - Encountered exception during execution:\n",
       "Traceback (most recent call last):\n",
       "  File \"/Users/macpro2014/Documents/projects/dl_labs/.venv/lib/python3.9/site-packages/prefect/engine.py\", line 1581, in orchestrate_task_run\n",
       "    result = await call.aresult()\n",
       "  File \"/Users/macpro2014/Documents/projects/dl_labs/.venv/lib/python3.9/site-packages/prefect/_internal/concurrency/calls.py\", line 181, in aresult\n",
       "    return await asyncio.wrap_future(self.future)\n",
       "  File \"/Users/macpro2014/Documents/projects/dl_labs/.venv/lib/python3.9/site-packages/prefect/_internal/concurrency/calls.py\", line 194, in _run_sync\n",
       "    result = self.fn(*self.args, **self.kwargs)\n",
       "  File \"/var/folders/dv/0d5qzfx94lg3j1h65v6yghxw0000gp/T/ipykernel_55674/3437083298.py\", line 7, in failure\n",
       "    raise ValueError(\"bad code\")\n",
       "ValueError: bad code\n"
      ]
     },
     "metadata": {},
     "output_type": "display_data"
    },
    {
     "data": {
      "text/html": [
       "<pre style=\"white-space:pre;overflow-x:auto;line-height:normal;font-family:Menlo,'DejaVu Sans Mono',consolas,'Courier New',monospace\">14:36:35.494 | <span style=\"color: #008080; text-decoration-color: #008080\">INFO</span>    | Task run 'failure-0' - Received non-final state 'AwaitingRetry' when proposing final state '<span style=\"color: #d70000; text-decoration-color: #d70000\">Failed</span>' and will attempt to run again...\n",
       "</pre>\n"
      ],
      "text/plain": [
       "14:36:35.494 | \u001b[36mINFO\u001b[0m    | Task run 'failure-0' - Received non-final state 'AwaitingRetry' when proposing final state '\u001b[38;5;160mFailed\u001b[0m' and will attempt to run again...\n"
      ]
     },
     "metadata": {},
     "output_type": "display_data"
    },
    {
     "name": "stdout",
     "output_type": "stream",
     "text": [
      "running\n"
     ]
    },
    {
     "data": {
      "text/html": [
       "<pre style=\"white-space:pre;overflow-x:auto;line-height:normal;font-family:Menlo,'DejaVu Sans Mono',consolas,'Courier New',monospace\">14:36:43.278 | <span style=\"color: #d70000; text-decoration-color: #d70000\">ERROR</span>   | Task run 'failure-0' - Encountered exception during execution:\n",
       "Traceback (most recent call last):\n",
       "  File \"/Users/macpro2014/Documents/projects/dl_labs/.venv/lib/python3.9/site-packages/prefect/engine.py\", line 1581, in orchestrate_task_run\n",
       "    result = await call.aresult()\n",
       "  File \"/Users/macpro2014/Documents/projects/dl_labs/.venv/lib/python3.9/site-packages/prefect/_internal/concurrency/calls.py\", line 181, in aresult\n",
       "    return await asyncio.wrap_future(self.future)\n",
       "  File \"/Users/macpro2014/Documents/projects/dl_labs/.venv/lib/python3.9/site-packages/prefect/_internal/concurrency/calls.py\", line 194, in _run_sync\n",
       "    result = self.fn(*self.args, **self.kwargs)\n",
       "  File \"/var/folders/dv/0d5qzfx94lg3j1h65v6yghxw0000gp/T/ipykernel_55674/3437083298.py\", line 7, in failure\n",
       "    raise ValueError(\"bad code\")\n",
       "ValueError: bad code\n",
       "</pre>\n"
      ],
      "text/plain": [
       "14:36:43.278 | \u001b[38;5;160mERROR\u001b[0m   | Task run 'failure-0' - Encountered exception during execution:\n",
       "Traceback (most recent call last):\n",
       "  File \"/Users/macpro2014/Documents/projects/dl_labs/.venv/lib/python3.9/site-packages/prefect/engine.py\", line 1581, in orchestrate_task_run\n",
       "    result = await call.aresult()\n",
       "  File \"/Users/macpro2014/Documents/projects/dl_labs/.venv/lib/python3.9/site-packages/prefect/_internal/concurrency/calls.py\", line 181, in aresult\n",
       "    return await asyncio.wrap_future(self.future)\n",
       "  File \"/Users/macpro2014/Documents/projects/dl_labs/.venv/lib/python3.9/site-packages/prefect/_internal/concurrency/calls.py\", line 194, in _run_sync\n",
       "    result = self.fn(*self.args, **self.kwargs)\n",
       "  File \"/var/folders/dv/0d5qzfx94lg3j1h65v6yghxw0000gp/T/ipykernel_55674/3437083298.py\", line 7, in failure\n",
       "    raise ValueError(\"bad code\")\n",
       "ValueError: bad code\n"
      ]
     },
     "metadata": {},
     "output_type": "display_data"
    },
    {
     "data": {
      "text/html": [
       "<pre style=\"white-space:pre;overflow-x:auto;line-height:normal;font-family:Menlo,'DejaVu Sans Mono',consolas,'Courier New',monospace\">14:36:43.330 | <span style=\"color: #d70000; text-decoration-color: #d70000\">ERROR</span>   | Task run 'failure-0' - Finished in state <span style=\"color: #d70000; text-decoration-color: #d70000\">Failed</span>('Task run encountered an exception: ValueError: bad code\\n')\n",
       "</pre>\n"
      ],
      "text/plain": [
       "14:36:43.330 | \u001b[38;5;160mERROR\u001b[0m   | Task run 'failure-0' - Finished in state \u001b[38;5;160mFailed\u001b[0m('Task run encountered an exception: ValueError: bad code\\n')\n"
      ]
     },
     "metadata": {},
     "output_type": "display_data"
    },
    {
     "data": {
      "text/html": [
       "<pre style=\"white-space:pre;overflow-x:auto;line-height:normal;font-family:Menlo,'DejaVu Sans Mono',consolas,'Courier New',monospace\">14:36:43.333 | <span style=\"color: #d70000; text-decoration-color: #d70000\">ERROR</span>   | Flow run<span style=\"color: #800080; text-decoration-color: #800080\"> 'sandy-otter'</span> - Encountered exception during execution:\n",
       "Traceback (most recent call last):\n",
       "  File \"/Users/macpro2014/Documents/projects/dl_labs/.venv/lib/python3.9/site-packages/prefect/engine.py\", line 700, in orchestrate_flow_run\n",
       "    result = await flow_call.aresult()\n",
       "  File \"/Users/macpro2014/Documents/projects/dl_labs/.venv/lib/python3.9/site-packages/prefect/_internal/concurrency/calls.py\", line 181, in aresult\n",
       "    return await asyncio.wrap_future(self.future)\n",
       "  File \"/Users/macpro2014/Documents/projects/dl_labs/.venv/lib/python3.9/site-packages/prefect/_internal/concurrency/calls.py\", line 194, in _run_sync\n",
       "    result = self.fn(*self.args, **self.kwargs)\n",
       "  File \"/var/folders/dv/0d5qzfx94lg3j1h65v6yghxw0000gp/T/ipykernel_55674/3437083298.py\", line 11, in test_retries\n",
       "    return failure()\n",
       "  File \"/Users/macpro2014/Documents/projects/dl_labs/.venv/lib/python3.9/site-packages/prefect/tasks.py\", line 494, in __call__\n",
       "    return enter_task_run_engine(\n",
       "  File \"/Users/macpro2014/Documents/projects/dl_labs/.venv/lib/python3.9/site-packages/prefect/engine.py\", line 1003, in enter_task_run_engine\n",
       "    return from_sync.wait_for_call_in_loop_thread(begin_run)\n",
       "  File \"/Users/macpro2014/Documents/projects/dl_labs/.venv/lib/python3.9/site-packages/prefect/_internal/concurrency/api.py\", line 215, in wait_for_call_in_loop_thread\n",
       "    return call.result()\n",
       "  File \"/Users/macpro2014/Documents/projects/dl_labs/.venv/lib/python3.9/site-packages/prefect/_internal/concurrency/calls.py\", line 173, in result\n",
       "    return self.future.result(timeout=timeout)\n",
       "  File \"/Library/Frameworks/Python.framework/Versions/3.9/lib/python3.9/concurrent/futures/_base.py\", line 433, in result\n",
       "    return self.__get_result()\n",
       "  File \"/Library/Frameworks/Python.framework/Versions/3.9/lib/python3.9/concurrent/futures/_base.py\", line 389, in __get_result\n",
       "    raise self._exception\n",
       "  File \"/Users/macpro2014/Documents/projects/dl_labs/.venv/lib/python3.9/site-packages/prefect/_internal/concurrency/calls.py\", line 218, in _run_async\n",
       "    result = await coro\n",
       "  File \"/Users/macpro2014/Documents/projects/dl_labs/.venv/lib/python3.9/site-packages/prefect/engine.py\", line 1168, in get_task_call_return_value\n",
       "    return await future._result()\n",
       "  File \"/Users/macpro2014/Documents/projects/dl_labs/.venv/lib/python3.9/site-packages/prefect/futures.py\", line 241, in _result\n",
       "    return await final_state.result(raise_on_failure=raise_on_failure, fetch=True)\n",
       "  File \"/Users/macpro2014/Documents/projects/dl_labs/.venv/lib/python3.9/site-packages/prefect/states.py\", line 91, in _get_state_result\n",
       "    raise await get_state_exception(state)\n",
       "  File \"/Users/macpro2014/Documents/projects/dl_labs/.venv/lib/python3.9/site-packages/prefect/engine.py\", line 1581, in orchestrate_task_run\n",
       "    result = await call.aresult()\n",
       "  File \"/Users/macpro2014/Documents/projects/dl_labs/.venv/lib/python3.9/site-packages/prefect/_internal/concurrency/calls.py\", line 181, in aresult\n",
       "    return await asyncio.wrap_future(self.future)\n",
       "  File \"/Users/macpro2014/Documents/projects/dl_labs/.venv/lib/python3.9/site-packages/prefect/_internal/concurrency/calls.py\", line 194, in _run_sync\n",
       "    result = self.fn(*self.args, **self.kwargs)\n",
       "  File \"/var/folders/dv/0d5qzfx94lg3j1h65v6yghxw0000gp/T/ipykernel_55674/3437083298.py\", line 7, in failure\n",
       "    raise ValueError(\"bad code\")\n",
       "ValueError: bad code\n",
       "</pre>\n"
      ],
      "text/plain": [
       "14:36:43.333 | \u001b[38;5;160mERROR\u001b[0m   | Flow run\u001b[35m 'sandy-otter'\u001b[0m - Encountered exception during execution:\n",
       "Traceback (most recent call last):\n",
       "  File \"/Users/macpro2014/Documents/projects/dl_labs/.venv/lib/python3.9/site-packages/prefect/engine.py\", line 700, in orchestrate_flow_run\n",
       "    result = await flow_call.aresult()\n",
       "  File \"/Users/macpro2014/Documents/projects/dl_labs/.venv/lib/python3.9/site-packages/prefect/_internal/concurrency/calls.py\", line 181, in aresult\n",
       "    return await asyncio.wrap_future(self.future)\n",
       "  File \"/Users/macpro2014/Documents/projects/dl_labs/.venv/lib/python3.9/site-packages/prefect/_internal/concurrency/calls.py\", line 194, in _run_sync\n",
       "    result = self.fn(*self.args, **self.kwargs)\n",
       "  File \"/var/folders/dv/0d5qzfx94lg3j1h65v6yghxw0000gp/T/ipykernel_55674/3437083298.py\", line 11, in test_retries\n",
       "    return failure()\n",
       "  File \"/Users/macpro2014/Documents/projects/dl_labs/.venv/lib/python3.9/site-packages/prefect/tasks.py\", line 494, in __call__\n",
       "    return enter_task_run_engine(\n",
       "  File \"/Users/macpro2014/Documents/projects/dl_labs/.venv/lib/python3.9/site-packages/prefect/engine.py\", line 1003, in enter_task_run_engine\n",
       "    return from_sync.wait_for_call_in_loop_thread(begin_run)\n",
       "  File \"/Users/macpro2014/Documents/projects/dl_labs/.venv/lib/python3.9/site-packages/prefect/_internal/concurrency/api.py\", line 215, in wait_for_call_in_loop_thread\n",
       "    return call.result()\n",
       "  File \"/Users/macpro2014/Documents/projects/dl_labs/.venv/lib/python3.9/site-packages/prefect/_internal/concurrency/calls.py\", line 173, in result\n",
       "    return self.future.result(timeout=timeout)\n",
       "  File \"/Library/Frameworks/Python.framework/Versions/3.9/lib/python3.9/concurrent/futures/_base.py\", line 433, in result\n",
       "    return self.__get_result()\n",
       "  File \"/Library/Frameworks/Python.framework/Versions/3.9/lib/python3.9/concurrent/futures/_base.py\", line 389, in __get_result\n",
       "    raise self._exception\n",
       "  File \"/Users/macpro2014/Documents/projects/dl_labs/.venv/lib/python3.9/site-packages/prefect/_internal/concurrency/calls.py\", line 218, in _run_async\n",
       "    result = await coro\n",
       "  File \"/Users/macpro2014/Documents/projects/dl_labs/.venv/lib/python3.9/site-packages/prefect/engine.py\", line 1168, in get_task_call_return_value\n",
       "    return await future._result()\n",
       "  File \"/Users/macpro2014/Documents/projects/dl_labs/.venv/lib/python3.9/site-packages/prefect/futures.py\", line 241, in _result\n",
       "    return await final_state.result(raise_on_failure=raise_on_failure, fetch=True)\n",
       "  File \"/Users/macpro2014/Documents/projects/dl_labs/.venv/lib/python3.9/site-packages/prefect/states.py\", line 91, in _get_state_result\n",
       "    raise await get_state_exception(state)\n",
       "  File \"/Users/macpro2014/Documents/projects/dl_labs/.venv/lib/python3.9/site-packages/prefect/engine.py\", line 1581, in orchestrate_task_run\n",
       "    result = await call.aresult()\n",
       "  File \"/Users/macpro2014/Documents/projects/dl_labs/.venv/lib/python3.9/site-packages/prefect/_internal/concurrency/calls.py\", line 181, in aresult\n",
       "    return await asyncio.wrap_future(self.future)\n",
       "  File \"/Users/macpro2014/Documents/projects/dl_labs/.venv/lib/python3.9/site-packages/prefect/_internal/concurrency/calls.py\", line 194, in _run_sync\n",
       "    result = self.fn(*self.args, **self.kwargs)\n",
       "  File \"/var/folders/dv/0d5qzfx94lg3j1h65v6yghxw0000gp/T/ipykernel_55674/3437083298.py\", line 7, in failure\n",
       "    raise ValueError(\"bad code\")\n",
       "ValueError: bad code\n"
      ]
     },
     "metadata": {},
     "output_type": "display_data"
    },
    {
     "data": {
      "text/html": [
       "<pre style=\"white-space:pre;overflow-x:auto;line-height:normal;font-family:Menlo,'DejaVu Sans Mono',consolas,'Courier New',monospace\">14:36:43.364 | <span style=\"color: #d70000; text-decoration-color: #d70000\">ERROR</span>   | Flow run<span style=\"color: #800080; text-decoration-color: #800080\"> 'sandy-otter'</span> - Finished in state <span style=\"color: #d70000; text-decoration-color: #d70000\">Failed</span>('Flow run encountered an exception. ValueError: bad code\\n')\n",
       "</pre>\n"
      ],
      "text/plain": [
       "14:36:43.364 | \u001b[38;5;160mERROR\u001b[0m   | Flow run\u001b[35m 'sandy-otter'\u001b[0m - Finished in state \u001b[38;5;160mFailed\u001b[0m('Flow run encountered an exception. ValueError: bad code\\n')\n"
      ]
     },
     "metadata": {},
     "output_type": "display_data"
    },
    {
     "ename": "ValueError",
     "evalue": "bad code",
     "output_type": "error",
     "traceback": [
      "\u001b[0;31m---------------------------------------------------------------------------\u001b[0m",
      "\u001b[0;31mValueError\u001b[0m                                Traceback (most recent call last)",
      "Cell \u001b[0;32mIn[11], line 13\u001b[0m\n\u001b[1;32m      9\u001b[0m \u001b[39m@flow\u001b[39m\n\u001b[1;32m     10\u001b[0m \u001b[39mdef\u001b[39;00m \u001b[39mtest_retries\u001b[39m():\n\u001b[1;32m     11\u001b[0m     \u001b[39mreturn\u001b[39;00m failure()\n\u001b[0;32m---> 13\u001b[0m test_retries()\n",
      "File \u001b[0;32m~/Documents/projects/dl_labs/.venv/lib/python3.9/site-packages/prefect/flows.py:497\u001b[0m, in \u001b[0;36mFlow.__call__\u001b[0;34m(self, return_state, wait_for, *args, **kwargs)\u001b[0m\n\u001b[1;32m    493\u001b[0m parameters \u001b[39m=\u001b[39m get_call_parameters(\u001b[39mself\u001b[39m\u001b[39m.\u001b[39mfn, args, kwargs)\n\u001b[1;32m    495\u001b[0m return_type \u001b[39m=\u001b[39m \u001b[39m\"\u001b[39m\u001b[39mstate\u001b[39m\u001b[39m\"\u001b[39m \u001b[39mif\u001b[39;00m return_state \u001b[39melse\u001b[39;00m \u001b[39m\"\u001b[39m\u001b[39mresult\u001b[39m\u001b[39m\"\u001b[39m\n\u001b[0;32m--> 497\u001b[0m \u001b[39mreturn\u001b[39;00m enter_flow_run_engine_from_flow_call(\n\u001b[1;32m    498\u001b[0m     \u001b[39mself\u001b[39;49m,\n\u001b[1;32m    499\u001b[0m     parameters,\n\u001b[1;32m    500\u001b[0m     wait_for\u001b[39m=\u001b[39;49mwait_for,\n\u001b[1;32m    501\u001b[0m     return_type\u001b[39m=\u001b[39;49mreturn_type,\n\u001b[1;32m    502\u001b[0m )\n",
      "File \u001b[0;32m~/Documents/projects/dl_labs/.venv/lib/python3.9/site-packages/prefect/engine.py:184\u001b[0m, in \u001b[0;36menter_flow_run_engine_from_flow_call\u001b[0;34m(flow, parameters, wait_for, return_type)\u001b[0m\n\u001b[1;32m    179\u001b[0m     retval \u001b[39m=\u001b[39m from_async\u001b[39m.\u001b[39mwait_for_call_in_loop_thread(\n\u001b[1;32m    180\u001b[0m         begin_run, done_callbacks\u001b[39m=\u001b[39mdone_callbacks\n\u001b[1;32m    181\u001b[0m     )\n\u001b[1;32m    183\u001b[0m \u001b[39melse\u001b[39;00m:\n\u001b[0;32m--> 184\u001b[0m     retval \u001b[39m=\u001b[39m from_sync\u001b[39m.\u001b[39;49mwait_for_call_in_loop_thread(\n\u001b[1;32m    185\u001b[0m         begin_run, done_callbacks\u001b[39m=\u001b[39;49mdone_callbacks\n\u001b[1;32m    186\u001b[0m     )\n\u001b[1;32m    188\u001b[0m \u001b[39mreturn\u001b[39;00m retval\n",
      "File \u001b[0;32m~/Documents/projects/dl_labs/.venv/lib/python3.9/site-packages/prefect/_internal/concurrency/api.py:215\u001b[0m, in \u001b[0;36mfrom_sync.wait_for_call_in_loop_thread\u001b[0;34m(_from_sync__call, timeout, done_callbacks)\u001b[0m\n\u001b[1;32m    213\u001b[0m     waiter\u001b[39m.\u001b[39madd_done_callback(callback)\n\u001b[1;32m    214\u001b[0m waiter\u001b[39m.\u001b[39mwait()\n\u001b[0;32m--> 215\u001b[0m \u001b[39mreturn\u001b[39;00m call\u001b[39m.\u001b[39;49mresult()\n",
      "File \u001b[0;32m~/Documents/projects/dl_labs/.venv/lib/python3.9/site-packages/prefect/_internal/concurrency/calls.py:173\u001b[0m, in \u001b[0;36mCall.result\u001b[0;34m(self, timeout)\u001b[0m\n\u001b[1;32m    167\u001b[0m \u001b[39mdef\u001b[39;00m \u001b[39mresult\u001b[39m(\u001b[39mself\u001b[39m, timeout: Optional[\u001b[39mfloat\u001b[39m] \u001b[39m=\u001b[39m \u001b[39mNone\u001b[39;00m) \u001b[39m-\u001b[39m\u001b[39m>\u001b[39m T:\n\u001b[1;32m    168\u001b[0m \u001b[39m    \u001b[39m\u001b[39m\"\"\"\u001b[39;00m\n\u001b[1;32m    169\u001b[0m \u001b[39m    Wait for the result of the call.\u001b[39;00m\n\u001b[1;32m    170\u001b[0m \n\u001b[1;32m    171\u001b[0m \u001b[39m    Not safe for use from asynchronous contexts.\u001b[39;00m\n\u001b[1;32m    172\u001b[0m \u001b[39m    \"\"\"\u001b[39;00m\n\u001b[0;32m--> 173\u001b[0m     \u001b[39mreturn\u001b[39;00m \u001b[39mself\u001b[39;49m\u001b[39m.\u001b[39;49mfuture\u001b[39m.\u001b[39;49mresult(timeout\u001b[39m=\u001b[39;49mtimeout)\n",
      "File \u001b[0;32m/Library/Frameworks/Python.framework/Versions/3.9/lib/python3.9/concurrent/futures/_base.py:433\u001b[0m, in \u001b[0;36mFuture.result\u001b[0;34m(self, timeout)\u001b[0m\n\u001b[1;32m    431\u001b[0m     \u001b[39mraise\u001b[39;00m CancelledError()\n\u001b[1;32m    432\u001b[0m \u001b[39melif\u001b[39;00m \u001b[39mself\u001b[39m\u001b[39m.\u001b[39m_state \u001b[39m==\u001b[39m FINISHED:\n\u001b[0;32m--> 433\u001b[0m     \u001b[39mreturn\u001b[39;00m \u001b[39mself\u001b[39;49m\u001b[39m.\u001b[39;49m__get_result()\n\u001b[1;32m    435\u001b[0m \u001b[39mself\u001b[39m\u001b[39m.\u001b[39m_condition\u001b[39m.\u001b[39mwait(timeout)\n\u001b[1;32m    437\u001b[0m \u001b[39mif\u001b[39;00m \u001b[39mself\u001b[39m\u001b[39m.\u001b[39m_state \u001b[39min\u001b[39;00m [CANCELLED, CANCELLED_AND_NOTIFIED]:\n",
      "File \u001b[0;32m/Library/Frameworks/Python.framework/Versions/3.9/lib/python3.9/concurrent/futures/_base.py:389\u001b[0m, in \u001b[0;36mFuture.__get_result\u001b[0;34m(self)\u001b[0m\n\u001b[1;32m    387\u001b[0m \u001b[39mdef\u001b[39;00m \u001b[39m__get_result\u001b[39m(\u001b[39mself\u001b[39m):\n\u001b[1;32m    388\u001b[0m     \u001b[39mif\u001b[39;00m \u001b[39mself\u001b[39m\u001b[39m.\u001b[39m_exception:\n\u001b[0;32m--> 389\u001b[0m         \u001b[39mraise\u001b[39;00m \u001b[39mself\u001b[39m\u001b[39m.\u001b[39m_exception\n\u001b[1;32m    390\u001b[0m     \u001b[39melse\u001b[39;00m:\n\u001b[1;32m    391\u001b[0m         \u001b[39mreturn\u001b[39;00m \u001b[39mself\u001b[39m\u001b[39m.\u001b[39m_result\n",
      "File \u001b[0;32m~/Documents/projects/dl_labs/.venv/lib/python3.9/site-packages/prefect/_internal/concurrency/calls.py:218\u001b[0m, in \u001b[0;36mCall._run_async\u001b[0;34m(***failed resolving arguments***)\u001b[0m\n\u001b[1;32m    216\u001b[0m                 logger\u001b[39m.\u001b[39mdebug(\u001b[39m\"\u001b[39m\u001b[39m%r\u001b[39;00m\u001b[39m using async cancel scope \u001b[39m\u001b[39m%r\u001b[39;00m\u001b[39m\"\u001b[39m, \u001b[39mself\u001b[39m, ctx)\n\u001b[1;32m    217\u001b[0m                 ctx\u001b[39m.\u001b[39mchain(\u001b[39mself\u001b[39m\u001b[39m.\u001b[39mcancel_context, bidirectional\u001b[39m=\u001b[39m\u001b[39mTrue\u001b[39;00m)\n\u001b[0;32m--> 218\u001b[0m                 result \u001b[39m=\u001b[39m \u001b[39mawait\u001b[39;00m coro\n\u001b[1;32m    219\u001b[0m \u001b[39mexcept\u001b[39;00m \u001b[39mBaseException\u001b[39;00m \u001b[39mas\u001b[39;00m exc:\n\u001b[1;32m    220\u001b[0m     logger\u001b[39m.\u001b[39mdebug(\u001b[39m\"\u001b[39m\u001b[39mEncountered exception in async call \u001b[39m\u001b[39m%r\u001b[39;00m\u001b[39m\"\u001b[39m, \u001b[39mself\u001b[39m, exc_info\u001b[39m=\u001b[39m\u001b[39mTrue\u001b[39;00m)\n",
      "File \u001b[0;32m~/Documents/projects/dl_labs/.venv/lib/python3.9/site-packages/prefect/client/utilities.py:40\u001b[0m, in \u001b[0;36minject_client.<locals>.with_injected_client\u001b[0;34m(*args, **kwargs)\u001b[0m\n\u001b[1;32m     38\u001b[0m \u001b[39masync\u001b[39;00m \u001b[39mwith\u001b[39;00m client_context \u001b[39mas\u001b[39;00m new_client:\n\u001b[1;32m     39\u001b[0m     kwargs\u001b[39m.\u001b[39msetdefault(\u001b[39m\"\u001b[39m\u001b[39mclient\u001b[39m\u001b[39m\"\u001b[39m, new_client \u001b[39mor\u001b[39;00m client)\n\u001b[0;32m---> 40\u001b[0m     \u001b[39mreturn\u001b[39;00m \u001b[39mawait\u001b[39;00m fn(\u001b[39m*\u001b[39margs, \u001b[39m*\u001b[39m\u001b[39m*\u001b[39mkwargs)\n",
      "File \u001b[0;32m~/Documents/projects/dl_labs/.venv/lib/python3.9/site-packages/prefect/engine.py:258\u001b[0m, in \u001b[0;36mcreate_then_begin_flow_run\u001b[0;34m(flow, parameters, wait_for, return_type, client)\u001b[0m\n\u001b[1;32m    256\u001b[0m     \u001b[39mreturn\u001b[39;00m state\n\u001b[1;32m    257\u001b[0m \u001b[39melif\u001b[39;00m return_type \u001b[39m==\u001b[39m \u001b[39m\"\u001b[39m\u001b[39mresult\u001b[39m\u001b[39m\"\u001b[39m:\n\u001b[0;32m--> 258\u001b[0m     \u001b[39mreturn\u001b[39;00m \u001b[39mawait\u001b[39;00m state\u001b[39m.\u001b[39mresult(fetch\u001b[39m=\u001b[39m\u001b[39mTrue\u001b[39;00m)\n\u001b[1;32m    259\u001b[0m \u001b[39melse\u001b[39;00m:\n\u001b[1;32m    260\u001b[0m     \u001b[39mraise\u001b[39;00m \u001b[39mValueError\u001b[39;00m(\u001b[39mf\u001b[39m\u001b[39m\"\u001b[39m\u001b[39mInvalid return type for flow engine \u001b[39m\u001b[39m{\u001b[39;00mreturn_type\u001b[39m!r}\u001b[39;00m\u001b[39m.\u001b[39m\u001b[39m\"\u001b[39m)\n",
      "File \u001b[0;32m~/Documents/projects/dl_labs/.venv/lib/python3.9/site-packages/prefect/states.py:91\u001b[0m, in \u001b[0;36m_get_state_result\u001b[0;34m(state, raise_on_failure)\u001b[0m\n\u001b[1;32m     84\u001b[0m     \u001b[39mraise\u001b[39;00m UnfinishedRun(\n\u001b[1;32m     85\u001b[0m         \u001b[39mf\u001b[39m\u001b[39m\"\u001b[39m\u001b[39mRun is in \u001b[39m\u001b[39m{\u001b[39;00mstate\u001b[39m.\u001b[39mtype\u001b[39m.\u001b[39mname\u001b[39m}\u001b[39;00m\u001b[39m state, its result is not available.\u001b[39m\u001b[39m\"\u001b[39m\n\u001b[1;32m     86\u001b[0m     )\n\u001b[1;32m     88\u001b[0m \u001b[39mif\u001b[39;00m raise_on_failure \u001b[39mand\u001b[39;00m (\n\u001b[1;32m     89\u001b[0m     state\u001b[39m.\u001b[39mis_crashed() \u001b[39mor\u001b[39;00m state\u001b[39m.\u001b[39mis_failed() \u001b[39mor\u001b[39;00m state\u001b[39m.\u001b[39mis_cancelled()\n\u001b[1;32m     90\u001b[0m ):\n\u001b[0;32m---> 91\u001b[0m     \u001b[39mraise\u001b[39;00m \u001b[39mawait\u001b[39;00m get_state_exception(state)\n\u001b[1;32m     93\u001b[0m \u001b[39mif\u001b[39;00m \u001b[39misinstance\u001b[39m(state\u001b[39m.\u001b[39mdata, DataDocument):\n\u001b[1;32m     94\u001b[0m     result \u001b[39m=\u001b[39m result_from_state_with_data_document(\n\u001b[1;32m     95\u001b[0m         state, raise_on_failure\u001b[39m=\u001b[39mraise_on_failure\n\u001b[1;32m     96\u001b[0m     )\n",
      "File \u001b[0;32m~/Documents/projects/dl_labs/.venv/lib/python3.9/site-packages/prefect/engine.py:700\u001b[0m, in \u001b[0;36morchestrate_flow_run\u001b[0;34m(flow, flow_run, parameters, wait_for, interruptible, client, partial_flow_run_context)\u001b[0m\n\u001b[1;32m    695\u001b[0m         \u001b[39melse\u001b[39;00m:\n\u001b[1;32m    696\u001b[0m             from_async\u001b[39m.\u001b[39mcall_soon_in_new_thread(\n\u001b[1;32m    697\u001b[0m                 flow_call, timeout\u001b[39m=\u001b[39mflow\u001b[39m.\u001b[39mtimeout_seconds\n\u001b[1;32m    698\u001b[0m             )\n\u001b[0;32m--> 700\u001b[0m         result \u001b[39m=\u001b[39m \u001b[39mawait\u001b[39;00m flow_call\u001b[39m.\u001b[39maresult()\n\u001b[1;32m    702\u001b[0m         waited_for_task_runs \u001b[39m=\u001b[39m \u001b[39mawait\u001b[39;00m wait_for_task_runs_and_report_crashes(\n\u001b[1;32m    703\u001b[0m             flow_run_context\u001b[39m.\u001b[39mtask_run_futures, client\u001b[39m=\u001b[39mclient\n\u001b[1;32m    704\u001b[0m         )\n\u001b[1;32m    705\u001b[0m \u001b[39mexcept\u001b[39;00m PausedRun:\n",
      "File \u001b[0;32m~/Documents/projects/dl_labs/.venv/lib/python3.9/site-packages/prefect/_internal/concurrency/calls.py:181\u001b[0m, in \u001b[0;36mCall.aresult\u001b[0;34m(self)\u001b[0m\n\u001b[1;32m    175\u001b[0m \u001b[39masync\u001b[39;00m \u001b[39mdef\u001b[39;00m \u001b[39maresult\u001b[39m(\u001b[39mself\u001b[39m):\n\u001b[1;32m    176\u001b[0m \u001b[39m    \u001b[39m\u001b[39m\"\"\"\u001b[39;00m\n\u001b[1;32m    177\u001b[0m \u001b[39m    Wait for the result of the call.\u001b[39;00m\n\u001b[1;32m    178\u001b[0m \n\u001b[1;32m    179\u001b[0m \u001b[39m    For use from asynchronous contexts.\u001b[39;00m\n\u001b[1;32m    180\u001b[0m \u001b[39m    \"\"\"\u001b[39;00m\n\u001b[0;32m--> 181\u001b[0m     \u001b[39mreturn\u001b[39;00m \u001b[39mawait\u001b[39;00m asyncio\u001b[39m.\u001b[39mwrap_future(\u001b[39mself\u001b[39m\u001b[39m.\u001b[39mfuture)\n",
      "File \u001b[0;32m~/Documents/projects/dl_labs/.venv/lib/python3.9/site-packages/prefect/_internal/concurrency/calls.py:194\u001b[0m, in \u001b[0;36mCall._run_sync\u001b[0;34m(***failed resolving arguments***)\u001b[0m\n\u001b[1;32m    192\u001b[0m     \u001b[39mwith\u001b[39;00m cancel_sync_at(\u001b[39mself\u001b[39m\u001b[39m.\u001b[39mcancel_context\u001b[39m.\u001b[39mdeadline) \u001b[39mas\u001b[39;00m ctx:\n\u001b[1;32m    193\u001b[0m         ctx\u001b[39m.\u001b[39mchain(\u001b[39mself\u001b[39m\u001b[39m.\u001b[39mcancel_context, bidirectional\u001b[39m=\u001b[39m\u001b[39mTrue\u001b[39;00m)\n\u001b[0;32m--> 194\u001b[0m         result \u001b[39m=\u001b[39m \u001b[39mself\u001b[39;49m\u001b[39m.\u001b[39;49mfn(\u001b[39m*\u001b[39;49m\u001b[39mself\u001b[39;49m\u001b[39m.\u001b[39;49margs, \u001b[39m*\u001b[39;49m\u001b[39m*\u001b[39;49m\u001b[39mself\u001b[39;49m\u001b[39m.\u001b[39;49mkwargs)\n\u001b[1;32m    196\u001b[0m \u001b[39m# Return the coroutine for async execution\u001b[39;00m\n\u001b[1;32m    197\u001b[0m \u001b[39mif\u001b[39;00m inspect\u001b[39m.\u001b[39misawaitable(result):\n",
      "Cell \u001b[0;32mIn[11], line 11\u001b[0m, in \u001b[0;36mtest_retries\u001b[0;34m()\u001b[0m\n\u001b[1;32m      9\u001b[0m \u001b[39m@flow\u001b[39m\n\u001b[1;32m     10\u001b[0m \u001b[39mdef\u001b[39;00m \u001b[39mtest_retries\u001b[39m():\n\u001b[0;32m---> 11\u001b[0m     \u001b[39mreturn\u001b[39;00m failure()\n",
      "File \u001b[0;32m~/Documents/projects/dl_labs/.venv/lib/python3.9/site-packages/prefect/tasks.py:494\u001b[0m, in \u001b[0;36mTask.__call__\u001b[0;34m(self, return_state, wait_for, *args, **kwargs)\u001b[0m\n\u001b[1;32m    490\u001b[0m parameters \u001b[39m=\u001b[39m get_call_parameters(\u001b[39mself\u001b[39m\u001b[39m.\u001b[39mfn, args, kwargs)\n\u001b[1;32m    492\u001b[0m return_type \u001b[39m=\u001b[39m \u001b[39m\"\u001b[39m\u001b[39mstate\u001b[39m\u001b[39m\"\u001b[39m \u001b[39mif\u001b[39;00m return_state \u001b[39melse\u001b[39;00m \u001b[39m\"\u001b[39m\u001b[39mresult\u001b[39m\u001b[39m\"\u001b[39m\n\u001b[0;32m--> 494\u001b[0m \u001b[39mreturn\u001b[39;00m enter_task_run_engine(\n\u001b[1;32m    495\u001b[0m     \u001b[39mself\u001b[39;49m,\n\u001b[1;32m    496\u001b[0m     parameters\u001b[39m=\u001b[39;49mparameters,\n\u001b[1;32m    497\u001b[0m     wait_for\u001b[39m=\u001b[39;49mwait_for,\n\u001b[1;32m    498\u001b[0m     task_runner\u001b[39m=\u001b[39;49mSequentialTaskRunner(),\n\u001b[1;32m    499\u001b[0m     return_type\u001b[39m=\u001b[39;49mreturn_type,\n\u001b[1;32m    500\u001b[0m     mapped\u001b[39m=\u001b[39;49m\u001b[39mFalse\u001b[39;49;00m,\n\u001b[1;32m    501\u001b[0m )\n",
      "File \u001b[0;32m~/Documents/projects/dl_labs/.venv/lib/python3.9/site-packages/prefect/engine.py:1003\u001b[0m, in \u001b[0;36menter_task_run_engine\u001b[0;34m(task, parameters, wait_for, return_type, task_runner, mapped)\u001b[0m\n\u001b[1;32m   1001\u001b[0m     \u001b[39mreturn\u001b[39;00m from_async\u001b[39m.\u001b[39mwait_for_call_in_loop_thread(begin_run)\n\u001b[1;32m   1002\u001b[0m \u001b[39melse\u001b[39;00m:\n\u001b[0;32m-> 1003\u001b[0m     \u001b[39mreturn\u001b[39;00m from_sync\u001b[39m.\u001b[39;49mwait_for_call_in_loop_thread(begin_run)\n",
      "File \u001b[0;32m~/Documents/projects/dl_labs/.venv/lib/python3.9/site-packages/prefect/_internal/concurrency/api.py:215\u001b[0m, in \u001b[0;36mfrom_sync.wait_for_call_in_loop_thread\u001b[0;34m(_from_sync__call, timeout, done_callbacks)\u001b[0m\n\u001b[1;32m    213\u001b[0m     waiter\u001b[39m.\u001b[39madd_done_callback(callback)\n\u001b[1;32m    214\u001b[0m waiter\u001b[39m.\u001b[39mwait()\n\u001b[0;32m--> 215\u001b[0m \u001b[39mreturn\u001b[39;00m call\u001b[39m.\u001b[39;49mresult()\n",
      "File \u001b[0;32m~/Documents/projects/dl_labs/.venv/lib/python3.9/site-packages/prefect/_internal/concurrency/calls.py:173\u001b[0m, in \u001b[0;36mCall.result\u001b[0;34m(self, timeout)\u001b[0m\n\u001b[1;32m    167\u001b[0m \u001b[39mdef\u001b[39;00m \u001b[39mresult\u001b[39m(\u001b[39mself\u001b[39m, timeout: Optional[\u001b[39mfloat\u001b[39m] \u001b[39m=\u001b[39m \u001b[39mNone\u001b[39;00m) \u001b[39m-\u001b[39m\u001b[39m>\u001b[39m T:\n\u001b[1;32m    168\u001b[0m \u001b[39m    \u001b[39m\u001b[39m\"\"\"\u001b[39;00m\n\u001b[1;32m    169\u001b[0m \u001b[39m    Wait for the result of the call.\u001b[39;00m\n\u001b[1;32m    170\u001b[0m \n\u001b[1;32m    171\u001b[0m \u001b[39m    Not safe for use from asynchronous contexts.\u001b[39;00m\n\u001b[1;32m    172\u001b[0m \u001b[39m    \"\"\"\u001b[39;00m\n\u001b[0;32m--> 173\u001b[0m     \u001b[39mreturn\u001b[39;00m \u001b[39mself\u001b[39;49m\u001b[39m.\u001b[39;49mfuture\u001b[39m.\u001b[39;49mresult(timeout\u001b[39m=\u001b[39;49mtimeout)\n",
      "File \u001b[0;32m/Library/Frameworks/Python.framework/Versions/3.9/lib/python3.9/concurrent/futures/_base.py:433\u001b[0m, in \u001b[0;36mFuture.result\u001b[0;34m(self, timeout)\u001b[0m\n\u001b[1;32m    431\u001b[0m     \u001b[39mraise\u001b[39;00m CancelledError()\n\u001b[1;32m    432\u001b[0m \u001b[39melif\u001b[39;00m \u001b[39mself\u001b[39m\u001b[39m.\u001b[39m_state \u001b[39m==\u001b[39m FINISHED:\n\u001b[0;32m--> 433\u001b[0m     \u001b[39mreturn\u001b[39;00m \u001b[39mself\u001b[39;49m\u001b[39m.\u001b[39;49m__get_result()\n\u001b[1;32m    435\u001b[0m \u001b[39mself\u001b[39m\u001b[39m.\u001b[39m_condition\u001b[39m.\u001b[39mwait(timeout)\n\u001b[1;32m    437\u001b[0m \u001b[39mif\u001b[39;00m \u001b[39mself\u001b[39m\u001b[39m.\u001b[39m_state \u001b[39min\u001b[39;00m [CANCELLED, CANCELLED_AND_NOTIFIED]:\n",
      "File \u001b[0;32m/Library/Frameworks/Python.framework/Versions/3.9/lib/python3.9/concurrent/futures/_base.py:389\u001b[0m, in \u001b[0;36mFuture.__get_result\u001b[0;34m(self)\u001b[0m\n\u001b[1;32m    387\u001b[0m \u001b[39mdef\u001b[39;00m \u001b[39m__get_result\u001b[39m(\u001b[39mself\u001b[39m):\n\u001b[1;32m    388\u001b[0m     \u001b[39mif\u001b[39;00m \u001b[39mself\u001b[39m\u001b[39m.\u001b[39m_exception:\n\u001b[0;32m--> 389\u001b[0m         \u001b[39mraise\u001b[39;00m \u001b[39mself\u001b[39m\u001b[39m.\u001b[39m_exception\n\u001b[1;32m    390\u001b[0m     \u001b[39melse\u001b[39;00m:\n\u001b[1;32m    391\u001b[0m         \u001b[39mreturn\u001b[39;00m \u001b[39mself\u001b[39m\u001b[39m.\u001b[39m_result\n",
      "File \u001b[0;32m~/Documents/projects/dl_labs/.venv/lib/python3.9/site-packages/prefect/_internal/concurrency/calls.py:218\u001b[0m, in \u001b[0;36mCall._run_async\u001b[0;34m(***failed resolving arguments***)\u001b[0m\n\u001b[1;32m    216\u001b[0m                 logger\u001b[39m.\u001b[39mdebug(\u001b[39m\"\u001b[39m\u001b[39m%r\u001b[39;00m\u001b[39m using async cancel scope \u001b[39m\u001b[39m%r\u001b[39;00m\u001b[39m\"\u001b[39m, \u001b[39mself\u001b[39m, ctx)\n\u001b[1;32m    217\u001b[0m                 ctx\u001b[39m.\u001b[39mchain(\u001b[39mself\u001b[39m\u001b[39m.\u001b[39mcancel_context, bidirectional\u001b[39m=\u001b[39m\u001b[39mTrue\u001b[39;00m)\n\u001b[0;32m--> 218\u001b[0m                 result \u001b[39m=\u001b[39m \u001b[39mawait\u001b[39;00m coro\n\u001b[1;32m    219\u001b[0m \u001b[39mexcept\u001b[39;00m \u001b[39mBaseException\u001b[39;00m \u001b[39mas\u001b[39;00m exc:\n\u001b[1;32m    220\u001b[0m     logger\u001b[39m.\u001b[39mdebug(\u001b[39m\"\u001b[39m\u001b[39mEncountered exception in async call \u001b[39m\u001b[39m%r\u001b[39;00m\u001b[39m\"\u001b[39m, \u001b[39mself\u001b[39m, exc_info\u001b[39m=\u001b[39m\u001b[39mTrue\u001b[39;00m)\n",
      "File \u001b[0;32m~/Documents/projects/dl_labs/.venv/lib/python3.9/site-packages/prefect/engine.py:1168\u001b[0m, in \u001b[0;36mget_task_call_return_value\u001b[0;34m(task, flow_run_context, parameters, wait_for, return_type, task_runner, extra_task_inputs)\u001b[0m\n\u001b[1;32m   1166\u001b[0m     \u001b[39mreturn\u001b[39;00m \u001b[39mawait\u001b[39;00m future\u001b[39m.\u001b[39m_wait()\n\u001b[1;32m   1167\u001b[0m \u001b[39melif\u001b[39;00m return_type \u001b[39m==\u001b[39m \u001b[39m\"\u001b[39m\u001b[39mresult\u001b[39m\u001b[39m\"\u001b[39m:\n\u001b[0;32m-> 1168\u001b[0m     \u001b[39mreturn\u001b[39;00m \u001b[39mawait\u001b[39;00m future\u001b[39m.\u001b[39m_result()\n\u001b[1;32m   1169\u001b[0m \u001b[39melse\u001b[39;00m:\n\u001b[1;32m   1170\u001b[0m     \u001b[39mraise\u001b[39;00m \u001b[39mValueError\u001b[39;00m(\u001b[39mf\u001b[39m\u001b[39m\"\u001b[39m\u001b[39mInvalid return type for task engine \u001b[39m\u001b[39m{\u001b[39;00mreturn_type\u001b[39m!r}\u001b[39;00m\u001b[39m.\u001b[39m\u001b[39m\"\u001b[39m)\n",
      "File \u001b[0;32m~/Documents/projects/dl_labs/.venv/lib/python3.9/site-packages/prefect/futures.py:241\u001b[0m, in \u001b[0;36mPrefectFuture._result\u001b[0;34m(self, timeout, raise_on_failure)\u001b[0m\n\u001b[1;32m    239\u001b[0m \u001b[39mif\u001b[39;00m \u001b[39mnot\u001b[39;00m final_state:\n\u001b[1;32m    240\u001b[0m     \u001b[39mraise\u001b[39;00m \u001b[39mTimeoutError\u001b[39;00m(\u001b[39m\"\u001b[39m\u001b[39mCall timed out before task finished.\u001b[39m\u001b[39m\"\u001b[39m)\n\u001b[0;32m--> 241\u001b[0m \u001b[39mreturn\u001b[39;00m \u001b[39mawait\u001b[39;00m final_state\u001b[39m.\u001b[39mresult(raise_on_failure\u001b[39m=\u001b[39mraise_on_failure, fetch\u001b[39m=\u001b[39m\u001b[39mTrue\u001b[39;00m)\n",
      "File \u001b[0;32m~/Documents/projects/dl_labs/.venv/lib/python3.9/site-packages/prefect/states.py:91\u001b[0m, in \u001b[0;36m_get_state_result\u001b[0;34m(state, raise_on_failure)\u001b[0m\n\u001b[1;32m     84\u001b[0m     \u001b[39mraise\u001b[39;00m UnfinishedRun(\n\u001b[1;32m     85\u001b[0m         \u001b[39mf\u001b[39m\u001b[39m\"\u001b[39m\u001b[39mRun is in \u001b[39m\u001b[39m{\u001b[39;00mstate\u001b[39m.\u001b[39mtype\u001b[39m.\u001b[39mname\u001b[39m}\u001b[39;00m\u001b[39m state, its result is not available.\u001b[39m\u001b[39m\"\u001b[39m\n\u001b[1;32m     86\u001b[0m     )\n\u001b[1;32m     88\u001b[0m \u001b[39mif\u001b[39;00m raise_on_failure \u001b[39mand\u001b[39;00m (\n\u001b[1;32m     89\u001b[0m     state\u001b[39m.\u001b[39mis_crashed() \u001b[39mor\u001b[39;00m state\u001b[39m.\u001b[39mis_failed() \u001b[39mor\u001b[39;00m state\u001b[39m.\u001b[39mis_cancelled()\n\u001b[1;32m     90\u001b[0m ):\n\u001b[0;32m---> 91\u001b[0m     \u001b[39mraise\u001b[39;00m \u001b[39mawait\u001b[39;00m get_state_exception(state)\n\u001b[1;32m     93\u001b[0m \u001b[39mif\u001b[39;00m \u001b[39misinstance\u001b[39m(state\u001b[39m.\u001b[39mdata, DataDocument):\n\u001b[1;32m     94\u001b[0m     result \u001b[39m=\u001b[39m result_from_state_with_data_document(\n\u001b[1;32m     95\u001b[0m         state, raise_on_failure\u001b[39m=\u001b[39mraise_on_failure\n\u001b[1;32m     96\u001b[0m     )\n",
      "File \u001b[0;32m~/Documents/projects/dl_labs/.venv/lib/python3.9/site-packages/prefect/engine.py:1581\u001b[0m, in \u001b[0;36morchestrate_task_run\u001b[0;34m(task, task_run, parameters, wait_for, result_factory, log_prints, interruptible, client)\u001b[0m\n\u001b[1;32m   1574\u001b[0m             logger\u001b[39m.\u001b[39mdebug(\n\u001b[1;32m   1575\u001b[0m                 \u001b[39m\"\u001b[39m\u001b[39mBeginning execution...\u001b[39m\u001b[39m\"\u001b[39m, extra\u001b[39m=\u001b[39m{\u001b[39m\"\u001b[39m\u001b[39mstate_message\u001b[39m\u001b[39m\"\u001b[39m: \u001b[39mTrue\u001b[39;00m}\n\u001b[1;32m   1576\u001b[0m             )\n\u001b[1;32m   1578\u001b[0m         call \u001b[39m=\u001b[39m from_async\u001b[39m.\u001b[39mcall_soon_in_new_thread(\n\u001b[1;32m   1579\u001b[0m             create_call(task\u001b[39m.\u001b[39mfn, \u001b[39m*\u001b[39margs, \u001b[39m*\u001b[39m\u001b[39m*\u001b[39mkwargs)\n\u001b[1;32m   1580\u001b[0m         )\n\u001b[0;32m-> 1581\u001b[0m         result \u001b[39m=\u001b[39m \u001b[39mawait\u001b[39;00m call\u001b[39m.\u001b[39maresult()\n\u001b[1;32m   1583\u001b[0m \u001b[39mexcept\u001b[39;00m \u001b[39mException\u001b[39;00m \u001b[39mas\u001b[39;00m exc:\n\u001b[1;32m   1584\u001b[0m     name \u001b[39m=\u001b[39m message \u001b[39m=\u001b[39m \u001b[39mNone\u001b[39;00m\n",
      "File \u001b[0;32m~/Documents/projects/dl_labs/.venv/lib/python3.9/site-packages/prefect/_internal/concurrency/calls.py:181\u001b[0m, in \u001b[0;36mCall.aresult\u001b[0;34m(self)\u001b[0m\n\u001b[1;32m    175\u001b[0m \u001b[39masync\u001b[39;00m \u001b[39mdef\u001b[39;00m \u001b[39maresult\u001b[39m(\u001b[39mself\u001b[39m):\n\u001b[1;32m    176\u001b[0m \u001b[39m    \u001b[39m\u001b[39m\"\"\"\u001b[39;00m\n\u001b[1;32m    177\u001b[0m \u001b[39m    Wait for the result of the call.\u001b[39;00m\n\u001b[1;32m    178\u001b[0m \n\u001b[1;32m    179\u001b[0m \u001b[39m    For use from asynchronous contexts.\u001b[39;00m\n\u001b[1;32m    180\u001b[0m \u001b[39m    \"\"\"\u001b[39;00m\n\u001b[0;32m--> 181\u001b[0m     \u001b[39mreturn\u001b[39;00m \u001b[39mawait\u001b[39;00m asyncio\u001b[39m.\u001b[39mwrap_future(\u001b[39mself\u001b[39m\u001b[39m.\u001b[39mfuture)\n",
      "File \u001b[0;32m~/Documents/projects/dl_labs/.venv/lib/python3.9/site-packages/prefect/_internal/concurrency/calls.py:194\u001b[0m, in \u001b[0;36mCall._run_sync\u001b[0;34m(***failed resolving arguments***)\u001b[0m\n\u001b[1;32m    192\u001b[0m     \u001b[39mwith\u001b[39;00m cancel_sync_at(\u001b[39mself\u001b[39m\u001b[39m.\u001b[39mcancel_context\u001b[39m.\u001b[39mdeadline) \u001b[39mas\u001b[39;00m ctx:\n\u001b[1;32m    193\u001b[0m         ctx\u001b[39m.\u001b[39mchain(\u001b[39mself\u001b[39m\u001b[39m.\u001b[39mcancel_context, bidirectional\u001b[39m=\u001b[39m\u001b[39mTrue\u001b[39;00m)\n\u001b[0;32m--> 194\u001b[0m         result \u001b[39m=\u001b[39m \u001b[39mself\u001b[39;49m\u001b[39m.\u001b[39;49mfn(\u001b[39m*\u001b[39;49m\u001b[39mself\u001b[39;49m\u001b[39m.\u001b[39;49margs, \u001b[39m*\u001b[39;49m\u001b[39m*\u001b[39;49m\u001b[39mself\u001b[39;49m\u001b[39m.\u001b[39;49mkwargs)\n\u001b[1;32m    196\u001b[0m \u001b[39m# Return the coroutine for async execution\u001b[39;00m\n\u001b[1;32m    197\u001b[0m \u001b[39mif\u001b[39;00m inspect\u001b[39m.\u001b[39misawaitable(result):\n",
      "Cell \u001b[0;32mIn[11], line 7\u001b[0m, in \u001b[0;36mfailure\u001b[0;34m()\u001b[0m\n\u001b[1;32m      4\u001b[0m \u001b[39m@task\u001b[39m(retries\u001b[39m=\u001b[39m\u001b[39m2\u001b[39m, retry_delay_seconds\u001b[39m=\u001b[39m\u001b[39m5\u001b[39m)\n\u001b[1;32m      5\u001b[0m \u001b[39mdef\u001b[39;00m \u001b[39mfailure\u001b[39m():\n\u001b[1;32m      6\u001b[0m     \u001b[39mprint\u001b[39m(\u001b[39m'\u001b[39m\u001b[39mrunning\u001b[39m\u001b[39m'\u001b[39m)\n\u001b[0;32m----> 7\u001b[0m     \u001b[39mraise\u001b[39;00m \u001b[39mValueError\u001b[39;00m(\u001b[39m\"\u001b[39m\u001b[39mbad code\u001b[39m\u001b[39m\"\u001b[39m)\n",
      "\u001b[0;31mValueError\u001b[0m: bad code"
     ]
    }
   ],
   "source": [
    "from prefect import flow, task\n",
    "\n",
    "# this tasks runs 3 times before the flow fails\n",
    "@task(retries=2, retry_delay_seconds=5)\n",
    "def failure():\n",
    "    print('running')\n",
    "    raise ValueError(\"bad code\")\n",
    "\n",
    "@flow\n",
    "def test_retries():\n",
    "    return failure()\n",
    "\n",
    "test_retries()"
   ]
  },
  {
   "cell_type": "markdown",
   "metadata": {},
   "source": [
    "## Task caching"
   ]
  },
  {
   "cell_type": "code",
   "execution_count": 13,
   "metadata": {},
   "outputs": [
    {
     "name": "stderr",
     "output_type": "stream",
     "text": [
      "/Users/macpro2014/Documents/projects/dl_labs/.venv/lib/python3.9/site-packages/prefect/tasks.py:287: UserWarning: A task named 'hello_task' and defined at '/var/folders/dv/0d5qzfx94lg3j1h65v6yghxw0000gp/T/ipykernel_55674/2959131724.py:5' conflicts with another task. Consider specifying a unique `name` parameter in the task definition:\n",
      "\n",
      " `@task(name='my_unique_name', ...)`\n",
      "  warnings.warn(\n",
      "/Users/macpro2014/Documents/projects/dl_labs/.venv/lib/python3.9/site-packages/prefect/flows.py:232: UserWarning: A flow named 'hello-flow' and defined at '/var/folders/dv/0d5qzfx94lg3j1h65v6yghxw0000gp/T/ipykernel_55674/2959131724.py:11' conflicts with another flow. Consider specifying a unique `name` parameter in the flow definition:\n",
      "\n",
      " `@flow(name='my_unique_name', ...)`\n",
      "  warnings.warn(\n"
     ]
    }
   ],
   "source": [
    "from prefect import flow, task\n",
    "from prefect.tasks import task_input_hash\n",
    "from datetime import timedelta\n",
    "\n",
    "@task(cache_key_fn=task_input_hash, cache_expiration=timedelta(minutes=1))\n",
    "def hello_task(name_input):\n",
    "    # Doing some work\n",
    "    print(f\"Saying hello {name_input}\")\n",
    "    return \"hello \" + name_input\n",
    "\n",
    "@flow\n",
    "def hello_flow(name_input):\n",
    "    hello_task(name_input)"
   ]
  },
  {
   "cell_type": "markdown",
   "metadata": {},
   "source": [
    "### Using a custom cache key function"
   ]
  },
  {
   "cell_type": "code",
   "execution_count": 14,
   "metadata": {},
   "outputs": [],
   "source": [
    "from prefect import flow, task\n",
    "from datetime import timedelta\n",
    "import time\n",
    "\n",
    "def cache_key_from_sum(context, parameters):\n",
    "    print(parameters)\n",
    "    return sum(parameters[\"nums\"])\n",
    "\n",
    "@task(cache_key_fn=cache_key_from_sum, cache_expiration=timedelta(minutes=1))\n",
    "def cached_task(nums):\n",
    "    print('running an expensive operation')\n",
    "    time.sleep(3)\n",
    "    return sum(nums)\n",
    "\n",
    "@flow\n",
    "def test_caching(nums):\n",
    "    cached_task(nums)\n"
   ]
  },
  {
   "cell_type": "markdown",
   "metadata": {},
   "source": [
    "## Configuring task runners"
   ]
  },
  {
   "cell_type": "code",
   "execution_count": 15,
   "metadata": {},
   "outputs": [
    {
     "name": "stderr",
     "output_type": "stream",
     "text": [
      "/Users/macpro2014/Documents/projects/dl_labs/.venv/lib/python3.9/site-packages/prefect/flows.py:232: UserWarning: A flow named 'My Example Flow' and defined at '/var/folders/dv/0d5qzfx94lg3j1h65v6yghxw0000gp/T/ipykernel_55674/2450218093.py:12' conflicts with another flow. Consider specifying a unique `name` parameter in the flow definition:\n",
      "\n",
      " `@flow(name='my_unique_name', ...)`\n",
      "  warnings.warn(\n"
     ]
    },
    {
     "data": {
      "text/html": [
       "<pre style=\"white-space:pre;overflow-x:auto;line-height:normal;font-family:Menlo,'DejaVu Sans Mono',consolas,'Courier New',monospace\">15:12:29.508 | <span style=\"color: #008080; text-decoration-color: #008080\">INFO</span>    | prefect.engine - Created flow run<span style=\"color: #800080; text-decoration-color: #800080\"> 'impossible-teal'</span> for flow<span style=\"color: #800080; text-decoration-color: #800080; font-weight: bold\"> 'My Example Flow'</span>\n",
       "</pre>\n"
      ],
      "text/plain": [
       "15:12:29.508 | \u001b[36mINFO\u001b[0m    | prefect.engine - Created flow run\u001b[35m 'impossible-teal'\u001b[0m for flow\u001b[1;35m 'My Example Flow'\u001b[0m\n"
      ]
     },
     "metadata": {},
     "output_type": "display_data"
    },
    {
     "data": {
      "text/html": [
       "<pre style=\"white-space:pre;overflow-x:auto;line-height:normal;font-family:Menlo,'DejaVu Sans Mono',consolas,'Courier New',monospace\">15:12:29.633 | <span style=\"color: #008080; text-decoration-color: #008080\">INFO</span>    | Flow run<span style=\"color: #800080; text-decoration-color: #800080\"> 'impossible-teal'</span> - Created task run 'first_task-0' for task 'first_task'\n",
       "</pre>\n"
      ],
      "text/plain": [
       "15:12:29.633 | \u001b[36mINFO\u001b[0m    | Flow run\u001b[35m 'impossible-teal'\u001b[0m - Created task run 'first_task-0' for task 'first_task'\n"
      ]
     },
     "metadata": {},
     "output_type": "display_data"
    },
    {
     "data": {
      "text/html": [
       "<pre style=\"white-space:pre;overflow-x:auto;line-height:normal;font-family:Menlo,'DejaVu Sans Mono',consolas,'Courier New',monospace\">15:12:29.636 | <span style=\"color: #008080; text-decoration-color: #008080\">INFO</span>    | Flow run<span style=\"color: #800080; text-decoration-color: #800080\"> 'impossible-teal'</span> - Executing 'first_task-0' immediately...\n",
       "</pre>\n"
      ],
      "text/plain": [
       "15:12:29.636 | \u001b[36mINFO\u001b[0m    | Flow run\u001b[35m 'impossible-teal'\u001b[0m - Executing 'first_task-0' immediately...\n"
      ]
     },
     "metadata": {},
     "output_type": "display_data"
    },
    {
     "data": {
      "text/html": [
       "<pre style=\"white-space:pre;overflow-x:auto;line-height:normal;font-family:Menlo,'DejaVu Sans Mono',consolas,'Courier New',monospace\">15:12:29.741 | <span style=\"color: #008080; text-decoration-color: #008080\">INFO</span>    | Task run 'first_task-0' - Finished in state <span style=\"color: #008000; text-decoration-color: #008000\">Completed</span>()\n",
       "</pre>\n"
      ],
      "text/plain": [
       "15:12:29.741 | \u001b[36mINFO\u001b[0m    | Task run 'first_task-0' - Finished in state \u001b[32mCompleted\u001b[0m()\n"
      ]
     },
     "metadata": {},
     "output_type": "display_data"
    },
    {
     "data": {
      "text/html": [
       "<pre style=\"white-space:pre;overflow-x:auto;line-height:normal;font-family:Menlo,'DejaVu Sans Mono',consolas,'Courier New',monospace\">15:12:29.770 | <span style=\"color: #008080; text-decoration-color: #008080\">INFO</span>    | Flow run<span style=\"color: #800080; text-decoration-color: #800080\"> 'impossible-teal'</span> - Created task run 'second_task-0' for task 'second_task'\n",
       "</pre>\n"
      ],
      "text/plain": [
       "15:12:29.770 | \u001b[36mINFO\u001b[0m    | Flow run\u001b[35m 'impossible-teal'\u001b[0m - Created task run 'second_task-0' for task 'second_task'\n"
      ]
     },
     "metadata": {},
     "output_type": "display_data"
    },
    {
     "data": {
      "text/html": [
       "<pre style=\"white-space:pre;overflow-x:auto;line-height:normal;font-family:Menlo,'DejaVu Sans Mono',consolas,'Courier New',monospace\">15:12:29.772 | <span style=\"color: #008080; text-decoration-color: #008080\">INFO</span>    | Flow run<span style=\"color: #800080; text-decoration-color: #800080\"> 'impossible-teal'</span> - Executing 'second_task-0' immediately...\n",
       "</pre>\n"
      ],
      "text/plain": [
       "15:12:29.772 | \u001b[36mINFO\u001b[0m    | Flow run\u001b[35m 'impossible-teal'\u001b[0m - Executing 'second_task-0' immediately...\n"
      ]
     },
     "metadata": {},
     "output_type": "display_data"
    },
    {
     "data": {
      "text/html": [
       "<pre style=\"white-space:pre;overflow-x:auto;line-height:normal;font-family:Menlo,'DejaVu Sans Mono',consolas,'Courier New',monospace\">15:12:29.865 | <span style=\"color: #008080; text-decoration-color: #008080\">INFO</span>    | Task run 'second_task-0' - Finished in state <span style=\"color: #008000; text-decoration-color: #008000\">Completed</span>()\n",
       "</pre>\n"
      ],
      "text/plain": [
       "15:12:29.865 | \u001b[36mINFO\u001b[0m    | Task run 'second_task-0' - Finished in state \u001b[32mCompleted\u001b[0m()\n"
      ]
     },
     "metadata": {},
     "output_type": "display_data"
    },
    {
     "name": "stdout",
     "output_type": "stream",
     "text": [
      "add: 10, square: 100\n"
     ]
    },
    {
     "data": {
      "text/html": [
       "<pre style=\"white-space:pre;overflow-x:auto;line-height:normal;font-family:Menlo,'DejaVu Sans Mono',consolas,'Courier New',monospace\">15:12:29.897 | <span style=\"color: #008080; text-decoration-color: #008080\">INFO</span>    | Flow run<span style=\"color: #800080; text-decoration-color: #800080\"> 'impossible-teal'</span> - Finished in state <span style=\"color: #008000; text-decoration-color: #008000\">Completed</span>('All states completed.')\n",
       "</pre>\n"
      ],
      "text/plain": [
       "15:12:29.897 | \u001b[36mINFO\u001b[0m    | Flow run\u001b[35m 'impossible-teal'\u001b[0m - Finished in state \u001b[32mCompleted\u001b[0m('All states completed.')\n"
      ]
     },
     "metadata": {},
     "output_type": "display_data"
    },
    {
     "data": {
      "text/plain": [
       "[Completed(message=None, type=COMPLETED, result=UnpersistedResult(type='unpersisted', artifact_type='result', artifact_description='Unpersisted result of type `int`')),\n",
       " Completed(message=None, type=COMPLETED, result=UnpersistedResult(type='unpersisted', artifact_type='result', artifact_description='Unpersisted result of type `int`'))]"
      ]
     },
     "execution_count": 15,
     "metadata": {},
     "output_type": "execute_result"
    }
   ],
   "source": [
    "from prefect import flow, task\n",
    "from prefect.task_runners import SequentialTaskRunner\n",
    "\n",
    "@task\n",
    "def first_task(num):\n",
    "    return num + num\n",
    "\n",
    "@task\n",
    "def second_task(num):\n",
    "    return num * num\n",
    "\n",
    "@flow(name=\"My Example Flow\",\n",
    "    task_runner=SequentialTaskRunner(),\n",
    ")\n",
    "def my_flow(num):\n",
    "    plusnum = first_task.submit(num)\n",
    "    sqnum = second_task.submit(plusnum)\n",
    "    print(f\"add: {plusnum.result()}, square: {sqnum.result()}\")\n",
    "\n",
    "my_flow(5)\n"
   ]
  },
  {
   "cell_type": "code",
   "execution_count": null,
   "metadata": {},
   "outputs": [],
   "source": []
  }
 ],
 "metadata": {
  "kernelspec": {
   "display_name": ".venv",
   "language": "python",
   "name": "python3"
  },
  "language_info": {
   "codemirror_mode": {
    "name": "ipython",
    "version": 3
   },
   "file_extension": ".py",
   "mimetype": "text/x-python",
   "name": "python",
   "nbconvert_exporter": "python",
   "pygments_lexer": "ipython3",
   "version": "3.9.1"
  },
  "orig_nbformat": 4
 },
 "nbformat": 4,
 "nbformat_minor": 2
}
